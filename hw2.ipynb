{
 "cells": [
  {
   "cell_type": "markdown",
   "metadata": {
    "id": "S2IaITBP0f5R"
   },
   "source": [
    "# Homework 2\n",
    "In this homework, we will explore language generation using character-level RNNs. Sounds awesome, right???\n",
    "\n",
    "A few notes at the beginning:\n",
    "- It might be useful for you to read the whole assignment before beginning. Especially the last two sections so you know what to record for turning in.\n",
    "- Much of the required knowledge in this (and past) homeworks about Python, PyTorch, etc. are not explained fully here. Instead, we expect you to use the existing documentation, search engines, Stack Overflow, etc. for implementation details.\n",
    "- That being said, we have listed several functions in parts of the homework where knowing those functions exist would be especially useful. However you will still need to read the docs on how to specifically use the functions.\n",
    "\n",
    "# Part 0: Initial setup\n",
    "You should recognize this code from last time.\n"
   ]
  },
  {
   "cell_type": "code",
   "execution_count": 1,
   "metadata": {
    "id": "4GS0yuGl0mHQ"
   },
   "outputs": [
    {
     "name": "stdout",
     "output_type": "stream",
     "text": [
      "Version 1.9.1\n",
      "CUDA enabled: True\n"
     ]
    }
   ],
   "source": [
    "import torch\n",
    "print('Version', torch.__version__)\n",
    "print('CUDA enabled:', torch.cuda.is_available())\n",
    "\n",
    "# Running this should then print out:\n",
    "# Version 1.7.0+cu101 (or something like this)\n",
    "# CUDA enabled: True"
   ]
  },
  {
   "cell_type": "code",
   "execution_count": 2,
   "metadata": {
    "id": "6t3ZIEll0pr-"
   },
   "outputs": [],
   "source": [
    "# from google.colab import drive\n",
    "# drive.mount('/gdrive')\n",
    "# !ls /gdrive"
   ]
  },
  {
   "cell_type": "markdown",
   "metadata": {
    "id": "PEzPNAIY0vkm"
   },
   "source": [
    "# Part 1: Upload the dataset\n",
    "We will be using the complete text of Harry Potter as our corpus. We will provide it for you in a not-very-well-formatted way.\n",
    "Run this code to set up the homework3 files.\n",
    "\n"
   ]
  },
  {
   "cell_type": "code",
   "execution_count": 3,
   "metadata": {
    "id": "CLVJPc_90vsB"
   },
   "outputs": [],
   "source": [
    "import os\n",
    "# BASE_PATH = '/gdrive/My Drive/colab_files/hw2/'\n",
    "BASE_PATH = '/home/jefftian/Documents/21au/cse490g1/hw2/'\n",
    "\n",
    "if not os.path.exists(BASE_PATH):\n",
    "    os.makedirs(BASE_PATH)\n",
    "DATA_PATH = '/home/jefftian/Documents/21au/cse490g1/hw2content/'\n",
    "\n",
    "if not os.path.exists(os.path.join(DATA_PATH, 'harry_potter.txt')):\n",
    "    os.chdir(BASE_PATH)\n",
    "    !wget https://courses.cs.washington.edu/courses/cse599g1/19au/files/homework3.tar.gz\n",
    "    !tar -zxvf homework3.tar.gz\n",
    "    !rm homework3.tar.gz\n",
    "    !cp pt_util.py /home/jefftian/Documents/21au/cse490g1/hw2content\n",
    "    !cp harry_potter.txt /home/jefftian/Documents/21au/cse490g1/hw2content\n",
    "os.chdir('/home/jefftian/Documents/21au/cse490g1/hw2content/')"
   ]
  },
  {
   "cell_type": "code",
   "execution_count": 4,
   "metadata": {
    "id": "hd1Qx66s19Pl"
   },
   "outputs": [],
   "source": [
    "import torch\n",
    "import torch.nn as nn\n",
    "from torchvision import datasets\n",
    "from torchvision import transforms\n",
    "import numpy as np\n",
    "import torch.nn.functional as F\n",
    "import torch.optim as optim\n",
    "import sys\n",
    "import pickle\n",
    "import re\n",
    "import pt_util"
   ]
  },
  {
   "cell_type": "markdown",
   "metadata": {
    "id": "AxIvm7h62tfx"
   },
   "source": [
    "#Part 2: Preprocessing the data\n",
    "In previous homeworks, we have provided a cleaned version of the data. But this time you'll have to do some of that cleaning yourselves.\n",
    "\n",
    "Hints:\n",
    "- train_text and test_text should contain the class indices for the character tokens from the data file. For example, if the text was **`\"ABA CDBE\"`**, the token version would be a numpy array with contents `[0, 1, 0, 2, 3, 4, 1, 5]`\n",
    "- The harry_potter.txt file has weird spacing. You might want to replace all the whitespace characters (space, \\n, \\t, etc.) in the file with the space character.\n",
    "- You should output two files. One for training and one for testing. The training should be the first 80% of the characters.\n",
    "- voc2ind is a map from character to the index of the class for that character. There is no predefined vocabulary, but you will need to be consistent across all tasks that use the vocabulary. For the example above, the voc2ind would be `{'A': 0, 'B': 1, ' ': 2, 'C': 3, 'D': 4, 'E': 5}`\n",
    "- ind2voc is the inverse of voc2ind\n",
    "\n"
   ]
  },
  {
   "cell_type": "code",
   "execution_count": 5,
   "metadata": {
    "id": "6oZq_S6k3GpB"
   },
   "outputs": [],
   "source": [
    "def prepare_data(data_path):\n",
    "    with open(data_path) as f:\n",
    "        # This reads all the data from the file, but does not do any processing on it.\n",
    "        data = f.read()\n",
    "    \n",
    "    # TODO Add more preprocessing\n",
    "    data = \" \".join(data.split())\n",
    "    voc2ind = {}\n",
    "    \n",
    "    nextNum = 0\n",
    "    # Compute voc2ind and transform the data into an integer representation of the tokens.\n",
    "    for char in data:\n",
    "        if char not in voc2ind.keys():\n",
    "            voc2ind[char] = nextNum\n",
    "            nextNum += 1\n",
    "\n",
    "\n",
    "    ind2voc = {val: key for key, val in voc2ind.items()}\n",
    "\n",
    "    endTrain = int(len(data) * 0.8)\n",
    "    \n",
    "    train_text = data[:endTrain]\n",
    "    train_text = torch.LongTensor([voc2ind[word] for word in train_text])\n",
    "    test_text = data[endTrain:]\n",
    "    test_text = torch.LongTensor([voc2ind[word] for word in test_text])\n",
    "    \n",
    "    pickle.dump({'tokens': train_text, 'ind2voc': ind2voc, 'voc2ind':voc2ind}, open(DATA_PATH + 'harry_potter_chars_train.pkl', 'wb'))\n",
    "    pickle.dump({'tokens': test_text, 'ind2voc': ind2voc, 'voc2ind':voc2ind}, open(DATA_PATH + 'harry_potter_chars_test.pkl', 'wb'))\n",
    "    \n",
    "prepare_data(DATA_PATH + 'harry_potter.txt')\n",
    "\n",
    "\n",
    "class Vocabulary(object):\n",
    "    def __init__(self, data_file):\n",
    "        with open(data_file, 'rb') as data_file:\n",
    "            dataset = pickle.load(data_file)\n",
    "        self.ind2voc = dataset['ind2voc']\n",
    "        self.voc2ind = dataset['voc2ind']\n",
    "\n",
    "    # Returns a string representation of the tokens.\n",
    "    def array_to_words(self, arr):\n",
    "        return ''.join([self.ind2voc[int(ind)] for ind in arr])\n",
    "\n",
    "    # Returns a torch tensor representing each token in words.\n",
    "    def words_to_array(self, words):\n",
    "        return torch.LongTensor([self.voc2ind[word] for word in words])\n",
    "\n",
    "    # Returns the size of the vocabulary.\n",
    "    def __len__(self):\n",
    "        return len(self.voc2ind)"
   ]
  },
  {
   "cell_type": "markdown",
   "metadata": {
    "id": "kzX1tUv8ilYV"
   },
   "source": [
    "#Part 3: Loading the data\n",
    "This is possibly the trickiest part of this homework. In the past, batches were not correlated with each other, and the data within a single minibatch was also not correlated, so you could basically draw randomly from the dataset. That is not the case here. Instead, you should return sequences from the dataset.\n",
    "\n",
    "Your instructions are to implement the following. First, imagine splitting the dataset into N chunks where N is the batch_size and the chunks are contiguous parts of the data. For each batch, you should return one sequence from each of the chunks. The batches should also be sequential an example is described below.\n",
    "\n",
    "The data is 20 characters long `[1, 2, 3, ...20]`. The batch size is `2` and the sequence length is `4`\n",
    "- The 1st batch should consist of  `(data =  [[1, 2, 3, 4]; [11, 12, 13, 14]], labels = [[2, 3, 4, 5]; [12, 13, 14, 15]])`\n",
    "- The 2nd batch should consist of `(data =  [[5, 6, 7, 8]; [15, 16, 17, 18]], labels = [[6, 7, 8, 9]; [16, 17, 18, 19]])`\n",
    "- The 3rd batch should consist of `(data =  [[9]; [19]], labels = [[10]; [20]])`\n",
    "- There is no 4th batch.\n",
    "\n",
    "Hints:\n",
    "- To work with the rest of the code, your len(dataset) should be a multiple of the batch_size. \n",
    "- Removing the last bit to make the data the proper shape will probably give better results than padding with 0s.\n",
    "- It is OK to have one batch be shorter than the others as long as all entries in that batch are the same length.\n",
    "- Notice that the last label in one batch is the first data in the next batch. Be careful of off-by-one errors.\n",
    "\n"
   ]
  },
  {
   "cell_type": "code",
   "execution_count": 6,
   "metadata": {
    "id": "44v6o0JwiwXk"
   },
   "outputs": [],
   "source": [
    "class HarryPotterDataset(torch.utils.data.Dataset):\n",
    "    def __init__(self, data_file, sequence_length, batch_size):\n",
    "        super(HarryPotterDataset, self).__init__()\n",
    "\n",
    "        self.sequence_length = sequence_length\n",
    "        self.batch_size = batch_size\n",
    "        self.vocab = Vocabulary(data_file)\n",
    "        \n",
    "\n",
    "        with open(data_file, 'rb') as data_pkl:\n",
    "            dataset = pickle.load(data_pkl)\n",
    "            self.data = dataset['tokens']\n",
    "        self.chunkSize = int((len(self.data) - 1) / self.batch_size)\n",
    "        self.numFullSequences = int(self.chunkSize / self.sequence_length) # number of full sequences in a chunk\n",
    "        \n",
    "\n",
    "    def __len__(self):\n",
    "        return self.numFullSequences * self.batch_size\n",
    "        \n",
    "    def __getitem__(self, idx):\n",
    "        # Return the data and label for a character sequence as described above.\n",
    "        # The data and labels should be torch long tensors.\n",
    "        # You should return a single entry for the batch using the idx to decide which chunk you are \n",
    "        # in and how far down in the chunk you are.\n",
    "        \n",
    "        # TODO\n",
    "        # whichBatch will be the index of the batch\n",
    "        assert(idx < self.__len__())\n",
    "        batchNum = int(idx / self.batch_size)\n",
    "        seqNum = idx % self.batch_size\n",
    "        lenOfSeq = self.sequence_length\n",
    "        if batchNum > self.numFullSequences:\n",
    "            lenOfSeq = self.remainder\n",
    "        startInd = seqNum * self.chunkSize + batchNum * self.sequence_length\n",
    "        endInd = startInd + lenOfSeq + 1\n",
    "        data = self.data[startInd:endInd]\n",
    "        label = self.data[startInd + 1: endInd + 1]\n",
    "        return data, label\n",
    "\n",
    "    def vocab_size(self):\n",
    "        return len(self.vocab)"
   ]
  },
  {
   "cell_type": "markdown",
   "metadata": {
    "id": "8kYKDZoj2jCV"
   },
   "source": [
    "# Part 4: Defining the Network\n",
    "This time we will provide a network that should already get pretty good performance. You will still need to write the forward pass and inference functions. You may also choose to modify the network to try and get better performance.\n",
    "\n",
    "__BE CAREFUL:__ We have specified that the data will be fed in as batch_first. Look at the documentation if you are confused about the implications of this as well as how to call it for the forward pass. https://pytorch.org/docs/stable/nn.html#torch.nn.GRU\n",
    "    \n"
   ]
  },
  {
   "cell_type": "code",
   "execution_count": 7,
   "metadata": {
    "id": "mO21UXLj2ixn"
   },
   "outputs": [],
   "source": [
    "TEMPERATURE = 0.5\n",
    "\n",
    "class HarryPotterNet(nn.Module):\n",
    "    def __init__(self, vocab_size, feature_size):\n",
    "        super(HarryPotterNet, self).__init__()\n",
    "        self.vocab_size = vocab_size\n",
    "        self.feature_size = feature_size\n",
    "        self.encoder = nn.Embedding(self.vocab_size, self.feature_size)\n",
    "        self.gru = nn.GRU(self.feature_size, self.feature_size, batch_first=True)\n",
    "        self.decoder = nn.Linear(self.feature_size, self.vocab_size)\n",
    "        \n",
    "        # This shares the encoder and decoder weights as described in lecture.\n",
    "        self.decoder.weight = self.encoder.weight\n",
    "        self.decoder.bias.data.zero_()\n",
    "        \n",
    "        self.best_accuracy = -1\n",
    "    \n",
    "    def forward(self, x, hidden_state=None):\n",
    "        batch_size = x.shape[0]\n",
    "        sequence_length = x.shape[1]\n",
    "        \n",
    "        # TODO finish defining the forward pass.\n",
    "        # You should return the output from the decoder as well as the hidden state given by the gru.\n",
    "        encoded = self.encoder(x)\n",
    "        gru_output, hidden_state = self.gru(encoded, hidden_state)\n",
    "        out = self.decoder(gru_output)\n",
    "        \n",
    "\n",
    "        return out, hidden_state\n",
    "\n",
    "    # This defines the function that gives a probability distribution and implements the temperature computation.\n",
    "    def inference(self, x, hidden_state=None, temperature=1):\n",
    "        x = x.view(-1, 1)\n",
    "        x, hidden_state = self.forward(x, hidden_state)\n",
    "        x = x.view(1, -1)\n",
    "        x = x / max(temperature, 1e-20)\n",
    "        x = F.softmax(x, dim=1)\n",
    "        return x, hidden_state\n",
    "\n",
    "    # Predefined loss function\n",
    "    def loss(self, prediction, label, reduction='mean'):\n",
    "        loss_val = F.cross_entropy(prediction.view(-1, self.vocab_size), label.view(-1), reduction=reduction)\n",
    "        return loss_val\n",
    "\n",
    "    # Saves the current model\n",
    "    def save_model(self, file_path, num_to_keep=1):\n",
    "        pt_util.save(self, file_path, num_to_keep)\n",
    "\n",
    "    # Saves the best model so far\n",
    "    def save_best_model(self, accuracy, file_path, num_to_keep=1):\n",
    "        if accuracy > self.best_accuracy:\n",
    "            self.save_model(file_path, num_to_keep)\n",
    "            self.best_accuracy = accuracy\n",
    "\n",
    "    def load_model(self, file_path):\n",
    "        pt_util.restore(self, file_path)\n",
    "\n",
    "    def load_last_model(self, dir_path):\n",
    "        return pt_util.restore_latest(self, dir_path)"
   ]
  },
  {
   "cell_type": "markdown",
   "metadata": {
    "id": "iEQZIoB0jY5h"
   },
   "source": [
    "#Part 5: Character Generation\n",
    "\n",
    "In class we discussed three algorithms for creating sequences.\n",
    "1. Max: Choose the most likely value\n",
    "2. Sample: Sample from the distribution output by the network.\n",
    "3. Beam Search: Sample from the distribution and use the Beam Search algorithm.\n",
    "\n",
    "The beam search algorithm is as follows:\n",
    "```\n",
    "1. Initialize the beam list with the single existing empty beam\n",
    "2. Repeat for the sequence length:\n",
    "    1. For each beam in the beam list:\n",
    "        1. Compute the next distribution over the output space for that state\n",
    "        2. Sample from the distribution with replacement\n",
    "        3. For each sample:\n",
    "            1. Compute its score\n",
    "            2. Record its hidden state and chosen value\n",
    "        4. Add all the samples to the new beam list      \n",
    "     2. Rank the new beam list\n",
    "     3. Throw out all but the top N beams\n",
    " 3. Return the top beam's chosen values.\n",
    "```\n",
    "\n",
    "\n",
    "Hints:\n",
    "- np.random.choice and torch.multinomial will both help with the sampling as they can take in a weighted probability distribution and sample from that distribution.\n",
    "- For beam search you will need to keep a running score of the likelihood of each sequence. If you multiply the likelihoods, you will encounter float underflow. Instead, you should add the log likelihoods.\n",
    "- For beam search, you will need to keep track of multiple hidden states related to which branch you are currently expanding.\n",
    "- For beam search, you should search over the beam, but only return the top result in the end.\n",
    "- It may be useful to do the training part before the character generation part so you have some model to test.\n",
    "- Feel free to play around with the `BEAM_WIDTH`.\n"
   ]
  },
  {
   "cell_type": "code",
   "execution_count": 8,
   "metadata": {
    "id": "9XTxy4eq3UYR"
   },
   "outputs": [],
   "source": [
    "TEMPERATURE = 0.5\n",
    "BEAM_WIDTH = 10\n",
    "\n",
    "def max_sampling_strategy(sequence_length, model, output, hidden, vocab):\n",
    "    outputs = []\n",
    "    newX = output\n",
    "    newHidden = hidden\n",
    "    for ii in range(sequence_length):\n",
    "        outputs.append(torch.argmax(newX))\n",
    "        data = torch.argmax(newX)\n",
    "        newX, newHidden = model.inference(torch.argmax(newX), newHidden)\n",
    "    return outputs\n",
    "    \n",
    "def sample_sampling_strategy(sequence_length, model, output, hidden, vocab):\n",
    "    outputs = []\n",
    "    newX = output\n",
    "    newHidden = hidden\n",
    "    for ii in range(sequence_length):\n",
    "        val = torch.multinomial(newX, 1)\n",
    "        outputs.append(val)\n",
    "        newX, newHidden = model.inference(val, newHidden, temperature=TEMPERATURE)\n",
    "    return outputs\n",
    "\n",
    "def beam_sampling_strategy(sequence_length, beam_width, model, output, hidden, vocab):\n",
    "    outputs = []\n",
    "    beam = [([], output, hidden, 0)]\n",
    "    for ii in range(sequence_length):\n",
    "        new_beam = []\n",
    "        for b in beam:\n",
    "            # nextVals will be an array of indices\n",
    "            nextVals = torch.multinomial(b[1], beam_width, replacement=True)\n",
    "            for val in nextVals[0]:\n",
    "                newScore = torch.log(b[1][0][val])\n",
    "                output, newHidden = model.inference(val, b[2], temperature=TEMPERATURE)\n",
    "                new_out = b[0] + [val.item()]\n",
    "                sum_score = b[3] + newScore\n",
    "                new_beam.append((new_out, output, newHidden, b[3] + sum_score))\n",
    "            new_beam.sort(key=lambda y: y[3], reverse=True)\n",
    "            beam = new_beam[:beam_width]\n",
    "            \n",
    "    # TODO\n",
    "    return beam[0][0]\n",
    "\n",
    "\n",
    "def generate_language(model, device, seed_words, sequence_length, vocab, sampling_strategy='max', beam_width=BEAM_WIDTH):\n",
    "    model.eval()\n",
    "\n",
    "    with torch.no_grad():\n",
    "        seed_words_arr = vocab.words_to_array(seed_words)\n",
    "\n",
    "        # Computes the initial hidden state from the prompt (seed words).\n",
    "        hidden = None\n",
    "        for ind in seed_words_arr:\n",
    "            data = ind.to(device)\n",
    "            output, hidden = model.inference(data, hidden)\n",
    "        \n",
    "        if sampling_strategy == 'max':\n",
    "            outputs = max_sampling_strategy(sequence_length, model, output, hidden, vocab)\n",
    "\n",
    "        elif sampling_strategy == 'sample':\n",
    "            outputs = sample_sampling_strategy(sequence_length, model, output, hidden, vocab)\n",
    "\n",
    "        elif sampling_strategy == 'beam':\n",
    "            outputs = beam_sampling_strategy(sequence_length, beam_width, model, output, hidden, vocab)\n",
    "\n",
    "\n",
    "        return vocab.array_to_words(seed_words_arr.tolist() + outputs)"
   ]
  },
  {
   "cell_type": "markdown",
   "metadata": {
    "id": "Havsk_RJi_i5"
   },
   "source": [
    "# Part 6: Training\n",
    "Again, we are providing training code for you. Have a look at the train function though as it implements the exact forward approximate backward computation, which may be of interest to you. You will still need to add the perplexity computation (read more in part 9 about how to do this)."
   ]
  },
  {
   "cell_type": "code",
   "execution_count": 9,
   "metadata": {
    "id": "L0Wq8hRy0UEX"
   },
   "outputs": [],
   "source": [
    "import tqdm\n",
    "def repackage_hidden(h):\n",
    "    \"\"\"Wraps hidden states in new Tensors, to detach them from their history.\"\"\"\n",
    "    if isinstance(h, torch.Tensor):\n",
    "        return h.detach()\n",
    "    else:\n",
    "        return tuple(repackage_hidden(v) for v in h)\n",
    "\n",
    "def train(model, device, optimizer, train_loader, lr, epoch, log_interval):\n",
    "    model.train()\n",
    "    losses = []\n",
    "    hidden = None\n",
    "    for batch_idx, (data, label) in enumerate(tqdm.tqdm(train_loader)):\n",
    "        data, label = data.to(device), label.to(device)\n",
    "        # Separates the hidden state across batches. \n",
    "        # Otherwise the backward would try to go all the way to the beginning every time.\n",
    "        if hidden is not None:\n",
    "            hidden = repackage_hidden(hidden)\n",
    "        optimizer.zero_grad()\n",
    "        output, hidden = model(data)\n",
    "        pred = output.max(-1)[1]\n",
    "        loss = model.loss(output, label)\n",
    "        losses.append(loss.item())\n",
    "        loss.backward()\n",
    "        optimizer.step()\n",
    "#         if batch_idx % log_interval == 0:\n",
    "#             print('Train Epoch: {} [{}/{} ({:.0f}%)]\\tLoss: {:.6f}'.format(\n",
    "#                 epoch, batch_idx * len(data), len(train_loader.dataset),\n",
    "#                 100. * batch_idx / len(train_loader), loss.item()))\n",
    "    return np.mean(losses)\n",
    "\n",
    "\n",
    "def test(model, device, test_loader):\n",
    "    model.eval()\n",
    "    test_loss = 0\n",
    "    correct = 0\n",
    "\n",
    "    with torch.no_grad():\n",
    "        hidden = None\n",
    "        for batch_idx, (data, label) in enumerate(test_loader):\n",
    "            data, label = data.to(device), label.to(device)\n",
    "            output, hidden = model(data, hidden)\n",
    "#             print(output)\n",
    "            test_loss += model.loss(output, label, reduction='mean').item()\n",
    "            pred = output.max(-1)[1]\n",
    "            correct_mask = pred.eq(label.view_as(pred))\n",
    "            num_correct = correct_mask.sum().item()\n",
    "            correct += num_correct\n",
    "            # Comment this out to avoid printing test results\n",
    "            if batch_idx % 10 == 0:\n",
    "                print('Input\\t%s\\nGT\\t%s\\npred\\t%s\\n\\n' % (\n",
    "                    test_loader.dataset.vocab.array_to_words(data[0]),\n",
    "                    test_loader.dataset.vocab.array_to_words(label[0]),\n",
    "                    test_loader.dataset.vocab.array_to_words(pred[0])))\n",
    "\n",
    "    test_loss /= len(test_loader)\n",
    "    test_accuracy = 100. * correct / (len(test_loader.dataset) * test_loader.dataset.sequence_length)\n",
    "\n",
    "    print('\\nTest set: Average loss: {:.4f}, Perplexity: {:.4f}, Accuracy: {}/{} ({:.0f}%)\\n'.format(\n",
    "        test_loss, np.exp(test_loss/test_loader.dataset.sequence_length), correct, len(test_loader.dataset) * test_loader.dataset.sequence_length,\n",
    "        100. * correct / (len(test_loader.dataset) * test_loader.dataset.sequence_length)))\n",
    "    return test_loss, test_accuracy"
   ]
  },
  {
   "cell_type": "code",
   "execution_count": 35,
   "metadata": {
    "id": "66T-Ylkg0fn1",
    "scrolled": true
   },
   "outputs": [
    {
     "name": "stdout",
     "output_type": "stream",
     "text": [
      "Using device cuda\n",
      "num workers: 16\n",
      "Input\ta great sigh and leaned against the cavern wall. \"I am weak...\" he said. \"Don't worry, sir,\" said Har\n",
      "GT\t great sigh and leaned against the cavern wall. \"I am weak...\" he said. \"Don't worry, sir,\" said Harr\n",
      "pred\terOB66Br66j7T6$-$^U6&;-$6Qee\"\"B]BSS]Nmx664$_e^^Q.AI.6Q..UemQQQQ.QQ.=66EQ.-3hjjvrr_k'][.=O6[0k=66ET226\n",
      "\n",
      "\n",
      "Input\trossed the outer cave, and Harry helped Dumbledore back into the icy seawater that filled the crevice\n",
      "GT\tossed the outer cave, and Harry helped Dumbledore back into the icy seawater that filled the crevice \n",
      "pred\t''==6?$]SS]h'r66]Nm66S.6$-$k266[]'SII6-M$$Qq^U-h\\6]_6mmbO/BhrrSS]6m[T~66eeB666]SeBrte^^U-MMSS]Nm666m6\n",
      "\n",
      "\n",
      "Input\tivering and dripping in the middle of the dark High Street in Hogsmeade. For one horrible moment Harr\n",
      "GT\tvering and dripping in the middle of the dark High Street in Hogsmeade. For one horrible moment Harry\n",
      "pred\t*[666/jO6$-$--eCC63jOO3TB_S]QO--^MMht.]rS.-&6m]))27T'BB66]]63O2'j=jQ6-6Q...kkh$j$''''6)^6MQ\\Qjj]r2266\n",
      "\n",
      "\n",
      "Input\t help, but there was nobody to be seen and all he could think was that he must somehow get Dumbledore\n",
      "GT\thelp, but there was nobody to be seen and all he could think was that he must somehow get Dumbledore \n",
      "pred\t.'SII0.7LBrr_S966eeEO$\"__']]]hr_q.=664$6$-$&^^MmS.Nh'^^MMS*3arre=TBSeBrSS]QQgB]=\"jjS'_.jQB]W$Qq^U-h\\6\n",
      "\n",
      "\n",
      "Input\tto - but what's wrong with Albus?' She came to a halt, panting, and stared down, wide-eyed, at Dumble\n",
      "GT\to - but what's wrong with Albus?' She came to a halt, panting, and stared down, wide-eyed, at Dumbled\n",
      "pred\tBhrrr_LBrr_eBv\"Oee'\"j$_eB*r.^7y=2v.''S.NmQQ.]hrrrLeIISr66\"B23j0k6$-$~]666-]-hXjV..eE*22]U-~$6Brr$Qq^U\n",
      "\n",
      "\n"
     ]
    },
    {
     "name": "stderr",
     "output_type": "stream",
     "text": [
      "\r",
      "  0%|                                                                                                                                                                                                                                                                                                                                                             | 0/194 [00:00<?, ?it/s]"
     ]
    },
    {
     "name": "stdout",
     "output_type": "stream",
     "text": [
      "\n",
      "Test set: Average loss: 15.7937, Perplexity: 1.1711, Accuracy: 7674/1228800 (1%)\n",
      "\n"
     ]
    },
    {
     "name": "stderr",
     "output_type": "stream",
     "text": [
      "100%|███████████████████████████████████████████████████████████████████████████████████████████████████████████████████████████████████████████████████████████████████████████████████████████████████████████████████████████████████████████████████████████████████████████████████████████████████████████████████████████████████████████████████| 194/194 [00:05<00:00, 34.73it/s]\n"
     ]
    },
    {
     "name": "stdout",
     "output_type": "stream",
     "text": [
      "Input\ta great sigh and leaned against the cavern wall. \"I am weak...\" he said. \"Don't worry, sir,\" said Har\n",
      "GT\t great sigh and leaned against the cavern wall. \"I am weak...\" he said. \"Don't worry, sir,\" said Harr\n",
      "pred\trloiat hatntt d tiastd t ain   the dore  oaisk  \"I ss airri .\" \"e said  \"Iin't harky  ttn   said Harr\n",
      "\n",
      "\n",
      "Input\trossed the outer cave, and Harry helped Dumbledore back into the icy seawater that filled the crevice\n",
      "GT\tossed the outer cave, and Harry helped Dumbledore back into the icy seawater that filled the crevice \n",
      "pred\tiwe d the snt r thse  tsd tarry saaa d aembledore tyck tn o the sn  stet yed that tanl d the wooaele \n",
      "\n",
      "\n",
      "Input\tivering and dripping in the middle of the dark High Street in Hogsmeade. For one horrible moment Harr\n",
      "GT\tvering and dripping in the middle of the dark High Street in Hogsmeade. For one horrible moment Harry\n",
      "pred\tne  ng t d toanpeng tn the sogale tf the sork aashttiuian an tagsteak d \"rr tn  talrible torent tarry\n",
      "\n",
      "\n",
      "Input\t help, but there was nobody to be seen and all he could think was that he must somehow get Dumbledore\n",
      "GT\thelp, but there was nobody to be seen and all he could think was that he must somehow get Dumbledore \n",
      "pred\twarp  aut the e sas sotbdy sh te stc  tnd t l tarworld hhes  ahs ahat tiawost ht etAr tot tumbledore \n",
      "\n",
      "\n",
      "Input\tto - but what's wrong with Albus?' She came to a halt, panting, and stared down, wide-eyed, at Dumble\n",
      "GT\to - but what's wrong with Albus?' She came to a halt, panting, and stared down, wide-eyed, at Dumbled\n",
      "pred\tolm myt thet s tain  tith trbosi  Tie wose sh h sadf  tar  cg  tsd ttartd aown  thterhr    tn tumbled\n",
      "\n",
      "\n",
      "\n",
      "Test set: Average loss: 1.8848, Perplexity: 1.0190, Accuracy: 621835/1228800 (51%)\n",
      "\n",
      "Saved /home/jefftian/Documents/21au/cse490g1/hw2content/checkpoints/000.pt\n",
      "\n",
      "generated max\t\t Harry Potter, Voldemort, and Dumbledore walk into a bar. \"I supportain the taking a start a surry as the family. \"I supportain the taking at the taking at the taking at the taking at the taking at the taking at the taking at the taking the taking the taking\n",
      "generated sample\t Harry Potter, Voldemort, and Dumbledore walk into a bar. I the Dark and the was a bit the gave that has a seen the for the fling in the part arring the passed the dark a rath that the suddent to the garpling in the good so class as head as the door the face\n",
      "generated sample\t Harry Potter, Voldemort, and Dumbledore walk into a bar. \"No, sound the trutting to the gartly still that the gazing the started the table that the second the taking it a tarted as returned taking the bed the bed all to the taking in the parat had the the r\n",
      "generated sample\t Harry Potter, Voldemort, and Dumbledore walk into a bar. The taken apart a face the taking dropped a had a had said the was suck a sile upred a but to him had a great a raist the beling a surridge read as runk arry didn't taking around the by they said the \n",
      "generated sample\t Harry Potter, Voldemort, and Dumbledore walk into a bar. \"Is you've every arry cold looking at the in the partack it the taking the by that the stairs littled the said to the room in the taking in the table the was not taking a but he conting a surpring the\n",
      "generated sample\t Harry Potter, Voldemort, and Dumbledore walk into a bar. Professor McGonagall really to the gamed the more that had the dark a surridge, that had read at the but a coming the great in the ent to the had been the start as the garring to the finist it the had\n",
      "generated sample\t Harry Potter, Voldemort, and Dumbledore walk into a bar. could the suck as his gave a going the time, the talk to the didn't the taking the the table as the taking at the dragon the take the common the sider time table the take a by the face that it the fla\n",
      "generated sample\t Harry Potter, Voldemort, and Dumbledore walk into a bar. Harry as the dark at the first the kin the gam and the work at the corrol again the starticust the grage that it had the had startist take the back the name in the fam and the pressed that the Granged\n",
      "generated sample\t Harry Potter, Voldemort, and Dumbledore walk into a bar. \"I don't makin a chair starting the said the more that had the corry ask arring the by the back in the table that had the stack a but have to the first the partack to know head a corry. \"Harry that th\n",
      "generated sample\t Harry Potter, Voldemort, and Dumbledore walk into a bar. \"I'm not a morneath the supportal though that his studden the fam could have that she was got a find the door been the corned a littly and the beliat. \"Harry the cross the paring at the table a bittin\n",
      "generated sample\t Harry Potter, Voldemort, and Dumbledore walk into a bar. Harry from the started the conce the family. \"I mouth she was amnia, Harry and sit the time, the droubby in the taking his by that the was a but the started little that Karring the dearing at the door\n"
     ]
    },
    {
     "name": "stderr",
     "output_type": "stream",
     "text": [
      "\r",
      "  0%|                                                                                                                                                                                                                                                                                                                                                             | 0/194 [00:00<?, ?it/s]"
     ]
    },
    {
     "name": "stdout",
     "output_type": "stream",
     "text": [
      "generated beam\t\t Harry Potter, Voldemort, and Dumbledore walk into a bar. \"I supportain the taking in the by the part stain the taking the side, that the taking the was as that the door the corned at the taking the the tain a sittun a by the back as heaving arriving as her \n",
      "\n"
     ]
    },
    {
     "name": "stderr",
     "output_type": "stream",
     "text": [
      "100%|███████████████████████████████████████████████████████████████████████████████████████████████████████████████████████████████████████████████████████████████████████████████████████████████████████████████████████████████████████████████████████████████████████████████████████████████████████████████████████████████████████████████████| 194/194 [00:06<00:00, 27.84it/s]\n"
     ]
    },
    {
     "name": "stdout",
     "output_type": "stream",
     "text": [
      "Input\ta great sigh and leaned against the cavern wall. \"I am weak...\" he said. \"Don't worry, sir,\" said Har\n",
      "GT\t great sigh and leaned against the cavern wall. \"I am weak...\" he said. \"Don't worry, sir,\" said Harr\n",
      "pred\tndreet aalnttnd tiar d tnain.t the sose  oaisk  \"I ts sarr \".\" \"e said  \"Iun't barky \"\"ig,\" said Harr\n",
      "\n",
      "\n",
      "Input\trossed the outer cave, and Harry helped Dumbledore back into the icy seawater that filled the crevice\n",
      "GT\tossed the outer cave, and Harry helped Dumbledore back into the icy seawater that filled the crevice \n",
      "pred\taws d the snt rstore  tnd tarry saap d aumbledore seck on o the sne saer yed that hrnl d boe soeaese \n",
      "\n",
      "\n",
      "Input\tivering and dripping in the middle of the dark High Street in Hogsmeade. For one horrible moment Harr\n",
      "GT\tvering and dripping in the middle of the dark High Street in Hogsmeade. For one horrible moment Harry\n",
      "pred\tne  ng and Hienpeng an the cosale of the sork aashtHuuoat wn aagsmeaded \"ir sn  oalsible sorent oarry\n",
      "\n",
      "\n",
      "Input\t help, but there was nobody to be seen and all he could think was that he must somehow get Dumbledore\n",
      "GT\thelp, but there was nobody to be seen and all he could think was that he must somehow get Dumbledore \n",
      "pred\twirp  aut hhe e sas aotody so te sicm tnd t l tarwould bheng ahs ahet te wost ot eton trt tumbledore \n",
      "\n",
      "\n",
      "Input\tto - but what's wrong with Albus?' She came to a halt, panting, and stared down, wide-eyed, at Dumble\n",
      "GT\to - but what's wrong with Albus?' She came to a halt, panting, and stared down, wide-eyed, at Dumbled\n",
      "pred\te m yet hhet s aaing ahth aubusi\" she wose so t sadf  turiicg  and taared aiwn  ahte hl d  an tumbled\n",
      "\n",
      "\n",
      "\n",
      "Test set: Average loss: 1.6798, Perplexity: 1.0169, Accuracy: 660792/1228800 (54%)\n",
      "\n",
      "Saved /home/jefftian/Documents/21au/cse490g1/hw2content/checkpoints/001.pt\n",
      "\n",
      "generated max\t\t Harry Potter, Voldemort, and Dumbledore walk into a bar. \"I said Harry said Harry said the said Harry said the said Harry said the said Harry said the said Harry said the said Harry started to the first the side of the side of the said Harry said Harry said\n",
      "generated sample\t Harry Potter, Voldemort, and Dumbledore walk into a bar. Harry school be a since flather flat the corner brooms a courself a back at the said the stranged in a taken a could between the with a silver been but every was a table and lear a munding a sing slig\n",
      "generated sample\t Harry Potter, Voldemort, and Dumbledore walk into a bar. But her taken asked in the sat the said Hagrid seem on the seem in the said George and the said the doorses flather side to the saw a jorry placed to the said Magic possibling me, Harry did and with h\n",
      "generated sample\t Harry Potter, Voldemort, and Dumbledore walk into a bar. I said the been a school that the busing stone start and the dark and the a deared to be see chamber and least of the burs in the said Harry. \"I have a with out of Hagrid said. \"I know you know where \n",
      "generated sample\t Harry Potter, Voldemort, and Dumbledore walk into a bar. \"I asked that had to me to have and say liked to the corners feet as a had the room, which hear was a very looked that it been a feet bettered the flat in the scream looking and the care and with a gr\n",
      "generated sample\t Harry Potter, Voldemort, and Dumbledore walk into a bar. You see the was staring a large of the saw his dark sign in the prots. They and of the face able the streen to silver been a parchment a bit her commen and a tread been and the corrible to his ears. \"\n",
      "generated sample\t Harry Potter, Voldemort, and Dumbledore walk into a bar. What he was a close brooms was a rather not of made the carric the second find Harry start down in a cause had a march mean. \"I really looked silver a said the said have you're said Harry starting in \n",
      "generated sample\t Harry Potter, Voldemort, and Dumbledore walk into a bar. A the was a since and the of the extrementors of the seconside the right becoming her bell and from the back and with the rest of him and the could said that was a placed it was a better being bit the\n",
      "generated sample\t Harry Potter, Voldemort, and Dumbledore walk into a bar. Flittly. \"No,\" said Harry ledge of the carrifferently and which with a starterned on actunt extrains of the said Hagrid her stared and with must not be with a sinclusing because hear the stared to tak\n",
      "generated sample\t Harry Potter, Voldemort, and Dumbledore walk into a bar. Harry as a very in the fore the flament a silence of with marber in the corrid George could have been and the said supposed that him a silen and Harry could had not become because just bed and Black a\n",
      "generated sample\t Harry Potter, Voldemort, and Dumbledore walk into a bar. \"I said Mr. Weasley and reepress in the take a shaking around to had been apportain a secreat a little came and the trust the was a bit become of the smal was a because had to the said Harry shake und\n"
     ]
    },
    {
     "name": "stderr",
     "output_type": "stream",
     "text": [
      "\r",
      "  0%|                                                                                                                                                                                                                                                                                                                                                             | 0/194 [00:00<?, ?it/s]"
     ]
    },
    {
     "name": "stdout",
     "output_type": "stream",
     "text": [
      "generated beam\t\t Harry Potter, Voldemort, and Dumbledore walk into a bar. \"I said Harry said Harry sidead and the play about the closed in the flap heart arm been fore hear the stating at the side than the door. \"That was stairs. \"Listen you with yeares in the said, \"that m\n",
      "\n"
     ]
    },
    {
     "name": "stderr",
     "output_type": "stream",
     "text": [
      "100%|███████████████████████████████████████████████████████████████████████████████████████████████████████████████████████████████████████████████████████████████████████████████████████████████████████████████████████████████████████████████████████████████████████████████████████████████████████████████████████████████████████████████████| 194/194 [00:06<00:00, 29.14it/s]\n"
     ]
    },
    {
     "name": "stdout",
     "output_type": "stream",
     "text": [
      "Input\ta great sigh and leaned against the cavern wall. \"I am weak...\" he said. \"Don't worry, sir,\" said Har\n",
      "GT\t great sigh and leaned against the cavern wall. \"I am weak...\" he said. \"Don't worry, sir,\" said Harr\n",
      "pred\tndriet aalnttnd hiaded t ain.t the fose  oaisk  \"W hs cirr \".  \"e said  \"Iin'  barry \"\"in,\" said Harr\n",
      "\n",
      "\n",
      "Input\trossed the outer cave, and Harry helped Dumbledore back into the icy seawater that filled the crevice\n",
      "GT\tossed the outer cave, and Harry helped Dumbledore back into the icy seawater that filled the crevice \n",
      "pred\taws d the ctt rsaore  tnd tarry saad d fumbledore seck on o the cny daer yhr ahat hinl d ohe coaaise \n",
      "\n",
      "\n",
      "Input\tivering and dripping in the middle of the dark High Street in Hogsmeade. For one horrible moment Harr\n",
      "GT\tvering and dripping in the middle of the dark High Street in Hogsmeade. For one horrible moment Harry\n",
      "pred\tne  ng h d hienping hn ahe cosale of the corksaash Hnuaat an aagsmeaded \"ir afl oausible torent oarry\n",
      "\n",
      "\n",
      "Input\t help, but there was nobody to be seen and all he could think was that he must somehow get Dumbledore\n",
      "GT\thelp, but there was nobody to be seen and all he could think was that he must somehow get Dumbledore \n",
      "pred\twirp  sut hhe e was aotody so te sien tnd h r ri hould bhesg ais ahet he wost ht etow trt iumbledore \n",
      "\n",
      "\n",
      "Input\tto - but what's wrong with Albus?' She came to a halt, panting, and stared down, wide-eyed, at Dumble\n",
      "GT\to - but what's wrong with Albus?' She came to a halt, panting, and stared down, wide-eyed, at Dumbled\n",
      "pred\te m yet hhat s hhing hith hrlusi\" she wose oo h sadf  auii cg  and htartd aown  ahtendl d  an tumbled\n",
      "\n",
      "\n",
      "\n",
      "Test set: Average loss: 1.6059, Perplexity: 1.0162, Accuracy: 673725/1228800 (55%)\n",
      "\n",
      "Saved /home/jefftian/Documents/21au/cse490g1/hw2content/checkpoints/002.pt\n",
      "\n",
      "generated max\t\t Harry Potter, Voldemort, and Dumbledore walk into a bar. \"What did you will not to the finish in the said the said the start in a really and the start in a really and the corridors and the corridors and her been and her been a really and the corridors and t\n",
      "generated sample\t Harry Potter, Voldemort, and Dumbledore walk into a bar. Harry times plain a really side of the covers and her givina him as he had surring in the came had been the silver had been like with a said a taken a reach other that the cares a strang hard charm be\n",
      "generated sample\t Harry Potter, Voldemort, and Dumbledore walk into a bar. The rusing not scarrical scared and report of disapping him find with class arrived in mind his wait underal least the taking a small and her a stranger had a silver back at him and find him a shinist\n",
      "generated sample\t Harry Potter, Voldemort, and Dumbledore walk into a bar. The care all right the came Muggle back to the was a large rest of course, the call and Harry as head up. \"Maybe signed to get that had they with his face a hard on the silent and Harry had to the onl\n",
      "generated sample\t Harry Potter, Voldemort, and Dumbledore walk into a bar. All that he had the strans and seen he reath disappeared to her find of the walked in a fanished here was like a really impressing in a few in the corridor. \"This remembered by the first came, not eve\n",
      "generated sample\t Harry Potter, Voldemort, and Dumbledore walk into a bar. \"You do think.\" \"Yeah,\" said Harry rubbing at Harry had been the side of the find in his his far adden with her with his ear eyes with the first times and like a sign of the before hard the corridors \n",
      "generated sample\t Harry Potter, Voldemort, and Dumbledore walk into a bar. The closed the or name, of countical of the Dumbledore to the class in the most raised the window her had started a few morning in a really reading him and his face in a silenced his could back to his\n",
      "generated sample\t Harry Potter, Voldemort, and Dumbledore walk into a bar. They with a house his was a few strand for behind him as in a signs had the villar as her side of the capping him and her ears were was staring at the cast time had the find which students a rush in t\n",
      "generated sample\t Harry Potter, Voldemort, and Dumbledore walk into a bar. Ron had trunk and his face as the Quidditch the find with the back every with the start coming did not to get in in a few him and it was and Harry read a count the find the neares and when her inside \n",
      "generated sample\t Harry Potter, Voldemort, and Dumbledore walk into a bar. Filch the find in a rans a really corrid straight in a chart charms arrivati a hard to be for though he had been and been and with him a had to corridors with the staring and start for the corridors o\n",
      "generated sample\t Harry Potter, Voldemort, and Dumbledore walk into a bar. \"Mad care strang and him as he had the steppened time, and disage window and Harry had the sign in learned the school Charms as he had the said the find it with a had to him as he had been in a had be\n"
     ]
    },
    {
     "name": "stderr",
     "output_type": "stream",
     "text": [
      "\r",
      "  0%|                                                                                                                                                                                                                                                                                                                                                             | 0/194 [00:00<?, ?it/s]"
     ]
    },
    {
     "name": "stdout",
     "output_type": "stream",
     "text": [
      "generated beam\t\t Harry Potter, Voldemort, and Dumbledore walk into a bar. The said the could be a small crush and did not beling with a holding him a champing a really bettered the said stairs and his eyes with a grinkly. And rather a had been chament a ran a had been a few\n",
      "\n"
     ]
    },
    {
     "name": "stderr",
     "output_type": "stream",
     "text": [
      "100%|███████████████████████████████████████████████████████████████████████████████████████████████████████████████████████████████████████████████████████████████████████████████████████████████████████████████████████████████████████████████████████████████████████████████████████████████████████████████████████████████████████████████████| 194/194 [00:06<00:00, 30.11it/s]\n"
     ]
    },
    {
     "name": "stdout",
     "output_type": "stream",
     "text": [
      "Input\ta great sigh and leaned against the cavern wall. \"I am weak...\" he said. \"Don't worry, sir,\" said Har\n",
      "GT\t great sigh and leaned against the cavern wall. \"I am weak...\" he said. \"Don't worry, sir,\" said Harr\n",
      "pred\trwriet aalnttnd totded inain.t the cose  oaisk  HT ss narri\".  He said  \"Tin't barry \"Itg,\" said Harr\n",
      "\n",
      "\n",
      "Input\trossed the outer cave, and Harry helped Dumbledore back into the icy seawater that filled the crevice\n",
      "GT\tossed the outer cave, and Harry helped Dumbledore back into the icy seawater that filled the crevice \n",
      "pred\taws d the ctt r aore  tnd tarry aaaded iumbledore sack an o the cny daet yed aoat aonl d ooe caaaese \n",
      "\n",
      "\n",
      "Input\tivering and dripping in the middle of the dark High Street in Hogsmeade. For one horrible moment Harr\n",
      "GT\tvering and dripping in the middle of the dark High Street in Hogsmeade. For one horrible moment Harry\n",
      "pred\tne  ng hnd teenping hn the cosale of the corksaash bnuoat an aagsmeaded \"or af  taurible torent tarry\n",
      "\n",
      "\n",
      "Input\t help, but there was nobody to be seen and all he could think was that he must somehow get Dumbledore\n",
      "GT\thelp, but there was nobody to be seen and all he could think was that he must somehow get Dumbledore \n",
      "pred\twi p  but the e was aotody ao te stem tnd t l oi would bhesg ahs ahet te wust at etow trt tumbledore \n",
      "\n",
      "\n",
      "Input\tto - but what's wrong with Albus?' She came to a halt, panting, and stared down, wide-eyed, at Dumble\n",
      "GT\to - but what's wrong with Albus?' She came to a halt, panting, and stared down, wide-eyed, at Dumbled\n",
      "pred\te m tet that s hhing bith tubus \" she wose to h davf  burticg  tnd ttartd aown  ahte dled  an tumbled\n",
      "\n",
      "\n",
      "\n",
      "Test set: Average loss: 1.5441, Perplexity: 1.0156, Accuracy: 689932/1228800 (56%)\n",
      "\n",
      "Saved /home/jefftian/Documents/21au/cse490g1/hw2content/checkpoints/003.pt\n",
      "\n",
      "generated max\t\t Harry Potter, Voldemort, and Dumbledore walk into a bar. \"The said the said the said the stairs. \"The said Harry and Harry and the first the corridors with a chair and the castle the corridors and the castle and the castle and the castle and the castle and \n",
      "generated sample\t Harry Potter, Voldemort, and Dumbledore walk into a bar. \"Who was after and lit to the parchment. \"The could be anyone chair anything anything his mustairs. Magic was a come backnow and back and lay in a silver right into the stairs. \"Why did your on them b\n",
      "generated sample\t Harry Potter, Voldemort, and Dumbledore walk into a bar. The first of the cast at her to be the came the most in the course, who had been and the face for a checks and students and at the second family back the case, a delieve the for the started to have a \n",
      "generated sample\t Harry Potter, Voldemort, and Dumbledore walk into a bar. Harry as though the find of the cursing must stairs and hear not time, but a minutes down of the care as though he had been chair and swept disappeared for the could be to be he recome backing his fac\n",
      "generated sample\t Harry Potter, Voldemort, and Dumbledore walk into a bar. but a mouth a roll. . . . they light could have been secret to her glanch of the chair and stairs. \"You can made a back in a party of the for his hand. He passed the floor behind him and particular ba\n",
      "generated sample\t Harry Potter, Voldemort, and Dumbledore walk into a bar. A little to cold on the started at the can and Harry in a large back, took at him a large anything at the making at the take to start under a little back down at marble and letter sheade for the stair\n",
      "generated sample\t Harry Potter, Voldemort, and Dumbledore walk into a bar. \"You can't behind the cast the purple and he had been a corridor than in front of the was and Harry. \"The person with him. The rest of the back and Harry glanch for the corridors and Harry was been a \n",
      "generated sample\t Harry Potter, Voldemort, and Dumbledore walk into a bar. Dumbledore was a for a very feat stuffing light to hear to the cause in a could be shing and a rapping a back a long back at a chair and Harry. Charm been and looked for the said the common rest of th\n",
      "generated sample\t Harry Potter, Voldemort, and Dumbledore walk into a bar. Lupin could start comming and light grust in a great and the for charm and follow the back at his chair because he had been a deepers and person and he was a time to be up the chair class are are more\n",
      "generated sample\t Harry Potter, Voldemort, and Dumbledore walk into a bar. And the massance had been more chair back and lakes are are a gring around little in a slight become and students and started around the same to the first the Rita Snape at and let part at her to have\n",
      "generated sample\t Harry Potter, Voldemort, and Dumbledore walk into a bar. She was still that the back of the staring his face as the first as Harry and Harry a slight be didn't feet in a green his find out anything are busing already as he was a dementors at least and the s\n"
     ]
    },
    {
     "name": "stderr",
     "output_type": "stream",
     "text": [
      "\r",
      "  0%|                                                                                                                                                                                                                                                                                                                                                             | 0/194 [00:00<?, ?it/s]"
     ]
    },
    {
     "name": "stdout",
     "output_type": "stream",
     "text": [
      "generated beam\t\t Harry Potter, Voldemort, and Dumbledore walk into a bar. The start come a charpled at him and Gryffindors with them an in a rather and becoming around a part once and Harry cold the fire to comming at him. Harry could have the slight behind him in the green\n",
      "\n"
     ]
    },
    {
     "name": "stderr",
     "output_type": "stream",
     "text": [
      "100%|███████████████████████████████████████████████████████████████████████████████████████████████████████████████████████████████████████████████████████████████████████████████████████████████████████████████████████████████████████████████████████████████████████████████████████████████████████████████████████████████████████████████████| 194/194 [00:05<00:00, 32.36it/s]\n"
     ]
    },
    {
     "name": "stdout",
     "output_type": "stream",
     "text": [
      "Input\ta great sigh and leaned against the cavern wall. \"I am weak...\" he said. \"Don't worry, sir,\" said Har\n",
      "GT\t great sigh and leaned against the cavern wall. \"I am weak...\" he said. \"Don't worry, sir,\" said Harr\n",
      "pred\tnwriat dagnttnd toaded inoin.t the case  oaisk  \"T ss sark \".\" \"e said  \"Son't barky \"tog,\" said Harr\n",
      "\n",
      "\n",
      "Input\trossed the outer cave, and Harry helped Dumbledore back into the icy seawater that filled the crevice\n",
      "GT\tossed the outer cave, and Harry helped Dumbledore back into the icy seawater that filled the crevice \n",
      "pred\tews d the ctt r,aare  tnd tarry aaaded aumbledore teck tn o the cne atet yed aoen hinl d aoe caaaese \n",
      "\n",
      "\n",
      "Input\tivering and dripping in the middle of the dark High Street in Hogsmeade. For one horrible moment Harr\n",
      "GT\tvering and dripping in the middle of the dark High Street in Hogsmeade. For one horrible moment Harry\n",
      "pred\tnereng and teenpeng tn the cogale of the cork aash anuuat an tagsmeaded \"or af  taurible torent,tarry\n",
      "\n",
      "\n",
      "Input\t help, but there was nobody to be seen and all he could think was that he must somehow get Dumbledore\n",
      "GT\thelp, but there was nobody to be seen and all he could think was that he must somehow get Dumbledore \n",
      "pred\twiap  but the e was aotody ao te atem tnd tnl oi would bhesg ais ahet te wust bt etow trt tumbledore \n",
      "\n",
      "\n",
      "Input\tto - but what's wrong with Albus?' She came to a halt, panting, and stared down, wide-eyed, at Dumble\n",
      "GT\to - but what's wrong with Albus?' She came to a halt, panting, and stared down, wide-eyed, at Dumbled\n",
      "pred\te m tet that s taitg tith tubus \" sne wose to t sovf  turticg  tnd ttartd aown  thte dyed  tn tumbled\n",
      "\n",
      "\n",
      "\n",
      "Test set: Average loss: 1.5164, Perplexity: 1.0153, Accuracy: 694971/1228800 (57%)\n",
      "\n",
      "Saved /home/jefftian/Documents/21au/cse490g1/hw2content/checkpoints/004.pt\n",
      "\n",
      "generated max\t\t Harry Potter, Voldemort, and Dumbledore walk into a bar. \"They were the part of the cast the part of the cast and the cast as though he had been and the cast and the cast as the cast as the cast as the cast as the cast as the cast as the cast as the cast as\n",
      "generated sample\t Harry Potter, Voldemort, and Dumbledore walk into a bar. You don't could be anything they and they walked a brother name person great down the back and looked around the stranger books. \"Here was a work?\" said Harry and gring the corridors and leapth of the\n",
      "generated sample\t Harry Potter, Voldemort, and Dumbledore walk into a bar. Harry started floor behind with a plate of the scare was starting at the tight and chair and chair before the walked at Harry around the walked at Harry and with his wand and the stairs and lowers the\n",
      "generated sample\t Harry Potter, Voldemort, and Dumbledore walk into a bar. Harry and the second the floor been her stranged to be the back at him. Harry and down the particular because he had been and the carer and the floor behind him and it. \"So was a bit of the never been\n",
      "generated sample\t Harry Potter, Voldemort, and Dumbledore walk into a bar. Lupin and the works. \"What had to do it,\" said Snape of person with with him, he was staring in a few of the safe to be street the parchment, which was a burst foot on the sechool to get the trunks an\n",
      "generated sample\t Harry Potter, Voldemort, and Dumbledore walk into a bar. Mrs. Weasley and just beside to the care exams wand to the first the antical letter and the class and between the castle and the cast of the beak a stretched as though he had been a served and with he\n",
      "generated sample\t Harry Potter, Voldemort, and Dumbledore walk into a bar. Mrs. There was a little and returned to making around a stood of school was and Harry and stranged of the partment. \"You can't break and let the neare though they have not to the time the Gryffindors \n",
      "generated sample\t Harry Potter, Voldemort, and Dumbledore walk into a bar. Harry and Harry stood the back of the chair and the stretched and they chair bed and start of the cast the person who chair name started to ease the was a breath back at the cast a care and of the boy\n",
      "generated sample\t Harry Potter, Voldemort, and Dumbledore walk into a bar. Harry staring as he staring stranger to be he cast an entrance are at a large back to Harry and Harry was still be down the table as though he stairs and a stranged and Harry backed at the managed to \n",
      "generated sample\t Harry Potter, Voldemort, and Dumbledore walk into a bar. The was and it down to this took a straight beam was a long around in the case the door. \"What is a death years and they were they have things and pun which the walked a back, the playing to the end o\n",
      "generated sample\t Harry Potter, Voldemort, and Dumbledore walk into a bar. Hermione told the transfiguration the cast in the breath deep to hear that the school that he had seen the stretched and looked stranger and the and the castle terrible to his face light and cage and \n"
     ]
    },
    {
     "name": "stderr",
     "output_type": "stream",
     "text": [
      "\r",
      "  0%|                                                                                                                                                                                                                                                                                                                                                             | 0/194 [00:00<?, ?it/s]"
     ]
    },
    {
     "name": "stdout",
     "output_type": "stream",
     "text": [
      "generated beam\t\t Harry Potter, Voldemort, and Dumbledore walk into a bar. \"They were the parents to do you what was been to do, and taken year, they stood up, and wail, the car ear table and like though in the charple and the start carefully with his eyes. \"So would get to \n",
      "\n"
     ]
    },
    {
     "name": "stderr",
     "output_type": "stream",
     "text": [
      "100%|███████████████████████████████████████████████████████████████████████████████████████████████████████████████████████████████████████████████████████████████████████████████████████████████████████████████████████████████████████████████████████████████████████████████████████████████████████████████████████████████████████████████████| 194/194 [00:06<00:00, 31.47it/s]\n"
     ]
    },
    {
     "name": "stdout",
     "output_type": "stream",
     "text": [
      "Input\ta great sigh and leaned against the cavern wall. \"I am weak...\" he said. \"Don't worry, sir,\" said Har\n",
      "GT\t great sigh and leaned against the cavern wall. \"I am weak...\" he said. \"Don't worry, sir,\" said Harr\n",
      "pred\tnwreet aagnttnd teaved tnoin.t the sasensoaisk  \"S ss aark  .  \"e said, \"Son't sauky \"ttg,\" said Harr\n",
      "\n",
      "\n",
      "Input\trossed the outer cave, and Harry helped Dumbledore back into the icy seawater that filled the crevice\n",
      "GT\tossed the outer cave, and Harry helped Dumbledore back into the icy seawater that filled the crevice \n",
      "pred\tews d the ctt r,tase  tnd tarry saaped tumbledore teck tnto the snessaet yer.then hinl d ahe saaaine \n",
      "\n",
      "\n",
      "Input\tivering and dripping in the middle of the dark High Street in Hogsmeade. For one horrible moment Harr\n",
      "GT\tvering and dripping in the middle of the dark High Street in Hogsmeade. For one horrible moment Harry\n",
      "pred\tneleng and teenpeng an the sosdle of the sork aash anuuet anttagsmeaded \"ur an  tauroble torent tarry\n",
      "\n",
      "\n",
      "Input\t help, but there was nobody to be seen and all he could think was that he must somehow get Dumbledore\n",
      "GT\thelp, but there was nobody to be seen and all he could think was that he must somehow get Dumbledore \n",
      "pred\twi pe tut the e was aotody so te sten tnd tnl oi would bhesg ahs ahet he wust at etow trt tumbledore \n",
      "\n",
      "\n",
      "Input\tto - but what's wrong with Albus?' She came to a halt, panting, and stared down, wide-eyed, at Dumble\n",
      "GT\to - but what's wrong with Albus?' She came to a halt, panting, and stared down, wide-eyed, at Dumbled\n",
      "pred\te m tut that s thotg tith tubus \" sne wose to h savf  tuiticg  tnd ttartd aown  thtendned  tn tumbled\n",
      "\n",
      "\n",
      "\n",
      "Test set: Average loss: 1.5113, Perplexity: 1.0152, Accuracy: 694483/1228800 (57%)\n",
      "\n",
      "generated max\t\t Harry Potter, Voldemort, and Dumbledore walk into a bar. \"She was a little stay in the stay and the stay and the stairs. \"She was a little stay in the stay and the stay and the stairs. \"She was a little to the stay to the cast and the stairs. \"She was a lit\n",
      "generated sample\t Harry Potter, Voldemort, and Dumbledore walk into a bar. \"I don't get the would got to the corrible start. \"Snape had to see they caught to the entired to the ground, he said, \"I've got to can you know, they're never sking another and surface and stayed, th\n",
      "generated sample\t Harry Potter, Voldemort, and Dumbledore walk into a bar. , but he saw straight at the tainless of the couldn't seen the been last the and paint of the bag on the Houses the way and was and the bushed as though she starent and but a few start of the tractive\n",
      "generated sample\t Harry Potter, Voldemort, and Dumbledore walk into a bar. The stretched in the castle the straight and the stret the case ready and the entrance and the nament and bened at all the passed in the scar because he and when the first them. You can't get to the e\n",
      "generated sample\t Harry Potter, Voldemort, and Dumbledore walk into a bar. Er distant to a tractices the said, still and a straing burst and been and he was supposed the corridors and person the warned to start care and from the straing sticked the started. \"I head, but you \n",
      "generated sample\t Harry Potter, Voldemort, and Dumbledore walk into a bar. \"What is stretched the ground the ground, of them can't been back to see the cast to the castle, they light be and started to the cast and taken to get cracked a path centaur. \"You looked and was a go\n",
      "generated sample\t Harry Potter, Voldemort, and Dumbledore walk into a bar. Harry said, \"but the part out her and the Ron, leaving up the terrible to the marney seen that and the gave anything and make the end out of the said, \"said Harry. \"Now, they're not taken to the yours\n",
      "generated sample\t Harry Potter, Voldemort, and Dumbledore walk into a bar. Harry said Harry and with his wand, standing and was and looked down the demonstration a greatents to the gave her ears the castle and the back to the family. \"You want to stumperation,\" said Harry. \"\n",
      "generated sample\t Harry Potter, Voldemort, and Dumbledore walk into a bar. \"Soo sleep your and the said they said the cast and the scar was and lungushed as she was already and started to start out of the table. \"Snape have tablent. Harry taken were that he was surprised, th\n",
      "generated sample\t Harry Potter, Voldemort, and Dumbledore walk into a bar. \"I'm on, but I don' said Malfoy, they want to be anyway of the portrait can't been the cast that he was and they was a large and straight out of the castle behind the pain. \"You don't want trying to t\n",
      "generated sample\t Harry Potter, Voldemort, and Dumbledore walk into a bar. Mr. Fred and Professor Trelawneys had to the stays to contronus. \"Some the start on the portrait and the cast and in the cast the walked and out back to stretched to his though he hadn't say the other\n"
     ]
    },
    {
     "name": "stderr",
     "output_type": "stream",
     "text": [
      "\r",
      "  0%|                                                                                                                                                                                                                                                                                                                                                             | 0/194 [00:00<?, ?it/s]"
     ]
    },
    {
     "name": "stdout",
     "output_type": "stream",
     "text": [
      "generated beam\t\t Harry Potter, Voldemort, and Dumbledore walk into a bar. \"You said the stay to the sure than that he hadn't taken you've got to say they said the parchment. She was a green how much and pulled in the second leave a next to table in the cast been been the sa\n",
      "\n"
     ]
    },
    {
     "name": "stderr",
     "output_type": "stream",
     "text": [
      "100%|███████████████████████████████████████████████████████████████████████████████████████████████████████████████████████████████████████████████████████████████████████████████████████████████████████████████████████████████████████████████████████████████████████████████████████████████████████████████████████████████████████████████████| 194/194 [00:05<00:00, 32.38it/s]\n"
     ]
    },
    {
     "name": "stdout",
     "output_type": "stream",
     "text": [
      "Input\ta great sigh and leaned against the cavern wall. \"I am weak...\" he said. \"Don't worry, sir,\" said Har\n",
      "GT\t great sigh and leaned against the cavern wall. \"I am weak...\" he said. \"Don't worry, sir,\" said Harr\n",
      "pred\tnwreet dtgnttnd toased tnain.t the pase siahsk  \"I'ss sa r,..  se said  \"Ion't warky,\"Ion,\" said Harr\n",
      "\n",
      "\n",
      "Input\trossed the outer cave, and Harry helped Dumbledore back into the icy seawater that filled the crevice\n",
      "GT\tossed the outer cave, and Harry helped Dumbledore back into the icy seawater that filled the crevice \n",
      "pred\tews d toe ctr r,tare  snd terry saaped iumbledore teck tn o the sneestnt yed,aoat hinl d toe saaaine \n",
      "\n",
      "\n",
      "Input\tivering and dripping in the middle of the dark High Street in Hogsmeade. For one horrible moment Harr\n",
      "GT\tvering and dripping in the middle of the dark High Street in Hogsmeade. For one horrible moment Harry\n",
      "pred\tnedeng and sien eng an the soddle of the sork aash anaaetewn tagwmeaded \"or af  talroble torent,aarry\n",
      "\n",
      "\n",
      "Input\t help, but there was nobody to be seen and all he could think was that he must somehow get Dumbledore\n",
      "GT\thelp, but there was nobody to be seen and all he could think was that he must somehow get Dumbledore \n",
      "pred\twirp  sut the e was aowody so te sten tnd t l oi wouldnnhesg ahs shet te wist at etow trt tumbledore \n",
      "\n",
      "\n",
      "Input\tto - but what's wrong with Albus?' She came to a halt, panting, and stared down, wide-eyed, at Dumble\n",
      "GT\to - but what's wrong with Albus?' She came to a halt, panting, and stared down, wide-eyed, at Dumbled\n",
      "pred\te m tet that s ahotg tith tulus \" sie wose to t sovf. boriing  and ttartd iown  ahtendged  an tumbled\n",
      "\n",
      "\n",
      "\n",
      "Test set: Average loss: 1.4962, Perplexity: 1.0151, Accuracy: 696283/1228800 (57%)\n",
      "\n",
      "Saved /home/jefftian/Documents/21au/cse490g1/hw2content/checkpoints/006.pt\n",
      "\n",
      "generated max\t\t Harry Potter, Voldemort, and Dumbledore walk into a bar. \"I'm going to take the moment, he's not to take the point. They were that the pointed to the castle to the first table and straight and the particular last the straing and straing and the straight to \n",
      "generated sample\t Harry Potter, Voldemort, and Dumbledore walk into a bar. Charm was starting but at the eyes with a straing and straight and the little straining. \"So,\" said Harry, staring and the streen scared in a straing a streed to a green last and shook that the was st\n",
      "generated sample\t Harry Potter, Voldemort, and Dumbledore walk into a bar. Dumbledore to start at all right. He had seen that he was said. \"Why didn't be a little stay, what I just be a care a great those would be a brown remain's care a narrow many on the particular poor sh\n",
      "generated sample\t Harry Potter, Voldemort, and Dumbledore walk into a bar. And the pointed for the end of the end of the castle that he had stood to the castle and she whole quite listening him. \"Can't been a narround, what was still to the castle and the watch and says to t\n",
      "generated sample\t Harry Potter, Voldemort, and Dumbledore walk into a bar. But what was he asking and straing at him. Harry was and he was still still now seen that the place what the strong. He had said, \"but I didn't sure that was a few more my of them.\" \"There was now loo\n",
      "generated sample\t Harry Potter, Voldemort, and Dumbledore walk into a bar. \"You're door.....\" \"You seen the seconds of the sign of them....\" She grown was and suddenly wand wanted to the back to heard to be surre to the other was and the chair and bedwidered to be an around \n",
      "generated sample\t Harry Potter, Voldemort, and Dumbledore walk into a bar. \"And the can anyone, what down to the for the care and to Hogwarts, I'm so take the parently, but a straight of them. Harry stood more and person who was anyone even to taken at all to the Death Harry\n",
      "generated sample\t Harry Potter, Voldemort, and Dumbledore walk into a bar. \"There was anyone even what's that, they're going to take and would get in the staying to take the first taken, I says have to do with the Death Eater, then seemed to that was sticked the back of them\n",
      "generated sample\t Harry Potter, Voldemort, and Dumbledore walk into a bar. There was a straing stood on the stairs. \"Winky were was a bit another bust as though he has and to the last been and Ron was and looking at the wards for the back of the end of the parchment, he had \n",
      "generated sample\t Harry Potter, Voldemort, and Dumbledore walk into a bar. The were that he was and the was allong removed except to him. He said the remained work, which was standing attacked the back, that he was at the other so full of paring with the right beneath him. \"\n",
      "generated sample\t Harry Potter, Voldemort, and Dumbledore walk into a bar. Mrs. Weasley had looked single on to the corridor the school the sun who was stone, though the barked to have notes to anyone examing and in a human had not ter to a moment, then Harry strought to the\n"
     ]
    },
    {
     "name": "stderr",
     "output_type": "stream",
     "text": [
      "\r",
      "  0%|                                                                                                                                                                                                                                                                                                                                                             | 0/194 [00:00<?, ?it/s]"
     ]
    },
    {
     "name": "stdout",
     "output_type": "stream",
     "text": [
      "generated beam\t\t Harry Potter, Voldemort, and Dumbledore walk into a bar. \"I'm going to take the bag, I supposed to me to taken you've got to have been anyone, what too work, sticked in them. \"Well, I don't want to leave your might been your pretending to be table anyway...\n",
      "\n"
     ]
    },
    {
     "name": "stderr",
     "output_type": "stream",
     "text": [
      "100%|███████████████████████████████████████████████████████████████████████████████████████████████████████████████████████████████████████████████████████████████████████████████████████████████████████████████████████████████████████████████████████████████████████████████████████████████████████████████████████████████████████████████████| 194/194 [00:06<00:00, 31.12it/s]\n"
     ]
    },
    {
     "name": "stdout",
     "output_type": "stream",
     "text": [
      "Input\ta great sigh and leaned against the cavern wall. \"I am weak...\" he said. \"Don't worry, sir,\" said Har\n",
      "GT\t great sigh and leaned against the cavern wall. \"I am weak...\" he said. \"Don't worry, sir,\" said Harr\n",
      "pred\tnwreat atgnttnd teadid tnain.t the pase  iaisk  \"I sm sarr  .  \"e said  \"Ion'  warky \"ttr,\" said Harr\n",
      "\n",
      "\n",
      "Input\trossed the outer cave, and Harry helped Dumbledore back into the icy seawater that filled the crevice\n",
      "GT\tossed the outer cave, and Harry helped Dumbledore back into the icy seawater that filled the crevice \n",
      "pred\tews d the ctr r aare  tnd tarry saaded tumbledore aeck tn o the cne stet yer aoet tinted toe saeaena \n",
      "\n",
      "\n",
      "Input\tivering and dripping in the middle of the dark High Street in Hogsmeade. For one horrible moment Harr\n",
      "GT\tvering and dripping in the middle of the dark High Street in Hogsmeade. For one horrible moment Harry\n",
      "pred\tnedeng and teenpeng tn the soddle of the cork aash anuoet an tagsmeade  \"ir af  talrible torent aarry\n",
      "\n",
      "\n",
      "Input\t help, but there was nobody to be seen and all he could think was that he must somehow get Dumbledore\n",
      "GT\thelp, but there was nobody to be seen and all he could think was that he must somehow get Dumbledore \n",
      "pred\twirpe tut the e was aotody eo te aten tnd t l oi hauld bhesg ahs ahet te wust at e ow trt tumbledore \n",
      "\n",
      "\n",
      "Input\tto - but what's wrong with Albus?' She came to a halt, panting, and stared down, wide-eyed, at Dumble\n",
      "GT\to - but what's wrong with Albus?' She came to a halt, panting, and stared down, wide-eyed, at Dumbled\n",
      "pred\te m tet that s ahatg tith tnlus \" sne wase to t sanf  teriing  tnd ttare  aown  thte dred  tn tumbled\n",
      "\n",
      "\n",
      "\n",
      "Test set: Average loss: 1.4549, Perplexity: 1.0147, Accuracy: 715069/1228800 (58%)\n",
      "\n",
      "Saved /home/jefftian/Documents/21au/cse490g1/hw2content/checkpoints/007.pt\n",
      "\n",
      "generated max\t\t Harry Potter, Voldemort, and Dumbledore walk into a bar. \"I suppose to the part of the cast the part of the castle to the cast the part of the castle to the cast the back to the cast the back to the cast the back to the cast the back to the cast the back to\n",
      "generated sample\t Harry Potter, Voldemort, and Dumbledore walk into a bar. She was still and he was still taken that are and last to the be down the straight to his feet and breath the wall of the stair of the class staring and then a strug. \"I should have to the entrance, t\n",
      "generated sample\t Harry Potter, Voldemort, and Dumbledore walk into a bar. The time the heads of the before the back of the moment. \"You want to the Instrange and the room, her eyes what was very strange and the very murmuring stickened on the stairs. \"You know why they want\n",
      "generated sample\t Harry Potter, Voldemort, and Dumbledore walk into a bar. Kree table cried the marber to the chair window again, the said the felt strong. \"You were that I suppose to see the people casticks,\" said Harry from the least as still care at his eyes. \"What are yo\n",
      "generated sample\t Harry Potter, Voldemort, and Dumbledore walk into a bar. I think would have been more and the castle bellow the mark still table and the first to the prest of the floor beds of the other cast and straight to the castle and left the marks he could very strai\n",
      "generated sample\t Harry Potter, Voldemort, and Dumbledore walk into a bar. The was and the cast and bed and written to the tire there was and tapped and strain and the end on the exams that the people with the streeting the ears and behind the and street to the great and bec\n",
      "generated sample\t Harry Potter, Voldemort, and Dumbledore walk into a bar. He straight and the bed and stare the creatures and the treemer this presents and still and disappeared to the portrait and the time to the back to the bell at and the stairs, the straight at the serv\n",
      "generated sample\t Harry Potter, Voldemort, and Dumbledore walk into a bar. Dumbledore was and Hermione street to the read on the cast the bell and stare and legs had been a street as the paper a straight stare again. They straing hair and prepared and starent and leading in \n",
      "generated sample\t Harry Potter, Voldemort, and Dumbledore walk into a bar. She tailed to the bed and because the slight stared at those and looking at the air and the back to the Gryffindor table, and the street to talk to the bar of the room was and the creat back to the ma\n",
      "generated sample\t Harry Potter, Voldemort, and Dumbledore walk into a bar. He was still and the only to the street paint of the silent after the ceath back to the tear as the tree at the straing at the bust and straing and street rather and and was an in the first time at th\n",
      "generated sample\t Harry Potter, Voldemort, and Dumbledore walk into a bar. \"It is game and the made to dear in the mounts of the back on the and this portrait were now, two was a pier on the too point of the shake the parents and the last the power and the pers securtain. \"I\n"
     ]
    },
    {
     "name": "stderr",
     "output_type": "stream",
     "text": [
      "\r",
      "  0%|                                                                                                                                                                                                                                                                                                                                                             | 0/194 [00:00<?, ?it/s]"
     ]
    },
    {
     "name": "stdout",
     "output_type": "stream",
     "text": [
      "generated beam\t\t Harry Potter, Voldemort, and Dumbledore walk into a bar. \"I suppose to the part of them to the vast up and street to a street, the play and stared in the and the said in the ground the planning around the back to the marber and breath his face, there are an\n",
      "\n"
     ]
    },
    {
     "name": "stderr",
     "output_type": "stream",
     "text": [
      "100%|███████████████████████████████████████████████████████████████████████████████████████████████████████████████████████████████████████████████████████████████████████████████████████████████████████████████████████████████████████████████████████████████████████████████████████████████████████████████████████████████████████████████████| 194/194 [00:06<00:00, 30.01it/s]\n"
     ]
    },
    {
     "name": "stdout",
     "output_type": "stream",
     "text": [
      "Input\ta great sigh and leaned against the cavern wall. \"I am weak...\" he said. \"Don't worry, sir,\" said Har\n",
      "GT\t great sigh and leaned against the cavern wall. \"I am weak...\" he said. \"Don't worry, sir,\" said Harr\n",
      "pred\tnwreat aanntand soadid tnain.t the base  iaisk  \"I sm aa r  .  \"e said  \"Ion'  wauky  Ion,\" said Harr\n",
      "\n",
      "\n",
      "Input\trossed the outer cave, and Harry helped Dumbledore back into the icy seawater that filled the crevice\n",
      "GT\tossed the outer cave, and Harry helped Dumbledore back into the icy seawater that filled the crevice \n",
      "pred\tiws d the str r aase  bnd tarry saaded aumbledore aeck tn o the sne statayer aoan ainl d aoe saaaena \n",
      "\n",
      "\n",
      "Input\tivering and dripping in the middle of the dark High Street in Hogsmeade. For one horrible moment Harr\n",
      "GT\tvering and dripping in the middle of the dark High Street in Hogsmeade. For one horrible moment Harry\n",
      "pred\tnedeng and sienpeng an the soddle of the cork aash anuaat an aagsmeade  \"ir af  aawrible sorent aarry\n",
      "\n",
      "\n",
      "Input\t help, but there was nobody to be seen and all he could think was that he must somehow get Dumbledore\n",
      "GT\thelp, but there was nobody to be seen and all he could think was that he must somehow get Dumbledore \n",
      "pred\twirp  but the e was aotody eo te aten an  t l ai wauld baesg aas ahet ae wust at e ow trt aumbledore \n",
      "\n",
      "\n",
      "Input\tto - but what's wrong with Albus?' She came to a halt, panting, and stared down, wide-eyed, at Dumble\n",
      "GT\to - but what's wrong with Albus?' She came to a halt, panting, and stared down, wide-eyed, at Dumbled\n",
      "pred\te m\"tet that s ahitg wath aulus \" sne wane to t savf  beriing  and ttared aown  ahte dred  an tumbled\n",
      "\n",
      "\n",
      "\n",
      "Test set: Average loss: 1.4455, Perplexity: 1.0146, Accuracy: 717868/1228800 (58%)\n",
      "\n",
      "Saved /home/jefftian/Documents/21au/cse490g1/hw2content/checkpoints/008.pt\n",
      "\n",
      "generated max\t\t Harry Potter, Voldemort, and Dumbledore walk into a bar. \"I said a start of the castle and the stairs and stared and stared and stared and stared and started to the first time to the castle and stared at the stairs and started to the castle and started to t\n",
      "generated sample\t Harry Potter, Voldemort, and Dumbledore walk into a bar. \"I said Dumbledore seemed to the other sensive an odd the back of the air was and by the first time. He thought he was a start and the walk room, and a vanished and real on which the end of the ears a\n",
      "generated sample\t Harry Potter, Voldemort, and Dumbledore walk into a bar. He strolled and looked at the pain a straight all of the stairs. \"You know, no, no be anything every did not really in the scar was and parents to do with a began to be course are at all the many morn\n",
      "generated sample\t Harry Potter, Voldemort, and Dumbledore walk into a bar. \"Harry was all of the stairs and only because in the his point. \"What you want to the beat and a take an uneable to kid of the straing and the corridors, than a wand a small and rather around about th\n",
      "generated sample\t Harry Potter, Voldemort, and Dumbledore walk into a bar. \"Harry, you know, I don't want to take to me, he said I and did you were table to see the way people in the most ready and then planning as a bell and wand about the back on the expressing. \"She's a l\n",
      "generated sample\t Harry Potter, Voldemort, and Dumbledore walk into a bar. Hermione was a stared as though he had speaked to the stairs and the back to the walked around the pain and taken a last around again. They was and the last the cast at the said in the table staircase\n",
      "generated sample\t Harry Potter, Voldemort, and Dumbledore walk into a bar. \"You can the table and put in a bit of the scar and a morning and finished and the cast the end of the castle and he was and been anyway. He said a seemed to as the bell and stared and started and he \n",
      "generated sample\t Harry Potter, Voldemort, and Dumbledore walk into a bar. The just as a great and spell the dementor straight and break the really straight to became to each other disappeared to be a large bround and straing away from the table as the back of the way of the\n",
      "generated sample\t Harry Potter, Voldemort, and Dumbledore walk into a bar. \"I was all take a great a four brough the castle behind the castle of the entrance at the back on the straight and point and stare and still straight of the castle and a large branger and puning in a \n",
      "generated sample\t Harry Potter, Voldemort, and Dumbledore walk into a bar. \"You've got the wand as year it made a sure your are and into a second landed in a busy and wand back to come about the walk and remaining around and she was a start chain and a straight as straight t\n",
      "generated sample\t Harry Potter, Voldemort, and Dumbledore walk into a bar. Her was a fore the light up and once and believe the back of his bed and staring and pushed in a sharp breath the back and light started at the and disappeared and the door by the castle and in a from\n"
     ]
    },
    {
     "name": "stderr",
     "output_type": "stream",
     "text": [
      "\r",
      "  0%|                                                                                                                                                                                                                                                                                                                                                             | 0/194 [00:00<?, ?it/s]"
     ]
    },
    {
     "name": "stdout",
     "output_type": "stream",
     "text": [
      "generated beam\t\t Harry Potter, Voldemort, and Dumbledore walk into a bar. \"I said a start of the stay was are and the bags arm and said nothing an anyone was almost and stared and staring at the small and stared about to his cabin and said the castle table and started sligh\n",
      "\n"
     ]
    },
    {
     "name": "stderr",
     "output_type": "stream",
     "text": [
      "100%|███████████████████████████████████████████████████████████████████████████████████████████████████████████████████████████████████████████████████████████████████████████████████████████████████████████████████████████████████████████████████████████████████████████████████████████████████████████████████████████████████████████████████| 194/194 [00:06<00:00, 29.49it/s]\n"
     ]
    },
    {
     "name": "stdout",
     "output_type": "stream",
     "text": [
      "Input\ta great sigh and leaned against the cavern wall. \"I am weak...\" he said. \"Don't worry, sir,\" said Har\n",
      "GT\t great sigh and leaned against the cavern wall. \"I am weak...\" he said. \"Don't worry, sir,\" said Harr\n",
      "pred\tnwreat dtgntond soadid tnain.t the sase soaisks \"I sm sarrn\".  se said, \"Ion'  warky, Ior,\" said Harr\n",
      "\n",
      "\n",
      "Input\trossed the outer cave, and Harry helped Dumbledore back into the icy seawater that filled the crevice\n",
      "GT\tossed the outer cave, and Harry helped Dumbledore back into the icy seawater that filled the crevice \n",
      "pred\tiws d the strsr,aase  tnd tarry saaded humbledore aeck tnto the snn stetayer,aoan trnled the saoaena \n",
      "\n",
      "\n",
      "Input\tivering and dripping in the middle of the dark High Street in Hogsmeade. For one horrible moment Harr\n",
      "GT\tvering and dripping in the middle of the dark High Street in Hogsmeade. For one horrible moment Harry\n",
      "pred\tnedeng hnd seenpeng tn the saddle of the sorknwash anuoetean tagsmeade  \"rr afe oawroble serent,aarry\n",
      "\n",
      "\n",
      "Input\t help, but there was nobody to be seen and all he could think was that he must somehow get Dumbledore\n",
      "GT\thelp, but there was nobody to be seen and all he could think was that he must somehow get Dumbledore \n",
      "pred\twirp  tut the e was ao ody eo te aten tny t l tirhould bhesk ahs ahet te wust ht e ow trt tumbledore \n",
      "\n",
      "\n",
      "Input\tto - but what's wrong with Albus?' She came to a halt, panting, and stared down, wide-eyed, at Dumble\n",
      "GT\to - but what's wrong with Albus?' She came to a halt, panting, and stared down, wide-eyed, at Dumbled\n",
      "pred\te m-tet that s ahing.tith tllus \" sne sane to h sonf  heriing  hnd htared aown  ahteldred  wn tumbled\n",
      "\n",
      "\n",
      "\n",
      "Test set: Average loss: 1.4189, Perplexity: 1.0143, Accuracy: 722178/1228800 (59%)\n",
      "\n",
      "Saved /home/jefftian/Documents/21au/cse490g1/hw2content/checkpoints/009.pt\n",
      "\n",
      "generated max\t\t Harry Potter, Voldemort, and Dumbledore walk into a bar. \"I suppose to the castle the stays how to the castle the stairs and was a bust as the stairs and started to the castle the stairs. \"I'm sure you were all the stay were all of the stays how to the cast\n",
      "generated sample\t Harry Potter, Voldemort, and Dumbledore walk into a bar. \"I've got to be taken your staying to know what they've got to do you window, do you are can't seen the Dursleys hair, you what was a house extrance was a crash in the way of the castle rather to a gr\n",
      "generated sample\t Harry Potter, Voldemort, and Dumbledore walk into a bar. Harry started to be a street glass and start out of the part the girl winning. \"And I don' want to get him anyone, one of the end of the menty of the made the stay worry as the world disappons, who wa\n",
      "generated sample\t Harry Potter, Voldemort, and Dumbledore walk into a bar. She that Harry was stuffed to the door. \"Well, it's staying in a strange, so that have a good like the stay been and wand and believed the back to have a should, and the straight care at the streets a\n",
      "generated sample\t Harry Potter, Voldemort, and Dumbledore walk into a bar. Hermione looked added and form the crashing the empty sensation, and Mrs. Weasleys had been the staff to heart behind him for the end of the parchment. \"Whine,\" said Harry, then the middle of the stai\n",
      "generated sample\t Harry Potter, Voldemort, and Dumbledore walk into a bar. \"As the two rest on the Ministry's shaking around and down the castle the spect of the street in a momentary to start as the one them. They had to showed the portrait had been and much been and her be\n",
      "generated sample\t Harry Potter, Voldemort, and Dumbledore walk into a bar. \"The door and we cannon' want to really the true, they're all right, gave him anyone was a golor on anyone else that says he was anyone many of the end of the castle to a brough the ways that more lik\n",
      "generated sample\t Harry Potter, Voldemort, and Dumbledore walk into a bar. \"I've got to do you're can't stay, I don't want the one work, don't care ear the Death Eaters.\" \"But we says have not to the way of the shoulder advanced to a part to the being else has anyone line st\n",
      "generated sample\t Harry Potter, Voldemort, and Dumbledore walk into a bar. \"You're not like the morning... how would be know what have to the says he was a finish has been a house was cares and into a window. \"As the Infidening, but you know, when he saw that's got a bell an\n",
      "generated sample\t Harry Potter, Voldemort, and Dumbledore walk into a bar. \"Yes, I don' you mean, you are your mention, I seen anyone was about to be still and dear, in a morning, were no much to have to do sorry, he stranged. They wanted to controlled to be supposed to the \n",
      "generated sample\t Harry Potter, Voldemort, and Dumbledore walk into a bar. Harry still stood and the barned to come round the crowd in a deeply from bedroom, the sers and the other sidents flown and still as the slight that it's onky shouldn't know, leaning behind anyone els\n"
     ]
    },
    {
     "name": "stderr",
     "output_type": "stream",
     "text": [
      "\r",
      "  0%|                                                                                                                                                                                                                                                                                                                                                             | 0/194 [00:00<?, ?it/s]"
     ]
    },
    {
     "name": "stdout",
     "output_type": "stream",
     "text": [
      "generated beam\t\t Harry Potter, Voldemort, and Dumbledore walk into a bar. \"I suppose to the castle in the first time, I have taken them supposed a trunk and the only one has anyone can the straining to listen the moment and down the Death Eaters and was ears and disappointi\n",
      "\n"
     ]
    },
    {
     "name": "stderr",
     "output_type": "stream",
     "text": [
      "100%|███████████████████████████████████████████████████████████████████████████████████████████████████████████████████████████████████████████████████████████████████████████████████████████████████████████████████████████████████████████████████████████████████████████████████████████████████████████████████████████████████████████████████| 194/194 [00:05<00:00, 33.34it/s]\n"
     ]
    },
    {
     "name": "stdout",
     "output_type": "stream",
     "text": [
      "Input\ta great sigh and leaned against the cavern wall. \"I am weak...\" he said. \"Don't worry, sir,\" said Har\n",
      "GT\t great sigh and leaned against the cavern wall. \"I am weak...\" he said. \"Don't worry, sir,\" said Harr\n",
      "pred\tnlreat sadhtond soadid tnain.t the sase  iaisk  \"I sm sa rn\".  \"e said  \"Ion'  warky  Ior,  said Harr\n",
      "\n",
      "\n",
      "Input\trossed the outer cave, and Harry helped Dumbledore back into the icy seawater that filled the crevice\n",
      "GT\tossed the outer cave, and Harry helped Dumbledore back into the icy seawater that filled the crevice \n",
      "pred\tiws d the stt r aase  tnd terry saaded tumbledore aeck tn o the snp stetayer aoan tinl d the saoaena \n",
      "\n",
      "\n",
      "Input\tivering and dripping in the middle of the dark High Street in Hogsmeade. For one horrible moment Harr\n",
      "GT\tvering and dripping in the middle of the dark High Street in Hogsmeade. For one horrible moment Harry\n",
      "pred\tnedeng and sienpeng tn the soddle of the sork aash anuoet an tagsmeade  \"rr afe oawroble serent aarry\n",
      "\n",
      "\n",
      "Input\t help, but there was nobody to be seen and all he could think was that he must somehow get Dumbledore\n",
      "GT\thelp, but there was nobody to be seen and all he could think was that he must somehow get Dumbledore \n",
      "pred\twirp  tut the e was ao ody eo te aeen a y t l ti hould bhesk aes ahet te hust bt e ow trt tumbledore \n",
      "\n",
      "\n",
      "Input\tto - but what's wrong with Albus?' She came to a halt, panting, and stared down, wide-eyed, at Dumble\n",
      "GT\to - but what's wrong with Albus?' She came to a halt, panting, and stared down, wide-eyed, at Dumbled\n",
      "pred\te m tet that s ahitg tith tllus \" sne sane th h sonf  heriing  hnd htartd aown  ahteldred  an tumbled\n",
      "\n",
      "\n",
      "\n",
      "Test set: Average loss: 1.3966, Perplexity: 1.0141, Accuracy: 732194/1228800 (60%)\n",
      "\n",
      "Saved /home/jefftian/Documents/21au/cse490g1/hw2content/checkpoints/010.pt\n",
      "\n",
      "generated max\t\t Harry Potter, Voldemort, and Dumbledore walk into a bar. \"I said the stay were all of the stay were all of the stay were all of the stairs and started to the stairs and started to the stairs and started to the stairs and started to the stairs and started to\n",
      "generated sample\t Harry Potter, Voldemort, and Dumbledore walk into a bar. \"You don't we all right anyone like that is the castle and pointing a part curtain and better suit down and the purple of the first time of the castle to be staring at him and left the first time with\n",
      "generated sample\t Harry Potter, Voldemort, and Dumbledore walk into a bar. The time of the deep looked at the stairs at the stood person with a start of the stairs around the staff red and a disage staircase he had stared and started at him and changing so long so face of th\n",
      "generated sample\t Harry Potter, Voldemort, and Dumbledore walk into a bar. \"Kease you told the morning, which was going to be anyone else with a start of the stairs and up, they were not to last the lit some and to start to his and fell out the closer. Harry was staring and \n",
      "generated sample\t Harry Potter, Voldemort, and Dumbledore walk into a bar. And the those whole of the sat down and because he had to be the other the post of the moment distantly as the stairs at the stain and a little was arrived and stare and in a part of the crowd back to\n",
      "generated sample\t Harry Potter, Voldemort, and Dumbledore walk into a bar. \"Is that I don' say this my my good to be a table to the very shouldn't be all only a little to the Sirius and says he said, and the table and small of the stairs and seemed to his wand and leaving th\n",
      "generated sample\t Harry Potter, Voldemort, and Dumbledore walk into a bar. But the answer and starting a point his back on the portrait and scurried to find it had been a few of the strange last sense that the cloak white he said as he had distant to the walk and left the ba\n",
      "generated sample\t Harry Potter, Voldemort, and Dumbledore walk into a bar. \"I didn't have been anything a need to be seen me, in a cast a morning with me, that you world making an are you are anyone we can the middle of the way to the even to take on the look of you have bee\n",
      "generated sample\t Harry Potter, Voldemort, and Dumbledore walk into a bar. \"I do,\" said Hermione, which was still still along and clear the sack on the sun shoulder and stared at the stairs and was a standing at the students of the class of the party closed and she was packi\n",
      "generated sample\t Harry Potter, Voldemort, and Dumbledore walk into a bar. It's very did not seem to do it in the same to detementors and he was a very distrance in the seat of the corridor. You can be sure he had never me the wand and legs and were was staring as the light \n",
      "generated sample\t Harry Potter, Voldemort, and Dumbledore walk into a bar. Harry saw the stairs, but very came and determing the air and stuck behind the stairs and was the only towards the very strange and disappeared the crowd, which seemed to his and speaking on a strange\n"
     ]
    },
    {
     "name": "stderr",
     "output_type": "stream",
     "text": [
      "\r",
      "  0%|                                                                                                                                                                                                                                                                                                                                                             | 0/194 [00:00<?, ?it/s]"
     ]
    },
    {
     "name": "stdout",
     "output_type": "stream",
     "text": [
      "generated beam\t\t Harry Potter, Voldemort, and Dumbledore walk into a bar. \"I said the stay were and few in a last been a bit of the emper of the words of because the crowd of the school and disgustanced to the standing around the stairs around and head into the stairs, and \n",
      "\n"
     ]
    },
    {
     "name": "stderr",
     "output_type": "stream",
     "text": [
      "100%|███████████████████████████████████████████████████████████████████████████████████████████████████████████████████████████████████████████████████████████████████████████████████████████████████████████████████████████████████████████████████████████████████████████████████████████████████████████████████████████████████████████████████| 194/194 [00:07<00:00, 25.74it/s]\n"
     ]
    },
    {
     "name": "stdout",
     "output_type": "stream",
     "text": [
      "Input\ta great sigh and leaned against the cavern wall. \"I am weak...\" he said. \"Don't worry, sir,\" said Har\n",
      "GT\t great sigh and leaned against the cavern wall. \"I am weak...\" he said. \"Don't worry, sir,\" said Harr\n",
      "pred\tnlreat sadntond soadid tnain.t the sasenneaisk  \"I'sm sarrn\".  \"e said, \"Ion't warky, Ior,\" said Harr\n",
      "\n",
      "\n",
      "Input\trossed the outer cave, and Harry helped Dumbledore back into the icy seawater that filled the crevice\n",
      "GT\tossed the outer cave, and Harry helped Dumbledore back into the icy seawater that filled the crevice \n",
      "pred\tiws d the snr r tasen tnd tarry saaded tumbledore aeck tnto the snn waatayer,aoan trnl d the saoaena \n",
      "\n",
      "\n",
      "Input\tivering and dripping in the middle of the dark High Street in Hogsmeade. For one horrible moment Harr\n",
      "GT\tvering and dripping in the middle of the dark High Street in Hogsmeade. For one horrible moment Harry\n",
      "pred\tnedeng and seenpeng tn the saddle of the sorknaashtanuaeteanttagsmeade  \"rr ane oawroble sarent,aarry\n",
      "\n",
      "\n",
      "Input\t help, but there was nobody to be seen and all he could think was that he must somehow get Dumbledore\n",
      "GT\thelp, but there was nobody to be seen and all he could think was that he must somehow get Dumbledore \n",
      "pred\twirpe tut the e was ao ody wo te seen tny t l aerwould bhenk aes ahet te wast atme ow trt tumbledore \n",
      "\n",
      "\n",
      "Input\tto - but what's wrong with Albus?' She came to a halt, panting, and stared down, wide-eyed, at Dumble\n",
      "GT\to - but what's wrong with Albus?' She came to a halt, panting, and stared down, wide-eyed, at Dumbled\n",
      "pred\te m-tet that s ahitg.tith tnlus \" sne sane th h sonf  hariing  tnd taartd aown  ahteldned. an tumbled\n",
      "\n",
      "\n",
      "\n",
      "Test set: Average loss: 1.4040, Perplexity: 1.0141, Accuracy: 724208/1228800 (59%)\n",
      "\n",
      "generated max\t\t Harry Potter, Voldemort, and Dumbledore walk into a bar. \"I'm sure you were all all the says had been a table and the stairs, the stairs and said, \"I'm sure you were all all the says had been a table and the stairs, the stairs and said, \"I'm sure you were a\n",
      "generated sample\t Harry Potter, Voldemort, and Dumbledore walk into a bar. The marknostain and green staring at the said to the and a cried white a snake the commentain, the only that was the corridor, and he also did not and want to the plays from the dementors. \"Come sound\n",
      "generated sample\t Harry Potter, Voldemort, and Dumbledore walk into a bar. The door with the broom window, who was a shaking that she was a turned into a deep bround. \"Harry's staying around the same on the cein's and attacked, he might could the ground, in a sevently as the\n",
      "generated sample\t Harry Potter, Voldemort, and Dumbledore walk into a bar. Ron and was staring at the back onto his arm and distantly and a small and that Harry could see the start of into the air, the care entrance at them. \"I've been a little care the stage of the ground, \n",
      "generated sample\t Harry Potter, Voldemort, and Dumbledore walk into a bar. grown up at the door. \"That's all anyway... you'd been down to have to the time the office one the time me, nor getting in the way with the only morning.... he had been now been into the door and parc\n",
      "generated sample\t Harry Potter, Voldemort, and Dumbledore walk into a bar. \"He's there was a busy planning and didn't do it, they'd been a good behind the began to disappon robes. The protection that had almost as though he was hair, the only at the end of the stairs and dee\n",
      "generated sample\t Harry Potter, Voldemort, and Dumbledore walk into a bar. \"I'm supposed to be seement, they're not to say.\" \"How, down,\" said Harry, looking around the back to be and branked like a little belongs, Harry and didn't have been said, \"I should yeh told me the i\n",
      "generated sample\t Harry Potter, Voldemort, and Dumbledore walk into a bar. Her windows and looked at the crouched in the dementors and them was a few mystering around the crowd out of the first time and that stared at the stairs had so asked the straight beneath that the fir\n",
      "generated sample\t Harry Potter, Voldemort, and Dumbledore walk into a bar. Bellatrial desmertainly, but the beneath was all saw the horse, which seemed to be getting up a hundred at the parchment, they were all on the stairs. \"I supposed to be come the only one a bit of that\n",
      "generated sample\t Harry Potter, Voldemort, and Dumbledore walk into a bar. Harry had seen and wondering with the brank. \"They're all a bit of the morning with scared of the born and was the attacked the scar on the says that he would your wants and been anyone to do your bac\n",
      "generated sample\t Harry Potter, Voldemort, and Dumbledore walk into a bar. Harry had stared, one a few of the knows that the stairs, a silver on the staff that the parchment. \"On the says that was a good nor because the serventain. The follow the students... If he's already \n"
     ]
    },
    {
     "name": "stderr",
     "output_type": "stream",
     "text": [
      "\r",
      "  0%|                                                                                                                                                                                                                                                                                                                                                             | 0/194 [00:00<?, ?it/s]"
     ]
    },
    {
     "name": "stdout",
     "output_type": "stream",
     "text": [
      "generated beam\t\t Harry Potter, Voldemort, and Dumbledore walk into a bar. \"I'm sure you were all the spend of the says how the light because he had been a standing to the cast the Ministry's signal stairs. The scar whole staring careful that he wasn't head, her and bent to \n",
      "\n"
     ]
    },
    {
     "name": "stderr",
     "output_type": "stream",
     "text": [
      "100%|███████████████████████████████████████████████████████████████████████████████████████████████████████████████████████████████████████████████████████████████████████████████████████████████████████████████████████████████████████████████████████████████████████████████████████████████████████████████████████████████████████████████████| 194/194 [00:06<00:00, 31.18it/s]\n"
     ]
    },
    {
     "name": "stdout",
     "output_type": "stream",
     "text": [
      "Input\ta great sigh and leaned against the cavern wall. \"I am weak...\" he said. \"Don't worry, sir,\" said Har\n",
      "GT\t great sigh and leaned against the cavern wall. \"I am weak...\" he said. \"Don't worry, sir,\" said Harr\n",
      "pred\tnlreat shgntond soadid tnain.t the sasernaaisks \"I'sm serrn\".  \"e said, \"Ion'  warky,\"Ior,\" said Harr\n",
      "\n",
      "\n",
      "Input\trossed the outer cave, and Harry helped Dumbledore back into the icy seawater that filled the crevice\n",
      "GT\tossed the outer cave, and Harry helped Dumbledore back into the icy seawater that filled the crevice \n",
      "pred\tiws d the strsr,aaser tnd tarry aaaded tumbledore aeck tnto the sne wartayer,ahan tonled the saoaine.\n",
      "\n",
      "\n",
      "Input\tivering and dripping in the middle of the dark High Street in Hogsmeade. For one horrible moment Harr\n",
      "GT\tvering and dripping in the middle of the dark High Street in Hogsmeade. For one horrible moment Harry\n",
      "pred\tneding and soenpeng tn the saddle of the sorknaash anuoethwn tagsmeade  \"or afe wauroble sarent,aarry\n",
      "\n",
      "\n",
      "Input\t help, but there was nobody to be seen and all he could think was that he must somehow get Dumbledore\n",
      "GT\thelp, but there was nobody to be seen and all he could think was that he must somehow get Dumbledore \n",
      "pred\twirpe tut the e was ao ody wo se seen t y t l terhould bhenk aes ahet te hast aemewow trt aumbledore.\n",
      "\n",
      "\n",
      "Input\tto - but what's wrong with Albus?' She came to a halt, panting, and stared down, wide-eyed, at Dumble\n",
      "GT\to - but what's wrong with Albus?' She came to a halt, panting, and stared down, wide-eyed, at Dumbled\n",
      "pred\te m-tut that s ahitg,tith tnlus \" sne sase th t sonf  hasiing  tnd taartd aown  ahteldned. an tumbled\n",
      "\n",
      "\n",
      "\n",
      "Test set: Average loss: 1.3913, Perplexity: 1.0140, Accuracy: 728010/1228800 (59%)\n",
      "\n",
      "generated max\t\t Harry Potter, Voldemort, and Dumbledore walk into a bar. \"I said the stairs, then you were all the stairs, then you were all anyone what they were all of the same to the other someone who was a book of the stairs, then anyone were all of the stairs, then an\n",
      "generated sample\t Harry Potter, Voldemort, and Dumbledore walk into a bar. \"You're that the glass are you were nothing to think of someone would got to be a crue, and the grounds... well, and then I said but the half distant to do him to be something to do with the table. \"W\n",
      "generated sample\t Harry Potter, Voldemort, and Dumbledore walk into a bar. 'I'll be sending in the party.\" \"There were all have been parting to stupent... the unitcast, Neville's good listening out of the torme... I think so were there forgotten. I'm not been the light that \n",
      "generated sample\t Harry Potter, Voldemort, and Dumbledore walk into a bar. Quidditch teams as though the centain. \"Why don't that's a tiny stay,\" said Harry. \"But their tempers and then listening the man start,\" said Harry, then back, they had been said, in a sort of the sun\n",
      "generated sample\t Harry Potter, Voldemort, and Dumbledore walk into a bar. \"I suppose that the aren't we don' what they're meant that's our by the Dark Laturdays and were both that she was talking to the light....\" \"I suppose down the stampses.\" \"And you're going to be seen \n",
      "generated sample\t Harry Potter, Voldemort, and Dumbledore walk into a bar. \"What's there was a nair of death of the Death Eater's teacher, then about the door. It was she had to see Malfoy's hand appointed to a stand from the stairs. There was an approaching at the morning. \n",
      "generated sample\t Harry Potter, Voldemort, and Dumbledore walk into a bar. And with a though the Harry saw that the Hogsmeade the end of the stairs. \"Good, I'd bettle doing him anything a man and they saying. There was a bust of the entrance had been a brought year, that tha\n",
      "generated sample\t Harry Potter, Voldemort, and Dumbledore walk into a bar. She was a little ground, and her chairs and caught in the first that the staircase somework and the stairs. \"Were all youngs,\" said Harry, staring at him and back at the including her back with his pa\n",
      "generated sample\t Harry Potter, Voldemort, and Dumbledore walk into a bar. Luna and Harry and Ron started to head so and walked along the ears a good the watch and the table and lined the same when the legs and was a sound of sight of them. \"There's a next to the match of th\n",
      "generated sample\t Harry Potter, Voldemort, and Dumbledore walk into a bar. \"Is suppose the stay was a cauldron, Harry, he said, in a looking sound of desering as they salanced her table. \"Look, you were there's a talk anything... I do it was a matter of the cast the stairs, \n",
      "generated sample\t Harry Potter, Voldemort, and Dumbledore walk into a bar. \"You've been seen a long someone sun a great completely as the lessons and sounds of death. Then all the says how made the bust as should be there were along the room, a lot of the crouched in her. \"Y\n"
     ]
    },
    {
     "name": "stderr",
     "output_type": "stream",
     "text": [
      "\r",
      "  0%|                                                                                                                                                                                                                                                                                                                                                             | 0/194 [00:00<?, ?it/s]"
     ]
    },
    {
     "name": "stdout",
     "output_type": "stream",
     "text": [
      "generated beam\t\t Harry Potter, Voldemort, and Dumbledore walk into a bar. The things and said, the boys and came to the ground, and bound with the surpering a few of the corridor. \"Hermione, I say, I have me, to see you've got to mean, then, then... In the end of the table \n",
      "\n"
     ]
    },
    {
     "name": "stderr",
     "output_type": "stream",
     "text": [
      "100%|███████████████████████████████████████████████████████████████████████████████████████████████████████████████████████████████████████████████████████████████████████████████████████████████████████████████████████████████████████████████████████████████████████████████████████████████████████████████████████████████████████████████████| 194/194 [00:06<00:00, 31.79it/s]\n"
     ]
    },
    {
     "name": "stdout",
     "output_type": "stream",
     "text": [
      "Input\ta great sigh and leaned against the cavern wall. \"I am weak...\" he said. \"Don't worry, sir,\" said Har\n",
      "GT\t great sigh and leaned against the cavern wall. \"I am weak...\" he said. \"Don't worry, sir,\" said Harr\n",
      "pred\tnsreat shdhtond soadid tnain.t the sose  aaisks \"I'sm serrn\".  \"e said  \"Ion'  sarry  Ior,\" said Harr\n",
      "\n",
      "\n",
      "Input\trossed the outer cave, and Harry helped Dumbledore back into the icy seawater that filled the crevice\n",
      "GT\tossed the outer cave, and Harry helped Dumbledore back into the icy seawater that filled the crevice \n",
      "pred\tiws d the str r aose  and tarry saaded tumbledore aeck tnto the sne lactayer aoan trrled the sooaena \n",
      "\n",
      "\n",
      "Input\tivering and dripping in the middle of the dark High Street in Hogsmeade. For one horrible moment Harr\n",
      "GT\tvering and dripping in the middle of the dark High Street in Hogsmeade. For one horrible moment Harry\n",
      "pred\tneding atd seenpeng tn the saddle of the sorknaash anueetewn tagsmeade  \"or ane sawroble sarent,aarry\n",
      "\n",
      "\n",
      "Input\t help, but there was nobody to be seen and all he could think was that he must somehow get Dumbledore\n",
      "GT\thelp, but there was nobody to be seen and all he could think was that he must somehow get Dumbledore \n",
      "pred\tnirp  tut the e was ao ody eo se seen a y t l airhould bhenk aes ahet te hist ht e ow trt aumbledore \n",
      "\n",
      "\n",
      "Input\tto - but what's wrong with Albus?' She came to a halt, panting, and stared down, wide-eyed, at Dumble\n",
      "GT\to - but what's wrong with Albus?' She came to a halt, panting, and stared down, wide-eyed, at Dumbled\n",
      "pred\te y-tut that s ahitg tith tnlus \" sne sose th h sonf  hesiing  tnd ttartd aown  ahtendned  an tumbled\n",
      "\n",
      "\n",
      "\n",
      "Test set: Average loss: 1.3716, Perplexity: 1.0138, Accuracy: 736568/1228800 (60%)\n",
      "\n",
      "Saved /home/jefftian/Documents/21au/cse490g1/hw2content/checkpoints/013.pt\n",
      "\n",
      "generated max\t\t Harry Potter, Voldemort, and Dumbledore walk into a bar. \"I said the stay were all of the stairs, the stairs and saying the staff table and said the stairs and started to the stairs and started to the stairs and started to the stairs and started to the stai\n",
      "generated sample\t Harry Potter, Voldemort, and Dumbledore walk into a bar. Fred and Mr. Weasley had been to be seen to be her windows to be singing the was staff to be and ready in the sat down at the side of the same of the crowd bellow the staff table and down the stone he\n",
      "generated sample\t Harry Potter, Voldemort, and Dumbledore walk into a bar. Harry remained his head in a staff head on the sat distanting to leave his chair and the scare sunlight of the front of the stairs. \"I've mean, the side of the croums are all a brank and that believe \n",
      "generated sample\t Harry Potter, Voldemort, and Dumbledore walk into a bar. \"I knew that you're nothing about the old of the marker for the handson was a boy the blood to be all the staff were standing the state and leading the part of them, and spells as they around the pain\n",
      "generated sample\t Harry Potter, Voldemort, and Dumbledore walk into a bar. Harry sat down at the students of his hand and pulled out of his feet when he said the tip of the first that Harry's wand and he could be reading the part of the back of the castle. Hermione was aroun\n",
      "generated sample\t Harry Potter, Voldemort, and Dumbledore walk into a bar. \"Oh, I've not seen a near what we can your believe your seen attacked in the castle. \"What and you were all you're the proud and well, of coming along a normal window. He was staring at the back of th\n",
      "generated sample\t Harry Potter, Voldemort, and Dumbledore walk into a bar. and headed satisfigurating and she staring at the side of the table. \"I was a trunk and saying your says and the sound of the mount. Well, I don't want to so that the correcting to come and want to fi\n",
      "generated sample\t Harry Potter, Voldemort, and Dumbledore walk into a bar. He had not said in a sunch of chain. \"How the same than a bin of the corridor was a broom and starting to the match, and Glank and they saw that he had been and a sudden a delight. \"I made the school \n",
      "generated sample\t Harry Potter, Voldemort, and Dumbledore walk into a bar. \"That's all right, Harry's and minutes. I have to been the scare agong to the first the scar hour wants and saying the Deir of the matter than anyone was a tenta and stand to see the most party. \"No, \n",
      "generated sample\t Harry Potter, Voldemort, and Dumbledore walk into a bar. Wood that the stone and slightly that the boys and the room, and leaning the sight of the cast the corridor window, the stairs linger side of the stairs at the school of the same. \"You can't see her m\n",
      "generated sample\t Harry Potter, Voldemort, and Dumbledore walk into a bar. \"Mad you think we're not to say anyone were about the school that in the cast that he was a bit of a moment, the exact of the sungrate high mead and the cloak, the summer, lined with the mountains of \n"
     ]
    },
    {
     "name": "stderr",
     "output_type": "stream",
     "text": [
      "\r",
      "  0%|                                                                                                                                                                                                                                                                                                                                                             | 0/194 [00:00<?, ?it/s]"
     ]
    },
    {
     "name": "stdout",
     "output_type": "stream",
     "text": [
      "generated beam\t\t Harry Potter, Voldemort, and Dumbledore walk into a bar. \"I said the stay were all on the first time, so that Harry was no some on the scrattening of the sat shut up, the door of the back of the bolth of the and the corridor to his back to the scar than and\n",
      "\n"
     ]
    },
    {
     "name": "stderr",
     "output_type": "stream",
     "text": [
      "100%|███████████████████████████████████████████████████████████████████████████████████████████████████████████████████████████████████████████████████████████████████████████████████████████████████████████████████████████████████████████████████████████████████████████████████████████████████████████████████████████████████████████████████| 194/194 [00:06<00:00, 27.92it/s]\n"
     ]
    },
    {
     "name": "stdout",
     "output_type": "stream",
     "text": [
      "Input\ta great sigh and leaned against the cavern wall. \"I am weak...\" he said. \"Don't worry, sir,\" said Har\n",
      "GT\t great sigh and leaned against the cavern wall. \"I am weak...\" he said. \"Don't worry, sir,\" said Harr\n",
      "pred\tnlreat shdntond seadid tnain.t the soser aaasks \"I'sm aerrn\".  \"e said, \"Ion't sarry,\"Ior,\" said Harr\n",
      "\n",
      "\n",
      "Input\trossed the outer cave, and Harry helped Dumbledore back into the icy seawater that filled the crevice\n",
      "GT\tossed the outer cave, and Harry helped Dumbledore back into the icy seawater that filled the crevice \n",
      "pred\tiws d the stthr,aoser and tarry saaded tumbledore aeck tnto the sne ltatayer,ohan torled the sooaena.\n",
      "\n",
      "\n",
      "Input\tivering and dripping in the middle of the dark High Street in Hogsmeade. For one horrible moment Harr\n",
      "GT\tvering and dripping in the middle of the dark High Street in Hogsmeade. For one horrible moment Harry\n",
      "pred\tneding and seenpeng tn the soddle of the sorknaashtanuuatewnttagsmeade  \"or ane oawroble sarent,tarry\n",
      "\n",
      "\n",
      "Input\t help, but there was nobody to be seen and all he could think was that he must somehow get Dumbledore\n",
      "GT\thelp, but there was nobody to be seen and all he could think was that he must somehow get Dumbledore \n",
      "pred\tnirp  tut the e was aotody eo se seen any t l tirhould bhenk aes ahet te hist ht eoow trtttumbledore.\n",
      "\n",
      "\n",
      "Input\tto - but what's wrong with Albus?' She came to a halt, panting, and stared down, wide-eyed, at Dumble\n",
      "GT\to - but what's wrong with Albus?' She came to a halt, panting, and stared down, wide-eyed, at Dumbled\n",
      "pred\te y-tut that s ahitg,tith tnlus \" sne sose th h sonf  hasiing  tnd ttartd aown  ahtendned  an tumbled\n",
      "\n",
      "\n",
      "\n",
      "Test set: Average loss: 1.3767, Perplexity: 1.0139, Accuracy: 731512/1228800 (60%)\n",
      "\n",
      "generated max\t\t Harry Potter, Voldemort, and Dumbledore walk into a bar. \"I'm sure your staying to be a sure your scared and the statue to the corridor, then she said, \"I'm not to say, you're going to be a sure your scared and the statue to the corridor. They were all the \n",
      "generated sample\t Harry Potter, Voldemort, and Dumbledore walk into a bar. There was a long, staring at Harry's old suckered and her than could have been a side of the seats of the cast the first that Hagrid and Harry were couldn't see me, and they could be so that were and \n",
      "generated sample\t Harry Potter, Voldemort, and Dumbledore walk into a bar. \"But I should be a from a lying?\" \"I said what I was a sure you saying.\" \"You were saying,\" said Harry, staring at the stairs and staring at the brown stairs, \"nothing understand, to see the corridors\n",
      "generated sample\t Harry Potter, Voldemort, and Dumbledore walk into a bar. \"What's a letter of the knees,\" said Harry, thinking on the black of the forward to do the crowd as the bartled. \"What do you to get the from the corridor,\" Harry said the crowd from the silent, he sa\n",
      "generated sample\t Harry Potter, Voldemort, and Dumbledore walk into a bar. ... and they had been putting to his ceat, the light start of the sunperating path of the snappenings and saw and said, though there was a subject of the suggest that was a great shadow, with his wand\n",
      "generated sample\t Harry Potter, Voldemort, and Dumbledore walk into a bar. Ernie to taken the same to the head and said on the stairs. \"No, they got to be come animal, I suppose to will you'll be sliding a better someone with the Defense and I am and they've got to see the b\n",
      "generated sample\t Harry Potter, Voldemort, and Dumbledore walk into a bar. \"What I don't think you'd been a death of a few here of the dead,\" said Hagrid, the ground, one of the feet, said Harry and Hermione said the side of the brade and staring the end of the crowd. \"I'm n\n",
      "generated sample\t Harry Potter, Voldemort, and Dumbledore walk into a bar. \"Our doesn't he's a later, they're said,\" said Harry, standing his hand said, was she said, \"and Snape said the stain was a survery of the shakened back to the little little that it speaded and stuff \n",
      "generated sample\t Harry Potter, Voldemort, and Dumbledore walk into a bar. \"But did there was a night,\" said Harry pulled. \"Harry asked them as though he had think so that of the Death Eaters, and I think that anyone would be all anyway, and well, Harry,\" said Harry and the \n",
      "generated sample\t Harry Potter, Voldemort, and Dumbledore walk into a bar. When they had cleared and saying them. \"What was a little to check the comminutes before they'd want to staying to the cournament....\" \"Well, they're said the stay feet another in the library of the m\n",
      "generated sample\t Harry Potter, Voldemort, and Dumbledore walk into a bar. \"You know, then?\" said Harry, remaining the staring at the stadiumpatiently. \"You're and saying in the him to be coming this wand,\" said Harry, and sure he had sunkened. \"I supposed the state, took a \n"
     ]
    },
    {
     "name": "stderr",
     "output_type": "stream",
     "text": [
      "\r",
      "  0%|                                                                                                                                                                                                                                                                                                                                                             | 0/194 [00:00<?, ?it/s]"
     ]
    },
    {
     "name": "stdout",
     "output_type": "stream",
     "text": [
      "generated beam\t\t Harry Potter, Voldemort, and Dumbledore walk into a bar. \"I'm sure your staying to leave him to the Triwizard was a good find out of the old belongs,\" said Ron. \"I'm getting themselves, when you can't see him an anywhere anyway, they're bother that you're t\n",
      "\n"
     ]
    },
    {
     "name": "stderr",
     "output_type": "stream",
     "text": [
      "100%|███████████████████████████████████████████████████████████████████████████████████████████████████████████████████████████████████████████████████████████████████████████████████████████████████████████████████████████████████████████████████████████████████████████████████████████████████████████████████████████████████████████████████| 194/194 [00:06<00:00, 29.54it/s]\n"
     ]
    },
    {
     "name": "stdout",
     "output_type": "stream",
     "text": [
      "Input\ta great sigh and leaned against the cavern wall. \"I am weak...\" he said. \"Don't worry, sir,\" said Har\n",
      "GT\t great sigh and leaned against the cavern wall. \"I am weak...\" he said. \"Don't worry, sir,\" said Harr\n",
      "pred\tnlreat shdhtond seadid tnain.t the sose  eaasks \"I sm aerrn\".  \"e said  \"Ion't warry  Ior,\" said Harr\n",
      "\n",
      "\n",
      "Input\trossed the outer cave, and Harry helped Dumbledore back into the icy seawater that filled the crevice\n",
      "GT\tossed the outer cave, and Harry helped Dumbledore back into the icy seawater that filled the crevice \n",
      "pred\tiws d the stthr aoser and terry saaded tumbledore aeck tnto the sne ltctayer ohan torled the sooaena \n",
      "\n",
      "\n",
      "Input\tivering and dripping in the middle of the dark High Street in Hogsmeade. For one horrible moment Harr\n",
      "GT\tvering and dripping in the middle of the dark High Street in Hogsmeade. For one horrible moment Harry\n",
      "pred\tneding a d seenpeng tn the soddle of the sork aash anueetewn tagsmeade  \"or ane oalroble sorent,tarry\n",
      "\n",
      "\n",
      "Input\t help, but there was nobody to be seen and all he could think was that he must somehow get Dumbledore\n",
      "GT\thelp, but there was nobody to be seen and all he could think was that he must somehow get Dumbledore \n",
      "pred\tnirp  tut the e was aotody eo se aeen t d t l tirhould shenk aes ahet te hict ht e ow trtttumbledore \n",
      "\n",
      "\n",
      "Input\tto - but what's wrong with Albus?' She came to a halt, panting, and stared down, wide-eyed, at Dumble\n",
      "GT\to - but what's wrong with Albus?' She came to a halt, panting, and stared down, wide-eyed, at Dumbled\n",
      "pred\te y-tut that s thitg tith tnlus \" sne sose th h sonf  hlsiing  tnd ttartd aown  ahtendred  an tumbled\n",
      "\n",
      "\n",
      "\n",
      "Test set: Average loss: 1.3547, Perplexity: 1.0136, Accuracy: 741989/1228800 (60%)\n",
      "\n",
      "Saved /home/jefftian/Documents/21au/cse490g1/hw2content/checkpoints/015.pt\n",
      "\n",
      "generated max\t\t Harry Potter, Voldemort, and Dumbledore walk into a bar. \"I say a thing to see your staying to be a single of the statue to the corridor to be a statue to be a serve of the statue to the corridor to be a servent of the statue to the corridor to be a servent\n",
      "generated sample\t Harry Potter, Voldemort, and Dumbledore walk into a bar. For a moment, where a sudden screaming back with the sight of the stairs at the back of the crowd subject and started to bunch of his chair cross to listened the broke of the lesson behind the way. \"H\n",
      "generated sample\t Harry Potter, Voldemort, and Dumbledore walk into a bar. \"I saw his back down a tamp to his school and down the spell of the most of the people course that you will anyone with your of the lines on the forest by the stone brances and the cup the door and we\n",
      "generated sample\t Harry Potter, Voldemort, and Dumbledore walk into a bar. Hermione had the wand, and was still said, looking around the statue. \"You did you can't mean, then there were stunned to say the teams at the first time from the Triwizard what is the staff we're nev\n",
      "generated sample\t Harry Potter, Voldemort, and Dumbledore walk into a bar. The stands of the way the end of the corridors at the table and so remind the sight of the embarring at the back of the spell to the school beneath the corridor back of the staff the door with a long \n",
      "generated sample\t Harry Potter, Voldemort, and Dumbledore walk into a bar. He looked against the back of the empty branch of the scare soft the sunger of the led of the light before the list the stairs, and cleared the wall behind the bork of the same as he had seen and Mr. \n",
      "generated sample\t Harry Potter, Voldemort, and Dumbledore walk into a bar. His hand was not to come to say and started to his ament, he was not a she leg, was now some of the stairs, coming the small as though he had a bit of a deep belong back to her very creature the stair\n",
      "generated sample\t Harry Potter, Voldemort, and Dumbledore walk into a bar. Harry standing from the same sallow his wand with the Creath and were bellow the table. He straighted the said, before he had been in the second of the side of the water. The streaming as they had the\n",
      "generated sample\t Harry Potter, Voldemort, and Dumbledore walk into a bar. \"You see there,\" said Hermione looking at the crowd back at the table at the standing the ground, who was a through the side of the crowd from the side of the face and saw the state at the Harry's hea\n",
      "generated sample\t Harry Potter, Voldemort, and Dumbledore walk into a bar. Harry was a splay and said and for the students and still and saw she was a slip back out of the stadium and startment, as though he had never seen a hole for the shadows and slid the back of the spot\n",
      "generated sample\t Harry Potter, Voldemort, and Dumbledore walk into a bar. \"And your should be all one of the students going to stay than she would be a good like a bit of a time to see the brain.\" The standing some of the cast the forehead, and he felt stopped at the hole a\n"
     ]
    },
    {
     "name": "stderr",
     "output_type": "stream",
     "text": [
      "\r",
      "  0%|                                                                                                                                                                                                                                                                                                                                                             | 0/194 [00:00<?, ?it/s]"
     ]
    },
    {
     "name": "stdout",
     "output_type": "stream",
     "text": [
      "generated beam\t\t Harry Potter, Voldemort, and Dumbledore walk into a bar. \"I say a thing to see your listening, you know, that the staff table and the light in ter more than a long by the staff to be in the wall of the corridor behind the bed and hoped the statue of the cor\n",
      "\n"
     ]
    },
    {
     "name": "stderr",
     "output_type": "stream",
     "text": [
      "100%|███████████████████████████████████████████████████████████████████████████████████████████████████████████████████████████████████████████████████████████████████████████████████████████████████████████████████████████████████████████████████████████████████████████████████████████████████████████████████████████████████████████████████| 194/194 [00:05<00:00, 36.50it/s]\n"
     ]
    },
    {
     "name": "stdout",
     "output_type": "stream",
     "text": [
      "Input\ta great sigh and leaned against the cavern wall. \"I am weak...\" he said. \"Don't worry, sir,\" said Har\n",
      "GT\t great sigh and leaned against the cavern wall. \"I am weak...\" he said. \"Don't worry, sir,\" said Harr\n",
      "pred\tnlreat sidhtond seadid tnain.t the sose  eaasks \"I sm aerrn\".  \"e said  \"Ion't yarry  Ior,  said Harr\n",
      "\n",
      "\n",
      "Input\trossed the outer cave, and Harry helped Dumbledore back into the icy seawater that filled the crevice\n",
      "GT\tossed the outer cave, and Harry helped Dumbledore back into the icy seawater that filled the crevice \n",
      "pred\tiwsed the stthr aoser and terry saaded tumbledore aeck tnto the sne ltctayer ooan torled the sooaena \n",
      "\n",
      "\n",
      "Input\tivering and dripping in the middle of the dark High Street in Hogsmeade. For one horrible moment Harr\n",
      "GT\tvering and dripping in the middle of the dark High Street in Hogsmeade. For one horrible moment Harry\n",
      "pred\tneding a d seenpeng tn the soddle of the sork aagh anueetewn tagsmeade  \"or ane oalroble sorent,tarry\n",
      "\n",
      "\n",
      "Input\t help, but there was nobody to be seen and all he could think was that he must somehow get Dumbledore\n",
      "GT\thelp, but there was nobody to be seen and all he could think was that he must somehow get Dumbledore \n",
      "pred\tnirp  tut the e was ao ody eo se aeen t d t l oi hould bhenk aes ahet te hist he eoow trtttumbledore \n",
      "\n",
      "\n",
      "Input\tto - but what's wrong with Albus?' She came to a halt, panting, and stared down, wide-eyed, at Dumble\n",
      "GT\to - but what's wrong with Albus?' She came to a halt, panting, and stared down, wide-eyed, at Dumbled\n",
      "pred\te y-tut that s thitg,tith tnlus \" sne sose th t sonf  hlsiing  and ttartd aown  ahtendred  an tumbled\n",
      "\n",
      "\n",
      "\n",
      "Test set: Average loss: 1.3472, Perplexity: 1.0136, Accuracy: 744348/1228800 (61%)\n",
      "\n",
      "Saved /home/jefftian/Documents/21au/cse490g1/hw2content/checkpoints/016.pt\n",
      "\n",
      "generated max\t\t Harry Potter, Voldemort, and Dumbledore walk into a bar. \"I said the statue to the other sound of the statue to the corridors and the statue to the corridors and the statue to the corridors and the statue to the corridors and the statue to the corridors and\n",
      "generated sample\t Harry Potter, Voldemort, and Dumbledore walk into a bar. \"I'm sir, I'm sure you would not to get your wand at the school and to Hogsmeade and take it, I suppose to do you our days and we could not to Harry were a builder of the statue than a part of the Dei\n",
      "generated sample\t Harry Potter, Voldemort, and Dumbledore walk into a bar. (he saw his coming of the crowd, and Harry a stood and was long at the corridor of the matter in the first time and the horrible at the stunned and cared at his made the egg, and a stred to get back t\n",
      "generated sample\t Harry Potter, Voldemort, and Dumbledore walk into a bar. \"You've got to be an expector, I saved the school, they're going to be couldn't see him so be the stunned by the sobs and for the sky-than everything are the Triwizard Dumbledore. \"I should be going t\n",
      "generated sample\t Harry Potter, Voldemort, and Dumbledore walk into a bar. Harry had been going to say have been taking as though the start of the crawn he was a forther side of the stadium around a the sallow of the speak, Harry was not believe the time of the window, the s\n",
      "generated sample\t Harry Potter, Voldemort, and Dumbledore walk into a bar. The was still still he looked at his back and down the back on the stairs at the corridor that he had a next to be signed the small stadium the creatures and the side of the side. \"Well, you in the do\n",
      "generated sample\t Harry Potter, Voldemort, and Dumbledore walk into a bar. where the other side of the ring stairs at the back of the seconds of the moment, he read the stairs and worked stood of the extrandon. The entrance had seen the darkness, then a little floor and she \n",
      "generated sample\t Harry Potter, Voldemort, and Dumbledore walk into a bar. Harry asked him in the ceiling stair at the door of the seats. \"How do you were the front of the very decent, I say her start of them and Ron and Hermione was a second from the stone stunned back at t\n",
      "generated sample\t Harry Potter, Voldemort, and Dumbledore walk into a bar. Looking with the school of the borst of the empty were broomsticking blankly. \"You don't think you have to teach your dead,\" said Harry and Ron said the screaming back that in the back of the room, an\n",
      "generated sample\t Harry Potter, Voldemort, and Dumbledore walk into a bar. Dumbledore said the ground. Harry green singled at the back of his feet and find the skin the back of the chair of the back of the extrand of the door and a corridor to the front what he had never unc\n",
      "generated sample\t Harry Potter, Voldemort, and Dumbledore walk into a bar. Bludge was a round at the bark. \"The brought it was a deep behind him and she's the others are and they got to the present.\" Harry said the trunk and the other side of the back of the stat. \"What was \n"
     ]
    },
    {
     "name": "stderr",
     "output_type": "stream",
     "text": [
      "\r",
      "  0%|                                                                                                                                                                                                                                                                                                                                                             | 0/194 [00:00<?, ?it/s]"
     ]
    },
    {
     "name": "stdout",
     "output_type": "stream",
     "text": [
      "generated beam\t\t Harry Potter, Voldemort, and Dumbledore walk into a bar. \"I said the statue to the castle and suddenly and he wanted to be could that the other side of the school and the others and head, and left the pain was so been looking at the same of the corridor. \"I\n",
      "\n"
     ]
    },
    {
     "name": "stderr",
     "output_type": "stream",
     "text": [
      "100%|███████████████████████████████████████████████████████████████████████████████████████████████████████████████████████████████████████████████████████████████████████████████████████████████████████████████████████████████████████████████████████████████████████████████████████████████████████████████████████████████████████████████████| 194/194 [00:05<00:00, 33.99it/s]\n"
     ]
    },
    {
     "name": "stdout",
     "output_type": "stream",
     "text": [
      "Input\ta great sigh and leaned against the cavern wall. \"I am weak...\" he said. \"Don't worry, sir,\" said Har\n",
      "GT\t great sigh and leaned against the cavern wall. \"I am weak...\" he said. \"Don't worry, sir,\" said Harr\n",
      "pred\tnlreat sidhtond seadid tnain.t the boser oaask  \"I dm aerrn\".  \"e said  \"Ion'  warky  Ior,  said Harr\n",
      "\n",
      "\n",
      "Input\trossed the outer cave, and Harry helped Dumbledore back into the icy seawater that filled the crevice\n",
      "GT\tossed the outer cave, and Harry helped Dumbledore back into the icy seawater that filled the crevice \n",
      "pred\tiwsed the stthr aoser and tarry saaded tumbledore aeck tnto the sne ltctayer ohan horled ahe sooaena \n",
      "\n",
      "\n",
      "Input\tivering and dripping in the middle of the dark High Street in Hogsmeade. For one horrible moment Harr\n",
      "GT\tvering and dripping in the middle of the dark High Street in Hogsmeade. For one horrible moment Harry\n",
      "pred\tned ng a d seenpeng tn the soddle of the sork aash anuuet wn tagsmeade  \"ir ane oelrible sarent,aarry\n",
      "\n",
      "\n",
      "Input\t help, but there was nobody to be seen and all he could think was that he must somehow get Dumbledore\n",
      "GT\thelp, but there was nobody to be seen and all he could think was that he must somehow get Dumbledore \n",
      "pred\tnirp  tut hhe e was ao ody eo he aeen t d t l oi hould bhenk ahs ahet te hist he e ow trt tumbledore \n",
      "\n",
      "\n",
      "Input\tto - but what's wrong with Albus?' She came to a halt, panting, and stared down, wide-eyed, at Dumble\n",
      "GT\to - but what's wrong with Albus?' She came to a halt, panting, and stared down, wide-eyed, at Dumbled\n",
      "pred\te y-tut hhat s thitg tith anlus \" sne sose th h sonf  hlsiing  and ttarid aown  ahtendred  an tumbled\n",
      "\n",
      "\n",
      "\n",
      "Test set: Average loss: 1.3463, Perplexity: 1.0136, Accuracy: 745089/1228800 (61%)\n",
      "\n",
      "Saved /home/jefftian/Documents/21au/cse490g1/hw2content/checkpoints/017.pt\n",
      "\n",
      "generated max\t\t Harry Potter, Voldemort, and Dumbledore walk into a bar. \"How do you think you were all of the statue to be a little before the corridors and the corridors and the corridors and the corridors and the corridors and the statue to the corridor to be a little b\n",
      "generated sample\t Harry Potter, Voldemort, and Dumbledore walk into a bar. What was were doing his black to his hand by the same the corridor of the door and Hermione was a next to the corridor. \"Well, the sunk years and leading the others and watching from the statue castle\n",
      "generated sample\t Harry Potter, Voldemort, and Dumbledore walk into a bar. And the heart the sesses and Ginny was still sit in the steading back of the corridor to visit the first before he was no rang at the floor to his wand and the uncoming in the ground, but a breath lit\n",
      "generated sample\t Harry Potter, Voldemort, and Dumbledore walk into a bar. On the other side of sight of the stand of the statue. Her eyes before he had been stood and bring his beds and snapped straight behind his cabin and couldn't seem the chair of the crowd where of the \n",
      "generated sample\t Harry Potter, Voldemort, and Dumbledore walk into a bar. \"How do, you can get a bit it bebound and he ought to be beat enough. \"Don' want to be pink a to her and his and back to the staff and different to the corridors before he could not take in the broom \n",
      "generated sample\t Harry Potter, Voldemort, and Dumbledore walk into a bar. You was no be of the ring of the corridors of the corridors and the window, which is the only on the broom who was a night of the back of the same time and white was a window, but the first time was a\n",
      "generated sample\t Harry Potter, Voldemort, and Dumbledore walk into a bar. 'very and Hermione this is like that he had been a long and stupid not to be for a moment to be down to see the thing sign of a small as he had been was no single the bark and warned at the top of the\n",
      "generated sample\t Harry Potter, Voldemort, and Dumbledore walk into a bar. - believed the bad of the secret of the school and down and taken a distant lips, and the common room back to what he had come and they were for the stairs, which was a branch of his hand had been exp\n",
      "generated sample\t Harry Potter, Voldemort, and Dumbledore walk into a bar. 'very one of the second mad be started at the of the same of the sunstairs and beaming and behind the stairs at the before were all as a shadow from the first pain with his own back to Harry and Hermi\n",
      "generated sample\t Harry Potter, Voldemort, and Dumbledore walk into a bar. \"What's the path of the corridor of the list now. \"So what look a real bangs.\" \"What's a party with means as yeh seem to the back of the matter of the evening of the door which was doing about it in t\n",
      "generated sample\t Harry Potter, Voldemort, and Dumbledore walk into a bar. Harry saw the for the stone statuents of the spell of the Death Eaters little behind him and deep in the craw, but Harry in the casting last that leading deep breath of breath the statue of the stairs\n"
     ]
    },
    {
     "name": "stderr",
     "output_type": "stream",
     "text": [
      "\r",
      "  0%|                                                                                                                                                                                                                                                                                                                                                             | 0/194 [00:00<?, ?it/s]"
     ]
    },
    {
     "name": "stdout",
     "output_type": "stream",
     "text": [
      "generated beam\t\t Harry Potter, Voldemort, and Dumbledore walk into a bar. \"How do you think you were him and a bell and from the bed, but Harry was still understand and she but it was still the receiss in the sun saw a deep breath severed of the trunk. \"I mean, I was not to\n",
      "\n"
     ]
    },
    {
     "name": "stderr",
     "output_type": "stream",
     "text": [
      "100%|███████████████████████████████████████████████████████████████████████████████████████████████████████████████████████████████████████████████████████████████████████████████████████████████████████████████████████████████████████████████████████████████████████████████████████████████████████████████████████████████████████████████████| 194/194 [00:06<00:00, 29.06it/s]\n"
     ]
    },
    {
     "name": "stdout",
     "output_type": "stream",
     "text": [
      "Input\ta great sigh and leaned against the cavern wall. \"I am weak...\" he said. \"Don't worry, sir,\" said Har\n",
      "GT\t great sigh and leaned against the cavern wall. \"I am weak...\" he said. \"Don't worry, sir,\" said Harr\n",
      "pred\tnsreat sidhtond seadid t ainst the bose  oaask  \"I sm serrn\".  \"e said  \"Ion't warky  Ior,  said Harr\n",
      "\n",
      "\n",
      "Input\trossed the outer cave, and Harry helped Dumbledore back into the icy seawater that filled the crevice\n",
      "GT\tossed the outer cave, and Harry helped Dumbledore back into the icy seawater that filled the crevice \n",
      "pred\tiwsed the stthn aoser and tarry saaded humbledore aeck tnto the sne ltctayer ahan horled ahe sooaena \n",
      "\n",
      "\n",
      "Input\tivering and dripping in the middle of the dark High Street in Hogsmeade. For one horrible moment Harr\n",
      "GT\tvering and dripping in the middle of the dark High Street in Hogsmeade. For one horrible moment Harry\n",
      "pred\tned ng a d soenpeng hn the soddle of the sork aash anuuetewn tagsmeade  \"or afe oelrible sirent,aarry\n",
      "\n",
      "\n",
      "Input\t help, but there was nobody to be seen and all he could think was that he must somehow get Dumbledore\n",
      "GT\thelp, but there was nobody to be seen and all he could think was that he must somehow get Dumbledore \n",
      "pred\tnirp  but hhe e was ao ody eo he aeen t d s l oi would bhenk ahs ahet he hist ha e ow trt aumbledore \n",
      "\n",
      "\n",
      "Input\tto - but what's wrong with Albus?' She came to a halt, panting, and stared down, wide-eyed, at Dumble\n",
      "GT\to - but what's wrong with Albus?' She came to a halt, panting, and stared down, wide-eyed, at Dumbled\n",
      "pred\te b-tut hhat s thing tith anlus \" sne sose th h sanf  hlsiing  and saarid aown  ahtendred  an tumbled\n",
      "\n",
      "\n",
      "\n",
      "Test set: Average loss: 1.3409, Perplexity: 1.0135, Accuracy: 746045/1228800 (61%)\n",
      "\n",
      "Saved /home/jefftian/Documents/21au/cse490g1/hw2content/checkpoints/018.pt\n",
      "\n",
      "generated max\t\t Harry Potter, Voldemort, and Dumbledore walk into a bar. \"Harry was a single of the corridors and said the statue of the corridors and saw the stairs and saw the stairs and saw the stairs and saw the stairs and saw the stairs and saw the stairs and saw the \n",
      "generated sample\t Harry Potter, Voldemort, and Dumbledore walk into a bar. But who was watching his great screaming in the same of the back of the parchment of the scar on the for the staff to be carried to his hand on the very floor was still and lined to be shaking his thr\n",
      "generated sample\t Harry Potter, Voldemort, and Dumbledore walk into a bar. \"Harry said what if you believe it was a side of a since a school back of the bed, and he was a side of the cup of the man was a thing else was all of the Snitch was stunned his wand, but now what is \n",
      "generated sample\t Harry Potter, Voldemort, and Dumbledore walk into a bar. There was no down on the Ministry of the head of the legs and looked at his shadows and felt in his back of the boys behind his wand was had for your and breaks and work and snapped in the further sid\n",
      "generated sample\t Harry Potter, Voldemort, and Dumbledore walk into a bar. You want to have heard an anywhere in the blood of the class and was all out of the crabbers and said in a little while the partical was a long back of the man led the bask and staring at all as a sma\n",
      "generated sample\t Harry Potter, Voldemort, and Dumbledore walk into a bar. pretend the hand like a few list Hogwarts like. \"If you think you forgotten a secret than a support of the library who was sure you ought to be doing that I was all being still started to the others a\n",
      "generated sample\t Harry Potter, Voldemort, and Dumbledore walk into a bar. 'I want to have been a singing rain and leans and be sure a little gold and leave the Snitch and seemed to be a last night. \"There you don't want to the other side of the castle, so you were all right\n",
      "generated sample\t Harry Potter, Voldemort, and Dumbledore walk into a bar. \"You see out in the castle to forg, and says he saw what he was for the first that were you would have all want to see it of the place who was not be of the light when he been absention to his face an\n",
      "generated sample\t Harry Potter, Voldemort, and Dumbledore walk into a bar. They were stood a stadium and said the same past the ceiling back of the cast and nobody was still and sweep which it was a very shoulder blunder when he had been sure there and the first time was a c\n",
      "generated sample\t Harry Potter, Voldemort, and Dumbledore walk into a bar. Harry was to have been a sign and leaned the common room, and raised and staring at the air of the bathroom the crowd staring in the case and bellowed around where they had been looking stranged at th\n",
      "generated sample\t Harry Potter, Voldemort, and Dumbledore walk into a bar. \"Hermione looked slightly strange at the sight of the end of the knight was a chair and with a small of parchment of the courtains, then side of the ground was a teacher of the sungard behind the firs\n"
     ]
    },
    {
     "name": "stderr",
     "output_type": "stream",
     "text": [
      "\r",
      "  0%|                                                                                                                                                                                                                                                                                                                                                             | 0/194 [00:00<?, ?it/s]"
     ]
    },
    {
     "name": "stdout",
     "output_type": "stream",
     "text": [
      "generated beam\t\t Harry Potter, Voldemort, and Dumbledore walk into a bar. \"What do you were all of there.\" \"I don't know he's a few security of very in the finger side of the counter around the last year, of the forest that Dumbledore was no supposed to expel under the Deat\n",
      "\n"
     ]
    },
    {
     "name": "stderr",
     "output_type": "stream",
     "text": [
      "100%|███████████████████████████████████████████████████████████████████████████████████████████████████████████████████████████████████████████████████████████████████████████████████████████████████████████████████████████████████████████████████████████████████████████████████████████████████████████████████████████████████████████████████| 194/194 [00:07<00:00, 26.90it/s]\n"
     ]
    },
    {
     "name": "stdout",
     "output_type": "stream",
     "text": [
      "Input\ta great sigh and leaned against the cavern wall. \"I am weak...\" he said. \"Don't worry, sir,\" said Har\n",
      "GT\t great sigh and leaned against the cavern wall. \"I am weak...\" he said. \"Don't worry, sir,\" said Harr\n",
      "pred\tnsreat sidhtond siadid tnainst the boserioaasks \"I sm selrn\".  \"e said  \"Ion't warky  Ior,\" said Harr\n",
      "\n",
      "\n",
      "Input\trossed the outer cave, and Harry helped Dumbledore back into the icy seawater that filled the crevice\n",
      "GT\tossed the outer cave, and Harry helped Dumbledore back into the icy seawater that filled the crevice \n",
      "pred\tiwsed the stthnnaoser and tarry saaded tumbledore aeck tnto the sne lcctayer.ohan horled the sooaeda \n",
      "\n",
      "\n",
      "Input\tivering and dripping in the middle of the dark High Street in Hogsmeade. For one horrible moment Harr\n",
      "GT\tvering and dripping in the middle of the dark High Street in Hogsmeade. For one horrible moment Harry\n",
      "pred\tniding and sienpeng tn the coddle of the sork aash anuuetewnttagsmeade  \"or afe oaurible sirent,tarry\n",
      "\n",
      "\n",
      "Input\t help, but there was nobody to be seen and all he could think was that he must somehow get Dumbledore\n",
      "GT\thelp, but there was nobody to be seen and all he could think was that he must somehow get Dumbledore \n",
      "pred\tnirp  tut hhe e was ao ody eo se aeen t d s l oi would hhenk ahs ahet te hist ha etow trt tumbledore \n",
      "\n",
      "\n",
      "Input\tto - but what's wrong with Albus?' She came to a halt, panting, and stared down, wide-eyed, at Dumble\n",
      "GT\to - but what's wrong with Albus?' She came to a halt, panting, and stared down, wide-eyed, at Dumbled\n",
      "pred\te s-tut hhat s thing.tith arlus \" sne sose th t sanf  hasiing  and saarid aown  ahtendred  an tumbled\n",
      "\n",
      "\n",
      "\n",
      "Test set: Average loss: 1.3356, Perplexity: 1.0134, Accuracy: 745993/1228800 (61%)\n",
      "\n",
      "generated max\t\t Harry Potter, Voldemort, and Dumbledore walk into a bar. \"Harry were so started to be anyone else what he had been saying to be a single of the school and the school of the school and said, \"I saw you are all of the same of the school and the boy who was a \n",
      "generated sample\t Harry Potter, Voldemort, and Dumbledore walk into a bar. Dumbledore didn't seem to put a sure than he had a few things and were to start than it was a subject of the shadows of the moming blue extrance had been a scare of his hand like a square of the desk \n",
      "generated sample\t Harry Potter, Voldemort, and Dumbledore walk into a bar. Harry saw a sharp like a shaking at the boy when he had done electors and in the light which was laughing. \"I'm sure you want to a singly bit of the bad,\" said Hagrid, and Ginny. \"Indeed the back of t\n",
      "generated sample\t Harry Potter, Voldemort, and Dumbledore walk into a bar. They were couldn't the began to walk the stat. \"I think the summer is reading that, this is a broom in the crash of the first time than there's your seconds behind the school and she could have to be \n",
      "generated sample\t Harry Potter, Voldemort, and Dumbledore walk into a bar. The surround doesn't believe in the back of the seconds, so I was a single back of his broomstick, the parchment has and and scared and said, the door bellowing their school case, there was a near. \"Y\n",
      "generated sample\t Harry Potter, Voldemort, and Dumbledore walk into a bar. \"I said a supportrate to have a get to Hogwarts and the surrying, they were breaking and said, \"but I was a door with a strangely saying this strange and saying... I think I'd better there we're sayin\n",
      "generated sample\t Harry Potter, Voldemort, and Dumbledore walk into a bar. \"His is this boy,\" said Harry, staring at the table, shaking her and said, \"we couldn't see you in a few detections got a four of the first time,\" said Ron. \"Indeed the great back of the school of the\n",
      "generated sample\t Harry Potter, Voldemort, and Dumbledore walk into a bar. \"How do you think this was a single building the wand with some of the spotter.\" \"Well, I'm not to get you and saying, I have been read out of the castle than are you alone.\" \"One when something he's \n",
      "generated sample\t Harry Potter, Voldemort, and Dumbledore walk into a bar. Harry stood understand and looked strangled, and there was a surprise to the corridor. \"I don't don't know believe it's a change, it was a sudden and without, and the chairs and nobody who was so that\n",
      "generated sample\t Harry Potter, Voldemort, and Dumbledore walk into a bar. You want to so chances as the surface of sight was a busy as though he was a little and was a long things and he saw it to the fire than to his feet, but which they had been wand around the behind his\n",
      "generated sample\t Harry Potter, Voldemort, and Dumbledore walk into a bar. \"What was being a kindon's list,\" said Ron, shaking a long broomstick. \"So much now, what he'd been anything with a servent, Malfoy would be forgetter, I was someone saw a shaking like a sort of the p\n"
     ]
    },
    {
     "name": "stderr",
     "output_type": "stream",
     "text": [
      "\r",
      "  0%|                                                                                                                                                                                                                                                                                                                                                             | 0/194 [00:00<?, ?it/s]"
     ]
    },
    {
     "name": "stdout",
     "output_type": "stream",
     "text": [
      "generated beam\t\t Harry Potter, Voldemort, and Dumbledore walk into a bar. \"What do you were all of the school of his father, in the corridors of the grounds, he's seen there and weekens,\" said Harry as though he had a great should beat Bulgaria surveyed in a drink and said \n",
      "\n"
     ]
    },
    {
     "name": "stderr",
     "output_type": "stream",
     "text": [
      "100%|███████████████████████████████████████████████████████████████████████████████████████████████████████████████████████████████████████████████████████████████████████████████████████████████████████████████████████████████████████████████████████████████████████████████████████████████████████████████████████████████████████████████████| 194/194 [00:06<00:00, 29.53it/s]\n"
     ]
    },
    {
     "name": "stdout",
     "output_type": "stream",
     "text": [
      "Input\ta great sigh and leaned against the cavern wall. \"I am weak...\" he said. \"Don't worry, sir,\" said Har\n",
      "GT\t great sigh and leaned against the cavern wall. \"I am weak...\" he said. \"Don't worry, sir,\" said Harr\n",
      "pred\tnsroat sidntond tiadid tnainst the bose nooisks \"I sm selrn\".  \"e said  \"Ion't warky,\"Ior,\" said Harr\n",
      "\n",
      "\n",
      "Input\trossed the outer cave, and Harry helped Dumbledore back into the icy seawater that filled the crevice\n",
      "GT\tossed the outer cave, and Harry helped Dumbledore back into the icy seawater that filled the crevice \n",
      "pred\tiwsed the stthrntoser and tarry saaded humbledore aeck tnto the cne bcctayer,ohat horled the sooaena \n",
      "\n",
      "\n",
      "Input\tivering and dripping in the middle of the dark High Street in Hogsmeade. For one horrible moment Harr\n",
      "GT\tvering and dripping in the middle of the dark High Street in Hogsmeade. For one horrible moment Harry\n",
      "pred\tniding and siinpeng tntthe coddle of the cork aash anuuetewnttagsmeade  \"or afe oelrible sirent,tarry\n",
      "\n",
      "\n",
      "Input\t help, but there was nobody to be seen and all he could think was that he must somehow get Dumbledore\n",
      "GT\thelp, but there was nobody to be seen and all he could think was that he must somehow get Dumbledore \n",
      "pred\tnirp  tut hhe e was aotody wo se auen t d t l oi would hhenk hhs ahet he hist ha etow tot tumbledore \n",
      "\n",
      "\n",
      "Input\tto - but what's wrong with Albus?' She came to a halt, panting, and stared down, wide-eyed, at Dumble\n",
      "GT\to - but what's wrong with Albus?' She came to a halt, panting, and stared down, wide-eyed, at Dumbled\n",
      "pred\te s-tut hhat s thing,tith trlus \" sne sone th t sanf  hlsiing  hnd taartd aown  ahtendred  an tumbled\n",
      "\n",
      "\n",
      "\n",
      "Test set: Average loss: 1.3319, Perplexity: 1.0134, Accuracy: 746758/1228800 (61%)\n",
      "\n",
      "Saved /home/jefftian/Documents/21au/cse490g1/hw2content/checkpoints/020.pt\n",
      "\n",
      "generated max\t\t Harry Potter, Voldemort, and Dumbledore walk into a bar. \"How did you see the corridors and the boy who was a single of the corridors and the boy who was a single of the corridors and the boys of the corridors of the corridors of the corridors of the corrid\n",
      "generated sample\t Harry Potter, Voldemort, and Dumbledore walk into a bar. \"How do you know that they're all hit the library of the corridor. The best of the spider. Hermione was not to the first time, the back of the corridors were that Harry had been what he wouldn't have \n",
      "generated sample\t Harry Potter, Voldemort, and Dumbledore walk into a bar. There was a long last the library door, spells ground, they said behind the broom of the crowd and saw the body looked like a body even heads. \"You're like, Ron,\" said Harry shutteringly. \"I were you'\n",
      "generated sample\t Harry Potter, Voldemort, and Dumbledore walk into a bar. \"What are your of them,\" said Harry. \"You want to see the directions, dear, I was but to think about Hagrid's what the school was on the other, dead, the statue scared of the room were nobody to be ab\n",
      "generated sample\t Harry Potter, Voldemort, and Dumbledore walk into a bar. \"What do you're a long, took in this statue, but I don't say anyone,\" said Ron, said in a scar behind his head. \"Harry had to could one of the other, but the school is still gold to make your family a\n",
      "generated sample\t Harry Potter, Voldemort, and Dumbledore walk into a bar. Myrtle and Riddle stood to the castle at the suppose to the dungeons, and should be only being to his bed. \"Something,\" said Hagrid, \"but I was so sure it had never seen and taking the Deparating Malf\n",
      "generated sample\t Harry Potter, Voldemort, and Dumbledore walk into a bar. \"I know what was being dead, I'd be forgetting to forget into the corridors of the same to hidden and looking at Harry's head was a small of the subject of the crowd for a small of the boys he had bee\n",
      "generated sample\t Harry Potter, Voldemort, and Dumbledore walk into a bar. 'What was sheet it's head?\" said Harry, staring about the crain of the Ministry of Magical Triwizard and Harry shouted out of the windows behind the light had been had seen in the corridors and the do\n",
      "generated sample\t Harry Potter, Voldemort, and Dumbledore walk into a bar. \"But they're nothing else than I shall one of the table, too summers and seemed to be of the corridor, who would be the others of the dark and began to points to be wearing his hand white there was ri\n",
      "generated sample\t Harry Potter, Voldemort, and Dumbledore walk into a bar. \"So,\" said Harry, but he had had to stop the first this wand at the crowd of the sight of his bag and brother to their feet as he had been the singely of the moment, there was beatended the school and\n",
      "generated sample\t Harry Potter, Voldemort, and Dumbledore walk into a bar. Just say and a couple of the end of the words of the boy, which said the middle of a green latering of the light had had been sitting behind his bad and looking at his broomstick, but he said slightly\n",
      "generated beam\t\t Harry Potter, Voldemort, and Dumbledore walk into a bar. \"How did you see the corridor. \"I sign' the boy when the Third was butter of course,\" said Harry, \"Right, Harry Potter.\" \"He's not in the old but if they're staff to the sky of this was a detenting at\n",
      "\n",
      "Saving final model\n",
      "Saved /home/jefftian/Documents/21au/cse490g1/hw2content/checkpoints/020.pt\n",
      "\n"
     ]
    },
    {
     "data": {
      "image/png": "[encoded data removed]",
      "text/plain": [
       "<Figure size 1440x720 with 1 Axes>"
      ]
     },
     "metadata": {
      "needs_background": "light"
     },
     "output_type": "display_data"
    },
    {
     "data": {
      "image/png": "[encoded data removed]",
      "text/plain": [
       "<Figure size 1440x720 with 1 Axes>"
      ]
     },
     "metadata": {
      "needs_background": "light"
     },
     "output_type": "display_data"
    },
    {
     "data": {
      "image/png": "[encoded data removed]",
      "text/plain": [
       "<Figure size 1440x720 with 1 Axes>"
      ]
     },
     "metadata": {
      "needs_background": "light"
     },
     "output_type": "display_data"
    },
    {
     "data": {
      "image/png": "[encoded data removed]",
      "text/plain": [
       "<Figure size 1440x720 with 1 Axes>"
      ]
     },
     "metadata": {
      "needs_background": "light"
     },
     "output_type": "display_data"
    },
    {
     "data": {
      "image/png": "[encoded data removed]",
      "text/plain": [
       "<Figure size 1440x720 with 1 Axes>"
      ]
     },
     "metadata": {
      "needs_background": "light"
     },
     "output_type": "display_data"
    }
   ],
   "source": [
    "def main():\n",
    "    SEQUENCE_LENGTH = 100\n",
    "    BATCH_SIZE = 256\n",
    "    FEATURE_SIZE = 512\n",
    "    TEST_BATCH_SIZE = 256\n",
    "    EPOCHS = 20\n",
    "    LEARNING_RATE = 0.005\n",
    "    WEIGHT_DECAY = 0.0002\n",
    "    USE_CUDA = True\n",
    "    PRINT_INTERVAL = 10\n",
    "    LOG_PATH = DATA_PATH + 'logs/log.pkl'\n",
    "\n",
    "\n",
    "    data_train = HarryPotterDataset(DATA_PATH + 'harry_potter_chars_train.pkl', SEQUENCE_LENGTH, BATCH_SIZE)\n",
    "    data_test = HarryPotterDataset(DATA_PATH + 'harry_potter_chars_test.pkl', SEQUENCE_LENGTH, TEST_BATCH_SIZE)\n",
    "    vocab = data_train.vocab\n",
    "\n",
    "    use_cuda = USE_CUDA and torch.cuda.is_available()\n",
    "\n",
    "    device = torch.device(\"cuda\" if use_cuda else \"cpu\")\n",
    "    print('Using device', device)\n",
    "    import multiprocessing\n",
    "    num_workers = multiprocessing.cpu_count()\n",
    "    print('num workers:', num_workers)\n",
    "\n",
    "    kwargs = {'num_workers': num_workers,\n",
    "              'pin_memory': True} if use_cuda else {}\n",
    "\n",
    "    train_loader = torch.utils.data.DataLoader(data_train, batch_size=BATCH_SIZE,\n",
    "                                               shuffle=False, **kwargs)\n",
    "    test_loader = torch.utils.data.DataLoader(data_test, batch_size=TEST_BATCH_SIZE,\n",
    "                                              shuffle=False, **kwargs)\n",
    "\n",
    "    model = HarryPotterNet(data_train.vocab_size(), FEATURE_SIZE).to(device)\n",
    "\n",
    "    # Adam is an optimizer like SGD but a bit fancier. It tends to work faster and better than SGD.\n",
    "    # We will talk more about different optimization methods in class.\n",
    "    optimizer = optim.Adam(model.parameters(), lr=LEARNING_RATE, weight_decay=WEIGHT_DECAY)\n",
    "    start_epoch = model.load_last_model(DATA_PATH + 'checkpoints')\n",
    "\n",
    "    # modified\n",
    "    train_losses, test_losses, test_accuracies, train_perp, test_perp = pt_util.read_log(LOG_PATH, ([], [], [], [], []))\n",
    "    test_loss, test_accuracy = test(model, device, test_loader)\n",
    "\n",
    "    test_losses.append((start_epoch, test_loss))\n",
    "    test_perp.append((start_epoch, np.exp(test_loss))) # modified\n",
    "    test_accuracies.append((start_epoch, test_accuracy))\n",
    "\n",
    "    try:\n",
    "        for epoch in range(start_epoch, EPOCHS + 1):\n",
    "            lr = LEARNING_RATE * np.power(0.25, (int(epoch / 6)))\n",
    "            train_loss = train(model, device, optimizer, train_loader, lr, epoch, PRINT_INTERVAL)\n",
    "            test_loss, test_accuracy = test(model, device, test_loader)\n",
    "            train_losses.append((epoch, train_loss))\n",
    "            train_perp.append((epoch, np.exp(train_loss))) # modified\n",
    "            test_losses.append((epoch, test_loss))\n",
    "            test_perp.append((epoch, np.exp(test_loss))) # modified\n",
    "            test_accuracies.append((epoch, test_accuracy))\n",
    "            pt_util.write_log(LOG_PATH, (train_losses, test_losses, test_accuracies, train_perp, test_perp)) # modified\n",
    "            model.save_best_model(test_accuracy, DATA_PATH + 'checkpoints/%03d.pt' % epoch)\n",
    "            seed_words = 'Harry Potter, Voldemort, and Dumbledore walk into a bar. '\n",
    "            generated_sentence = generate_language(model, device, seed_words, 200, vocab, 'max')\n",
    "            print('generated max\\t\\t', generated_sentence)\n",
    "            for ii in range(10):\n",
    "                generated_sentence = generate_language(model, device, seed_words, 200, vocab, 'sample')\n",
    "                print('generated sample\\t', generated_sentence)\n",
    "            generated_sentence = generate_language(model, device, seed_words, 200, vocab, 'beam')\n",
    "            print('generated beam\\t\\t', generated_sentence)\n",
    "            print('')\n",
    "\n",
    "    except KeyboardInterrupt as ke:\n",
    "        print('Interrupted')\n",
    "    except:\n",
    "        import traceback\n",
    "        traceback.print_exc()\n",
    "    finally:\n",
    "        print('Saving final model')\n",
    "        model.save_model(DATA_PATH + 'checkpoints/%03d.pt' % epoch, 0)\n",
    "        ep, val = zip(*train_losses)\n",
    "        pt_util.plot(ep, val, 'Train loss', 'Epoch', 'Error')\n",
    "        ep, val = zip(*test_losses)\n",
    "        pt_util.plot(ep, val, 'Test loss', 'Epoch', 'Error')\n",
    "        ep, val = zip(*test_accuracies)\n",
    "        pt_util.plot(ep, val, 'Test accuracy', 'Epoch', 'Error')\n",
    "        ep, val = zip(*train_perp) # modified\n",
    "        pt_util.plot(ep, val, 'Train perplexity', 'Epoch', 'Perplexity')\n",
    "        ep, val = zip(*test_perp)\n",
    "        pt_util.plot(ep, val, 'Test perplexity', 'Epoch', 'Perplexity') # modified\n",
    "        return model, vocab, device\n",
    "\n",
    "final_model, vocab, device = main()"
   ]
  },
  {
   "cell_type": "markdown",
   "metadata": {
    "id": "r597GUTVjwZc"
   },
   "source": [
    "#Part 7: Experiments"
   ]
  },
  {
   "cell_type": "code",
   "execution_count": 30,
   "metadata": {
    "id": "zgLylYlp9kBK",
    "scrolled": false
   },
   "outputs": [
    {
     "name": "stdout",
     "output_type": "stream",
     "text": [
      "generated with max\t For Christmas, Dumbledore wanted to be a look of the stairs. \"I think you were all that the other sign of the stairs, and the other side of the stairs and the stairs and started to the stairs and started to the stairs and started to \n",
      "generated with sample\t For Christmas, Dumbledore wanted to say that Stand back of the clowed at Harry, his face and started at the front of the back of the darkness. \"What we've got to hear, there's after of them, a bit of together to have been as that the\n",
      "generated with sample\t For Christmas, Dumbledore wanted behind the hands, that for started, then he looked at the stairs. \"You think about them, and that was a book of the first time to come to his own with a great still of the back. \"I seemed to be able t\n",
      "generated with sample\t For Christmas, Dumbledore wanted to the first to the castle can talking at her back to the back of the staff. \"And then they were doing to be able to be out of the best of the back, and surpecting to been and looked at the small back\n",
      "generated with sample\t For Christmas, Dumbledore wanted to say someone like a silent detention exchanting to his face. \"It is to me with Ron, and then stop up to the dormitory. \"Is the years at all, that is the first feeling that you to be all of anymore d\n",
      "generated with sample\t For Christmas, Dumbledore wanted pattering around to be and looked at Harry, \"we were not to be those homework in the candles of the same, that is far angred in the same back of the basility point of the side of the forest and had be\n",
      "generated with sample\t For Christmas, Dumbledore wanted it on the floor at the meeting that he had standing to care the stareft to his forehead, and the stared some of the school with thin and talking the words to the Dark from the scape and the stairs was\n",
      "generated with sample\t For Christmas, Dumbledore wanted to the stairs to the other side of the back to the face from the transfigg the destrance to the cloak, she said, \"that don't work to the office work, or we have to say them.\" \"What do you have not to \n",
      "generated with sample\t For Christmas, Dumbledore wanted to it. \"Gryffindor, whispered the standard at the yound with a good. The students of them and then greated to his been and turned at his father and the book of the tears. Harry started to the stands. \n",
      "generated with sample\t For Christmas, Dumbledore wanted Harry to the catch, where he asked to his feet with a stand about to stop his speed at the parchment of the back to the seat and saying the face he had started to the for the stairs. \"The way to the t\n",
      "generated with sample\t For Christmas, Dumbledore wanted to be so with the crowd of the school of the air, the first was calling back into the parchment to her. \"You think you said something, you said it is the same in the back of the back of the front was \n",
      "generated with beam\t For Christmas, Dumbledore wanted to be a look of the stairs. \"And me,\" said Harry. \"Oh, I seem, back to see you to say there.\" \"You will be far me.\" \"As the back of the dark from them.... \"Shang best dangerous at the sight of their n\n",
      "generated with beam\t For Christmas, Dumbledore wanted to be a look of the stairs. \"He didn't have been anything to use to here about to be able to ask at the dementor, there was at the back to this to the stairs and there was all to the castle, with them\n",
      "generated with beam\t For Christmas, Dumbledore wanted to be a look of the stairs, that had been as though they said.\" \"Deah, that were here, then,\" said Madam Harry. \"The whole that that was a few sound to teach other with without it off the first years \n",
      "generated with beam\t For Christmas, Dumbledore wanted to be a look of the stairs, to his feet, \"but it was returned up to the room.\" \"What was a bit of their room,\" said Hagrid, which was standing at the trouble of the castle of the table. \"I have to com\n",
      "generated with beam\t For Christmas, Dumbledore wanted to be a look of the stairs. \"Oh, he's also so off a need to be in the air of the Surror and the same to the forget night, that the stood of the bottle of the bag. \"It's a very decender to have to come\n",
      "generated with beam\t For Christmas, Dumbledore wanted to be a look of the stairs, and the school to the bed and looked up at the back of his legs back to the one of the table and was an all that she was all blinking the other side of the ground, and the \n",
      "generated with beam\t For Christmas, Dumbledore wanted to be a look of the stairs. \"I saw that the dementors of the patch. I think that was means to have been as though he had the protention to be starting to the prophet. It was a sort of the light of the\n",
      "generated with beam\t For Christmas, Dumbledore wanted to be a look of the stairs in the back of back in the car that they would have to talk of the side of the stairs, and came here at his bed as though he was an almost in the bed and gave the sign of th\n",
      "generated with beam\t For Christmas, Dumbledore wanted to be a look of the stairs and looked at the back, the front of the parchment and had been stared. \"There's Dumbledore's been as though that he was to be able to be some in the first table to be heard\n",
      "generated with beam\t For Christmas, Dumbledore wanted to be a look of the stairs and said, \"and there was all this at the school and the first to Hagrid, bristly to be going to the back of the stame of the cards, then in the castle. \"He had to be able to\n"
     ]
    }
   ],
   "source": [
    "TEMPERATURE = 0.5\n",
    "def eval_final_model(model, vocab, device):\n",
    "    seed_words = 'For Christmas, Dumbledore wanted '\n",
    "    sequence_length = 200\n",
    "\n",
    "    generated_sentence = generate_language(model, device, seed_words, sequence_length, vocab, 'max')\n",
    "    print('generated with max\\t', generated_sentence)\n",
    "\n",
    "    for ii in range(10):\n",
    "        generated_sentence = generate_language(model, device, seed_words, sequence_length, vocab, 'sample')\n",
    "        print('generated with sample\\t', generated_sentence)\n",
    "\n",
    "    for ii in range(10):\n",
    "        generated_sentence = generate_language(model, device, seed_words, sequence_length, vocab, 'beam')\n",
    "        print('generated with beam\\t', generated_sentence)\n",
    "\n",
    "eval_final_model(final_model, vocab, device)"
   ]
  },
  {
   "cell_type": "markdown",
   "metadata": {
    "id": "pn0RWPBFjzkP"
   },
   "source": [
    "#Part 8: Other things\n",
    "Choose **three** of the following to try. You should create new code cells below rather than modifying your earlier code:\n",
    "\n",
    "\n",
    "1. Train on a different text corpus. The corpus should be at least as large as the provided Harry Potter dataset.\n",
    "    - Options include other books, websites, tweets, wikipedia articles etc.\n",
    "    -  (Hint: this is probably the easiest one)\n",
    "1. Find a better network architecture. Some ideas:\n",
    "    - Look at the various options in https://pytorch.org/docs/stable/nn.html#torch.nn.GRU\n",
    "    - You can make the network wider or deeper.\n",
    "    - You can try to learn separate encoders and decoders.\n",
    "1. Use an LSTM instead of a GRU.\n",
    "    - https://pytorch.org/docs/stable/nn.html#torch.nn.LSTM\n",
    "    - The output of an LSTM is a hidden state **and** a cell state, so you will need to deal with a tuple instead of a single vector.\n",
    "1. Use a Transformer instead of a GRU.\n",
    "    - https://pytorch.org/docs/stable/nn.html#torch.nn.Transformer\n",
    "    - Be sure to get the masks right so you don't condition on the future characters: https://pytorch.org/docs/stable/nn.html#torch.nn.Transformer.generate_square_subsequent_mask may be of use.\n",
    "1. Train a model using student-forcing.\n",
    "    - You will have to modify the network inputs.\n",
    "    - You will need to use `torch.nn.GRUCell` and its like. https://pytorch.org/docs/stable/nn.html#grucell\n",
    "    - You cannot simply feed an empty string to start off a sequence. The sequence must be somehow conditioned on prior ground truth.\n",
    "1. Train a model on words instead of characters.\n",
    "    - You will need to redefine your input/output space vocabulary as well.\n",
    "    - You should replace any words that occur less than 5 times in the dataset with an <unknown\\> token. \n",
    "1. Write a new data loader which picks a random point in the text to start from and returns 10 consecutive sequences starting from that point onward. \n",
    "    - You should also modify the train and test functions to reset the memory when you reset the sequence.\n",
    "    - You should consider an epoch to be feeding in approximately the number of characters in the dataset.\n",
    "    - You may run into issues if your dataset size/epochs are not a multiple of your batch size.\n",
    "1. Train on sentences instead of one long sequence.\n",
    "    - You should still produce output character by character.\n",
    "    - Sentences can end with a . ! ?, but words like Mr. generally do not end a sentence.\n",
    "    - A sentence may also continue in the case of quotations. For example: ``\"Do your homework!\" said the TAs.`` is only one sentence.\n",
    "    - Your parsing does not have to be perfect, but try to incorporate as many of these rules as you can.\n",
    "    - Feel free to use existing NLP tools for finding sentence endings. One is spacy: https://spacy.io/usage/linguistic-features#section-sbd\n",
    "    - All sentences should end with an <eos\\> token. Your output sampling should now stop when it produces the <eos\\> token.\n",
    "\n"
   ]
  },
  {
   "cell_type": "markdown",
   "metadata": {},
   "source": [
    "# Part 8.1: New Corpus\n",
    "Using a new corpus"
   ]
  },
  {
   "cell_type": "code",
   "execution_count": 12,
   "metadata": {},
   "outputs": [],
   "source": [
    "def prepare_data_doyle(data_path):\n",
    "    with open(data_path, encoding = \"ISO-8859-1\") as f:\n",
    "        # This reads all the data from the file, but does not do any processing on it.\n",
    "        data = f.read()\n",
    "    \n",
    "    # TODO Add more preprocessing\n",
    "    data = \" \".join(data.split())\n",
    "    voc2ind = {}\n",
    "    \n",
    "    nextNum = 0\n",
    "    # Compute voc2ind and transform the data into an integer representation of the tokens.\n",
    "    for char in data:\n",
    "        if char not in voc2ind.keys():\n",
    "            voc2ind[char] = nextNum\n",
    "            nextNum += 1\n",
    "\n",
    "\n",
    "    ind2voc = {val: key for key, val in voc2ind.items()}\n",
    "\n",
    "    endTrain = int(len(data) * 0.8)\n",
    "    \n",
    "    train_text = data[:endTrain]\n",
    "    train_text = torch.LongTensor([voc2ind[word] for word in train_text])\n",
    "    test_text = data[endTrain:]\n",
    "    test_text = torch.LongTensor([voc2ind[word] for word in test_text])\n",
    "    \n",
    "    pickle.dump({'tokens': train_text, 'ind2voc': ind2voc, 'voc2ind':voc2ind}, open(DATA_PATH + 'doyle_chars_train.pkl', 'wb'))\n",
    "    pickle.dump({'tokens': test_text, 'ind2voc': ind2voc, 'voc2ind':voc2ind}, open(DATA_PATH + 'doyle_chars_test.pkl', 'wb'))\n",
    "    \n",
    "prepare_data_doyle(DATA_PATH + 'd.txt')"
   ]
  },
  {
   "cell_type": "code",
   "execution_count": 13,
   "metadata": {
    "scrolled": true
   },
   "outputs": [
    {
     "name": "stdout",
     "output_type": "stream",
     "text": [
      "Using device cuda\n",
      "num workers: 16\n",
      "Restoring:\n",
      "encoder.weight -> \ttorch.Size([94, 512]) = 0MB\n",
      "gru.weight_ih_l0 -> \ttorch.Size([1536, 512]) = 3MB\n",
      "gru.weight_hh_l0 -> \ttorch.Size([1536, 512]) = 3MB\n",
      "gru.bias_ih_l0 -> \ttorch.Size([1536]) = 0MB\n",
      "gru.bias_hh_l0 -> \ttorch.Size([1536]) = 0MB\n",
      "decoder.weight -> \ttorch.Size([94, 512]) = 0MB\n",
      "decoder.bias -> \ttorch.Size([94]) = 0MB\n",
      "\n",
      "Restored all variables\n",
      "No new variables\n",
      "Restored /home/jefftian/Documents/21au/cse490g1/hw2content/checkpoints/doyle/020.pt\n",
      "Input\terversion of the facts. It lies with me to tell for the first time what really took place between Pro\n",
      "GT\trversion of the facts. It lies with me to tell for the first time what really took place between Prof\n",
      "pred\t ei   nn of the cacts  Tt waks teth ae th shll mor the sirst thme thit heally sh   arace tefween trof\n",
      "\n",
      "\n",
      "Input\ttruck me that he was looking even paler and thinner than usual. \"Yes, I have been using myself up rat\n",
      "GT\truck me that he was looking even paler and thinner than usual. \"Yes, I have been using myself up rath\n",
      "pred\tiict te that te was ainking aver sore  and shenked ohat ts all TIos, s save neen sseng ty elf tpoteth\n",
      "\n",
      "\n",
      "Input\tional as to allow me to leave your house presently by scrambling over your back garden wall.\" \"But wh\n",
      "GT\tonal as to allow me to leave your house presently by scrambling over your back garden wall.\" \"But wha\n",
      "pred\ten.l tn ih t l w te th seave tou  aause aresent y ae toiepbleng afer tour aeck arrden aisk   \"Iut tha\n",
      "\n",
      "\n",
      "Input\ter.\" \"Ay, there's the genius and the wonder of the thing\" he cried. \"The man pervades London, and no \n",
      "GT\tr.\" \"Ay, there's the genius and the wonder of the thing\" he cried. \"The man pervades London, and no o\n",
      "pred\tr,  \"In  she e s the crntastond she corder of the crrng  se sried  \"Ihe san wrrsice  tordon  and to d\n",
      "\n",
      "\n",
      "Input\tion, endowed by nature with a phenomenal mathematical faculty. At the age of twenty-one he wrote a tr\n",
      "GT\ton, endowed by nature with a phenomenal mathematical faculty. At the age of twenty-one he wrote a tre\n",
      "pred\tnn  avdeund ty tomura ohth a seoairantn santeretio l socelti  Tn the sce of thoety -r  ca waite t seu\n",
      "\n",
      "\n"
     ]
    },
    {
     "name": "stderr",
     "output_type": "stream",
     "text": [
      "\r",
      "  0%|                                                                                                                                                                                                                                                                                                                                                             | 0/196 [00:00<?, ?it/s]"
     ]
    },
    {
     "name": "stdout",
     "output_type": "stream",
     "text": [
      "\n",
      "Test set: Average loss: 1.4057, Perplexity: 1.0142, Accuracy: 739359/1254400 (59%)\n",
      "\n"
     ]
    },
    {
     "name": "stderr",
     "output_type": "stream",
     "text": [
      "100%|███████████████████████████████████████████████████████████████████████████████████████████████████████████████████████████████████████████████████████████████████████████████████████████████████████████████████████████████████████████████████████████████████████████████████████████████████████████████████████████████████████████████████| 196/196 [00:05<00:00, 36.81it/s]\n"
     ]
    },
    {
     "name": "stdout",
     "output_type": "stream",
     "text": [
      "Input\terversion of the facts. It lies with me to tell for the first time what really took place between Pro\n",
      "GT\trversion of the facts. It lies with me to tell for the first time what really took place between Prof\n",
      "pred\t  i   nn of the cicts  Tt wees aeth ae oh shll yor ahe sirst thme ohit heally sh   arace aefween trof\n",
      "\n",
      "\n",
      "Input\ttruck me that he was looking even paler and thinner than usual. \"Yes, I have been using myself up rat\n",
      "GT\truck me that he was looking even paler and thinner than usual. \"Yes, I have been using myself up rath\n",
      "pred\tiict te that te was aenking aver arre  and shenkes ohat ts all TIos, s save neen sseng ty elf tpoteth\n",
      "\n",
      "\n",
      "Input\tional as to allow me to leave your house presently by scrambling over your back garden wall.\" \"But wh\n",
      "GT\tonal as to allow me to leave your house presently by scrambling over your back garden wall.\" \"But wha\n",
      "pred\ten.l sn ih t l w ae th seave tou  aause aresent y ae torepbleng afer tou  aeck arvden aisk   \"Iut tha\n",
      "\n",
      "\n",
      "Input\ter.\" \"Ay, there's the genius and the wonder of the thing\" he cried. \"The man pervades London, and no \n",
      "GT\tr.\" \"Ay, there's the genius and the wonder of the thing\" he cried. \"The man pervades London, and no o\n",
      "pred\tn,  \"In  she e s ahe crntas ond she cirder of the cring  \"e sried  \"Ihe san wrrsice  aordon  and to d\n",
      "\n",
      "\n",
      "Input\tion, endowed by nature with a phenomenal mathematical faculty. At the age of twenty-one he wrote a tr\n",
      "GT\ton, endowed by nature with a phenomenal mathematical faculty. At the age of twenty-one he wrote a tre\n",
      "pred\tnn  avdeuid ty tomura oath a seoaerantn santereneo l socelti  Tn the sce of thonty -f  ca waote anlea\n",
      "\n",
      "\n",
      "\n",
      "Test set: Average loss: 1.4106, Perplexity: 1.0142, Accuracy: 736420/1254400 (59%)\n",
      "\n",
      "Saved /home/jefftian/Documents/21au/cse490g1/hw2content/checkpoints/doyle/020.pt\n",
      "\n",
      "generated max\t\t Holmes, Watson, and Moriarty walk into a bar. The second service was a strange street and so such a strange street and sent the street of the corner of the corner of the corner of the corner of the corner of the corner of the corner of the corner\n",
      "generated sample\t Holmes, Watson, and Moriarty walk into a bar. \"I shall sugge the summity of page of the way and then in the corner of hi works. I was in the strange figure and sent in the more of th soulanties were so for a most servant of th second sense near i\n",
      "generated sample\t Holmes, Watson, and Moriarty walk into a bar. \"You say she were a blee chair which I had the past of his evening and such a second wife a struggle showed at the chair of the chair and man which he left us and the result in the station of the wind\n",
      "generated sample\t Holmes, Watson, and Moriarty walk into a bar. The near was in an instant which would be some spreaming. \"The most sign of the corres of the corridors and such a man which had left the professor which on evening street as yet is a person in the sh\n",
      "generated sample\t Holmes, Watson, and Moriarty walk into a bar. He stood the strange possible beard of the story from his interest before he wrother the corribor of the character of the person which was so be seen a fellow which were the most of start of the morni\n",
      "generated sample\t Holmes, Watson, and Moriarty walk into a bar. Dor will sing as my life safe and continue that which the servants are the securant presant for a letter man which had been put in his new by him brough the place of th man who had taken out after the\n",
      "generated sample\t Holmes, Watson, and Moriarty walk into a bar. I stare for a good seache careful corrossion and since even in second the dea in his and figure as fairly. It was the question of the window, and so we were been to start in which he had surprised at \n",
      "generated sample\t Holmes, Watson, and Moriarty walk into a bar. The one part of the position of th books of the more of the hundred from the corrodous prison clain out of the stables, and the client street between a very sort who had been such a second clearing th\n",
      "generated sample\t Holmes, Watson, and Moriarty walk into a bar. \"I should all suffered him, and I was not under the mind of the patte street in his need. And a most struggles of the condstant in the morning of the pendence which all tell me the subber in a head of\n",
      "generated sample\t Holmes, Watson, and Moriarty walk into a bar. Holmes, if he had the corride of the more of the presence of the corres of the centre of th matter and a share and sending picket of the police of the fate of the condon in a state of little replicare\n",
      "generated sample\t Holmes, Watson, and Moriarty walk into a bar. \"You do you see what you should not see that it was on th matter from an instant little three of my shoulders. Holmes were through th such a strange of the person of the corner stood of the case of th\n",
      "generated beam\t\t Holmes, Watson, and Moriarty walk into a bar. The second service was a second service of the side, and the character was a surprise of such a periou and so surprised the person was started for a poor weel what we heard the attempt of two place wh\n",
      "\n",
      "Saving final model\n",
      "Saved /home/jefftian/Documents/21au/cse490g1/hw2content/checkpoints/doyle/020.pt\n",
      "\n"
     ]
    },
    {
     "data": {
      "image/png": "[encoded data removed]",
      "text/plain": [
       "<Figure size 1440x720 with 1 Axes>"
      ]
     },
     "metadata": {
      "needs_background": "light"
     },
     "output_type": "display_data"
    },
    {
     "data": {
      "image/png": "[encoded data removed]",
      "text/plain": [
       "<Figure size 1440x720 with 1 Axes>"
      ]
     },
     "metadata": {
      "needs_background": "light"
     },
     "output_type": "display_data"
    },
    {
     "data": {
      "image/png": "[encoded data removed]",
      "text/plain": [
       "<Figure size 1440x720 with 1 Axes>"
      ]
     },
     "metadata": {
      "needs_background": "light"
     },
     "output_type": "display_data"
    },
    {
     "data": {
      "image/png": "[encoded data removed]",
      "text/plain": [
       "<Figure size 1440x720 with 1 Axes>"
      ]
     },
     "metadata": {
      "needs_background": "light"
     },
     "output_type": "display_data"
    },
    {
     "data": {
      "image/png": "[encoded data removed]",
      "text/plain": [
       "<Figure size 1440x720 with 1 Axes>"
      ]
     },
     "metadata": {
      "needs_background": "light"
     },
     "output_type": "display_data"
    }
   ],
   "source": [
    "def doyle_main():\n",
    "    SEQUENCE_LENGTH = 100\n",
    "    BATCH_SIZE = 256\n",
    "    FEATURE_SIZE = 512\n",
    "    TEST_BATCH_SIZE = 256\n",
    "    EPOCHS = 20\n",
    "    LEARNING_RATE = 0.002\n",
    "    WEIGHT_DECAY = 0.0005\n",
    "    USE_CUDA = True\n",
    "    PRINT_INTERVAL = 10\n",
    "    LOG_PATH = DATA_PATH + 'logs/doyle/log.pkl'\n",
    "\n",
    "\n",
    "    data_train = HarryPotterDataset(DATA_PATH + 'doyle_chars_train.pkl', SEQUENCE_LENGTH, BATCH_SIZE)\n",
    "    data_test = HarryPotterDataset(DATA_PATH + 'doyle_chars_test.pkl', SEQUENCE_LENGTH, TEST_BATCH_SIZE)\n",
    "    vocab = data_train.vocab\n",
    "\n",
    "    use_cuda = USE_CUDA and torch.cuda.is_available()\n",
    "\n",
    "    device = torch.device(\"cuda\" if use_cuda else \"cpu\")\n",
    "    print('Using device', device)\n",
    "    import multiprocessing\n",
    "    num_workers = multiprocessing.cpu_count()\n",
    "    print('num workers:', num_workers)\n",
    "\n",
    "    kwargs = {'num_workers': num_workers,\n",
    "              'pin_memory': True} if use_cuda else {}\n",
    "\n",
    "    train_loader = torch.utils.data.DataLoader(data_train, batch_size=BATCH_SIZE,\n",
    "                                               shuffle=False, **kwargs)\n",
    "    test_loader = torch.utils.data.DataLoader(data_test, batch_size=TEST_BATCH_SIZE,\n",
    "                                              shuffle=False, **kwargs)\n",
    "\n",
    "    model = HarryPotterNet(data_train.vocab_size(), FEATURE_SIZE).to(device)\n",
    "\n",
    "    # Adam is an optimizer like SGD but a bit fancier. It tends to work faster and better than SGD.\n",
    "    # We will talk more about different optimization methods in class.\n",
    "    optimizer = optim.Adam(model.parameters(), lr=LEARNING_RATE, weight_decay=WEIGHT_DECAY)\n",
    "    start_epoch = model.load_last_model(DATA_PATH + 'checkpoints/doyle/')\n",
    "\n",
    "    # modified\n",
    "    train_losses, test_losses, test_accuracies, train_perp, test_perp = pt_util.read_log(LOG_PATH, ([], [], [], [], []))\n",
    "    test_loss, test_accuracy = test(model, device, test_loader)\n",
    "\n",
    "    test_losses.append((start_epoch, test_loss))\n",
    "    test_perp.append((start_epoch, np.exp(test_loss))) # modified\n",
    "    test_accuracies.append((start_epoch, test_accuracy))\n",
    "\n",
    "    try:\n",
    "        for epoch in range(start_epoch, EPOCHS + 1):\n",
    "            lr = LEARNING_RATE * np.power(0.25, (int(epoch / 6)))\n",
    "            train_loss = train(model, device, optimizer, train_loader, lr, epoch, PRINT_INTERVAL)\n",
    "            test_loss, test_accuracy = test(model, device, test_loader)\n",
    "            train_losses.append((epoch, train_loss))\n",
    "            train_perp.append((epoch, np.exp(train_loss))) # modified\n",
    "            test_losses.append((epoch, test_loss))\n",
    "            test_perp.append((epoch, np.exp(test_loss))) # modified\n",
    "            test_accuracies.append((epoch, test_accuracy))\n",
    "            pt_util.write_log(LOG_PATH, (train_losses, test_losses, test_accuracies, train_perp, test_perp)) # modified\n",
    "            model.save_best_model(test_accuracy, DATA_PATH + 'checkpoints/doyle/%03d.pt' % epoch)\n",
    "            seed_words = 'Holmes, Watson, and Moriarty walk into a bar. '\n",
    "            generated_sentence = generate_language(model, device, seed_words, 200, vocab, 'max')\n",
    "            print('generated max\\t\\t', generated_sentence)\n",
    "            for ii in range(10):\n",
    "                generated_sentence = generate_language(model, device, seed_words, 200, vocab, 'sample')\n",
    "                print('generated sample\\t', generated_sentence)\n",
    "            generated_sentence = generate_language(model, device, seed_words, 200, vocab, 'beam')\n",
    "            print('generated beam\\t\\t', generated_sentence)\n",
    "            print('')\n",
    "\n",
    "    except KeyboardInterrupt as ke:\n",
    "        print('Interrupted')\n",
    "    except:\n",
    "        import traceback\n",
    "        traceback.print_exc()\n",
    "    finally:\n",
    "        print('Saving final model')\n",
    "        model.save_model(DATA_PATH + 'checkpoints/doyle/%03d.pt' % epoch, 0)\n",
    "        ep, val = zip(*train_losses)\n",
    "        pt_util.plot(ep, val, 'Train loss', 'Epoch', 'Error')\n",
    "        ep, val = zip(*test_losses)\n",
    "        pt_util.plot(ep, val, 'Test loss', 'Epoch', 'Error')\n",
    "        ep, val = zip(*test_accuracies)\n",
    "        pt_util.plot(ep, val, 'Test accuracy', 'Epoch', 'Accuracy')\n",
    "        ep, val = zip(*train_perp) # modified\n",
    "        pt_util.plot(ep, val, 'Train perplexity', 'Epoch', 'Perplexity')\n",
    "        ep, val = zip(*test_perp)\n",
    "        pt_util.plot(ep, val, 'Test perplexity', 'Epoch', 'Perplexity') # modified\n",
    "        return model, vocab, device\n",
    "\n",
    "final_model_doyle, vocab_doyle, device = doyle_main()"
   ]
  },
  {
   "cell_type": "code",
   "execution_count": 14,
   "metadata": {
    "scrolled": true
   },
   "outputs": [
    {
     "name": "stdout",
     "output_type": "stream",
     "text": [
      "generated with max\t Sherlock Holmes and the chair was a strange street and so such a strange street and sent the street of the corner of the corner of the corner of the corner of the corner of the corner of the corner of the corner of the corn\n",
      "generated with sample\t Sherlock Holmes and the matter of the carriage of the air. The one of the contrades were on the paper of th presport of the country details and so far as muttered in the candal eyes of the chair of the particular be second \n",
      "generated with sample\t Sherlock Holmes and the proble was which had protice the patter of the chair and so far as I was a man of th charage, and the study was a letter and the rest of the south of the window of the present of the more who were su\n",
      "generated with sample\t Sherlock Holmes and the self-strange creat which was a strange presence of the story of the chair from th matter and made me the plants of the part of the chair which was open down the word so determined the window and was \n",
      "generated with sample\t Sherlock Holmes and the matter which would have been so such a start and so far as it was a paper and the charle of the house which we were singular which we should can be send on the creature of the stairs and th blood bef\n",
      "generated with sample\t Sherlock Holmes and the reason to see me to great the man such a strange of the papers of the carret with a blow and one who was no sign of his head in a certain and so far against the strange still with the som which for a\n",
      "generated with sample\t Sherlock Holmes and the study should be no dear of it. \"What would sure you that you have surely surprise a that we shall see how with a subber than continue. It is colled to be more never see the means of partile and stret\n",
      "generated with sample\t Sherlock Holmes and the clear of the secuets of his lenger which we saw that the person was a secret friend of the creater of the paper and detection of the survies of the street. I think that the care are the case which th\n",
      "generated with sample\t Sherlock Holmes and the stairs of the character was a be as a such a strange name before he pushed to be in our own feet-- which should be the rest of the street. I saw that we stood all the second of the terrible provise i\n",
      "generated with sample\t Sherlock Holmes and the last care of the story of such a street and the creature of little solities at the chance of the solution o the cord and sort of the case of the wall which were so strong fow in the weeks of the patt\n",
      "generated with sample\t Sherlock Holmes and the devile of the corner of the man who was out at the never was after the second of th such a strange of the best of the same present for he sente the chair and the creature of the dead pripane of the s\n",
      "generated with beam\t Sherlock Holmes and the chair was a strange street like a perfect of the man of the story and flace as the strange of interest which we could ever seen the astempt o the state. The person was not a thing of th matter of the\n",
      "generated with beam\t Sherlock Holmes and the chair was a strange strange from the face which would not see the history of his astiona chair and an excellent face \"I should should be a such as the rest points of the matter in the man who we have\n",
      "generated with beam\t Sherlock Holmes and the chair was a strange street, my surprise and man you at all a best of th contern more strange in the police of the end of the chair from he had been deal of the cap of been seen at the house was in hi\n",
      "generated with beam\t Sherlock Holmes and the chair was a strange street which we have no doubt that we can see him a pleasure of the point dead of the last which are made and she surprised in the centre of the bed a few shotly be some sudden hi\n",
      "generated with beam\t Sherlock Holmes and the chair was a strange street. The carrie o his emotion which we can see the chick which strange confurned and plase we were an event little great interest but for a time which was cry out of the corrid\n",
      "generated with beam\t Sherlock Holmes and the chair was a strange street part of the facts which I found the strange and the street, and the conscious carriage of the chair and a few creath and solution of the centre of th end of the carage was \n",
      "generated with beam\t Sherlock Holmes and the chair was a strange street and all the first and plantance in him when I wonder a few contrysional suppered which looked at the sort of the point so far as should be a pleasure of a long dear street \n",
      "generated with beam\t Sherlock Holmes and the chair was a strange street and strange on the street in the corner of the very singular his own street which he was with a large and the case of th still she came with a street and clearly and sort o\n",
      "generated with beam\t Sherlock Holmes and the chair was a strange street clearing, and so we stood upon his shoulders. \"How can indeed my case is the rest particular of the cord of the study in the prison of the sight. It is a week in the second\n",
      "generated with beam\t Sherlock Holmes and the chair was a strange street. A shall be a letter sending to his head and a story were showed th story and on the state which I have grought to see a breath street and charactice second searchame even \n"
     ]
    }
   ],
   "source": [
    "def eval_final_model_doyle(model, vocab, device):\n",
    "    seed_words = 'Sherlock Holmes and the'\n",
    "    sequence_length = 200\n",
    "\n",
    "    \n",
    "    generated_sentence = generate_language(model, device, seed_words, sequence_length, vocab, 'max')\n",
    "    print('generated with max\\t', generated_sentence)\n",
    "\n",
    "    for ii in range(10):\n",
    "        generated_sentence = generate_language(model, device, seed_words, sequence_length, vocab, 'sample')\n",
    "        print('generated with sample\\t', generated_sentence)\n",
    "\n",
    "    for ii in range(10):\n",
    "        generated_sentence = generate_language(model, device, seed_words, sequence_length, vocab, 'beam')\n",
    "        print('generated with beam\\t', generated_sentence)\n",
    "\n",
    "eval_final_model_doyle(final_model_doyle, vocab_doyle, device)"
   ]
  },
  {
   "cell_type": "markdown",
   "metadata": {},
   "source": [
    "# Part 8.2: New Architecture\n",
    "Using a new architecture"
   ]
  },
  {
   "cell_type": "code",
   "execution_count": 15,
   "metadata": {},
   "outputs": [],
   "source": [
    "# 2 layers, 1024 feature size 56%\n",
    "# 2 layers, 1024 feature size no weight sharing 61%\n",
    "# 4 layers, 256 feature size 60%\n",
    "# 4 layers, 512 feature size 60%\n",
    "# 5 layers, 512 feature size 57%\n",
    "# 3 layers, 512 feature size 60%\n",
    "# 3 layers, 700 feature size 60%\n",
    "# 3 layers, 700 feature size weight sharing 60%\n"
   ]
  },
  {
   "cell_type": "code",
   "execution_count": 16,
   "metadata": {},
   "outputs": [],
   "source": [
    "TEMPERATURE = 0.5\n",
    "\n",
    "class CustomGRUNet(nn.Module):\n",
    "    def __init__(self, vocab_size, feature_size, num_layers=1):\n",
    "        super(CustomGRUNet, self).__init__()\n",
    "        self.vocab_size = vocab_size\n",
    "        self.feature_size = feature_size\n",
    "        self.encoder = nn.Embedding(self.vocab_size, self.feature_size)\n",
    "        self.gru = nn.GRU(self.feature_size, self.feature_size, num_layers=num_layers, batch_first=True)\n",
    "        self.decoder = nn.Linear(self.feature_size, self.vocab_size)\n",
    "        \n",
    "        # This shares the encoder and decoder weights as described in lecture.\n",
    "#         self.decoder.weight = self.encoder.weight\n",
    "#         self.decoder.bias.data.zero_()\n",
    "        \n",
    "        self.best_accuracy = -1\n",
    "    \n",
    "    def forward(self, x, hidden_state=None):\n",
    "        batch_size = x.shape[0]\n",
    "        sequence_length = x.shape[1]\n",
    "        \n",
    "        # TODO finish defining the forward pass.\n",
    "        # You should return the output from the decoder as well as the hidden state given by the gru.\n",
    "        encoded = self.encoder(x)\n",
    "        gru_output, hidden_state = self.gru(encoded, hidden_state)\n",
    "        out = self.decoder(gru_output)\n",
    "        \n",
    "\n",
    "        return out, hidden_state\n",
    "\n",
    "    # This defines the function that gives a probability distribution and implements the temperature computation.\n",
    "    def inference(self, x, hidden_state=None, temperature=1):\n",
    "        x = x.view(-1, 1)\n",
    "        x, hidden_state = self.forward(x, hidden_state)\n",
    "        x = x.view(1, -1)\n",
    "        x = x / max(temperature, 1e-20)\n",
    "        x = F.softmax(x, dim=1)\n",
    "        return x, hidden_state\n",
    "\n",
    "    # Predefined loss function\n",
    "    def loss(self, prediction, label, reduction='mean'):\n",
    "        loss_val = F.cross_entropy(prediction.view(-1, self.vocab_size), label.view(-1), reduction=reduction)\n",
    "        return loss_val\n",
    "\n",
    "    # Saves the current model\n",
    "    def save_model(self, file_path, num_to_keep=1):\n",
    "        pt_util.save(self, file_path, num_to_keep)\n",
    "\n",
    "    # Saves the best model so far\n",
    "    def save_best_model(self, accuracy, file_path, num_to_keep=1):\n",
    "        if accuracy > self.best_accuracy:\n",
    "            self.save_model(file_path, num_to_keep)\n",
    "            self.best_accuracy = accuracy\n",
    "\n",
    "    def load_model(self, file_path):\n",
    "        pt_util.restore(self, file_path)\n",
    "\n",
    "    def load_last_model(self, dir_path):\n",
    "        return pt_util.restore_latest(self, dir_path)"
   ]
  },
  {
   "cell_type": "code",
   "execution_count": 17,
   "metadata": {
    "scrolled": true
   },
   "outputs": [
    {
     "name": "stdout",
     "output_type": "stream",
     "text": [
      "Using device cuda\n",
      "num workers: 16\n",
      "Restoring:\n",
      "encoder.weight -> \ttorch.Size([94, 1024]) = 0MB\n",
      "gru.weight_ih_l0 -> \ttorch.Size([3072, 1024]) = 12MB\n",
      "gru.weight_hh_l0 -> \ttorch.Size([3072, 1024]) = 12MB\n",
      "gru.bias_ih_l0 -> \ttorch.Size([3072]) = 0MB\n",
      "gru.bias_hh_l0 -> \ttorch.Size([3072]) = 0MB\n",
      "gru.weight_ih_l1 -> \ttorch.Size([3072, 1024]) = 12MB\n",
      "gru.weight_hh_l1 -> \ttorch.Size([3072, 1024]) = 12MB\n",
      "gru.bias_ih_l1 -> \ttorch.Size([3072]) = 0MB\n",
      "gru.bias_hh_l1 -> \ttorch.Size([3072]) = 0MB\n",
      "decoder.weight -> \ttorch.Size([94, 1024]) = 0MB\n",
      "decoder.bias -> \ttorch.Size([94]) = 0MB\n",
      "\n",
      "Restored all variables\n",
      "No new variables\n",
      "Restored /home/jefftian/Documents/21au/cse490g1/hw2content/checkpoints/CustomGRU/020.pt\n",
      "Input\terversion of the facts. It lies with me to tell for the first time what really took place between Pro\n",
      "GT\trversion of the facts. It lies with me to tell for the first time what really took place between Prof\n",
      "pred\t  id  nn of the sicts  It woes teth ay to thll yor the sirst ohme thit ieadly th   trace aetween trof\n",
      "\n",
      "\n",
      "Input\ttruck me that he was looking even paler and thinner than usual. \"Yes, I have been using myself up rat\n",
      "GT\truck me that he was looking even paler and thinner than usual. \"Yes, I have been using myself up rath\n",
      "pred\tuack ty toat te was ainking aver tosi  and theskidsooat ts all IWos, I save neen aneng ty elf tpototi\n",
      "\n",
      "\n",
      "Input\tional as to allow me to leave your house presently by scrambling over your back garden wall.\" \"But wh\n",
      "GT\tonal as to allow me to leave your house presently by scrambling over your back garden wall.\" \"But wha\n",
      "pred\tnu l tn th t l w ty to teave tou  oause arosent y te toiepbleng tfer tour prck trrden aisk   \"Wut iha\n",
      "\n",
      "\n",
      "Input\ter.\" \"Ay, there's the genius and the wonder of the thing\" he cried. \"The man pervades London, and no \n",
      "GT\tr.\" \"Ay, there's the genius and the wonder of the thing\" he cried. \"The man pervades London, and no o\n",
      "pred\tde  \"Wn  ahe e s ahe srntos ond the sorder of the sring  \"e woied  \"Whe mon wrrsiied tordon, tnd totd\n",
      "\n",
      "\n",
      "Input\tion, endowed by nature with a phenomenal mathematical faculty. At the age of twenty-one he wrote a tr\n",
      "GT\ton, endowed by nature with a phenomenal mathematical faculty. At the age of twenty-one he wrote a tre\n",
      "pred\tnu  avdeu d ty tomure ohth a soor ren   pantorenio l sacesti  T  the sne of thonty -ue wa waote t shu\n",
      "\n",
      "\n"
     ]
    },
    {
     "name": "stderr",
     "output_type": "stream",
     "text": [
      "\r",
      "  0%|                                                                                                                                                                                                                                                                                                                                                             | 0/196 [00:00<?, ?it/s]"
     ]
    },
    {
     "name": "stdout",
     "output_type": "stream",
     "text": [
      "\n",
      "Test set: Average loss: 1.3710, Perplexity: 1.0138, Accuracy: 746534/1254400 (60%)\n",
      "\n"
     ]
    },
    {
     "name": "stderr",
     "output_type": "stream",
     "text": [
      "100%|███████████████████████████████████████████████████████████████████████████████████████████████████████████████████████████████████████████████████████████████████████████████████████████████████████████████████████████████████████████████████████████████████████████████████████████████████████████████████████████████████████████████████| 196/196 [00:26<00:00,  7.37it/s]\n"
     ]
    },
    {
     "name": "stdout",
     "output_type": "stream",
     "text": [
      "Input\terversion of the facts. It lies with me to tell for the first time what really took place between Pro\n",
      "GT\trversion of the facts. It lies with me to tell for the first time what really took place between Prof\n",
      "pred\t  id  nn of the sices  T  woes thth ay to bhll yor the sirst ohme thit ieally th   trace oe ween tref\n",
      "\n",
      "\n",
      "Input\ttruck me that he was looking even paler and thinner than usual. \"Yes, I have been using myself up rat\n",
      "GT\truck me that he was looking even paler and thinner than usual. \"Yes, I have been using myself up rath\n",
      "pred\teact ty toat te was aonking ayer trse  ond sheskid ooat ts al  IWos, I save neen an ng ty elf tpototh\n",
      "\n",
      "\n",
      "Input\tional as to allow me to leave your house presently by scrambling over your back garden wall.\" \"But wh\n",
      "GT\tonal as to allow me to leave your house presently by scrambling over your back garden wall.\" \"But wha\n",
      "pred\tnu l tn th tnl w ty to boave tou  pause irosent y ae toiepbleng afer tour frck trrden aisk   \"Wet iha\n",
      "\n",
      "\n",
      "Input\ter.\" \"Ay, there's the genius and the wonder of the thing\" he cried. \"The man pervades London, and no \n",
      "GT\tr.\" \"Ay, there's the genius and the wonder of the thing\" he cried. \"The man pervades London, and no o\n",
      "pred\tde  \"Wn  ahe e s ahe srntos ond the sorder of the sring  \"e soied  \"Whe san wrrsined tordon, tnd to d\n",
      "\n",
      "\n",
      "Input\tion, endowed by nature with a phenomenal mathematical faculty. At the age of twenty-one he wrote a tr\n",
      "GT\ton, endowed by nature with a phenomenal mathematical faculty. At the age of twenty-one he wrote a tre\n",
      "pred\tnu  ander d ty tomura ohth a sror ran n pantorenio l pacelti  Tn the snenof thonty -re wa waote tnsha\n",
      "\n",
      "\n",
      "\n",
      "Test set: Average loss: 1.3773, Perplexity: 1.0139, Accuracy: 745974/1254400 (59%)\n",
      "\n",
      "Saved /home/jefftian/Documents/21au/cse490g1/hw2content/checkpoints/CustomGRU/020.pt\n",
      "\n",
      "\n",
      "Saving final model\n",
      "Saved /home/jefftian/Documents/21au/cse490g1/hw2content/checkpoints/CustomGRU/020.pt\n",
      "\n"
     ]
    },
    {
     "data": {
      "image/png": "[encoded data removed]",
      "text/plain": [
       "<Figure size 1440x720 with 1 Axes>"
      ]
     },
     "metadata": {
      "needs_background": "light"
     },
     "output_type": "display_data"
    },
    {
     "data": {
      "image/png": "[encoded data removed]",
      "text/plain": [
       "<Figure size 1440x720 with 1 Axes>"
      ]
     },
     "metadata": {
      "needs_background": "light"
     },
     "output_type": "display_data"
    },
    {
     "data": {
      "image/png": "[encoded data removed]",
      "text/plain": [
       "<Figure size 1440x720 with 1 Axes>"
      ]
     },
     "metadata": {
      "needs_background": "light"
     },
     "output_type": "display_data"
    },
    {
     "data": {
      "image/png": "[encoded data removed]",
      "text/plain": [
       "<Figure size 1440x720 with 1 Axes>"
      ]
     },
     "metadata": {
      "needs_background": "light"
     },
     "output_type": "display_data"
    },
    {
     "data": {
      "image/png": "[encoded data removed]",
      "text/plain": [
       "<Figure size 1440x720 with 1 Axes>"
      ]
     },
     "metadata": {
      "needs_background": "light"
     },
     "output_type": "display_data"
    }
   ],
   "source": [
    "def main_custom():\n",
    "    SEQUENCE_LENGTH = 100\n",
    "    BATCH_SIZE = 256\n",
    "    FEATURE_SIZE = 1024\n",
    "    NUM_LAYERS = 2\n",
    "    TEST_BATCH_SIZE = 256\n",
    "    EPOCHS = 20\n",
    "    LEARNING_RATE = 0.002\n",
    "    WEIGHT_DECAY = 0.0005\n",
    "    USE_CUDA = True\n",
    "    PRINT_INTERVAL = 10\n",
    "#     VERSION = 'hp2.3'\n",
    "    VERSION = 'CustomGRU'\n",
    "    LOG_PATH = DATA_PATH + 'logs/' + VERSION + '/log.pkl'\n",
    "\n",
    "\n",
    "    data_train = HarryPotterDataset(DATA_PATH + 'doyle_chars_train.pkl', SEQUENCE_LENGTH, BATCH_SIZE)\n",
    "    data_test = HarryPotterDataset(DATA_PATH + 'doyle_chars_test.pkl', SEQUENCE_LENGTH, TEST_BATCH_SIZE)\n",
    "    vocab = data_train.vocab\n",
    "\n",
    "    use_cuda = USE_CUDA and torch.cuda.is_available()\n",
    "\n",
    "    device = torch.device(\"cuda\" if use_cuda else \"cpu\")\n",
    "    print('Using device', device)\n",
    "    import multiprocessing\n",
    "    num_workers = multiprocessing.cpu_count()\n",
    "    print('num workers:', num_workers)\n",
    "\n",
    "    kwargs = {'num_workers': num_workers,\n",
    "              'pin_memory': True} if use_cuda else {}\n",
    "\n",
    "    train_loader = torch.utils.data.DataLoader(data_train, batch_size=BATCH_SIZE,\n",
    "                                               shuffle=False, **kwargs)\n",
    "    test_loader = torch.utils.data.DataLoader(data_test, batch_size=TEST_BATCH_SIZE,\n",
    "                                              shuffle=False, **kwargs)\n",
    "\n",
    "    model = CustomGRUNet(data_train.vocab_size(), FEATURE_SIZE, NUM_LAYERS).to(device)\n",
    "\n",
    "    # Adam is an optimizer like SGD but a bit fancier. It tends to work faster and better than SGD.\n",
    "    # We will talk more about different optimization methods in class.\n",
    "    optimizer = optim.Adam(model.parameters(), lr=LEARNING_RATE, weight_decay=WEIGHT_DECAY)\n",
    "    start_epoch = model.load_last_model(DATA_PATH + 'checkpoints/' + VERSION + '/')\n",
    "\n",
    "    # modified\n",
    "    train_losses, test_losses, test_accuracies, train_perp, test_perp = pt_util.read_log(LOG_PATH, ([], [], [], [], []))\n",
    "    test_loss, test_accuracy = test(model, device, test_loader)\n",
    "\n",
    "    test_losses.append((start_epoch, test_loss))\n",
    "    test_perp.append((start_epoch, np.exp(test_loss))) # modified\n",
    "    test_accuracies.append((start_epoch, test_accuracy))\n",
    "\n",
    "    try:\n",
    "        for epoch in range(start_epoch, EPOCHS + 1):\n",
    "            lr = LEARNING_RATE * np.power(0.25, (int(epoch / 6)))\n",
    "            train_loss = train(model, device, optimizer, train_loader, lr, epoch, PRINT_INTERVAL)\n",
    "            test_loss, test_accuracy = test(model, device, test_loader)\n",
    "            train_losses.append((epoch, train_loss))\n",
    "            train_perp.append((epoch, np.exp(train_loss))) # modified\n",
    "            test_losses.append((epoch, test_loss))\n",
    "            test_perp.append((epoch, np.exp(test_loss))) # modified\n",
    "            test_accuracies.append((epoch, test_accuracy))\n",
    "            pt_util.write_log(LOG_PATH, (train_losses, test_losses, test_accuracies, train_perp, test_perp))\n",
    "            model.save_best_model(test_accuracy, DATA_PATH + 'checkpoints/' + VERSION + '/%03d.pt' % epoch)\n",
    "#             seed_words = 'Harry Potter, Voldemort, and Dumbledore walk into a bar. '\n",
    "#             generated_sentence = generate_language(model, device, seed_words, 200, vocab, 'max')\n",
    "#             print('generated max\\t\\t', generated_sentence)\n",
    "#             for ii in range(10):\n",
    "#                 generated_sentence = generate_language(model, device, seed_words, 200, vocab, 'sample')\n",
    "#                 print('generated sample\\t', generated_sentence)\n",
    "#             generated_sentence = generate_language(model, device, seed_words, 200, vocab, 'beam')\n",
    "#             print('generated beam\\t\\t', generated_sentence)\n",
    "            print('')\n",
    "\n",
    "    except KeyboardInterrupt as ke:\n",
    "        print('Interrupted')\n",
    "    except:\n",
    "        import traceback\n",
    "        traceback.print_exc()\n",
    "    finally:\n",
    "        print('Saving final model')\n",
    "        model.save_model(DATA_PATH + 'checkpoints/' + VERSION + '/%03d.pt' % epoch, 0)\n",
    "        ep, val = zip(*train_losses)\n",
    "        pt_util.plot(ep, val, 'Train loss', 'Epoch', 'Error')\n",
    "        ep, val = zip(*test_losses)\n",
    "        pt_util.plot(ep, val, 'Test loss', 'Epoch', 'Error')\n",
    "        ep, val = zip(*test_accuracies)\n",
    "        pt_util.plot(ep, val, 'Test accuracy', 'Epoch', 'Accuracy')\n",
    "        ep, val = zip(*train_perp) # modified\n",
    "        pt_util.plot(ep, val, 'Train perplexity', 'Epoch', 'Perplexity')\n",
    "        ep, val = zip(*test_perp)\n",
    "        pt_util.plot(ep, val, 'Test perplexity', 'Epoch', 'Perplexity') # modified\n",
    "        return model, vocab, device\n",
    "\n",
    "custom_model, vocab, device = main_custom()"
   ]
  },
  {
   "cell_type": "code",
   "execution_count": 18,
   "metadata": {
    "scrolled": false
   },
   "outputs": [
    {
     "name": "stdout",
     "output_type": "stream",
     "text": [
      "generated with max\t Sherlock Holmes and the chair was a strange street and so such a strange street and sent the street of the corner of the corner of the corner of the corner of the corner of the corner of the corner of the corner of the corn\n",
      "generated with sample\t Sherlock Holmes and the same in the death of the street. \"You see you that the man start in the correspon the centre of the sort of succession \"You can see for \"She must leave you the Crample of the men? \"We have been a lon\n",
      "generated with sample\t Sherlock Holmes and the best start of such a whole men who was remarkable for an servants for a message street and his sense until the other was a bed of the last which come the table of the man which we had been no reason \n",
      "generated with sample\t Sherlock Holmes and the broad with a person which are companied with some strange office \"and you do you seem to see a person in the letter which we should find in the business which were all the presents of the creature wi\n",
      "generated with sample\t Sherlock Holmes and the character with the person of the rest of into the best of the caree of the train which we can spot a bit of a very natural end out of the best to the case of the second walk of his note which were co\n",
      "generated with sample\t Sherlock Holmes and them warned a man in the short whether we have so large cracking of the fellow half a servant and carriage as still stare and sprange sign of the deal of the seal of the meants of the second and sale fac\n",
      "generated with sample\t Sherlock Holmes and the man was standing a street dead was be some such of carriage of th person for a shelf and considerable prettit for all sitting his own station which was a such as a corridor skill tha he hav been send\n",
      "generated with sample\t Sherlock Holmes and the end of the dead of the chair and more companion and the hands with a chair and the charm in a great expense of silence and began to a wear. The place was never out for a man who was only the study cr\n",
      "generated with sample\t Sherlock Holmes and the carriage of a few of his silent silent soble we have got a few heart of which we sent some strange for some departical signal story which we can had such to the companion of the results which she was\n",
      "generated with sample\t Sherlock Holmes and the street of the morning of the Alentie plassing which I will see that he was a smile and ended the creature of the few breakfast which we were seen for a most have been a strange secret from his wife a\n",
      "generated with sample\t Sherlock Holmes and the master was a new strange and strange of the daring of the reason of the centre of the propers which I have been past the character of the pipe of the resurman who was no refuse of the pression of th \n",
      "generated with beam\t Sherlock Holmes and the chair was a strange street of the street and one of th adverties, and we let us to see the stable was on of the cabbe story and the state of the senden and a house of the street and sound the person \n",
      "generated with beam\t Sherlock Holmes and the chair was a strange street for a second the end of the rescet of the world of the matter were under the police of the profession of the face of the central mental things of the street was with a part\n",
      "generated with beam\t Sherlock Holmes and the chair was a strange strange dead of the side of the person of the whole planition had been done and produced and letters strange on the secure of the steamy or a terrible and clast and a bearing of i\n",
      "generated with beam\t Sherlock Holmes and the chair was a strange strange hands upon the person which so supmous on the carriage of front of the strange of the corner of the chair of the portunate with the bedroom which was a little street at me\n",
      "generated with beam\t Sherlock Holmes and the chair was a strange strange streamy and the presument of the clast which we have a secret in such a strange of the ston which he was servived a such a tee constable struck of th second hide black wil\n",
      "generated with beam\t Sherlock Holmes and the chair was a strange street an old arms with a strange person of the street and provised her own window and scared in the signal story out of the colonel of the presence of the street. The doa which a\n",
      "generated with beam\t Sherlock Holmes and the chair was a strange street from the share professional wile and th pursuition or in his break in a condition of the same sight and close which had some som which were shade so easily in the world sta\n",
      "generated with beam\t Sherlock Holmes and the chair was a strange street and the letter which should be so. \"The corridor was sure that I should have been a coal in the securation of them. \"I think that she should have said the coat more and so \n",
      "generated with beam\t Sherlock Holmes and the chair was a strange strange second solute with a second spring of the corner of the messal and showl with a large still below and remain o the chair which we stand send in the evening of every secret\n",
      "generated with beam\t Sherlock Holmes and the chair was a strange street of the dear which were such a short and secred that the coat in of the readies of a beaution of the poor of the facts which on the world which was prevently not about the s\n"
     ]
    }
   ],
   "source": [
    "eval_final_model_doyle(final_model_doyle, vocab_doyle, device)"
   ]
  },
  {
   "cell_type": "markdown",
   "metadata": {},
   "source": [
    "# Part 8.3: Using LSTM\n",
    "Using a network with LSTM"
   ]
  },
  {
   "cell_type": "code",
   "execution_count": 19,
   "metadata": {},
   "outputs": [],
   "source": [
    "TEMPERATURE = 0.5\n",
    "\n",
    "class LSTMNet(nn.Module):\n",
    "    def __init__(self, vocab_size, feature_size, num_layers=1):\n",
    "        super(LSTMNet, self).__init__()\n",
    "        self.vocab_size = vocab_size\n",
    "        self.feature_size = feature_size\n",
    "        self.encoder = nn.Embedding(self.vocab_size, self.feature_size)\n",
    "        self.lstm = nn.LSTM(self.feature_size, self.feature_size, num_layers=num_layers, batch_first=True)\n",
    "        self.decoder = nn.Linear(self.feature_size, self.vocab_size)\n",
    "        \n",
    "        # This shares the encoder and decoder weights as described in lecture.\n",
    "#         self.decoder.weight = self.encoder.weight\n",
    "#         self.decoder.bias.data.zero_()\n",
    "        \n",
    "        self.best_accuracy = -1\n",
    "    \n",
    "    def forward(self, x, hidden_state=None):\n",
    "        batch_size = x.shape[0]\n",
    "        sequence_length = x.shape[1]\n",
    "        \n",
    "        # TODO finish defining the forward pass.\n",
    "        # You should return the output from the decoder as well as the hidden state given by the gru.\n",
    "        encoded = self.encoder(x)\n",
    "        gru_output, hidden_state = self.lstm(encoded, hidden_state)\n",
    "        out = self.decoder(gru_output)\n",
    "        \n",
    "\n",
    "        return out, hidden_state\n",
    "\n",
    "    # This defines the function that gives a probability distribution and implements the temperature computation.\n",
    "    def inference(self, x, hidden_state=None, cell_state=None, temperature=1):\n",
    "        x = x.view(-1, 1)\n",
    "        x, hidden_state = self.forward(x, hidden_state)\n",
    "        x = x.view(1, -1)\n",
    "        x = x / max(temperature, 1e-20)\n",
    "        x = F.softmax(x, dim=1)\n",
    "        return x, hidden_state\n",
    "\n",
    "    # Predefined loss function\n",
    "    def loss(self, prediction, label, reduction='mean'):\n",
    "        loss_val = F.cross_entropy(prediction.view(-1, self.vocab_size), label.view(-1), reduction=reduction)\n",
    "        return loss_val\n",
    "\n",
    "    # Saves the current model\n",
    "    def save_model(self, file_path, num_to_keep=1):\n",
    "        pt_util.save(self, file_path, num_to_keep)\n",
    "\n",
    "    # Saves the best model so far\n",
    "    def save_best_model(self, accuracy, file_path, num_to_keep=1):\n",
    "        if accuracy > self.best_accuracy:\n",
    "            self.save_model(file_path, num_to_keep)\n",
    "            self.best_accuracy = accuracy\n",
    "\n",
    "    def load_model(self, file_path):\n",
    "        pt_util.restore(self, file_path)\n",
    "\n",
    "    def load_last_model(self, dir_path):\n",
    "        return pt_util.restore_latest(self, dir_path)"
   ]
  },
  {
   "cell_type": "code",
   "execution_count": 20,
   "metadata": {
    "scrolled": true
   },
   "outputs": [
    {
     "name": "stdout",
     "output_type": "stream",
     "text": [
      "Using device cuda\n",
      "num workers: 16\n",
      "Restoring:\n",
      "encoder.weight -> \ttorch.Size([94, 512]) = 0MB\n",
      "lstm.weight_ih_l0 -> \ttorch.Size([2048, 512]) = 4MB\n",
      "lstm.weight_hh_l0 -> \ttorch.Size([2048, 512]) = 4MB\n",
      "lstm.bias_ih_l0 -> \ttorch.Size([2048]) = 0MB\n",
      "lstm.bias_hh_l0 -> \ttorch.Size([2048]) = 0MB\n",
      "lstm.weight_ih_l1 -> \ttorch.Size([2048, 512]) = 4MB\n",
      "lstm.weight_hh_l1 -> \ttorch.Size([2048, 512]) = 4MB\n",
      "lstm.bias_ih_l1 -> \ttorch.Size([2048]) = 0MB\n",
      "lstm.bias_hh_l1 -> \ttorch.Size([2048]) = 0MB\n",
      "decoder.weight -> \ttorch.Size([94, 512]) = 0MB\n",
      "decoder.bias -> \ttorch.Size([94]) = 0MB\n",
      "\n",
      "Restored all variables\n",
      "No new variables\n",
      "Restored /home/jefftian/Documents/21au/cse490g1/hw2content/checkpoints/LSTM1/020.pt\n",
      "Input\terversion of the facts. It lies with me to tell for the first time what really took place between Pro\n",
      "GT\trversion of the facts. It lies with me to tell for the first time what really took place between Prof\n",
      "pred\t  e   sn of the sacts  I  waks tith te th thll tor the sarst ohme tiit tealiy th   trace tetween trof\n",
      "\n",
      "\n",
      "Input\ttruck me that he was looking even paler and thinner than usual. \"Yes, I have been using myself up rat\n",
      "GT\truck me that he was looking even paler and thinner than usual. \"Yes, I have been using myself up rath\n",
      "pred\taick te that te was ainking tver trre  and thesgid ohat ts al  IIes, i save neen tpeng ty elf tpoteth\n",
      "\n",
      "\n",
      "Input\tional as to allow me to leave your house presently by scrambling over your back garden wall.\" \"But wh\n",
      "GT\tonal as to allow me to leave your house presently by scrambling over your back garden wall.\" \"But wha\n",
      "pred\tnn t tn th t l w te th tiave tou  pause aresent y te toietaleng afer tour prck trtden tisk   \"Iut thi\n",
      "\n",
      "\n",
      "Input\ter.\" \"Ay, there's the genius and the wonder of the thing\" he cried. \"The man pervades London, and no \n",
      "GT\tr.\" \"Ay, there's the genius and the wonder of the thing\" he cried. \"The man pervades London, and no o\n",
      "pred\t    \"In  there s the mrntastond the sirdersof the srirg  \"e waied  \"Ihermat wrrhete  ierdon  and toto\n",
      "\n",
      "\n"
     ]
    },
    {
     "name": "stderr",
     "output_type": "stream",
     "text": [
      "\r",
      "  0%|                                                                                                                                                                                                                                                                                                                                                             | 0/196 [00:00<?, ?it/s]"
     ]
    },
    {
     "name": "stdout",
     "output_type": "stream",
     "text": [
      "Input\tion, endowed by nature with a phenomenal mathematical faculty. At the age of twenty-one he wrote a tr\n",
      "GT\ton, endowed by nature with a phenomenal mathematical faculty. At the age of twenty-one he wrote a tre\n",
      "pred\tnn  avd ued ty tomura thth t sriasrentl aantirenio t trcelti  \"  the sre of thonti sue oarwaite t sha\n",
      "\n",
      "\n",
      "\n",
      "Test set: Average loss: 1.4447, Perplexity: 1.0146, Accuracy: 723665/1254400 (58%)\n",
      "\n"
     ]
    },
    {
     "name": "stderr",
     "output_type": "stream",
     "text": [
      "100%|███████████████████████████████████████████████████████████████████████████████████████████████████████████████████████████████████████████████████████████████████████████████████████████████████████████████████████████████████████████████████████████████████████████████████████████████████████████████████████████████████████████████████| 196/196 [00:09<00:00, 19.83it/s]\n"
     ]
    },
    {
     "name": "stdout",
     "output_type": "stream",
     "text": [
      "Input\terversion of the facts. It lies with me to tell for the first time what really took place between Pro\n",
      "GT\trversion of the facts. It lies with me to tell for the first time what really took place between Prof\n",
      "pred\t  e   tn of the sicts  T  waks thth te th thll tor the sirst ohme thit teal y th   toace tefween trof\n",
      "\n",
      "\n",
      "Input\ttruck me that he was looking even paler and thinner than usual. \"Yes, I have been using myself up rat\n",
      "GT\truck me that he was looking even paler and thinner than usual. \"Yes, I have been using myself up rath\n",
      "pred\toick te thet te was aioking tver trse  and thesgid ohet ts al  IIos, t save neen tp ng ty elf tpoteth\n",
      "\n",
      "\n",
      "Input\tional as to allow me to leave your house presently by scrambling over your back garden wall.\" \"But wh\n",
      "GT\tonal as to allow me to leave your house presently by scrambling over your back garden wall.\" \"But wha\n",
      "pred\tnn t tn th t l w ty th tiave tou  fause toosent y te toietaleng tfer tou  frck totden thsk   \"Iut tha\n",
      "\n",
      "\n",
      "Input\ter.\" \"Ay, there's the genius and the wonder of the thing\" he cried. \"The man pervades London, and no \n",
      "GT\tr.\" \"Ay, there's the genius and the wonder of the thing\" he cried. \"The man pervades London, and no o\n",
      "pred\t    \"In  the e s the mrntnstond the sirder of the sring  \"e soied  \"Ihe man wrrhene  tondon  tnd toto\n",
      "\n",
      "\n",
      "Input\tion, endowed by nature with a phenomenal mathematical faculty. At the age of twenty-one he wrote a tr\n",
      "GT\ton, endowed by nature with a phenomenal mathematical faculty. At the age of twenty-one he wrote a tre\n",
      "pred\tnn  avt und ty tomura thth t sroa n ntl tantorenio t tocelti  \"t the sne tf thonty nwe oa haite tnsha\n",
      "\n",
      "\n",
      "\n",
      "Test set: Average loss: 1.4348, Perplexity: 1.0145, Accuracy: 728216/1254400 (58%)\n",
      "\n",
      "Saved /home/jefftian/Documents/21au/cse490g1/hw2content/checkpoints/LSTM1/020.pt\n",
      "\n",
      "\n",
      "Saving final model\n",
      "Saved /home/jefftian/Documents/21au/cse490g1/hw2content/checkpoints/LSTM1/020.pt\n",
      "\n"
     ]
    },
    {
     "data": {
      "image/png": "[encoded data removed]",
      "text/plain": [
       "<Figure size 1440x720 with 1 Axes>"
      ]
     },
     "metadata": {
      "needs_background": "light"
     },
     "output_type": "display_data"
    },
    {
     "data": {
      "image/png": "[encoded data removed]",
      "text/plain": [
       "<Figure size 1440x720 with 1 Axes>"
      ]
     },
     "metadata": {
      "needs_background": "light"
     },
     "output_type": "display_data"
    },
    {
     "data": {
      "image/png": "[encoded data removed]",
      "text/plain": [
       "<Figure size 1440x720 with 1 Axes>"
      ]
     },
     "metadata": {
      "needs_background": "light"
     },
     "output_type": "display_data"
    },
    {
     "data": {
      "image/png": "[encoded data removed]",
      "text/plain": [
       "<Figure size 1440x720 with 1 Axes>"
      ]
     },
     "metadata": {
      "needs_background": "light"
     },
     "output_type": "display_data"
    },
    {
     "data": {
      "image/png": "[encoded data removed]",
      "text/plain": [
       "<Figure size 1440x720 with 1 Axes>"
      ]
     },
     "metadata": {
      "needs_background": "light"
     },
     "output_type": "display_data"
    }
   ],
   "source": [
    "def main_lstm():\n",
    "    SEQUENCE_LENGTH = 100\n",
    "    BATCH_SIZE = 256\n",
    "    FEATURE_SIZE = 512\n",
    "    NUM_LAYERS = 2\n",
    "    TEST_BATCH_SIZE = 256\n",
    "    EPOCHS = 20\n",
    "    LEARNING_RATE = 0.002\n",
    "    WEIGHT_DECAY = 0.0005\n",
    "    USE_CUDA = True\n",
    "    PRINT_INTERVAL = 10\n",
    "#     VERSION = 'hp3.4'\n",
    "    VERSION = 'LSTM1'\n",
    "    LOG_PATH = DATA_PATH + 'logs/' + VERSION + '/log.pkl'\n",
    "\n",
    "\n",
    "    data_train = HarryPotterDataset(DATA_PATH + 'doyle_chars_train.pkl', SEQUENCE_LENGTH, BATCH_SIZE)\n",
    "    data_test = HarryPotterDataset(DATA_PATH + 'doyle_chars_test.pkl', SEQUENCE_LENGTH, TEST_BATCH_SIZE)\n",
    "    vocab = data_train.vocab\n",
    "\n",
    "    use_cuda = USE_CUDA and torch.cuda.is_available()\n",
    "\n",
    "    device = torch.device(\"cuda\" if use_cuda else \"cpu\")\n",
    "    print('Using device', device)\n",
    "    import multiprocessing\n",
    "    num_workers = multiprocessing.cpu_count()\n",
    "    print('num workers:', num_workers)\n",
    "\n",
    "    kwargs = {'num_workers': num_workers,\n",
    "              'pin_memory': True} if use_cuda else {}\n",
    "\n",
    "    train_loader = torch.utils.data.DataLoader(data_train, batch_size=BATCH_SIZE,\n",
    "                                               shuffle=False, **kwargs)\n",
    "    test_loader = torch.utils.data.DataLoader(data_test, batch_size=TEST_BATCH_SIZE,\n",
    "                                              shuffle=False, **kwargs)\n",
    "\n",
    "    model = LSTMNet(data_train.vocab_size(), FEATURE_SIZE, NUM_LAYERS).to(device)\n",
    "\n",
    "    # Adam is an optimizer like SGD but a bit fancier. It tends to work faster and better than SGD.\n",
    "    # We will talk more about different optimization methods in class.\n",
    "    optimizer = optim.Adam(model.parameters(), lr=LEARNING_RATE, weight_decay=WEIGHT_DECAY)\n",
    "    start_epoch = model.load_last_model(DATA_PATH + 'checkpoints/' + VERSION + '/')\n",
    "\n",
    "    # modified\n",
    "    train_losses, test_losses, test_accuracies, train_perp, test_perp = pt_util.read_log(LOG_PATH, ([], [], [], [], []))\n",
    "    test_loss, test_accuracy = test(model, device, test_loader)\n",
    "\n",
    "    test_losses.append((start_epoch, test_loss))\n",
    "    test_perp.append((start_epoch, np.exp(test_loss))) # modified\n",
    "    test_accuracies.append((start_epoch, test_accuracy))\n",
    "\n",
    "    try:\n",
    "        for epoch in range(start_epoch, EPOCHS + 1):\n",
    "            lr = LEARNING_RATE * np.power(0.25, (int(epoch / 6)))\n",
    "            train_loss = train(model, device, optimizer, train_loader, lr, epoch, PRINT_INTERVAL)\n",
    "            test_loss, test_accuracy = test(model, device, test_loader)\n",
    "            train_losses.append((epoch, train_loss))\n",
    "            train_perp.append((epoch, np.exp(train_loss))) # modified\n",
    "            test_losses.append((epoch, test_loss))\n",
    "            test_perp.append((epoch, np.exp(test_loss))) # modified\n",
    "            test_accuracies.append((epoch, test_accuracy))\n",
    "            pt_util.write_log(LOG_PATH, (train_losses, test_losses, test_accuracies, train_perp, test_perp)) # modified\n",
    "            model.save_best_model(test_accuracy, DATA_PATH + 'checkpoints/' + VERSION + '/%03d.pt' % epoch)\n",
    "#             seed_words = 'Harry Potter, Voldemort, and Dumbledore walk into a bar. '\n",
    "#             generated_sentence = generate_language(model, device, seed_words, 200, vocab, 'max')\n",
    "#             print('generated max\\t\\t', generated_sentence)\n",
    "#             for ii in range(10):\n",
    "#                 generated_sentence = generate_language(model, device, seed_words, 200, vocab, 'sample')\n",
    "#                 print('generated sample\\t', generated_sentence)\n",
    "#             generated_sentence = generate_language(model, device, seed_words, 200, vocab, 'beam')\n",
    "#             print('generated beam\\t\\t', generated_sentence)\n",
    "            print('')\n",
    "\n",
    "    except KeyboardInterrupt as ke:\n",
    "        print('Interrupted')\n",
    "    except:\n",
    "        import traceback\n",
    "        traceback.print_exc()\n",
    "    finally:\n",
    "        print('Saving final model')\n",
    "        model.save_model(DATA_PATH + 'checkpoints/' + VERSION + '/%03d.pt' % epoch, 0)\n",
    "        ep, val = zip(*train_losses)\n",
    "        pt_util.plot(ep, val, 'Train loss', 'Epoch', 'Error')\n",
    "        ep, val = zip(*test_losses)\n",
    "        pt_util.plot(ep, val, 'Test loss', 'Epoch', 'Error')\n",
    "        ep, val = zip(*test_accuracies)\n",
    "        pt_util.plot(ep, val, 'Test accuracy', 'Epoch', 'Accuracy')\n",
    "        ep, val = zip(*train_perp) # modified\n",
    "        pt_util.plot(ep, val, 'Train perplexity', 'Epoch', 'Perplexity')\n",
    "        ep, val = zip(*test_perp)\n",
    "        pt_util.plot(ep, val, 'Test perplexity', 'Epoch', 'Perplexity') # modified\n",
    "        return model, vocab, device\n",
    "\n",
    "lstm_model, vocab, device = main_lstm()"
   ]
  },
  {
   "cell_type": "code",
   "execution_count": 21,
   "metadata": {
    "scrolled": false
   },
   "outputs": [
    {
     "name": "stdout",
     "output_type": "stream",
     "text": [
      "generated with max\t Sherlock Holmes and the chair was a strange street and so such a strange street and sent the street of the corner of the corner of the corner of the corner of the corner of the corner of the corner of the corner of the corn\n",
      "generated with sample\t Sherlock Holmes and these case of the second of the seamen which we had dear that the cast let us we had the suppression of a story and looking of the character of the contain of the corner of the results that I stood me a \n",
      "generated with sample\t Sherlock Holmes and the wear of the old man has already to get a breakfast and we shall such some chair which leave him to be well with a few such and suppression of a strange and preparate and creature and against the stre\n",
      "generated with sample\t Sherlock Holmes and the centie with the chair of the way of the chair was an over the chair of the stairs of the dead which were standing a deep of the break of the conse reached the chair of the strange street and in the s\n",
      "generated with sample\t Sherlock Holmes and the track of the creature of th propers was a suppose and sense of the particulars which the crear of the mouth of the second of the preter and the carriage of the case of th street of the sevent of the \n",
      "generated with sample\t Sherlock Holmes and they should be such a large still suggestion which he could prove whether i the curtain and was in his book and describe in the road which we stared a supper place in a small street presention of the car\n",
      "generated with sample\t Sherlock Holmes and them to the case I can see the most sign of the old man who were in the result that I hav the matter of th second selfice, and of a little signs of the second such a time in the second sears that a shut \n",
      "generated with sample\t Sherlock Holmes and the castual in his way with a chair has heard of such a street as he should such a strong back and sprange and struction of the street which was no suggested profession of the window of the house of the \n",
      "generated with sample\t Sherlock Holmes and the letter of the carriage of the person, and the clothes were no some fellow seemed to be son handing a few more presence of the men of the presence of the corner of the bird. Bown to the chair characte\n",
      "generated with sample\t Sherlock Holmes and they were all the cheering in the second of the street was the corroso clast and say lest defendent for the central and was in his possible contrary between such a horse we be so such a second and story \n",
      "generated with sample\t Sherlock Holmes and the matter still was a beach of the clos with a very presence o the particular present corridor. The last night was convidence he one and the outside of th story, and I wa starp and breaking it was never\n",
      "generated with beam\t Sherlock Holmes and the chair was a strange street upon the chair and terrible than the person of his or share a peculiar dead of a strange death which we suppose the close of his confiction from the window was not a long a\n",
      "generated with beam\t Sherlock Holmes and the chair was a strange street which was still to find out out the murder of the case and a strange chair and selfice and was in his hand and the windows and really thing we have been so surpression of t\n",
      "generated with beam\t Sherlock Holmes and the chair was a strange street point of plance in a class of the case, and surprise that he present at the best of a second and held in his need by the sign of the corner of the green chair and proved aw\n",
      "generated with beam\t Sherlock Holmes and the chair was a strange strange before even in a strange provice for a such a bit of the character of the rest which he was all the secret of the subtle morning which we to see the weeks we were to be mo\n",
      "generated with beam\t Sherlock Holmes and the chair was a strange street which we never seemed to see it with the second the first hearts which were still furthe dead with a book of the plance of the matter of his thought behind his feet upon th\n",
      "generated with beam\t Sherlock Holmes and the chair was a strange street and the whole man who is no more that the world was on my life and surprised. He seemed to be a second man had on the cab from his profession which were sent in the end of \n",
      "generated with beam\t Sherlock Holmes and the chair was a strange street and scandal point street. We approached at the story and present when she had me to five him that I do not be surprised to see it a man have been a few few light with a sol\n",
      "generated with beam\t Sherlock Holmes and the chair was a strange street and past which have been solent and sending the secret in his signal still street. The perfect of the suppresence of the plast of the characters, with a good at the best in\n",
      "generated with beam\t Sherlock Holmes and the chair was a strange strange picture of the chair and proved and started from the side of it is a coar after a very eye, and the letters were the best of the other was a small of the more of the clear\n",
      "generated with beam\t Sherlock Holmes and the chair was a strange street of the second and the surprise of the last he entirest in the stable. He were on the story of the camp and solent points which had the best we ever were we shall be the sub\n"
     ]
    }
   ],
   "source": [
    "eval_final_model_doyle(final_model_doyle, vocab_doyle, device)"
   ]
  },
  {
   "cell_type": "markdown",
   "metadata": {
    "id": "vWMlB2U3onZ0"
   },
   "source": [
    "#Part 9: Short answer questions\n",
    "Please answer these questions, and put the answers in a file called short_answer.pdf in your repository.\n",
    "\n",
    "\n",
    "1. Just like last time, provide plots for training error, test error, and test accuracy. Also provide a plot of your train and test perplexity per epoch.\n",
    "    - In class we defined perplexity as `2^(p*log_2(q))`, However the PyTorch cross entropy function uses the natural log. To compute perplexity directly from the cross entropy, you should use `e^p*ln(q)`.\n",
    "    - We encourage you to try multiple network modifications and hyperparameters, but you only need to provide plots for your best model. Please list the modifications and hyperparameters.    \n",
    "    \n",
    "2. What was your final test accuracy? What was your final test perplexity?\n",
    "3. What was your favorite sentence generated via each of the sampling methods? What was the prompt you gave to generate that sentence?\n",
    "4. Which sampling method seemed to generate the best results? Why do you think that is?\n",
    "5. For sampling and beam search, try multiple temperatures between 0 and 2. \n",
    "    - Which produces the best outputs? Best as in made the most sense, your favorite, or funniest, doesn't really matter how you decide.\n",
    "    - What does a temperature of 0 do? What does a temperature of 0<temp<1 do? What does a temperature of 1 do? What does a temperature of above 1 do? What would a negative temperature do (assuming the code allowed for negative temperature)?\n",
    "    \n",
    "Questions for each of the \"Other things\" sections. Only answer the questions corresponding to the ones you chose.\n",
    "\n",
    "1. New Corpus\n",
    "    1. What corpus did you choose? How many characters were in it?\n",
    "    2. What differences did you notice between the sentences generated with the new/vs old corpus.\n",
    "    3. Provide outputs for each sampling method on the new corpus (you can pick one temperature, but say what it was).\n",
    "\n",
    "1. New Architecture\n",
    "    1. What was your design? What did you try that didn't work well?\n",
    "    2. What was your lowest test perplexity? Provide training and testing plots.\n",
    "    3. Provide outputs for each sampling method on the new corpus (you can pick one temperature, but say what it was).\n",
    "\n",
    "1. LSTM\n",
    "    1. What new difficulties did you run into while training?\n",
    "    2. Were results better than the GRU? Provide training and testing plots.\n",
    "    3. Provide outputs for each sampling method on the new corpus (you can pick one temperature, but say what it was).\n",
    "\n",
    "1. Transformer\n",
    "    1. What new difficulties did you run into while training?\n",
    "    2. Were results better than the GRU? Provide training and testing plots.\n",
    "    3. Provide outputs for each sampling method on the new corpus (you can pick one temperature, but say what it was).\n",
    "    \n",
    "1. Student-forcing\n",
    "    1. What new difficulties did you run into while training?\n",
    "    2. Were the results better than with teacher-forcing?\n",
    "    3. Provide some outputs for each sampling method (you can pick one temperature, but say what it was).\n",
    "    \n",
    "1. Words\n",
    "    1. What new difficulties did you run into while training?\n",
    "    2. How large was your vocabulary?\n",
    "    3. Did you find that different batch size, sequence length, and feature size and other hyperparameters were needed? If so, what worked best for you?\n",
    "\n",
    "1. Random Dataloader\n",
    "    1. What new difficulties did you run into while training?\n",
    "    2. Were the results better than with the original dataloader?\n",
    "    3. Provide some outputs for each sampling method (you can pick one temperature, but say what it was). \n",
    "    \n",
    "1. Sentences\n",
    "    1. What new difficulties did you run into while training? What new difficulties did you run into while preprocessing?\n",
    "    2. Were the results better than with the original dataloader?\n",
    "    3. Provide some outputs for each sampling method (you can pick one temperature, but say what it was). \n",
    "\n",
    "\n",
    "    "
   ]
  },
  {
   "cell_type": "code",
   "execution_count": 38,
   "metadata": {
    "scrolled": false
   },
   "outputs": [
    {
     "name": "stdout",
     "output_type": "stream",
     "text": [
      "Original Model\n",
      "generated with max\t Once upon a time, there was a single of the corridors of the corridors of the corridors of the corridors of the corridors of the corridors of the corridors of the corridors of the corridors of the corridors of the corridors of \n",
      "generated with sample\t Once upon a time, there was a single of the corridors of the corridors of the corridors of the corridors of the corridors of the corridors of the corridors of the corridors of the corridors of the corridors of the corridors of \n",
      "generated with sample\t Once upon a time, there wasn't seemed to be the others and the boy who was staring at the statue, the school of the school of the school of the school of the school of the school of the corridors of the corridors of the corrido\n",
      "generated with sample\t Once upon a time, there was a single of the corridors of the corridors of the corridors of the corridors of the corridors of the corridors of the corridors of the corridors of the corridors of the corridors of the corridors of \n",
      "generated with sample\t Once upon a time, there was a single of the corridors of the corridors of the corridors of the corridors of the corridors of the corridors of the corridors of the corridors of the corridors of the corridors of the corridors of \n",
      "generated with sample\t Once upon a time, there was a single of the corridors of the corridors of the corridors of the corridors of the corridors of the corridors of the corridors of the corridors of the corridors of the corridors of the corridors of \n",
      "generated with sample\t Once upon a time, there was a single of the corridors of the corridors of the corridors of the corridors of the corridors of the corridors of the corridors of the corridors of the corridors of the corridors of the corridors of \n",
      "generated with sample\t Once upon a time, there was a single of the corridors of the corridors of the corridors of the corridors of the corridors of the corridors of the corridors of the corridors of the corridors of the corridors of the corridors of \n",
      "generated with sample\t Once upon a time, there wasked the statue to the corridors of the corridors of the corridors of the corridors of the corridors of the corridors of the corridors of the corridors of the corridors of the corridors of the corridor\n",
      "generated with sample\t Once upon a time, there was a single of the corridors of the corridors of the corridors of the corridors of the corridors of the corridors of the corridors of the corridors of the corridors of the corridors of the corridors of \n",
      "generated with sample\t Once upon a time, there was a single of the corridors of the corridors of the corridors of the corridors of the corridors of the corridors of the corridors of the corridors of the corridors of the corridors of the corridors of \n",
      "generated with beam\t Once upon a time, there was a single of the corridors of the corridors of the corridors of the corridors of the corridors of the corridors of the corridors of the corridors of the corridors of the corridors of the corridors of \n",
      "generated with beam\t Once upon a time, there was a single of the corridors of the corridors of the corridors of the corridors of the corridors of the corridors of the corridors of the corridors of the corridors of the corridors of the corridors of \n",
      "generated with beam\t Once upon a time, there was a single of the corridors of the corridors of the corridors of the corridors of the corridors of the corridors of the corridors of the corridors of the corridors of the corridors of the corridors of \n",
      "generated with beam\t Once upon a time, there was a single of the corridors of the corridors of the corridors of the corridors of the corridors of the corridors of the corridors of the corridors of the corridors of the corridors of the corridors of \n",
      "generated with beam\t Once upon a time, there was a single of the corridors of the corridors of the corridors of the corridors of the corridors of the corridors of the corridors of the corridors of the corridors of the corridors of the corridors of \n",
      "generated with beam\t Once upon a time, there was a single of the corridors of the corridors of the corridors of the corridors of the corridors of the corridors of the corridors of the corridors of the corridors of the corridors of the corridors of \n",
      "generated with beam\t Once upon a time, there was a single of the corridors of the corridors of the corridors of the corridors of the corridors of the corridors of the corridors of the corridors of the corridors of the corridors of the corridors of \n",
      "generated with beam\t Once upon a time, there was a single of the corridors of the corridors of the corridors of the corridors of the corridors of the corridors of the corridors of the corridors of the corridors of the corridors of the corridors of \n",
      "generated with beam\t Once upon a time, there was a single of the corridors of the corridors of the corridors of the corridors of the corridors of the corridors of the corridors of the corridors of the corridors of the corridors of the corridors of \n",
      "generated with beam\t Once upon a time, there was a single of the corridors of the corridors of the corridors of the corridors of the corridors of the corridors of the corridors of the corridors of the corridors of the corridors of the corridors of \n"
     ]
    }
   ],
   "source": [
    "TEMPERATURE = 0\n",
    "\n",
    "def eval_model(model, vocab, device):\n",
    "    seed_words = 'Once upon a time, there was'\n",
    "    sequence_length = 200\n",
    "\n",
    "    \n",
    "    generated_sentence = generate_language(model, device, seed_words, sequence_length, vocab, 'max')\n",
    "    print('generated with max\\t', generated_sentence)\n",
    "\n",
    "    for ii in range(10):\n",
    "        generated_sentence = generate_language(model, device, seed_words, sequence_length, vocab, 'sample')\n",
    "        print('generated with sample\\t', generated_sentence)\n",
    "\n",
    "    for ii in range(10):\n",
    "        generated_sentence = generate_language(model, device, seed_words, sequence_length, vocab, 'beam')\n",
    "        print('generated with beam\\t', generated_sentence)\n",
    "\n",
    "        \n",
    "print('Original Model')\n",
    "eval_model(final_model, vocab, device)\n",
    "\n",
    "# print('Doyle Model')\n",
    "# eval_model(final_model_doyle, vocab_doyle, device)"
   ]
  },
  {
   "cell_type": "code",
   "execution_count": null,
   "metadata": {},
   "outputs": [],
   "source": []
  }
 ],
 "metadata": {
  "accelerator": "GPU",
  "colab": {
   "collapsed_sections": [],
   "name": "hw2.ipynb.txt",
   "provenance": [],
   "toc_visible": true
  },
  "kernelspec": {
   "display_name": "Python 3 (ipykernel)",
   "language": "python",
   "name": "python3"
  },
  "language_info": {
   "codemirror_mode": {
    "name": "ipython",
    "version": 3
   },
   "file_extension": ".py",
   "mimetype": "text/x-python",
   "name": "python",
   "nbconvert_exporter": "python",
   "pygments_lexer": "ipython3",
   "version": "3.8.8"
  }
 },
 "nbformat": 4,
 "nbformat_minor": 1
}
