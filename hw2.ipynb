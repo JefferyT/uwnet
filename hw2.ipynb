{
 "cells": [
  {
   "cell_type": "markdown",
   "metadata": {
    "id": "S2IaITBP0f5R"
   },
   "source": [
    "# Homework 2\n",
    "In this homework, we will explore language generation using character-level RNNs. Sounds awesome, right???\n",
    "\n",
    "A few notes at the beginning:\n",
    "- It might be useful for you to read the whole assignment before beginning. Especially the last two sections so you know what to record for turning in.\n",
    "- Much of the required knowledge in this (and past) homeworks about Python, PyTorch, etc. are not explained fully here. Instead, we expect you to use the existing documentation, search engines, Stack Overflow, etc. for implementation details.\n",
    "- That being said, we have listed several functions in parts of the homework where knowing those functions exist would be especially useful. However you will still need to read the docs on how to specifically use the functions.\n",
    "\n",
    "# Part 0: Initial setup\n",
    "You should recognize this code from last time.\n"
   ]
  },
  {
   "cell_type": "code",
   "execution_count": 1,
   "metadata": {
    "id": "4GS0yuGl0mHQ"
   },
   "outputs": [
    {
     "name": "stdout",
     "output_type": "stream",
     "text": [
      "Version 1.9.1\n",
      "CUDA enabled: True\n"
     ]
    }
   ],
   "source": [
    "import torch\n",
    "print('Version', torch.__version__)\n",
    "print('CUDA enabled:', torch.cuda.is_available())\n",
    "\n",
    "# Running this should then print out:\n",
    "# Version 1.7.0+cu101 (or something like this)\n",
    "# CUDA enabled: True"
   ]
  },
  {
   "cell_type": "code",
   "execution_count": 2,
   "metadata": {
    "id": "6t3ZIEll0pr-"
   },
   "outputs": [],
   "source": [
    "# from google.colab import drive\n",
    "# drive.mount('/gdrive')\n",
    "# !ls /gdrive"
   ]
  },
  {
   "cell_type": "markdown",
   "metadata": {
    "id": "PEzPNAIY0vkm"
   },
   "source": [
    "# Part 1: Upload the dataset\n",
    "We will be using the complete text of Harry Potter as our corpus. We will provide it for you in a not-very-well-formatted way.\n",
    "Run this code to set up the homework3 files.\n",
    "\n"
   ]
  },
  {
   "cell_type": "code",
   "execution_count": 3,
   "metadata": {
    "id": "CLVJPc_90vsB"
   },
   "outputs": [],
   "source": [
    "import os\n",
    "# BASE_PATH = '/gdrive/My Drive/colab_files/hw2/'\n",
    "BASE_PATH = '/home/jefftian/Documents/21au/cse490g1/hw2/'\n",
    "\n",
    "if not os.path.exists(BASE_PATH):\n",
    "    os.makedirs(BASE_PATH)\n",
    "DATA_PATH = '/home/jefftian/Documents/21au/cse490g1/hw2content/'\n",
    "\n",
    "if not os.path.exists(os.path.join(DATA_PATH, 'harry_potter.txt')):\n",
    "    os.chdir(BASE_PATH)\n",
    "    !wget https://courses.cs.washington.edu/courses/cse599g1/19au/files/homework3.tar.gz\n",
    "    !tar -zxvf homework3.tar.gz\n",
    "    !rm homework3.tar.gz\n",
    "    !cp pt_util.py /home/jefftian/Documents/21au/cse490g1/hw2content\n",
    "    !cp harry_potter.txt /home/jefftian/Documents/21au/cse490g1/hw2content\n",
    "os.chdir('/home/jefftian/Documents/21au/cse490g1/hw2content/')"
   ]
  },
  {
   "cell_type": "code",
   "execution_count": 4,
   "metadata": {
    "id": "hd1Qx66s19Pl"
   },
   "outputs": [],
   "source": [
    "import torch\n",
    "import torch.nn as nn\n",
    "from torchvision import datasets\n",
    "from torchvision import transforms\n",
    "import numpy as np\n",
    "import torch.nn.functional as F\n",
    "import torch.optim as optim\n",
    "import sys\n",
    "import pickle\n",
    "import re\n",
    "import pt_util"
   ]
  },
  {
   "cell_type": "markdown",
   "metadata": {
    "id": "AxIvm7h62tfx"
   },
   "source": [
    "#Part 2: Preprocessing the data\n",
    "In previous homeworks, we have provided a cleaned version of the data. But this time you'll have to do some of that cleaning yourselves.\n",
    "\n",
    "Hints:\n",
    "- train_text and test_text should contain the class indices for the character tokens from the data file. For example, if the text was **`\"ABA CDBE\"`**, the token version would be a numpy array with contents `[0, 1, 0, 2, 3, 4, 1, 5]`\n",
    "- The harry_potter.txt file has weird spacing. You might want to replace all the whitespace characters (space, \\n, \\t, etc.) in the file with the space character.\n",
    "- You should output two files. One for training and one for testing. The training should be the first 80% of the characters.\n",
    "- voc2ind is a map from character to the index of the class for that character. There is no predefined vocabulary, but you will need to be consistent across all tasks that use the vocabulary. For the example above, the voc2ind would be `{'A': 0, 'B': 1, ' ': 2, 'C': 3, 'D': 4, 'E': 5}`\n",
    "- ind2voc is the inverse of voc2ind\n",
    "\n"
   ]
  },
  {
   "cell_type": "code",
   "execution_count": 5,
   "metadata": {
    "id": "6oZq_S6k3GpB"
   },
   "outputs": [],
   "source": [
    "def prepare_data(data_path):\n",
    "    with open(data_path) as f:\n",
    "        # This reads all the data from the file, but does not do any processing on it.\n",
    "        data = f.read()\n",
    "    \n",
    "    # TODO Add more preprocessing\n",
    "    \" \".join(data.split())\n",
    "    voc2ind = {}\n",
    "    \n",
    "    nextNum = 0\n",
    "    # Compute voc2ind and transform the data into an integer representation of the tokens.\n",
    "    for char in data:\n",
    "        if char not in voc2ind.keys():\n",
    "            voc2ind[char] = nextNum\n",
    "            nextNum += 1\n",
    "\n",
    "\n",
    "    ind2voc = {val: key for key, val in voc2ind.items()}\n",
    "\n",
    "    endTrain = int(len(data) * 0.8)\n",
    "    \n",
    "    train_text = data[:endTrain]\n",
    "    test_text = data[endTrain:]\n",
    "    \n",
    "    pickle.dump({'tokens': train_text, 'ind2voc': ind2voc, 'voc2ind':voc2ind}, open(DATA_PATH + 'harry_potter_chars_train.pkl', 'wb'))\n",
    "    pickle.dump({'tokens': test_text, 'ind2voc': ind2voc, 'voc2ind':voc2ind}, open(DATA_PATH + 'harry_potter_chars_test.pkl', 'wb'))\n",
    "    \n",
    "prepare_data(DATA_PATH + 'harry_potter.txt')\n",
    "\n",
    "\n",
    "class Vocabulary(object):\n",
    "    def __init__(self, data_file):\n",
    "        with open(data_file, 'rb') as data_file:\n",
    "            dataset = pickle.load(data_file)\n",
    "        self.ind2voc = dataset['ind2voc']\n",
    "        self.voc2ind = dataset['voc2ind']\n",
    "\n",
    "    # Returns a string representation of the tokens.\n",
    "    def array_to_words(self, arr):\n",
    "        return ''.join([self.ind2voc[int(ind)] for ind in arr])\n",
    "\n",
    "    # Returns a torch tensor representing each token in words.\n",
    "    def words_to_array(self, words):\n",
    "        return torch.LongTensor([self.voc2ind[word] for word in words])\n",
    "\n",
    "    # Returns the size of the vocabulary.\n",
    "    def __len__(self):\n",
    "        return len(self.voc2ind)"
   ]
  },
  {
   "cell_type": "markdown",
   "metadata": {
    "id": "kzX1tUv8ilYV"
   },
   "source": [
    "#Part 3: Loading the data\n",
    "This is possibly the trickiest part of this homework. In the past, batches were not correlated with each other, and the data within a single minibatch was also not correlated, so you could basically draw randomly from the dataset. That is not the case here. Instead, you should return sequences from the dataset.\n",
    "\n",
    "Your instructions are to implement the following. First, imagine splitting the dataset into N chunks where N is the batch_size and the chunks are contiguous parts of the data. For each batch, you should return one sequence from each of the chunks. The batches should also be sequential an example is described below.\n",
    "\n",
    "The data is 20 characters long `[1, 2, 3, ...20]`. The batch size is `2` and the sequence length is `4`\n",
    "- The 1st batch should consist of  `(data =  [[1, 2, 3, 4]; [11, 12, 13, 14]], labels = [[2, 3, 4, 5]; [12, 13, 14, 15]])`\n",
    "- The 2nd batch should consist of `(data =  [[5, 6, 7, 8]; [15, 16, 17, 18]], labels = [[6, 7, 8, 9]; [16, 17, 18, 19]])`\n",
    "- The 3rd batch should consist of `(data =  [[9]; [19]], labels = [[10]; [20]])`\n",
    "- There is no 4th batch.\n",
    "\n",
    "Hints:\n",
    "- To work with the rest of the code, your len(dataset) should be a multiple of the batch_size. \n",
    "- Removing the last bit to make the data the proper shape will probably give better results than padding with 0s.\n",
    "- It is OK to have one batch be shorter than the others as long as all entries in that batch are the same length.\n",
    "- Notice that the last label in one batch is the first data in the next batch. Be careful of off-by-one errors.\n",
    "\n"
   ]
  },
  {
   "cell_type": "code",
   "execution_count": 6,
   "metadata": {
    "id": "44v6o0JwiwXk"
   },
   "outputs": [],
   "source": [
    "class HarryPotterDataset(torch.utils.data.Dataset):\n",
    "    def __init__(self, data_file, sequence_length, batch_size):\n",
    "        super(HarryPotterDataset, self).__init__()\n",
    "\n",
    "        self.sequence_length = sequence_length\n",
    "        self.batch_size = batch_size\n",
    "        self.vocab = Vocabulary(data_file)\n",
    "        \n",
    "\n",
    "        with open(data_file, 'rb') as data_pkl:\n",
    "            dataset = pickle.load(data_pkl)\n",
    "            self.data = dataset['tokens']\n",
    "        # TODO: Any preprocessing on the data to get it to the right shape.\n",
    "        self.chunkSize = int((len(self.data) - 1) / self.batch_size)\n",
    "        self.numFullSequences = int(self.chunkSize / self.sequence_length) # number of full sequences in a chunk\n",
    "        self.remainder = self.chunkSize % self.sequence_length # length of the remainder\n",
    "        \n",
    "\n",
    "    def __len__(self):\n",
    "        # TODO return the number of unique sequences you have, not the number of characters.\n",
    "        plusOne = 0\n",
    "        if (self.remainder != 0):\n",
    "            plusOne = 1\n",
    "        \n",
    "        return (self.numFullSequences + plusOne) * self.batch_size\n",
    "        \n",
    "    def __getitem__(self, idx):\n",
    "        # Return the data and label for a character sequence as described above.\n",
    "        # The data and labels should be torch long tensors.\n",
    "        # You should return a single entry for the batch using the idx to decide which chunk you are \n",
    "        # in and how far down in the chunk you are.\n",
    "        \n",
    "        # TODO\n",
    "        # whichBatch will be the index of the batch\n",
    "        assert(idx < self.__len__())\n",
    "        batchNum = int(idx / self.batch_size)\n",
    "        seqNum = idx % self.batch_size\n",
    "        lenOfSeq = self.sequence_length\n",
    "        if batchNum > self.numFullSequences:\n",
    "            lenOfSeq = self.remainder\n",
    "        startInd = seqNum * self.chunkSize + batchNum * self.sequence_length\n",
    "        endInd = startInd + lenOfSeq + 1\n",
    "        data = self.vocab.words_to_array(self.data[startInd:endInd])\n",
    "        label = self.vocab.words_to_array(self.data[startInd + 1: endInd + 1])\n",
    "        return data, label\n",
    "\n",
    "    def vocab_size(self):\n",
    "        return len(self.vocab)"
   ]
  },
  {
   "cell_type": "code",
   "execution_count": 7,
   "metadata": {},
   "outputs": [],
   "source": [
    "# data_train = HarryPotterDataset(DATA_PATH + 'harry_potter_chars_train.pkl', 4, 20)\n",
    "# data, label = data_train.__getitem__(0)\n",
    "# print(data)\n",
    "# print(label)\n"
   ]
  },
  {
   "cell_type": "markdown",
   "metadata": {
    "id": "8kYKDZoj2jCV"
   },
   "source": [
    "# Part 4: Defining the Network\n",
    "This time we will provide a network that should already get pretty good performance. You will still need to write the forward pass and inference functions. You may also choose to modify the network to try and get better performance.\n",
    "\n",
    "__BE CAREFUL:__ We have specified that the data will be fed in as batch_first. Look at the documentation if you are confused about the implications of this as well as how to call it for the forward pass. https://pytorch.org/docs/stable/nn.html#torch.nn.GRU\n",
    "    \n"
   ]
  },
  {
   "cell_type": "code",
   "execution_count": 8,
   "metadata": {
    "id": "mO21UXLj2ixn"
   },
   "outputs": [],
   "source": [
    "TEMPERATURE = 0.5\n",
    "\n",
    "class HarryPotterNet(nn.Module):\n",
    "    def __init__(self, vocab_size, feature_size):\n",
    "        super(HarryPotterNet, self).__init__()\n",
    "        self.vocab_size = vocab_size\n",
    "        self.feature_size = feature_size\n",
    "        self.encoder = nn.Embedding(self.vocab_size, self.feature_size)\n",
    "        self.gru = nn.GRU(self.feature_size, self.feature_size, batch_first=True)\n",
    "        self.decoder = nn.Linear(self.feature_size, self.vocab_size)\n",
    "        \n",
    "        # This shares the encoder and decoder weights as described in lecture.\n",
    "        self.decoder.weight = self.encoder.weight\n",
    "        self.decoder.bias.data.zero_()\n",
    "        \n",
    "        self.best_accuracy = -1\n",
    "    \n",
    "    def forward(self, x, hidden_state=None):\n",
    "        batch_size = x.shape[0]\n",
    "        sequence_length = x.shape[1]\n",
    "        \n",
    "        # TODO finish defining the forward pass.\n",
    "        # You should return the output from the decoder as well as the hidden state given by the gru.\n",
    "        encoded = self.encoder(x)\n",
    "        gru_output, hidden_state = self.gru(encoded, hidden_state)\n",
    "        out = self.decoder(gru_output)\n",
    "        \n",
    "\n",
    "        return out, hidden_state\n",
    "\n",
    "    # This defines the function that gives a probability distribution and implements the temperature computation.\n",
    "    def inference(self, x, hidden_state=None, temperature=1):\n",
    "        x = x.view(-1, 1)\n",
    "        x, hidden_state = self.forward(x, hidden_state)\n",
    "        x = x.view(1, -1)\n",
    "        x = x / max(temperature, 1e-20)\n",
    "        x = F.softmax(x, dim=1)\n",
    "        return x, hidden_state\n",
    "\n",
    "    # Predefined loss function\n",
    "    def loss(self, prediction, label, reduction='mean'):\n",
    "        loss_val = F.cross_entropy(prediction.view(-1, self.vocab_size), label.view(-1), reduction=reduction)\n",
    "        return loss_val\n",
    "\n",
    "    # Saves the current model\n",
    "    def save_model(self, file_path, num_to_keep=1):\n",
    "        pt_util.save(self, file_path, num_to_keep)\n",
    "\n",
    "    # Saves the best model so far\n",
    "    def save_best_model(self, accuracy, file_path, num_to_keep=1):\n",
    "        if accuracy > self.best_accuracy:\n",
    "            self.save_model(file_path, num_to_keep)\n",
    "            self.best_accuracy = accuracy\n",
    "\n",
    "    def load_model(self, file_path):\n",
    "        pt_util.restore(self, file_path)\n",
    "\n",
    "    def load_last_model(self, dir_path):\n",
    "        return pt_util.restore_latest(self, dir_path)"
   ]
  },
  {
   "cell_type": "markdown",
   "metadata": {
    "id": "iEQZIoB0jY5h"
   },
   "source": [
    "#Part 5: Character Generation\n",
    "\n",
    "In class we discussed three algorithms for creating sequences.\n",
    "1. Max: Choose the most likely value\n",
    "2. Sample: Sample from the distribution output by the network.\n",
    "3. Beam Search: Sample from the distribution and use the Beam Search algorithm.\n",
    "\n",
    "The beam search algorithm is as follows:\n",
    "```\n",
    "1. Initialize the beam list with the single existing empty beam\n",
    "2. Repeat for the sequence length:\n",
    "    1. For each beam in the beam list:\n",
    "        1. Compute the next distribution over the output space for that state\n",
    "        2. Sample from the distribution with replacement\n",
    "        3. For each sample:\n",
    "            1. Compute its score\n",
    "            2. Record its hidden state and chosen value\n",
    "        4. Add all the samples to the new beam list      \n",
    "     2. Rank the new beam list\n",
    "     3. Throw out all but the top N beams\n",
    " 3. Return the top beam's chosen values.\n",
    "```\n",
    "\n",
    "\n",
    "Hints:\n",
    "- np.random.choice and torch.multinomial will both help with the sampling as they can take in a weighted probability distribution and sample from that distribution.\n",
    "- For beam search you will need to keep a running score of the likelihood of each sequence. If you multiply the likelihoods, you will encounter float underflow. Instead, you should add the log likelihoods.\n",
    "- For beam search, you will need to keep track of multiple hidden states related to which branch you are currently expanding.\n",
    "- For beam search, you should search over the beam, but only return the top result in the end.\n",
    "- It may be useful to do the training part before the character generation part so you have some model to test.\n",
    "- Feel free to play around with the `BEAM_WIDTH`.\n"
   ]
  },
  {
   "cell_type": "code",
   "execution_count": 9,
   "metadata": {
    "id": "9XTxy4eq3UYR"
   },
   "outputs": [],
   "source": [
    "TEMPERATURE = 0.5\n",
    "BEAM_WIDTH = 10\n",
    "\n",
    "def max_sampling_strategy(sequence_length, model, output, hidden, vocab):\n",
    "    outputs = []\n",
    "    newX = output\n",
    "    newHidden = hidden\n",
    "    for ii in range(sequence_length):\n",
    "        outputs.append(torch.argmax(newX))\n",
    "        newX, newHidden = model.inference(torch.argmax(newX), newHidden)\n",
    "    return outputs\n",
    "    \n",
    "def sample_sampling_strategy(sequence_length, model, output, hidden, vocab):\n",
    "    outputs = []\n",
    "    newX = output\n",
    "    newHidden = hidden\n",
    "    for ii in range(sequence_length):\n",
    "        val = torch.multinomial(newX, 1)\n",
    "        outputs.append(val)\n",
    "        newX, newHidden = model.inference(val, newHidden)\n",
    "    return outputs\n",
    "\n",
    "def beam_sampling_strategy(sequence_length, beam_width, model, output, hidden, vocab):\n",
    "    outputs = []\n",
    "    beam = [([], output, hidden, 0)]\n",
    "    for ii in range(sequence_length):\n",
    "        new_beams = []\n",
    "        for b in beams:\n",
    "            \n",
    "            \n",
    "    # TODO\n",
    "    raise NotImplementedError\n",
    "    return outputs\n",
    "\n",
    "\n",
    "def generate_language(model, device, seed_words, sequence_length, vocab, sampling_strategy='max', beam_width=BEAM_WIDTH):\n",
    "    model.eval()\n",
    "\n",
    "    with torch.no_grad():\n",
    "        seed_words_arr = vocab.words_to_array(seed_words)\n",
    "\n",
    "        # Computes the initial hidden state from the prompt (seed words).\n",
    "        hidden = None\n",
    "        for ind in seed_words_arr:\n",
    "            data = ind.to(device)\n",
    "            output, hidden = model.inference(data, hidden)\n",
    "        \n",
    "        if sampling_strategy == 'max':\n",
    "            outputs = max_sampling_strategy(sequence_length, model, output, hidden, vocab)\n",
    "\n",
    "        elif sampling_strategy == 'sample':\n",
    "            outputs = sample_sampling_strategy(sequence_length, model, output, hidden, vocab)\n",
    "\n",
    "        elif sampling_strategy == 'beam':\n",
    "            outputs = beam_sampling_strategy(sequence_length, beam_width, model, output, hidden, vocab)\n",
    "\n",
    "\n",
    "        return vocab.array_to_words(seed_words_arr.tolist() + outputs)"
   ]
  },
  {
   "cell_type": "markdown",
   "metadata": {
    "id": "Havsk_RJi_i5"
   },
   "source": [
    "# Part 6: Training\n",
    "Again, we are providing training code for you. Have a look at the train function though as it implements the exact forward approximate backward computation, which may be of interest to you. You will still need to add the perplexity computation (read more in part 9 about how to do this)."
   ]
  },
  {
   "cell_type": "code",
   "execution_count": 11,
   "metadata": {
    "id": "L0Wq8hRy0UEX"
   },
   "outputs": [],
   "source": [
    "import tqdm\n",
    "def repackage_hidden(h):\n",
    "    \"\"\"Wraps hidden states in new Tensors, to detach them from their history.\"\"\"\n",
    "    if isinstance(h, torch.Tensor):\n",
    "        return h.detach()\n",
    "    else:\n",
    "        return tuple(repackage_hidden(v) for v in h)\n",
    "\n",
    "def train(model, device, optimizer, train_loader, lr, epoch, log_interval):\n",
    "    model.train()\n",
    "    losses = []\n",
    "    hidden = None\n",
    "    for batch_idx, (data, label) in enumerate(tqdm.tqdm(train_loader)):\n",
    "        data, label = data.to(device), label.to(device)\n",
    "        # Separates the hidden state across batches. \n",
    "        # Otherwise the backward would try to go all the way to the beginning every time.\n",
    "        if hidden is not None:\n",
    "            hidden = repackage_hidden(hidden)\n",
    "        optimizer.zero_grad()\n",
    "        output, hidden = model(data)\n",
    "        pred = output.max(-1)[1]\n",
    "        loss = model.loss(output, label)\n",
    "        losses.append(loss.item())\n",
    "        loss.backward()\n",
    "        optimizer.step()\n",
    "        if batch_idx % log_interval == 0:\n",
    "            print('Train Epoch: {} [{}/{} ({:.0f}%)]\\tLoss: {:.6f}'.format(\n",
    "                epoch, batch_idx * len(data), len(train_loader.dataset),\n",
    "                100. * batch_idx / len(train_loader), loss.item()))\n",
    "    return np.mean(losses)\n",
    "\n",
    "\n",
    "def test(model, device, test_loader):\n",
    "    model.eval()\n",
    "    test_loss = 0\n",
    "    correct = 0\n",
    "\n",
    "    with torch.no_grad():\n",
    "        hidden = None\n",
    "        for batch_idx, (data, label) in enumerate(test_loader):\n",
    "            data, label = data.to(device), label.to(device)\n",
    "            output, hidden = model(data, hidden)\n",
    "#             print(output)\n",
    "            test_loss += model.loss(output, label, reduction='mean').item()\n",
    "            pred = output.max(-1)[1]\n",
    "            correct_mask = pred.eq(label.view_as(pred))\n",
    "            num_correct = correct_mask.sum().item()\n",
    "            correct += num_correct\n",
    "            # Comment this out to avoid printing test results\n",
    "            if batch_idx % 10 == 0:\n",
    "                print('Input\\t%s\\nGT\\t%s\\npred\\t%s\\n\\n' % (\n",
    "                    test_loader.dataset.vocab.array_to_words(data[0]),\n",
    "                    test_loader.dataset.vocab.array_to_words(label[0]),\n",
    "                    test_loader.dataset.vocab.array_to_words(pred[0])))\n",
    "\n",
    "    test_loss /= len(test_loader)\n",
    "    test_accuracy = 100. * correct / (len(test_loader.dataset) * test_loader.dataset.sequence_length)\n",
    "\n",
    "    print('\\nTest set: Average loss: {:.4f}, Accuracy: {}/{} ({:.0f}%)\\n'.format(\n",
    "        test_loss, correct, len(test_loader.dataset) * test_loader.dataset.sequence_length,\n",
    "        100. * correct / (len(test_loader.dataset) * test_loader.dataset.sequence_length)))\n",
    "    return test_loss, test_accuracy"
   ]
  },
  {
   "cell_type": "code",
   "execution_count": 12,
   "metadata": {
    "id": "66T-Ylkg0fn1",
    "scrolled": true
   },
   "outputs": [
    {
     "name": "stdout",
     "output_type": "stream",
     "text": [
      "Using device cuda\n",
      "num workers: 16\n",
      "Input\tonly way left to get water, because Voldemort had planned it so ... He flung himself over to the edge\n",
      "GT\tnly way left to get water, because Voldemort had planned it so ... He flung himself over to the edge \n",
      "pred\tt I(!)K((.1['G..!!aCGWKKK_FG.aG=MddGii.)]?5u'.!=QG;.OzzaGG-'G'&G~~~((aGG.k9M!!:w'aImGi71_G'.!'F1GGG-a\n",
      "\n",
      "\n",
      "Input\ts that had his arm. It released him, falling backward into the water with a splash; he scrambled to h\n",
      "GT\t that had his arm. It released him, falling backward into the water with a splash; he scrambled to hi\n",
      "pred\t&G'F=KGF=QG!-'GOuu-gkO.p_.1=ddyGG:wFG[vI.-6-!!OGG)Ku)G--'t!'F1GWKKK_GA-'F!=G';.OdbQG!aG'GG=?).1yG.ZG!\n",
      "\n",
      "\n",
      "Input\tath, and his feet left the ground as they lifted him and began to carry him, slowly and surely, back \n",
      "GT\tth, and his feet left the ground as they lifted him and began to carry him, slowly and surely, back t\n",
      "pred\t=K1FG=hQG!:'G[G11G.1['G.F1GGui5 iGO'G'F11!I-['1GG!ww:OzQGGaa=YGh&!G=uu((b:wF!'.&&.(!O;iG'ku_I1cG.O=GG\n",
      "\n",
      "\n",
      "Input\t . . .\n",
      "Dumbledore scooped the locket from the bottom of the stone basin and stowed it inside his robe\n",
      "GT\t. . .\n",
      "Dumbledore scooped the locket from the bottom of the stone basin and stowed it inside his robes\n",
      "pred\tG~(~(~~=M?).1yiu]G'GGx;1iG'F1GIIrG]'GG_i?g'F1GG...&?G5iG'F1GG'& aGG=dwwG44QG''&&ayG-'!--6-X]G!:'Gu()]\n",
      "\n",
      "\n",
      "Input\t\"sir, I forgot -- about fire -- they were coming at me and I panicked --\"\n",
      "\"Quite understandable,\" mur\n",
      "GT\tsir, I forgot -- about fire -- they were coming at me and I panicked --\"\n",
      "\"Quite understandable,\" murm\n",
      "pred\tkd-uFGGGGi_u(..MM!=   ..[-u_G!M!'F11:Wa__GGG?-w-!OOG??G=YQGGG;=;-14]GGGMk1k3kXK1Gk i]_A'OYQQ .1.3G?5u\n",
      "\n",
      "\n"
     ]
    },
    {
     "name": "stderr",
     "output_type": "stream",
     "text": [
      "\r",
      "  0%|                                                                                                                                          | 0/196 [00:00<?, ?it/s]"
     ]
    },
    {
     "name": "stdout",
     "output_type": "stream",
     "text": [
      "\n",
      "Test set: Average loss: 16.6382, Accuracy: 11587/1254400 (1%)\n",
      "\n"
     ]
    },
    {
     "name": "stderr",
     "output_type": "stream",
     "text": [
      "  3%|███▎                                                                                                                              | 5/196 [00:00<00:14, 13.12it/s]"
     ]
    },
    {
     "name": "stdout",
     "output_type": "stream",
     "text": [
      "Train Epoch: 0 [0/50176 (0%)]\tLoss: 16.619621\n"
     ]
    },
    {
     "name": "stderr",
     "output_type": "stream",
     "text": [
      "  9%|███████████▏                                                                                                                     | 17/196 [00:00<00:06, 28.01it/s]"
     ]
    },
    {
     "name": "stdout",
     "output_type": "stream",
     "text": [
      "Train Epoch: 0 [2560/50176 (5%)]\tLoss: 11.546792\n"
     ]
    },
    {
     "name": "stderr",
     "output_type": "stream",
     "text": [
      " 13%|████████████████▍                                                                                                                | 25/196 [00:01<00:05, 31.67it/s]"
     ]
    },
    {
     "name": "stdout",
     "output_type": "stream",
     "text": [
      "Train Epoch: 0 [5120/50176 (10%)]\tLoss: 5.856377\n"
     ]
    },
    {
     "name": "stderr",
     "output_type": "stream",
     "text": [
      " 19%|████████████████████████▎                                                                                                        | 37/196 [00:01<00:04, 33.85it/s]"
     ]
    },
    {
     "name": "stdout",
     "output_type": "stream",
     "text": [
      "Train Epoch: 0 [7680/50176 (15%)]\tLoss: 3.803585\n"
     ]
    },
    {
     "name": "stderr",
     "output_type": "stream",
     "text": [
      " 23%|█████████████████████████████▌                                                                                                   | 45/196 [00:01<00:04, 34.42it/s]"
     ]
    },
    {
     "name": "stdout",
     "output_type": "stream",
     "text": [
      "Train Epoch: 0 [10240/50176 (20%)]\tLoss: 2.873615\n"
     ]
    },
    {
     "name": "stderr",
     "output_type": "stream",
     "text": [
      " 29%|█████████████████████████████████████▌                                                                                           | 57/196 [00:01<00:03, 34.87it/s]"
     ]
    },
    {
     "name": "stdout",
     "output_type": "stream",
     "text": [
      "Train Epoch: 0 [12800/50176 (26%)]\tLoss: 2.620918\n"
     ]
    },
    {
     "name": "stderr",
     "output_type": "stream",
     "text": [
      " 33%|██████████████████████████████████████████▊                                                                                      | 65/196 [00:02<00:03, 34.61it/s]"
     ]
    },
    {
     "name": "stdout",
     "output_type": "stream",
     "text": [
      "Train Epoch: 0 [15360/50176 (31%)]\tLoss: 3.288650\n"
     ]
    },
    {
     "name": "stderr",
     "output_type": "stream",
     "text": [
      " 39%|██████████████████████████████████████████████████▋                                                                              | 77/196 [00:02<00:03, 34.15it/s]"
     ]
    },
    {
     "name": "stdout",
     "output_type": "stream",
     "text": [
      "Train Epoch: 0 [17920/50176 (36%)]\tLoss: 2.611052\n"
     ]
    },
    {
     "name": "stderr",
     "output_type": "stream",
     "text": [
      " 43%|███████████████████████████████████████████████████████▉                                                                         | 85/196 [00:02<00:03, 34.46it/s]"
     ]
    },
    {
     "name": "stdout",
     "output_type": "stream",
     "text": [
      "Train Epoch: 0 [20480/50176 (41%)]\tLoss: 2.423308\n"
     ]
    },
    {
     "name": "stderr",
     "output_type": "stream",
     "text": [
      " 49%|███████████████████████████████████████████████████████████████▊                                                                 | 97/196 [00:03<00:02, 34.09it/s]"
     ]
    },
    {
     "name": "stdout",
     "output_type": "stream",
     "text": [
      "Train Epoch: 0 [23040/50176 (46%)]\tLoss: 2.259974\n"
     ]
    },
    {
     "name": "stderr",
     "output_type": "stream",
     "text": [
      " 54%|████████████████████████████████████████████████████████████████████▌                                                           | 105/196 [00:03<00:02, 34.17it/s]"
     ]
    },
    {
     "name": "stdout",
     "output_type": "stream",
     "text": [
      "Train Epoch: 0 [25600/50176 (51%)]\tLoss: 2.636741\n"
     ]
    },
    {
     "name": "stderr",
     "output_type": "stream",
     "text": [
      " 60%|████████████████████████████████████████████████████████████████████████████▍                                                   | 117/196 [00:03<00:02, 34.79it/s]"
     ]
    },
    {
     "name": "stdout",
     "output_type": "stream",
     "text": [
      "Train Epoch: 0 [28160/50176 (56%)]\tLoss: 2.609479\n"
     ]
    },
    {
     "name": "stderr",
     "output_type": "stream",
     "text": [
      " 64%|█████████████████████████████████████████████████████████████████████████████████▋                                              | 125/196 [00:03<00:02, 34.19it/s]"
     ]
    },
    {
     "name": "stdout",
     "output_type": "stream",
     "text": [
      "Train Epoch: 0 [30720/50176 (61%)]\tLoss: 2.460187\n"
     ]
    },
    {
     "name": "stderr",
     "output_type": "stream",
     "text": [
      " 70%|█████████████████████████████████████████████████████████████████████████████████████████▍                                      | 137/196 [00:04<00:01, 34.10it/s]"
     ]
    },
    {
     "name": "stdout",
     "output_type": "stream",
     "text": [
      "Train Epoch: 0 [33280/50176 (66%)]\tLoss: 2.232218\n"
     ]
    },
    {
     "name": "stderr",
     "output_type": "stream",
     "text": [
      " 74%|██████████████████████████████████████████████████████████████████████████████████████████████▋                                 | 145/196 [00:04<00:01, 33.90it/s]"
     ]
    },
    {
     "name": "stdout",
     "output_type": "stream",
     "text": [
      "Train Epoch: 0 [35840/50176 (71%)]\tLoss: 2.105775\n"
     ]
    },
    {
     "name": "stderr",
     "output_type": "stream",
     "text": [
      " 80%|██████████████████████████████████████████████████████████████████████████████████████████████████████▌                         | 157/196 [00:04<00:01, 34.33it/s]"
     ]
    },
    {
     "name": "stdout",
     "output_type": "stream",
     "text": [
      "Train Epoch: 0 [38400/50176 (77%)]\tLoss: 2.115195\n"
     ]
    },
    {
     "name": "stderr",
     "output_type": "stream",
     "text": [
      " 84%|███████████████████████████████████████████████████████████████████████████████████████████████████████████▊                    | 165/196 [00:05<00:00, 34.17it/s]"
     ]
    },
    {
     "name": "stdout",
     "output_type": "stream",
     "text": [
      "Train Epoch: 0 [40960/50176 (82%)]\tLoss: 2.111869\n"
     ]
    },
    {
     "name": "stderr",
     "output_type": "stream",
     "text": [
      " 90%|███████████████████████████████████████████████████████████████████████████████████████████████████████████████████▌            | 177/196 [00:05<00:00, 34.28it/s]"
     ]
    },
    {
     "name": "stdout",
     "output_type": "stream",
     "text": [
      "Train Epoch: 0 [43520/50176 (87%)]\tLoss: 1.990515\n"
     ]
    },
    {
     "name": "stderr",
     "output_type": "stream",
     "text": [
      " 94%|████████████████████████████████████████████████████████████████████████████████████████████████████████████████████████▊       | 185/196 [00:05<00:00, 34.57it/s]"
     ]
    },
    {
     "name": "stdout",
     "output_type": "stream",
     "text": [
      "Train Epoch: 0 [46080/50176 (92%)]\tLoss: 2.152858\n"
     ]
    },
    {
     "name": "stderr",
     "output_type": "stream",
     "text": [
      " 98%|██████████████████████████████████████████████████████████████████████████████████████████████████████████████████████████████  | 193/196 [00:05<00:00, 34.11it/s]"
     ]
    },
    {
     "name": "stdout",
     "output_type": "stream",
     "text": [
      "Train Epoch: 0 [48640/50176 (97%)]\tLoss: 2.124355\n"
     ]
    },
    {
     "name": "stderr",
     "output_type": "stream",
     "text": [
      "100%|████████████████████████████████████████████████████████████████████████████████████████████████████████████████████████████████| 196/196 [00:06<00:00, 32.33it/s]\n"
     ]
    },
    {
     "name": "stdout",
     "output_type": "stream",
     "text": [
      "Input\tonly way left to get water, because Voldemort had planned it so ... He flung himself over to the edge\n",
      "GT\tnly way left to get water, because Voldemort had planned it so ... He flung himself over to the edge \n",
      "pred\tney tas diat bh tet oascn, nuaause neldemont oad naaneed on wenm \"\"Ie waomdeoam.elf tner th the nnaen\n",
      "\n",
      "\n",
      "Input\ts that had his arm. It released him, falling backward into the water with a splash; he scrambled to h\n",
      "GT\t that had his arm. It released him, falling backward into the water with a splash; he scrambled to hi\n",
      "pred\t ooet nad nam nndi \"  diaiansn oam. \"anl ng dedk asdssn o the nascn,nanh hnnniense neaaaaaieeedooo ta\n",
      "\n",
      "\n",
      "Input\tath, and his feet left the ground as they lifted him and began to carry him, slowly and surely, back \n",
      "GT\tth, and his feet left the ground as they lifted him and began to carry him, slowly and surely, back t\n",
      "pred\tdhe tnd tam naaa hiatebhe neannd tn the  dekter bam.tnd deeen do tanti dam.\"\"oioei,nnd dedi y  \"unk o\n",
      "\n",
      "\n",
      "Input\t . . .\n",
      "Dumbledore scooped the locket from the bottom of the stone basin and stowed it inside his robe\n",
      "GT\t. . .\n",
      "Dumbledore scooped the locket from the bottom of the stone basin and stowed it inside his robes\n",
      "pred\t\" . . \n",
      "umbledore aoand n aoe diok d iaon the netheletn the ncepe ooc,ngtnd Hcennn tn cn ede ham nool \n",
      "\n",
      "\n",
      "Input\t\"sir, I forgot -- about fire -- they were coming at me and I panicked --\"\n",
      "\"Quite understandable,\" mur\n",
      "GT\tsir, I forgot -- about fire -- they were coming at me and I panicked --\"\n",
      "\"Quite understandable,\" murm\n",
      "pred\tRani \" dal en t- tnout tens n- nhe  daaenaanengedn haannd d dastne d a- \n",
      "\"Iuideddpders.end ile   sasi\n",
      "\n",
      "\n",
      "\n",
      "Test set: Average loss: 2.1904, Accuracy: 543209/1254400 (43%)\n",
      "\n",
      "Saved /home/jefftian/Documents/21au/cse490g1/hw2content/checkpoints/000.pt\n",
      "\n",
      "generated max\t\t Harry Potter, Voldemort, and Dumbledore walk into a bar. He and done on the dand sone on the dand sone on the dand sone on the dand sone on the dand sone on the dand sone on the dand sone on the dand sone on the dand sone on the dand sone on the dand sone o\n",
      "generated sample\t Harry Potter, Voldemort, and Dumbledore walk into a bar. Pand Ron neverss; leetten\n",
      "son. \"Avand vaincined andinge vep said on. Thankfather, tone's not in the eavaninged up soodding ney twan everindow.\n",
      "Vold's on the had neverand spatehind.\n",
      "\"What dick sudden i\n",
      "generated sample\t Harry Potter, Voldemort, and Dumbledore walk into a bar. Maday incee notinger handy.\n",
      "\"That knocked and the been into had, in then them. Snanding.\n",
      "\n",
      "\"WAnd didn't knew in moveandingering at Snapewanzinge.\n",
      "\"Had lead not lood; in it's on with Hagh. Snisceak in h\n",
      "generated sample\t Harry Potter, Voldemort, and Dumbledore walk into a bar. It was nexpect tened to be had came on fat he anded, and Ron donevlesk not of findedint!\" said Harka, hadand Pattering down teenendems.\n",
      "\n",
      "\"No,\" said had Scame dand you weaywereathut, Blik MacGnal\n",
      "ling \n",
      "generated sample\t Harry Potter, Voldemort, and Dumbledore walk into a bar. .\n",
      "\n",
      "\"is,\" Ron intice and on, what the new veringen timpeted.\n",
      "\n",
      "\"Noting'p evernevely gave -- to b~Ec/xB4*)LLcKrassed didnitle outined and theat foAt Malfe, andswing pible but findone back of donew, anddi\n",
      "generated sample\t Harry Potter, Voldemort, and Dumbledore walk into a bar. I don't Bught,\" saidd Fim.\n",
      "\n",
      "Malfoy didn't peandanythering himsee,\" said Snabled\n",
      "beer and Maise, what ditch end\n",
      "danon't the pase schanged bants, in yeaus, Aglive,\" said, Dumbledone's on.\n",
      "\n",
      "Madas and sno\n",
      "generated sample\t Harry Potter, Voldemort, and Dumbledore walk into a bar. Noping you and into vering beforen didnotenly,\" said Potter haind Patep, and inde veranted and had longe.\n",
      "'Ye had noinged? Doblinged,\" said on the niver on the feent Sbingudedly\n",
      "sead dimminuesting to \n",
      "generated sample\t Harry Potter, Voldemort, and Dumbledore walk into a bar. Had tolld one hadad hame mususe -- god but I don't gue about, itu'l be ndinining veryingue?\"\n",
      "\"Oh, \"Sno!\"\n",
      "\"If to enseen the bod; Hagry dand be and beendeingvernince had Snanevery dass.\n",
      "\n",
      "\"List ,\" said n\n",
      "generated sample\t Harry Potter, Voldemort, and Dumbledore walk into a bar. Main inveand indince leaninnevoled back I don\n",
      "not the neicteand the eaveberand looking body turned over, was no ninerc!\"\n",
      "There suringer\n",
      "that cangen.\n",
      "\n",
      "\"Lupinding uncering. Harry like Cunded onte's?\" se\n"
     ]
    },
    {
     "name": "stderr",
     "output_type": "stream",
     "text": [
      "\r",
      "  0%|                                                                                                                                          | 0/196 [00:00<?, ?it/s]"
     ]
    },
    {
     "name": "stdout",
     "output_type": "stream",
     "text": [
      "generated sample\t Harry Potter, Voldemort, and Dumbledore walk into a bar. Madad, Potice.\n",
      "\n",
      "Hagic rif eyes was\n",
      "hat? 'thementing looked on put un there Snapeand, and on had never and painquearmtedand; examed and Hage ind?\"\n",
      "Hearing deant ind Fowas. \"Now, but botend riched don't\n",
      "generated sample\t Harry Potter, Voldemort, and Dumbledore walk into a bar. Haid Ron,\" said no hid, in head,\" said.\n",
      "\n",
      "Lodday want the patched, head nought\n",
      "tellone on downated of wich the scand one and pat inted fond Hagrily, look,\" said Mood.\n",
      "\n",
      "\"Maids the candinger.\n",
      ".\" sneep ca\n",
      "\n"
     ]
    },
    {
     "name": "stderr",
     "output_type": "stream",
     "text": [
      "  3%|███▎                                                                                                                              | 5/196 [00:00<00:14, 13.16it/s]"
     ]
    },
    {
     "name": "stdout",
     "output_type": "stream",
     "text": [
      "Train Epoch: 1 [0/50176 (0%)]\tLoss: 2.151424\n"
     ]
    },
    {
     "name": "stderr",
     "output_type": "stream",
     "text": [
      "  9%|███████████▏                                                                                                                     | 17/196 [00:00<00:06, 27.95it/s]"
     ]
    },
    {
     "name": "stdout",
     "output_type": "stream",
     "text": [
      "Train Epoch: 1 [2560/50176 (5%)]\tLoss: 2.010198\n"
     ]
    },
    {
     "name": "stderr",
     "output_type": "stream",
     "text": [
      " 13%|████████████████▍                                                                                                                | 25/196 [00:01<00:05, 30.48it/s]"
     ]
    },
    {
     "name": "stdout",
     "output_type": "stream",
     "text": [
      "Train Epoch: 1 [5120/50176 (10%)]\tLoss: 1.962267\n"
     ]
    },
    {
     "name": "stderr",
     "output_type": "stream",
     "text": [
      " 19%|████████████████████████▎                                                                                                        | 37/196 [00:01<00:04, 33.02it/s]"
     ]
    },
    {
     "name": "stdout",
     "output_type": "stream",
     "text": [
      "Train Epoch: 1 [7680/50176 (15%)]\tLoss: 1.882853\n"
     ]
    },
    {
     "name": "stderr",
     "output_type": "stream",
     "text": [
      " 23%|█████████████████████████████▌                                                                                                   | 45/196 [00:01<00:04, 33.84it/s]"
     ]
    },
    {
     "name": "stdout",
     "output_type": "stream",
     "text": [
      "Train Epoch: 1 [10240/50176 (20%)]\tLoss: 1.802903\n"
     ]
    },
    {
     "name": "stderr",
     "output_type": "stream",
     "text": [
      " 29%|█████████████████████████████████████▌                                                                                           | 57/196 [00:01<00:04, 34.52it/s]"
     ]
    },
    {
     "name": "stdout",
     "output_type": "stream",
     "text": [
      "Train Epoch: 1 [12800/50176 (26%)]\tLoss: 1.861899\n"
     ]
    },
    {
     "name": "stderr",
     "output_type": "stream",
     "text": [
      " 33%|██████████████████████████████████████████▊                                                                                      | 65/196 [00:02<00:03, 34.69it/s]"
     ]
    },
    {
     "name": "stdout",
     "output_type": "stream",
     "text": [
      "Train Epoch: 1 [15360/50176 (31%)]\tLoss: 2.004156\n"
     ]
    },
    {
     "name": "stderr",
     "output_type": "stream",
     "text": [
      " 39%|██████████████████████████████████████████████████▋                                                                              | 77/196 [00:02<00:03, 34.96it/s]"
     ]
    },
    {
     "name": "stdout",
     "output_type": "stream",
     "text": [
      "Train Epoch: 1 [17920/50176 (36%)]\tLoss: 2.041138\n"
     ]
    },
    {
     "name": "stderr",
     "output_type": "stream",
     "text": [
      " 43%|███████████████████████████████████████████████████████▉                                                                         | 85/196 [00:02<00:03, 34.88it/s]"
     ]
    },
    {
     "name": "stdout",
     "output_type": "stream",
     "text": [
      "Train Epoch: 1 [20480/50176 (41%)]\tLoss: 1.941530\n"
     ]
    },
    {
     "name": "stderr",
     "output_type": "stream",
     "text": [
      " 49%|███████████████████████████████████████████████████████████████▊                                                                 | 97/196 [00:03<00:02, 35.36it/s]"
     ]
    },
    {
     "name": "stdout",
     "output_type": "stream",
     "text": [
      "Train Epoch: 1 [23040/50176 (46%)]\tLoss: 1.880313\n"
     ]
    },
    {
     "name": "stderr",
     "output_type": "stream",
     "text": [
      " 54%|████████████████████████████████████████████████████████████████████▌                                                           | 105/196 [00:03<00:02, 35.25it/s]"
     ]
    },
    {
     "name": "stdout",
     "output_type": "stream",
     "text": [
      "Train Epoch: 1 [25600/50176 (51%)]\tLoss: 1.790487\n"
     ]
    },
    {
     "name": "stderr",
     "output_type": "stream",
     "text": [
      " 60%|████████████████████████████████████████████████████████████████████████████▍                                                   | 117/196 [00:03<00:02, 35.14it/s]"
     ]
    },
    {
     "name": "stdout",
     "output_type": "stream",
     "text": [
      "Train Epoch: 1 [28160/50176 (56%)]\tLoss: 1.738031\n"
     ]
    },
    {
     "name": "stderr",
     "output_type": "stream",
     "text": [
      " 64%|█████████████████████████████████████████████████████████████████████████████████▋                                              | 125/196 [00:03<00:02, 34.69it/s]"
     ]
    },
    {
     "name": "stdout",
     "output_type": "stream",
     "text": [
      "Train Epoch: 1 [30720/50176 (61%)]\tLoss: 1.727035\n"
     ]
    },
    {
     "name": "stderr",
     "output_type": "stream",
     "text": [
      " 70%|█████████████████████████████████████████████████████████████████████████████████████████▍                                      | 137/196 [00:04<00:01, 35.15it/s]"
     ]
    },
    {
     "name": "stdout",
     "output_type": "stream",
     "text": [
      "Train Epoch: 1 [33280/50176 (66%)]\tLoss: 1.677542\n"
     ]
    },
    {
     "name": "stderr",
     "output_type": "stream",
     "text": [
      " 74%|██████████████████████████████████████████████████████████████████████████████████████████████▋                                 | 145/196 [00:04<00:01, 35.10it/s]"
     ]
    },
    {
     "name": "stdout",
     "output_type": "stream",
     "text": [
      "Train Epoch: 1 [35840/50176 (71%)]\tLoss: 1.699824\n"
     ]
    },
    {
     "name": "stderr",
     "output_type": "stream",
     "text": [
      " 80%|██████████████████████████████████████████████████████████████████████████████████████████████████████▌                         | 157/196 [00:04<00:01, 35.11it/s]"
     ]
    },
    {
     "name": "stdout",
     "output_type": "stream",
     "text": [
      "Train Epoch: 1 [38400/50176 (77%)]\tLoss: 1.731221\n"
     ]
    },
    {
     "name": "stderr",
     "output_type": "stream",
     "text": [
      " 84%|███████████████████████████████████████████████████████████████████████████████████████████████████████████▊                    | 165/196 [00:05<00:00, 34.69it/s]"
     ]
    },
    {
     "name": "stdout",
     "output_type": "stream",
     "text": [
      "Train Epoch: 1 [40960/50176 (82%)]\tLoss: 1.767791\n"
     ]
    },
    {
     "name": "stderr",
     "output_type": "stream",
     "text": [
      " 90%|███████████████████████████████████████████████████████████████████████████████████████████████████████████████████▌            | 177/196 [00:05<00:00, 35.24it/s]"
     ]
    },
    {
     "name": "stdout",
     "output_type": "stream",
     "text": [
      "Train Epoch: 1 [43520/50176 (87%)]\tLoss: 1.715686\n"
     ]
    },
    {
     "name": "stderr",
     "output_type": "stream",
     "text": [
      " 94%|████████████████████████████████████████████████████████████████████████████████████████████████████████████████████████▊       | 185/196 [00:05<00:00, 35.18it/s]"
     ]
    },
    {
     "name": "stdout",
     "output_type": "stream",
     "text": [
      "Train Epoch: 1 [46080/50176 (92%)]\tLoss: 1.755156\n"
     ]
    },
    {
     "name": "stderr",
     "output_type": "stream",
     "text": [
      "100%|████████████████████████████████████████████████████████████████████████████████████████████████████████████████████████████████| 196/196 [00:05<00:00, 32.68it/s]"
     ]
    },
    {
     "name": "stdout",
     "output_type": "stream",
     "text": [
      "Train Epoch: 1 [48640/50176 (97%)]\tLoss: 1.985097\n"
     ]
    },
    {
     "name": "stderr",
     "output_type": "stream",
     "text": [
      "\n"
     ]
    },
    {
     "name": "stdout",
     "output_type": "stream",
     "text": [
      "Input\tonly way left to get water, because Voldemort had planned it so ... He flung himself over to the edge\n",
      "GT\tnly way left to get water, because Voldemort had planned it so ... He flung himself over to the edge \n",
      "pred\tn e hen foft so sot sincri bufouse soldemortisid soeneed snssemm . Ie soodg fis elf hner sh she snges\n",
      "\n",
      "\n",
      "Input\ts that had his arm. It released him, falling backward into the water with a splash; he scrambled to h\n",
      "GT\t that had his arm. It released him, falling backward into the water with a splash; he scrambled to hi\n",
      "pred\t mret sid ces fnos H  sisisded tis  bocleng feck erdssnto the sincr sith hnnneense he scrobeeedooo si\n",
      "\n",
      "\n",
      "Input\tath, and his feet left the ground as they lifted him and began to carry him, slowly and surely, back \n",
      "GT\tth, and his feet left the ground as they lifted him and began to carry him, slowly and surely, back t\n",
      "pred\tdie and ses foel sist she sround tn tre  cekeyd hisssnd sefgn to sonri siss toepee fnd Here y  suck o\n",
      "\n",
      "\n",
      "Input\t . . .\n",
      "Dumbledore scooped the locket from the bottom of the stone basin and stowed it inside his robe\n",
      "GT\t. . .\n",
      "Dumbledore scooped the locket from the bottom of the stone basin and stowed it inside his robes\n",
      "pred\t\" . . \n",
      "umbledore sernmpn hoe sosk d srom the sottim ff hhe scipe soctdgtnd serpnd hnsss tde his fobbs\n",
      "\n",
      "\n",
      "Input\t\"sir, I forgot -- about fire -- they were coming at me and I panicked --\"\n",
      "\"Quite understandable,\" mur\n",
      "GT\tsir, I forgot -- about fire -- they were coming at me and I panicked --\"\n",
      "\"Quite understandable,\" murm\n",
      "pred\tYade \" cou ot s- Inout torsls- Ire  cere soning fn Ho snd s sontne d h  \n",
      "\"Iutdidssderstindsrle   setd\n",
      "\n",
      "\n",
      "\n",
      "Test set: Average loss: 1.9890, Accuracy: 601225/1254400 (48%)\n",
      "\n",
      "Saved /home/jefftian/Documents/21au/cse490g1/hw2content/checkpoints/001.pt\n",
      "\n",
      "generated max\t\t Harry Potter, Voldemort, and Dumbledore walk into a bar. He some on the still seen strided his for sentil seen sentil seen sentil seen sentil seen sentil seen sentil seen sentil seen sentil seen sentil seen sentil seen sentil seen sentil seen sentil seen se\n",
      "generated sample\t Harry Potter, Voldemort, and Dumbledore walk into a bar. Beanting, Harry! Mcoment\n",
      "\n",
      "\n",
      "Ust snocked Harry hoddic. \"They momentiction in tresent me not rust befores an boinescred of pusffacedloack rob's comined to get you seix, \"I you'll up, tEnder you him?\n",
      "\"Yes\n",
      "generated sample\t Harry Potter, Voldemort, and Dumbledore walk into a bar. Harry losed Someself somest of thimself for besents conine to his plowed.\n",
      "\"Why' do?\n",
      "\"Harry selfoy his crostiling to sepportainti's on fersed jobe complets\n",
      "tye sleyegnessley... Iwasness of contined to \n",
      "generated sample\t Harry Potter, Voldemort, and Dumbledore walk into a bar. Harry McGond, Harry told Harry had snessleyed.\n",
      "tock slidecidiscrosped. Harrywhen senfuth. Harry tose momentioused himsed to didn't He side. His come bodidy drescreetions    proppion tels. The stillowe\n",
      "generated sample\t Harry Potter, Voldemort, and Dumbledore walk into a bar. I know Huff contice Frgoning Hufficle Drumbledore. be on thise scridentsleyring to me, but seconds befoce from Ron and Harry fadr commontil , but his focur doing to the\n",
      "Dumbledore bedock I've mont's t\n",
      "generated sample\t Harry Potter, Voldemort, and Dumbledore walk into a bar. Wentil Harry sneled.\n",
      "\n",
      "\"Fout and seen stridle robestily fromseled tock scrolew 'mist yers put seelt is heilose looking to see\n",
      "con didn't you me fom firest liudning up tome to\n",
      "stopped uplifty purffiedro\n",
      "generated sample\t Harry Potter, Voldemort, and Dumbledore walk into a bar. \n",
      "\n",
      "He set Mrscrible Densed on the sless roubled sortingly Flutfing cobsting Strig's trok slopping to\n",
      "Hagry blied slop foy exacotion tod seen stred to my come didn't from Mong\n",
      "triggot ments screple seen\n",
      "generated sample\t Harry Potter, Voldemort, and Dumbledore walk into a bar. - - escomoved beten strididor mostenting founded hissey. Jutil of his exceing Snice problied pointing.\n",
      "\"Sese voice. sentil scry foy somesone sents need foGry\n",
      "pupped his for you beire, evendivedule cri\n",
      "generated sample\t Harry Potter, Voldemort, and Dumbledore walk into a bar. Moo facid. \"Yes, but from himse left.\n",
      "\n",
      "Hagred belomort snited told be for firestons\n",
      "plesson Fledgred fou dissley to thense smotting from his force. He cont to entione in trolleys like to stennight for\n"
     ]
    },
    {
     "name": "stderr",
     "output_type": "stream",
     "text": [
      "\r",
      "  0%|                                                                                                                                          | 0/196 [00:00<?, ?it/s]"
     ]
    },
    {
     "name": "stdout",
     "output_type": "stream",
     "text": [
      "generated sample\t Harry Potter, Voldemort, and Dumbledore walk into a bar. He arry didn't!\"\n",
      "\"e here stinceled not folow nestiredly.\n",
      ". \"Messley. You screnting Shesed somentil go dforning dgeop up Hagry.\n",
      "\"If you ponting pleands fam nidicky smbed Friggone forgento ther Did sloc\n",
      "generated sample\t Harry Potter, Voldemort, and Dumbledore walk into a bar. Uncle Mennight Crows for mideds leful on the doing to scrosecting students for Dirsleye\n",
      "sest meonts Hermione his to seen fot a somehing slegs!\"  sneed secoup. Bold he'lle, for you don't see I conventi\n",
      "\n"
     ]
    },
    {
     "name": "stderr",
     "output_type": "stream",
     "text": [
      "  3%|███▎                                                                                                                              | 5/196 [00:00<00:14, 13.28it/s]"
     ]
    },
    {
     "name": "stdout",
     "output_type": "stream",
     "text": [
      "Train Epoch: 2 [0/50176 (0%)]\tLoss: 1.946854\n"
     ]
    },
    {
     "name": "stderr",
     "output_type": "stream",
     "text": [
      "  9%|███████████▏                                                                                                                     | 17/196 [00:00<00:06, 27.75it/s]"
     ]
    },
    {
     "name": "stdout",
     "output_type": "stream",
     "text": [
      "Train Epoch: 2 [2560/50176 (5%)]\tLoss: 1.726251\n"
     ]
    },
    {
     "name": "stderr",
     "output_type": "stream",
     "text": [
      " 13%|████████████████▍                                                                                                                | 25/196 [00:01<00:05, 31.52it/s]"
     ]
    },
    {
     "name": "stdout",
     "output_type": "stream",
     "text": [
      "Train Epoch: 2 [5120/50176 (10%)]\tLoss: 1.693379\n"
     ]
    },
    {
     "name": "stderr",
     "output_type": "stream",
     "text": [
      " 19%|████████████████████████▎                                                                                                        | 37/196 [00:01<00:04, 33.65it/s]"
     ]
    },
    {
     "name": "stdout",
     "output_type": "stream",
     "text": [
      "Train Epoch: 2 [7680/50176 (15%)]\tLoss: 1.655567\n"
     ]
    },
    {
     "name": "stderr",
     "output_type": "stream",
     "text": [
      " 23%|█████████████████████████████▌                                                                                                   | 45/196 [00:01<00:04, 33.96it/s]"
     ]
    },
    {
     "name": "stdout",
     "output_type": "stream",
     "text": [
      "Train Epoch: 2 [10240/50176 (20%)]\tLoss: 1.632105\n"
     ]
    },
    {
     "name": "stderr",
     "output_type": "stream",
     "text": [
      " 29%|█████████████████████████████████████▌                                                                                           | 57/196 [00:01<00:04, 34.67it/s]"
     ]
    },
    {
     "name": "stdout",
     "output_type": "stream",
     "text": [
      "Train Epoch: 2 [12800/50176 (26%)]\tLoss: 1.660226\n"
     ]
    },
    {
     "name": "stderr",
     "output_type": "stream",
     "text": [
      " 33%|██████████████████████████████████████████▊                                                                                      | 65/196 [00:02<00:03, 34.68it/s]"
     ]
    },
    {
     "name": "stdout",
     "output_type": "stream",
     "text": [
      "Train Epoch: 2 [15360/50176 (31%)]\tLoss: 1.717030\n"
     ]
    },
    {
     "name": "stderr",
     "output_type": "stream",
     "text": [
      " 39%|██████████████████████████████████████████████████▋                                                                              | 77/196 [00:02<00:03, 34.57it/s]"
     ]
    },
    {
     "name": "stdout",
     "output_type": "stream",
     "text": [
      "Train Epoch: 2 [17920/50176 (36%)]\tLoss: 1.692274\n"
     ]
    },
    {
     "name": "stderr",
     "output_type": "stream",
     "text": [
      " 43%|███████████████████████████████████████████████████████▉                                                                         | 85/196 [00:02<00:03, 34.79it/s]"
     ]
    },
    {
     "name": "stdout",
     "output_type": "stream",
     "text": [
      "Train Epoch: 2 [20480/50176 (41%)]\tLoss: 1.636041\n"
     ]
    },
    {
     "name": "stderr",
     "output_type": "stream",
     "text": [
      " 49%|███████████████████████████████████████████████████████████████▊                                                                 | 97/196 [00:03<00:02, 34.63it/s]"
     ]
    },
    {
     "name": "stdout",
     "output_type": "stream",
     "text": [
      "Train Epoch: 2 [23040/50176 (46%)]\tLoss: 1.596619\n"
     ]
    },
    {
     "name": "stderr",
     "output_type": "stream",
     "text": [
      " 54%|████████████████████████████████████████████████████████████████████▌                                                           | 105/196 [00:03<00:02, 34.88it/s]"
     ]
    },
    {
     "name": "stdout",
     "output_type": "stream",
     "text": [
      "Train Epoch: 2 [25600/50176 (51%)]\tLoss: 1.618215\n"
     ]
    },
    {
     "name": "stderr",
     "output_type": "stream",
     "text": [
      " 60%|████████████████████████████████████████████████████████████████████████████▍                                                   | 117/196 [00:03<00:02, 34.81it/s]"
     ]
    },
    {
     "name": "stdout",
     "output_type": "stream",
     "text": [
      "Train Epoch: 2 [28160/50176 (56%)]\tLoss: 1.600715\n"
     ]
    },
    {
     "name": "stderr",
     "output_type": "stream",
     "text": [
      " 64%|█████████████████████████████████████████████████████████████████████████████████▋                                              | 125/196 [00:03<00:02, 35.05it/s]"
     ]
    },
    {
     "name": "stdout",
     "output_type": "stream",
     "text": [
      "Train Epoch: 2 [30720/50176 (61%)]\tLoss: 1.588672\n"
     ]
    },
    {
     "name": "stderr",
     "output_type": "stream",
     "text": [
      " 70%|█████████████████████████████████████████████████████████████████████████████████████████▍                                      | 137/196 [00:04<00:01, 35.17it/s]"
     ]
    },
    {
     "name": "stdout",
     "output_type": "stream",
     "text": [
      "Train Epoch: 2 [33280/50176 (66%)]\tLoss: 1.563633\n"
     ]
    },
    {
     "name": "stderr",
     "output_type": "stream",
     "text": [
      " 74%|██████████████████████████████████████████████████████████████████████████████████████████████▋                                 | 145/196 [00:04<00:01, 35.06it/s]"
     ]
    },
    {
     "name": "stdout",
     "output_type": "stream",
     "text": [
      "Train Epoch: 2 [35840/50176 (71%)]\tLoss: 1.576690\n"
     ]
    },
    {
     "name": "stderr",
     "output_type": "stream",
     "text": [
      " 80%|██████████████████████████████████████████████████████████████████████████████████████████████████████▌                         | 157/196 [00:04<00:01, 35.02it/s]"
     ]
    },
    {
     "name": "stdout",
     "output_type": "stream",
     "text": [
      "Train Epoch: 2 [38400/50176 (77%)]\tLoss: 1.562670\n"
     ]
    },
    {
     "name": "stderr",
     "output_type": "stream",
     "text": [
      " 84%|███████████████████████████████████████████████████████████████████████████████████████████████████████████▊                    | 165/196 [00:05<00:00, 35.43it/s]"
     ]
    },
    {
     "name": "stdout",
     "output_type": "stream",
     "text": [
      "Train Epoch: 2 [40960/50176 (82%)]\tLoss: 1.608477\n"
     ]
    },
    {
     "name": "stderr",
     "output_type": "stream",
     "text": [
      " 90%|███████████████████████████████████████████████████████████████████████████████████████████████████████████████████▌            | 177/196 [00:05<00:00, 35.76it/s]"
     ]
    },
    {
     "name": "stdout",
     "output_type": "stream",
     "text": [
      "Train Epoch: 2 [43520/50176 (87%)]\tLoss: 1.571597\n"
     ]
    },
    {
     "name": "stderr",
     "output_type": "stream",
     "text": [
      " 94%|████████████████████████████████████████████████████████████████████████████████████████████████████████████████████████▊       | 185/196 [00:05<00:00, 35.46it/s]"
     ]
    },
    {
     "name": "stdout",
     "output_type": "stream",
     "text": [
      "Train Epoch: 2 [46080/50176 (92%)]\tLoss: 1.584370\n"
     ]
    },
    {
     "name": "stderr",
     "output_type": "stream",
     "text": [
      "100%|████████████████████████████████████████████████████████████████████████████████████████████████████████████████████████████████| 196/196 [00:05<00:00, 32.81it/s]"
     ]
    },
    {
     "name": "stdout",
     "output_type": "stream",
     "text": [
      "Train Epoch: 2 [48640/50176 (97%)]\tLoss: 1.574459\n"
     ]
    },
    {
     "name": "stderr",
     "output_type": "stream",
     "text": [
      "\n"
     ]
    },
    {
     "name": "stdout",
     "output_type": "stream",
     "text": [
      "Input\tonly way left to get water, because Voldemort had planned it so ... He flung himself over to the edge\n",
      "GT\tnly way left to get water, because Voldemort had planned it so ... He flung himself over to the edge \n",
      "pred\tn y ths tott th tot thscr  aucause heldemort ted tuacted tt.wemt.. Ie hoodg oem elf tner th the hxges\n",
      "\n",
      "\n",
      "Input\ts that had his arm. It released him, falling backward into the water with a splash; he scrambled to h\n",
      "GT\t that had his arm. It released him, falling backward into the water with a splash; he scrambled to hi\n",
      "pred\t thet ted tem hnos \"  weaissed tem  arcl ng teck ard tn o the hhscr ahth h lteacse te htoebbledooh he\n",
      "\n",
      "\n",
      "Input\tath, and his feet left the ground as they lifted him and began to carry him, slowly and surely, back \n",
      "GT\tth, and his feet left the ground as they lifted him and began to carry him, slowly and surely, back t\n",
      "pred\tdhe and tes haet hitt hhe hround tn the  hektyd tem and teean to torei aem. atiwly,atd ttre y  auck t\n",
      "\n",
      "\n",
      "Input\t . . .\n",
      "Dumbledore scooped the locket from the bottom of the stone basin and stowed it inside his robe\n",
      "GT\t. . .\n",
      "Dumbledore scooped the locket from the bottom of the stone basin and stowed it inside his robes\n",
      "pred\t\".. . \n",
      "ombledore htrolpd the dook d arom the dothlm af the ctrpe oectngtnd ttrpad hn.hn tde hem hobes\n",
      "\n",
      "\n",
      "Input\t\"sir, I forgot -- about fire -- they were coming at me and I panicked --\"\n",
      "\"Quite understandable,\" mur\n",
      "GT\tsir, I forgot -- about fire -- they were coming at me and I panicked --\"\n",
      "\"Quite understandable,\" murm\n",
      "pred\tYade I dou ottt- tnout tone a- the  hare goneng tn ta tnd t dostne d h  \n",
      "\"Iuide dpderstand tle   satd\n",
      "\n",
      "\n",
      "\n",
      "Test set: Average loss: 1.5972, Accuracy: 676926/1254400 (54%)\n",
      "\n",
      "Saved /home/jefftian/Documents/21au/cse490g1/hw2content/checkpoints/002.pt\n",
      "\n",
      "generated max\t\t Harry Potter, Voldemort, and Dumbledore walk into a bar. \n",
      "\n",
      "\"I don't the door and the most the start of the heard the struggled the floor.\n",
      "\n",
      "\"I don't the door and the most the start of the heard the struggled the floor.\n",
      "\n",
      "\"I don't the door and the most the sta\n",
      "generated sample\t Harry Potter, Voldemort, and Dumbledore walk into a bar. What's reallooded to the know blined sloppedat\n",
      "tood there scroaked him. very looked to forward. \"Whyen.... but flustor-pital eye\n",
      "betleghole if looking face the opple he's dinneryanted her, ide the\n",
      "wol\n",
      "generated sample\t Harry Potter, Voldemort, and Dumbledore walk into a bar. There some only into the heak fortaing them as when the eggls' making feet hereverning... drown tquickled he pulled to the kit see, as the descorded the time the improdemort. The cornerus hever off Ch\n",
      "generated sample\t Harry Potter, Voldemort, and Dumbledore walk into a bar. \"They got exceinally had strunning one of icant to he as closes they hearded they goldentles botting. \"I seemed the It hout of the With a Know.\n",
      "\n",
      "And there's trubling Margottle focuts as Malfoy, andawy\n",
      "generated sample\t Harry Potter, Voldemort, and Dumbledore walk into a bar. \n",
      "\n",
      "\"No,\" said Dumbledore's tack of despely. Teephered around her of and Hermione, sudermion. \n",
      "\n",
      "he stone of the finisters he'd, realing the aboution.\n",
      "\n",
      "Snabbelieve the bolderid, the direcorthroupt and ou\n",
      "generated sample\t Harry Potter, Voldemort, and Dumbledore walk into a bar. They wonder, I don't anotho\n",
      "bed...\n",
      "\"Whe'll grid point. \"VE yeservey's into it\n",
      "whene bely extrainply, which   the dope Womething the exarlo, seend interen; a lready thereirly cruiosly.\"\n",
      "\n",
      "\"Whan know - t\n",
      "generated sample\t Harry Potter, Voldemort, and Dumbledore walk into a bar. Wildn't conting the duggle up robed\n",
      "now toles the these voice of the ornish.\n",
      "\n",
      "It knew heave,\" \"Juse Don's toney dreathe's lotling at the heat they provead expectain, \"I cobed the seemed the doorbled h\n",
      "generated sample\t Harry Potter, Voldemort, and Dumbledore walk into a bar. He cound the doors; the doorboom.\n",
      "\n",
      "Durge's follow, which come?\"\n",
      "\"Tepare the got aught.... Ery never the relaux,\" said Merblood\n",
      "bloods ... They thought up.\"\n",
      "\n",
      "\"The was the doorse, they was there for the\n",
      "generated sample\t Harry Potter, Voldemort, and Dumbledore walk into a bar. She he whole hose help, Aring.\n",
      "\"You turned playing a looking flew these was defility the how who\n",
      "'voice.\n",
      "\" Defsome - compone to\n",
      "she heard the speak of Mooday, there than every\n",
      "think looming to hopping\n"
     ]
    },
    {
     "name": "stderr",
     "output_type": "stream",
     "text": [
      "\r",
      "  0%|                                                                                                                                          | 0/196 [00:00<?, ?it/s]"
     ]
    },
    {
     "name": "stdout",
     "output_type": "stream",
     "text": [
      "generated sample\t Harry Potter, Voldemort, and Dumbledore walk into a bar. \n",
      "\n",
      "\"nought to elf, when a strooded, lin; 21\n",
      "Uncerly room one boleturned her eyen torse heard the Fred book that asy man what he had a their expectaile. \"Now the He out hear, the mothers about that apas\n",
      "generated sample\t Harry Potter, Voldemort, and Dumbledore walk into a bar. \"We's he rubbeds, go dn've nothen head hopup, sever! ear Krow? Malfoy,\" saying attacles the robe\n",
      "Snievered quicion. \n",
      "\n",
      "\"Yes offide whispeared, looking supped but he door.\"\n",
      "\"Snapely, tone.\" \n",
      "\n",
      "He seze yo\n",
      "\n"
     ]
    },
    {
     "name": "stderr",
     "output_type": "stream",
     "text": [
      "  3%|███▎                                                                                                                              | 5/196 [00:00<00:14, 13.22it/s]"
     ]
    },
    {
     "name": "stdout",
     "output_type": "stream",
     "text": [
      "Train Epoch: 3 [0/50176 (0%)]\tLoss: 1.561859\n"
     ]
    },
    {
     "name": "stderr",
     "output_type": "stream",
     "text": [
      "  9%|███████████▏                                                                                                                     | 17/196 [00:00<00:06, 28.21it/s]"
     ]
    },
    {
     "name": "stdout",
     "output_type": "stream",
     "text": [
      "Train Epoch: 3 [2560/50176 (5%)]\tLoss: 1.551989\n"
     ]
    },
    {
     "name": "stderr",
     "output_type": "stream",
     "text": [
      " 13%|████████████████▍                                                                                                                | 25/196 [00:01<00:05, 31.88it/s]"
     ]
    },
    {
     "name": "stdout",
     "output_type": "stream",
     "text": [
      "Train Epoch: 3 [5120/50176 (10%)]\tLoss: 1.602370\n"
     ]
    },
    {
     "name": "stderr",
     "output_type": "stream",
     "text": [
      " 19%|████████████████████████▎                                                                                                        | 37/196 [00:01<00:04, 34.13it/s]"
     ]
    },
    {
     "name": "stdout",
     "output_type": "stream",
     "text": [
      "Train Epoch: 3 [7680/50176 (15%)]\tLoss: 1.673149\n"
     ]
    },
    {
     "name": "stderr",
     "output_type": "stream",
     "text": [
      " 23%|█████████████████████████████▌                                                                                                   | 45/196 [00:01<00:04, 34.65it/s]"
     ]
    },
    {
     "name": "stdout",
     "output_type": "stream",
     "text": [
      "Train Epoch: 3 [10240/50176 (20%)]\tLoss: 1.600537\n"
     ]
    },
    {
     "name": "stderr",
     "output_type": "stream",
     "text": [
      " 29%|█████████████████████████████████████▌                                                                                           | 57/196 [00:01<00:03, 35.49it/s]"
     ]
    },
    {
     "name": "stdout",
     "output_type": "stream",
     "text": [
      "Train Epoch: 3 [12800/50176 (26%)]\tLoss: 1.566243\n"
     ]
    },
    {
     "name": "stderr",
     "output_type": "stream",
     "text": [
      " 33%|██████████████████████████████████████████▊                                                                                      | 65/196 [00:02<00:03, 34.97it/s]"
     ]
    },
    {
     "name": "stdout",
     "output_type": "stream",
     "text": [
      "Train Epoch: 3 [15360/50176 (31%)]\tLoss: 1.570686\n"
     ]
    },
    {
     "name": "stderr",
     "output_type": "stream",
     "text": [
      " 39%|██████████████████████████████████████████████████▋                                                                              | 77/196 [00:02<00:03, 35.29it/s]"
     ]
    },
    {
     "name": "stdout",
     "output_type": "stream",
     "text": [
      "Train Epoch: 3 [17920/50176 (36%)]\tLoss: 1.536005\n"
     ]
    },
    {
     "name": "stderr",
     "output_type": "stream",
     "text": [
      " 43%|███████████████████████████████████████████████████████▉                                                                         | 85/196 [00:02<00:03, 35.09it/s]"
     ]
    },
    {
     "name": "stdout",
     "output_type": "stream",
     "text": [
      "Train Epoch: 3 [20480/50176 (41%)]\tLoss: 1.531925\n"
     ]
    },
    {
     "name": "stderr",
     "output_type": "stream",
     "text": [
      " 49%|███████████████████████████████████████████████████████████████▊                                                                 | 97/196 [00:03<00:02, 35.52it/s]"
     ]
    },
    {
     "name": "stdout",
     "output_type": "stream",
     "text": [
      "Train Epoch: 3 [23040/50176 (46%)]\tLoss: 1.529315\n"
     ]
    },
    {
     "name": "stderr",
     "output_type": "stream",
     "text": [
      " 54%|████████████████████████████████████████████████████████████████████▌                                                           | 105/196 [00:03<00:02, 34.93it/s]"
     ]
    },
    {
     "name": "stdout",
     "output_type": "stream",
     "text": [
      "Train Epoch: 3 [25600/50176 (51%)]\tLoss: 1.549020\n"
     ]
    },
    {
     "name": "stderr",
     "output_type": "stream",
     "text": [
      " 60%|████████████████████████████████████████████████████████████████████████████▍                                                   | 117/196 [00:03<00:02, 35.34it/s]"
     ]
    },
    {
     "name": "stdout",
     "output_type": "stream",
     "text": [
      "Train Epoch: 3 [28160/50176 (56%)]\tLoss: 1.560426\n"
     ]
    },
    {
     "name": "stderr",
     "output_type": "stream",
     "text": [
      " 64%|█████████████████████████████████████████████████████████████████████████████████▋                                              | 125/196 [00:03<00:01, 35.68it/s]"
     ]
    },
    {
     "name": "stdout",
     "output_type": "stream",
     "text": [
      "Train Epoch: 3 [30720/50176 (61%)]\tLoss: 1.632765\n"
     ]
    },
    {
     "name": "stderr",
     "output_type": "stream",
     "text": [
      " 70%|█████████████████████████████████████████████████████████████████████████████████████████▍                                      | 137/196 [00:04<00:01, 35.64it/s]"
     ]
    },
    {
     "name": "stdout",
     "output_type": "stream",
     "text": [
      "Train Epoch: 3 [33280/50176 (66%)]\tLoss: 1.562165\n"
     ]
    },
    {
     "name": "stderr",
     "output_type": "stream",
     "text": [
      " 74%|██████████████████████████████████████████████████████████████████████████████████████████████▋                                 | 145/196 [00:04<00:01, 35.47it/s]"
     ]
    },
    {
     "name": "stdout",
     "output_type": "stream",
     "text": [
      "Train Epoch: 3 [35840/50176 (71%)]\tLoss: 1.533465\n"
     ]
    },
    {
     "name": "stderr",
     "output_type": "stream",
     "text": [
      " 80%|██████████████████████████████████████████████████████████████████████████████████████████████████████▌                         | 157/196 [00:04<00:01, 35.35it/s]"
     ]
    },
    {
     "name": "stdout",
     "output_type": "stream",
     "text": [
      "Train Epoch: 3 [38400/50176 (77%)]\tLoss: 1.507302\n"
     ]
    },
    {
     "name": "stderr",
     "output_type": "stream",
     "text": [
      " 84%|███████████████████████████████████████████████████████████████████████████████████████████████████████████▊                    | 165/196 [00:04<00:00, 35.39it/s]"
     ]
    },
    {
     "name": "stdout",
     "output_type": "stream",
     "text": [
      "Train Epoch: 3 [40960/50176 (82%)]\tLoss: 1.543364\n"
     ]
    },
    {
     "name": "stderr",
     "output_type": "stream",
     "text": [
      " 90%|███████████████████████████████████████████████████████████████████████████████████████████████████████████████████▌            | 177/196 [00:05<00:00, 36.11it/s]"
     ]
    },
    {
     "name": "stdout",
     "output_type": "stream",
     "text": [
      "Train Epoch: 3 [43520/50176 (87%)]\tLoss: 1.499538\n"
     ]
    },
    {
     "name": "stderr",
     "output_type": "stream",
     "text": [
      " 94%|████████████████████████████████████████████████████████████████████████████████████████████████████████████████████████▊       | 185/196 [00:05<00:00, 36.01it/s]"
     ]
    },
    {
     "name": "stdout",
     "output_type": "stream",
     "text": [
      "Train Epoch: 3 [46080/50176 (92%)]\tLoss: 1.562234\n"
     ]
    },
    {
     "name": "stderr",
     "output_type": "stream",
     "text": [
      " 98%|██████████████████████████████████████████████████████████████████████████████████████████████████████████████████████████████  | 193/196 [00:05<00:00, 35.91it/s]"
     ]
    },
    {
     "name": "stdout",
     "output_type": "stream",
     "text": [
      "Train Epoch: 3 [48640/50176 (97%)]\tLoss: 1.554990\n"
     ]
    },
    {
     "name": "stderr",
     "output_type": "stream",
     "text": [
      "100%|████████████████████████████████████████████████████████████████████████████████████████████████████████████████████████████████| 196/196 [00:05<00:00, 33.13it/s]\n"
     ]
    },
    {
     "name": "stdout",
     "output_type": "stream",
     "text": [
      "Input\tonly way left to get water, because Voldemort had planned it so ... He flung himself over to the edge\n",
      "GT\tnly way left to get water, because Voldemort had planned it so ... He flung himself over to the edge \n",
      "pred\tn y aan aiat ao aet aiser  aucause heldemortaaad auanted an.aemm . ae soetg oem elf aner hh hhe snges\n",
      "\n",
      "\n",
      "Input\ts that had his arm. It released him, falling backward into the water with a splash; he scrambled to h\n",
      "GT\t that had his arm. It released him, falling backward into the water with a splash; he scrambled to hi\n",
      "pred\t loat aed aem hnms \"t weaeaded tem  aocleng oeck ardsan o the sincr aath anlleanse te saaanbeed oo he\n",
      "\n",
      "\n",
      "Input\tath, and his feet left the ground as they lifted him and began to carry him, slowly and surely, back \n",
      "GT\tth, and his feet left the ground as they lifted him and began to carry him, slowly and surely, back t\n",
      "pred\tdee and hes eaet aist ahe siaund tn hhe  aekted aim and seean to sonei aam. aoiwly and stdp y  auck i\n",
      "\n",
      "\n",
      "Input\t . . .\n",
      "Dumbledore scooped the locket from the bottom of the stone basin and stowed it inside his robe\n",
      "GT\t. . .\n",
      "Dumbledore scooped the locket from the bottom of the stone basin and stowed it inside his robes\n",
      "pred\t\" . . \n",
      "ombledore slaoled aoe saok d aoom hhe seohlmaaf ahe stapesoecidgand stapad an an ide hem lobes\n",
      "\n",
      "\n",
      "Input\t\"sir, I forgot -- about fire -- they were coming at me and I panicked --\"\n",
      "\"Quite understandable,\" mur\n",
      "GT\tsir, I forgot -- about fire -- they were coming at me and I panicked --\"\n",
      "\"Quite understandable,\" murm\n",
      "pred\tYad  a dau ottt\" anout aone a- ahe  aere aaneng on Ha and s donnn  d h- \n",
      "\"Iuide dsderstandimle   satd\n",
      "\n",
      "\n",
      "\n",
      "Test set: Average loss: 1.5628, Accuracy: 684620/1254400 (55%)\n",
      "\n",
      "Saved /home/jefftian/Documents/21au/cse490g1/hw2content/checkpoints/003.pt\n",
      "\n",
      "generated max\t\t Harry Potter, Voldemort, and Dumbledore walk into a bar. He stopped on the stopped on the stopped on the stopped on the stopped on the stopped on the stopped on the stopped on the stopped on the stopped on the stopped on the stopped on the stopped on the st\n",
      "generated sample\t Harry Potter, Voldemort, and Dumbledore walk into a bar. Sill reaqua!\"\n",
      "\"Spe?\" I had notil having at everayone.\"\n",
      "\"Eare looked into appoin turnain inder's might, and Hermione over somewhisperedict into said Pecurting at over fashing over woing him;stered,\n",
      "\n",
      "to\n",
      "generated sample\t Harry Potter, Voldemort, and Dumbledore walk into a bar. He looked is pointed Harry and altening. He turned out out a lare as Luch would done? of they had head execreeped, and caught and red heard her everhy Joursless of with a blodered. Don'skyed some onto\n",
      "generated sample\t Harry Potter, Voldemort, and Dumbledore walk into a bar. Ministrectal in itsleyou're in\n",
      "see he stop of it, Professor much halfway behind he clostlen\n",
      "you pointed opping for about at and one of the pair of the worard homeser ful to accouted answear, waitices \n",
      "generated sample\t Harry Potter, Voldemort, and Dumbledore walk into a bar. Chrelap one and that it was face. And be and I don't did you know becan of pin his famehing does and they pontrace folled on people will he coverhes, and innocident. \"Yes. Cher eyes - and deser, tanki\n",
      "generated sample\t Harry Potter, Voldemort, and Dumbledore walk into a bar. INville's like your one. Shanking dones opened indis, tible Prywand tusiling her everly hardered aloud,\" said you to doing own to ot. He Squickly in, Cherin't it.... and asked face as alfoy as he owld\n",
      "generated sample\t Harry Potter, Voldemort, and Dumbledore walk into a bar. And sayizants did and and it\n",
      "reaming.\n",
      "\"I canded, isn't Lit Sit!\" said H\n",
      "Tu!\"\n",
      "A turned Aum all, on, the body compted years,\" he would Malfoy wood. He's in a birt, and Iampies, he sended fine straigh, a\n",
      "generated sample\t Harry Potter, Voldemort, and Dumbledore walk into a bar. \"Welled hear tom noticed, do haid and failed!\" he said fropped.\n",
      "\n",
      "\"Jane,\" he hasted the damand in and refed in your make foy if it, siling dinely expressedrawhizald. Faggils and olded Ron want to even \n",
      "generated sample\t Harry Potter, Voldemort, and Dumbledore walk into a bar. Hight eart and didn't distrant and Harry here is, wand stop of a sawalz, and he had eversed in the sking. . . .\"\n",
      "\n",
      "\"That the other mist as the scopyes,\" said Fred,\n",
      "and fleuri's fam, as going fludgere, \n"
     ]
    },
    {
     "name": "stderr",
     "output_type": "stream",
     "text": [
      "\r",
      "  0%|                                                                                                                                          | 0/196 [00:00<?, ?it/s]"
     ]
    },
    {
     "name": "stdout",
     "output_type": "stream",
     "text": [
      "generated sample\t Harry Potter, Voldemort, and Dumbledore walk into a bar. \"HI might,\" said Harry\" Remidable to stayed every didn't mate answered.\n",
      "\"You muttered,\" he palled family eyes occousple tok and stump opened.\n",
      "\n",
      "\"Like in them as he sible very and what it I didninating \n",
      "generated sample\t Harry Potter, Voldemort, and Dumbledore walk into a bar. Bondredainlests, striggred,\" he second he time man't saying\n",
      "toages, you and Madame of his face of Dran\n",
      "An-Whanking separt. \"I, I stinnely, naking followed at anighly pointraidered. Who talked to tause\n",
      "\n"
     ]
    },
    {
     "name": "stderr",
     "output_type": "stream",
     "text": [
      "  3%|███▎                                                                                                                              | 5/196 [00:00<00:14, 13.35it/s]"
     ]
    },
    {
     "name": "stdout",
     "output_type": "stream",
     "text": [
      "Train Epoch: 4 [0/50176 (0%)]\tLoss: 1.523378\n"
     ]
    },
    {
     "name": "stderr",
     "output_type": "stream",
     "text": [
      "  9%|███████████▏                                                                                                                     | 17/196 [00:00<00:06, 28.21it/s]"
     ]
    },
    {
     "name": "stdout",
     "output_type": "stream",
     "text": [
      "Train Epoch: 4 [2560/50176 (5%)]\tLoss: 1.487805\n"
     ]
    },
    {
     "name": "stderr",
     "output_type": "stream",
     "text": [
      " 13%|████████████████▍                                                                                                                | 25/196 [00:01<00:05, 32.07it/s]"
     ]
    },
    {
     "name": "stdout",
     "output_type": "stream",
     "text": [
      "Train Epoch: 4 [5120/50176 (10%)]\tLoss: 1.522410\n"
     ]
    },
    {
     "name": "stderr",
     "output_type": "stream",
     "text": [
      " 19%|████████████████████████▎                                                                                                        | 37/196 [00:01<00:04, 33.85it/s]"
     ]
    },
    {
     "name": "stdout",
     "output_type": "stream",
     "text": [
      "Train Epoch: 4 [7680/50176 (15%)]\tLoss: 1.493740\n"
     ]
    },
    {
     "name": "stderr",
     "output_type": "stream",
     "text": [
      " 23%|█████████████████████████████▌                                                                                                   | 45/196 [00:01<00:04, 35.12it/s]"
     ]
    },
    {
     "name": "stdout",
     "output_type": "stream",
     "text": [
      "Train Epoch: 4 [10240/50176 (20%)]\tLoss: 1.483887\n"
     ]
    },
    {
     "name": "stderr",
     "output_type": "stream",
     "text": [
      " 29%|█████████████████████████████████████▌                                                                                           | 57/196 [00:01<00:03, 35.09it/s]"
     ]
    },
    {
     "name": "stdout",
     "output_type": "stream",
     "text": [
      "Train Epoch: 4 [12800/50176 (26%)]\tLoss: 1.494892\n"
     ]
    },
    {
     "name": "stderr",
     "output_type": "stream",
     "text": [
      " 33%|██████████████████████████████████████████▊                                                                                      | 65/196 [00:02<00:03, 34.76it/s]"
     ]
    },
    {
     "name": "stdout",
     "output_type": "stream",
     "text": [
      "Train Epoch: 4 [15360/50176 (31%)]\tLoss: 1.535846\n"
     ]
    },
    {
     "name": "stderr",
     "output_type": "stream",
     "text": [
      " 39%|██████████████████████████████████████████████████▋                                                                              | 77/196 [00:02<00:03, 35.27it/s]"
     ]
    },
    {
     "name": "stdout",
     "output_type": "stream",
     "text": [
      "Train Epoch: 4 [17920/50176 (36%)]\tLoss: 1.513892\n"
     ]
    },
    {
     "name": "stderr",
     "output_type": "stream",
     "text": [
      " 43%|███████████████████████████████████████████████████████▉                                                                         | 85/196 [00:02<00:03, 35.41it/s]"
     ]
    },
    {
     "name": "stdout",
     "output_type": "stream",
     "text": [
      "Train Epoch: 4 [20480/50176 (41%)]\tLoss: 1.503919\n"
     ]
    },
    {
     "name": "stderr",
     "output_type": "stream",
     "text": [
      " 49%|███████████████████████████████████████████████████████████████▊                                                                 | 97/196 [00:03<00:02, 34.64it/s]"
     ]
    },
    {
     "name": "stdout",
     "output_type": "stream",
     "text": [
      "Train Epoch: 4 [23040/50176 (46%)]\tLoss: 1.520399\n"
     ]
    },
    {
     "name": "stderr",
     "output_type": "stream",
     "text": [
      " 54%|████████████████████████████████████████████████████████████████████▌                                                           | 105/196 [00:03<00:02, 34.39it/s]"
     ]
    },
    {
     "name": "stdout",
     "output_type": "stream",
     "text": [
      "Train Epoch: 4 [25600/50176 (51%)]\tLoss: 1.485052\n"
     ]
    },
    {
     "name": "stderr",
     "output_type": "stream",
     "text": [
      " 60%|████████████████████████████████████████████████████████████████████████████▍                                                   | 117/196 [00:03<00:02, 35.26it/s]"
     ]
    },
    {
     "name": "stdout",
     "output_type": "stream",
     "text": [
      "Train Epoch: 4 [28160/50176 (56%)]\tLoss: 1.484594\n"
     ]
    },
    {
     "name": "stderr",
     "output_type": "stream",
     "text": [
      " 64%|█████████████████████████████████████████████████████████████████████████████████▋                                              | 125/196 [00:03<00:02, 34.40it/s]"
     ]
    },
    {
     "name": "stdout",
     "output_type": "stream",
     "text": [
      "Train Epoch: 4 [30720/50176 (61%)]\tLoss: 1.472948\n"
     ]
    },
    {
     "name": "stderr",
     "output_type": "stream",
     "text": [
      " 70%|█████████████████████████████████████████████████████████████████████████████████████████▍                                      | 137/196 [00:04<00:01, 35.29it/s]"
     ]
    },
    {
     "name": "stdout",
     "output_type": "stream",
     "text": [
      "Train Epoch: 4 [33280/50176 (66%)]\tLoss: 1.458353\n"
     ]
    },
    {
     "name": "stderr",
     "output_type": "stream",
     "text": [
      " 74%|██████████████████████████████████████████████████████████████████████████████████████████████▋                                 | 145/196 [00:04<00:01, 35.49it/s]"
     ]
    },
    {
     "name": "stdout",
     "output_type": "stream",
     "text": [
      "Train Epoch: 4 [35840/50176 (71%)]\tLoss: 1.475728\n"
     ]
    },
    {
     "name": "stderr",
     "output_type": "stream",
     "text": [
      " 80%|██████████████████████████████████████████████████████████████████████████████████████████████████████▌                         | 157/196 [00:04<00:01, 34.79it/s]"
     ]
    },
    {
     "name": "stdout",
     "output_type": "stream",
     "text": [
      "Train Epoch: 4 [38400/50176 (77%)]\tLoss: 1.474903\n"
     ]
    },
    {
     "name": "stderr",
     "output_type": "stream",
     "text": [
      " 84%|███████████████████████████████████████████████████████████████████████████████████████████████████████████▊                    | 165/196 [00:05<00:00, 33.95it/s]"
     ]
    },
    {
     "name": "stdout",
     "output_type": "stream",
     "text": [
      "Train Epoch: 4 [40960/50176 (82%)]\tLoss: 1.541471\n"
     ]
    },
    {
     "name": "stderr",
     "output_type": "stream",
     "text": [
      " 88%|████████████████████████████████████████████████████████████████████████████████████████████████████████████████▉               | 173/196 [00:05<00:00, 30.73it/s]"
     ]
    },
    {
     "name": "stdout",
     "output_type": "stream",
     "text": [
      "Train Epoch: 4 [43520/50176 (87%)]\tLoss: 1.500797\n"
     ]
    },
    {
     "name": "stderr",
     "output_type": "stream",
     "text": [
      " 94%|████████████████████████████████████████████████████████████████████████████████████████████████████████████████████████▊       | 185/196 [00:05<00:00, 30.94it/s]"
     ]
    },
    {
     "name": "stdout",
     "output_type": "stream",
     "text": [
      "Train Epoch: 4 [46080/50176 (92%)]\tLoss: 1.512133\n"
     ]
    },
    {
     "name": "stderr",
     "output_type": "stream",
     "text": [
      "100%|████████████████████████████████████████████████████████████████████████████████████████████████████████████████████████████████| 196/196 [00:06<00:00, 32.29it/s]"
     ]
    },
    {
     "name": "stdout",
     "output_type": "stream",
     "text": [
      "Train Epoch: 4 [48640/50176 (97%)]\tLoss: 1.489143\n"
     ]
    },
    {
     "name": "stderr",
     "output_type": "stream",
     "text": [
      "\n"
     ]
    },
    {
     "name": "stdout",
     "output_type": "stream",
     "text": [
      "Input\tonly way left to get water, because Voldemort had planned it so ... He flung himself over to the edge\n",
      "GT\tnly way left to get water, because Voldemort had planned it so ... He flung himself over to the edge \n",
      "pred\tn y ohn aitt th tot thser  aucause ooldemort wad buanted an wemm . ae soetg oim elf aner th the snge \n",
      "\n",
      "\n",
      "Input\ts that had his arm. It released him, falling backward into the water with a splash; he scrambled to h\n",
      "GT\t that had his arm. It released him, falling backward into the water with a splash; he scrambled to hi\n",
      "pred\t loet sed cem enms \"t weaesded tim  aocleng aeck ardsanto the siler aath anlleanse te saoemeeed oo hi\n",
      "\n",
      "\n",
      "Input\tath, and his feet left the ground as they lifted him and began to carry him, slowly and surely, back \n",
      "GT\tth, and his feet left the ground as they lifted him and began to carry him, slowly and surely, back t\n",
      "pred\tdee and ses eaet aist ohe sround tn the  aekted aim ond sefan to tonei aam. aoiwly and stdp y  auck o\n",
      "\n",
      "\n",
      "Input\t . . .\n",
      "Dumbledore scooped the locket from the bottom of the stone basin and stowed it inside his robe\n",
      "GT\t. . .\n",
      "Dumbledore scooped the locket from the bottom of the stone basin and stowed it inside his robes\n",
      "pred\t\" . . \n",
      "ombledore seroled aoe sioked aoom the sottlm af the scape secsngand seaped an inttde tim lobes\n",
      "\n",
      "\n",
      "Input\t\"sir, I forgot -- about fire -- they were coming at me and I panicked --\"\n",
      "\"Quite understandable,\" mur\n",
      "GT\tsir, I forgot -- about fire -- they were coming at me and I panicked --\"\n",
      "\"Quite understandable,\" murm\n",
      "pred\tYar  I dou ottt\"\"anout tole a- ahey were soneng on Ha snd s dastn  d o- \n",
      "\"Wuide dsderstand rle   satd\n",
      "\n",
      "\n",
      "\n",
      "Test set: Average loss: 1.4955, Accuracy: 708581/1254400 (56%)\n",
      "\n",
      "Saved /home/jefftian/Documents/21au/cse490g1/hw2content/checkpoints/004.pt\n",
      "\n",
      "generated max\t\t Harry Potter, Voldemort, and Dumbledore walk into a bar. He stood as he said, and she said, and she said, and she said, and she said, and she said, and she said, and she said, and she said, and she said, and she said, and she said, and she said, and she sai\n",
      "generated sample\t Harry Potter, Voldemort, and Dumbledore walk into a bar. He didn't halke at the contactment of Greyhairture, looking first,\n",
      "frofessor Gryffiling his wand and had lew do one of lip and shesed to\n",
      "the lessly on\n",
      "persed doing.\n",
      "\n",
      "\"And importan are people packed up\n",
      "generated sample\t Harry Potter, Voldemort, and Dumbledore walk into a bar. \"because Chat's agained Goy with purs! were beside,\n",
      "Ron toosel? It UnVaway\n",
      "Cracle when ever serould had licked out of Hagrid aparateturp.\n",
      "\n",
      "The scoop outer --\"\n",
      "\"Cercy,\" Harry up, pointed him, older, di\n",
      "generated sample\t Harry Potter, Voldemort, and Dumbledore walk into a bar. Harry resed then say assrol will you screaking, and pudle, looking one. I the\" said Hocklowing at agrea, rained himself facen minutesber aboutly broake houserts, and back/ Harry saw so as when Ron sli\n",
      "generated sample\t Harry Potter, Voldemort, and Dumbledore walk into a bar. Haven' spraticed Undwers fadelivy frightened the cover, her ned told not stop abou\n",
      "gho.\"\n",
      "Harry lucky. \"We'll we Dustrill rep9ed off bloodiculart of moreacher seille. \"\n",
      "\n",
      "Harry dore what it at thes...\"\n",
      "\n",
      "generated sample\t Harry Potter, Voldemort, and Dumbledore walk into a bar. He had abuted Umbridge. \"\n",
      "\"said Ro, what you dream as Mr. My Oust as a sudden, 2lasy stairshly putured be him nothing out her was another was still next to go and darkers to leging own. The was all Ne\n",
      "generated sample\t Harry Potter, Voldemort, and Dumbledore walk into a bar. He had realied as she funning, but she looked like pot us ILzz=ounk coursley to walke, and intay,\" said she lesson\n",
      "pockets, every, wizard who ka! Harry filenw him.\n",
      "I and I didn't Will over -- He speck\n",
      "generated sample\t Harry Potter, Voldemort, and Dumbledore walk into a bar. .. to of a jot won't leause away!\" said Ron ask, but go slighty live ins!\"\n",
      "\n",
      "Hermione see at Mr. \"The corner and noticese\" and doise, acting amounh other school will havest, dropessional paped quicines\n"
     ]
    },
    {
     "name": "stderr",
     "output_type": "stream",
     "text": [
      "\r",
      "  0%|                                                                                                                                          | 0/196 [00:00<?, ?it/s]"
     ]
    },
    {
     "name": "stdout",
     "output_type": "stream",
     "text": [
      "generated sample\t Harry Potter, Voldemort, and Dumbledore walk into a bar. He will face our furioustylanted twith all for himself one of the Harry wallss stered and folders, around these off and is legg alone.\n",
      "\"To happened.\n",
      "\n",
      "\"I walked up, and you know what he wasn't me all t\n",
      "generated sample\t Harry Potter, Voldemort, and Dumbledore walk into a bar. Harry's he said. \"The covered us page only \"How can he held worof difficult, now, I don't ill talking you that ligs, the lift, and at tighester Inder the Hog and shelmits and it was not, ~Gooney. \"Wel\n",
      "generated sample\t Harry Potter, Voldemort, and Dumbledore walk into a bar. They slashed. \n",
      "\n",
      "Ron's held over him. AzBVLNAFETFI Must of speakplace, down\n",
      "this glassf. He Cobcened com.\"\n",
      "\"He'll letter,\" said Dumbledore.\n",
      "\n",
      "\"It's hear, it's spelized Nevilled eye I'm a lurserly and He\n",
      "\n"
     ]
    },
    {
     "name": "stderr",
     "output_type": "stream",
     "text": [
      "  3%|███▎                                                                                                                              | 5/196 [00:00<00:14, 13.51it/s]"
     ]
    },
    {
     "name": "stdout",
     "output_type": "stream",
     "text": [
      "Train Epoch: 5 [0/50176 (0%)]\tLoss: 1.460155\n"
     ]
    },
    {
     "name": "stderr",
     "output_type": "stream",
     "text": [
      "  9%|███████████▏                                                                                                                     | 17/196 [00:00<00:06, 28.31it/s]"
     ]
    },
    {
     "name": "stdout",
     "output_type": "stream",
     "text": [
      "Train Epoch: 5 [2560/50176 (5%)]\tLoss: 1.445679\n"
     ]
    },
    {
     "name": "stderr",
     "output_type": "stream",
     "text": [
      " 13%|████████████████▍                                                                                                                | 25/196 [00:01<00:05, 31.88it/s]"
     ]
    },
    {
     "name": "stdout",
     "output_type": "stream",
     "text": [
      "Train Epoch: 5 [5120/50176 (10%)]\tLoss: 1.488348\n"
     ]
    },
    {
     "name": "stderr",
     "output_type": "stream",
     "text": [
      " 19%|████████████████████████▎                                                                                                        | 37/196 [00:01<00:04, 34.35it/s]"
     ]
    },
    {
     "name": "stdout",
     "output_type": "stream",
     "text": [
      "Train Epoch: 5 [7680/50176 (15%)]\tLoss: 1.457556\n"
     ]
    },
    {
     "name": "stderr",
     "output_type": "stream",
     "text": [
      " 23%|█████████████████████████████▌                                                                                                   | 45/196 [00:01<00:04, 34.51it/s]"
     ]
    },
    {
     "name": "stdout",
     "output_type": "stream",
     "text": [
      "Train Epoch: 5 [10240/50176 (20%)]\tLoss: 1.454437\n"
     ]
    },
    {
     "name": "stderr",
     "output_type": "stream",
     "text": [
      " 29%|█████████████████████████████████████▌                                                                                           | 57/196 [00:01<00:03, 34.79it/s]"
     ]
    },
    {
     "name": "stdout",
     "output_type": "stream",
     "text": [
      "Train Epoch: 5 [12800/50176 (26%)]\tLoss: 1.464814\n"
     ]
    },
    {
     "name": "stderr",
     "output_type": "stream",
     "text": [
      " 33%|██████████████████████████████████████████▊                                                                                      | 65/196 [00:02<00:03, 35.07it/s]"
     ]
    },
    {
     "name": "stdout",
     "output_type": "stream",
     "text": [
      "Train Epoch: 5 [15360/50176 (31%)]\tLoss: 1.506366\n"
     ]
    },
    {
     "name": "stderr",
     "output_type": "stream",
     "text": [
      " 39%|██████████████████████████████████████████████████▋                                                                              | 77/196 [00:02<00:03, 34.47it/s]"
     ]
    },
    {
     "name": "stdout",
     "output_type": "stream",
     "text": [
      "Train Epoch: 5 [17920/50176 (36%)]\tLoss: 1.468541\n"
     ]
    },
    {
     "name": "stderr",
     "output_type": "stream",
     "text": [
      " 43%|███████████████████████████████████████████████████████▉                                                                         | 85/196 [00:02<00:03, 35.03it/s]"
     ]
    },
    {
     "name": "stdout",
     "output_type": "stream",
     "text": [
      "Train Epoch: 5 [20480/50176 (41%)]\tLoss: 1.469562\n"
     ]
    },
    {
     "name": "stderr",
     "output_type": "stream",
     "text": [
      " 49%|███████████████████████████████████████████████████████████████▊                                                                 | 97/196 [00:03<00:02, 33.79it/s]"
     ]
    },
    {
     "name": "stdout",
     "output_type": "stream",
     "text": [
      "Train Epoch: 5 [23040/50176 (46%)]\tLoss: 1.460768\n"
     ]
    },
    {
     "name": "stderr",
     "output_type": "stream",
     "text": [
      " 54%|████████████████████████████████████████████████████████████████████▌                                                           | 105/196 [00:03<00:02, 33.88it/s]"
     ]
    },
    {
     "name": "stdout",
     "output_type": "stream",
     "text": [
      "Train Epoch: 5 [25600/50176 (51%)]\tLoss: 1.470957\n"
     ]
    },
    {
     "name": "stderr",
     "output_type": "stream",
     "text": [
      " 60%|████████████████████████████████████████████████████████████████████████████▍                                                   | 117/196 [00:03<00:02, 34.08it/s]"
     ]
    },
    {
     "name": "stdout",
     "output_type": "stream",
     "text": [
      "Train Epoch: 5 [28160/50176 (56%)]\tLoss: 1.475749\n"
     ]
    },
    {
     "name": "stderr",
     "output_type": "stream",
     "text": [
      " 64%|█████████████████████████████████████████████████████████████████████████████████▋                                              | 125/196 [00:03<00:02, 33.77it/s]"
     ]
    },
    {
     "name": "stdout",
     "output_type": "stream",
     "text": [
      "Train Epoch: 5 [30720/50176 (61%)]\tLoss: 1.465253\n"
     ]
    },
    {
     "name": "stderr",
     "output_type": "stream",
     "text": [
      " 70%|█████████████████████████████████████████████████████████████████████████████████████████▍                                      | 137/196 [00:04<00:01, 34.14it/s]"
     ]
    },
    {
     "name": "stdout",
     "output_type": "stream",
     "text": [
      "Train Epoch: 5 [33280/50176 (66%)]\tLoss: 1.438987\n"
     ]
    },
    {
     "name": "stderr",
     "output_type": "stream",
     "text": [
      " 74%|██████████████████████████████████████████████████████████████████████████████████████████████▋                                 | 145/196 [00:04<00:01, 34.39it/s]"
     ]
    },
    {
     "name": "stdout",
     "output_type": "stream",
     "text": [
      "Train Epoch: 5 [35840/50176 (71%)]\tLoss: 1.447959\n"
     ]
    },
    {
     "name": "stderr",
     "output_type": "stream",
     "text": [
      " 80%|██████████████████████████████████████████████████████████████████████████████████████████████████████▌                         | 157/196 [00:04<00:01, 34.47it/s]"
     ]
    },
    {
     "name": "stdout",
     "output_type": "stream",
     "text": [
      "Train Epoch: 5 [38400/50176 (77%)]\tLoss: 1.430267\n"
     ]
    },
    {
     "name": "stderr",
     "output_type": "stream",
     "text": [
      " 84%|███████████████████████████████████████████████████████████████████████████████████████████████████████████▊                    | 165/196 [00:05<00:00, 33.92it/s]"
     ]
    },
    {
     "name": "stdout",
     "output_type": "stream",
     "text": [
      "Train Epoch: 5 [40960/50176 (82%)]\tLoss: 1.463916\n"
     ]
    },
    {
     "name": "stderr",
     "output_type": "stream",
     "text": [
      " 90%|███████████████████████████████████████████████████████████████████████████████████████████████████████████████████▌            | 177/196 [00:05<00:00, 33.67it/s]"
     ]
    },
    {
     "name": "stdout",
     "output_type": "stream",
     "text": [
      "Train Epoch: 5 [43520/50176 (87%)]\tLoss: 1.432841\n"
     ]
    },
    {
     "name": "stderr",
     "output_type": "stream",
     "text": [
      " 94%|████████████████████████████████████████████████████████████████████████████████████████████████████████████████████████▊       | 185/196 [00:05<00:00, 34.25it/s]"
     ]
    },
    {
     "name": "stdout",
     "output_type": "stream",
     "text": [
      "Train Epoch: 5 [46080/50176 (92%)]\tLoss: 1.459558\n"
     ]
    },
    {
     "name": "stderr",
     "output_type": "stream",
     "text": [
      " 98%|██████████████████████████████████████████████████████████████████████████████████████████████████████████████████████████████  | 193/196 [00:05<00:00, 33.89it/s]"
     ]
    },
    {
     "name": "stdout",
     "output_type": "stream",
     "text": [
      "Train Epoch: 5 [48640/50176 (97%)]\tLoss: 1.467076\n"
     ]
    },
    {
     "name": "stderr",
     "output_type": "stream",
     "text": [
      "100%|████████████████████████████████████████████████████████████████████████████████████████████████████████████████████████████████| 196/196 [00:06<00:00, 32.36it/s]\n"
     ]
    },
    {
     "name": "stdout",
     "output_type": "stream",
     "text": [
      "Input\tonly way left to get water, because Voldemort had planned it so ... He flung himself over to the edge\n",
      "GT\tnly way left to get water, because Voldemort had planned it so ... He flung himself over to the edge \n",
      "pred\tu y ahn aoat th tet thser  aucause teldemort wad buanted tn wemm . ae soetg oim elf aner th the snge \n",
      "\n",
      "\n",
      "Input\ts that had his arm. It released him, falling backward into the water with a splash; he scrambled to h\n",
      "GT\t that had his arm. It released him, falling backward into the water with a splash; he scrambled to hi\n",
      "pred\t loet ted hem enm  \"t weaeaded tim  aocleng aeck ardstnto the siler ahth anweeanse te weoemeeed oo hi\n",
      "\n",
      "\n",
      "Input\tath, and his feet left the ground as they lifted him and began to carry him, slowly and surely, back \n",
      "GT\tth, and his feet left the ground as they lifted him and began to carry him, slowly and surely, back t\n",
      "pred\tdee and tes eaet aist the soound tn the  aetted aim ond teean to tonei aam. atiwly and stde y  auck t\n",
      "\n",
      "\n",
      "Input\t . . .\n",
      "Dumbledore scooped the locket from the bottom of the stone basin and stowed it inside his robe\n",
      "GT\t. . .\n",
      "Dumbledore scooped the locket from the bottom of the stone basin and stowed it inside his robes\n",
      "pred\t\" . . \n",
      "umbledore seaoled ahe seok d aoom the sottlm af the stane secingand teaped an inttde tim hobes\n",
      "\n",
      "\n",
      "Input\t\"sir, I forgot -- about fire -- they were coming at me and I panicked --\"\n",
      "\"Quite understandable,\" mur\n",
      "GT\tsir, I forgot -- about fire -- they were coming at me and I panicked --\"\n",
      "\"Quite understandable,\" murm\n",
      "pred\tWar  y dou ottt\"\"tnout tole a- they were aoueng tn te and t dentn  d t- \n",
      "\"Iuide dnderstand rle   sutd\n",
      "\n",
      "\n",
      "\n",
      "Test set: Average loss: 1.4812, Accuracy: 711355/1254400 (57%)\n",
      "\n",
      "Saved /home/jefftian/Documents/21au/cse490g1/hw2content/checkpoints/005.pt\n",
      "\n",
      "generated max\t\t Harry Potter, Voldemort, and Dumbledore walk into a bar. He was and the stand and seemed to him and the stand and seemed to him and the stand and seemed to him and the stand and standing and standing and standing and standing and standing and standing and s\n",
      "generated sample\t Harry Potter, Voldemort, and Dumbledore walk into a bar. \"Reaked Magically Malfoywhat Harry of him. \"And when Kransfact conters. Anfy-%-?\"\n",
      "Und was watering ago, Ronswerated, and Mada cause here. \"What a chosed and sence fourse theQ, been them, and he dement\n",
      "generated sample\t Harry Potter, Voldemort, and Dumbledore walk into a bar. He would head other. It bedy and apparented the deserted, cotisely, beeaust.\n",
      "Harry and down and the talking vuicle and him?\"\n",
      "\"It need dementor!\" said Harry, wholenced, but and Slowed and which soul ch\n",
      "generated sample\t Harry Potter, Voldemort, and Dumbledore walk into a bar. Head -- he could out the Minister ver loomed as the coverxic time, and Hermione magic.\n",
      "But Harry, acruping, and moved, pecued it in the occefully. \"I WeMnite to centacture all. Looks at down, bed, I e\n",
      "generated sample\t Harry Potter, Voldemort, and Dumbledore walk into a bar. He did notes each Hogsmaped and standing and laisten squeaking and lifted boarding out a teeter best with the one of the grimples, it whiches of scage and ecided hey lened this inslid Slughorn. The Bo\n",
      "generated sample\t Harry Potter, Voldemort, and Dumbledore walk into a bar. There Ministry -\"\n",
      "\"There's vice,\" said Hagry blood, like bed over these, and he was and each others and herew and her head did, threw since, everyone gagingly winderows.\n",
      "\n",
      "\"Oocket\n",
      "time, incle Hermione \n",
      "generated sample\t Harry Potter, Voldemort, and Dumbledore walk into a bar. Hermione's deskly got intlusted out in me and panted to the deser. Denxacover Hermione inverpect at themsely moves of white its long\n",
      "the crowd mouth hold of them Flef about ~are would her than to the \n",
      "generated sample\t Harry Potter, Voldemort, and Dumbledore walk into a bar. ... by leapped the scar of her why were somered as it, another Slat\n",
      "ifest lookinced again, seizedue in the said, and he would ly the pockscure to sway and chuckled; helpuded as the classrook down.\n",
      "\n",
      "Du\n",
      "generated sample\t Harry Potter, Voldemort, and Dumbledore walk into a bar. . \n",
      "\n",
      "But when he deliked in these flood-nince becaud.\n",
      "\"Thy not daung?\"\n",
      "Harry sistering their than and him!\"\n",
      "Brage mustedice uptil and very Mings of She best then, letter addeed Snape and will briggles-\n"
     ]
    },
    {
     "name": "stderr",
     "output_type": "stream",
     "text": [
      "\r",
      "  0%|                                                                                                                                          | 0/196 [00:00<?, ?it/s]"
     ]
    },
    {
     "name": "stdout",
     "output_type": "stream",
     "text": [
      "generated sample\t Harry Potter, Voldemort, and Dumbledore walk into a bar. propened. The lesson what I couldn't have never the laps seemedy sootion had And whopesed, which scent and his every slamped and swirling and final; slighter two amoveshort im! Mundul be Harry. Rou ge\n",
      "generated sample\t Harry Potter, Voldemort, and Dumbledore walk into a bar. Minis reshouted it? CHarry tight wanted to stair and every lized, and one of Weganame as to emusted and snake intUditch numbering sparp). Ton I'll with Hermiones Kinet. The old very our dones brstming\n",
      "\n"
     ]
    },
    {
     "name": "stderr",
     "output_type": "stream",
     "text": [
      "  3%|███▎                                                                                                                              | 5/196 [00:00<00:14, 13.11it/s]"
     ]
    },
    {
     "name": "stdout",
     "output_type": "stream",
     "text": [
      "Train Epoch: 6 [0/50176 (0%)]\tLoss: 1.447815\n"
     ]
    },
    {
     "name": "stderr",
     "output_type": "stream",
     "text": [
      "  9%|███████████▏                                                                                                                     | 17/196 [00:00<00:06, 27.68it/s]"
     ]
    },
    {
     "name": "stdout",
     "output_type": "stream",
     "text": [
      "Train Epoch: 6 [2560/50176 (5%)]\tLoss: 1.424552\n"
     ]
    },
    {
     "name": "stderr",
     "output_type": "stream",
     "text": [
      " 13%|████████████████▍                                                                                                                | 25/196 [00:01<00:05, 31.49it/s]"
     ]
    },
    {
     "name": "stdout",
     "output_type": "stream",
     "text": [
      "Train Epoch: 6 [5120/50176 (10%)]\tLoss: 1.470446\n"
     ]
    },
    {
     "name": "stderr",
     "output_type": "stream",
     "text": [
      " 17%|█████████████████████▋                                                                                                           | 33/196 [00:01<00:04, 33.56it/s]"
     ]
    },
    {
     "name": "stdout",
     "output_type": "stream",
     "text": [
      "Train Epoch: 6 [7680/50176 (15%)]\tLoss: 1.436788\n"
     ]
    },
    {
     "name": "stderr",
     "output_type": "stream",
     "text": [
      " 23%|█████████████████████████████▌                                                                                                   | 45/196 [00:01<00:04, 32.84it/s]"
     ]
    },
    {
     "name": "stdout",
     "output_type": "stream",
     "text": [
      "Train Epoch: 6 [10240/50176 (20%)]\tLoss: 1.441226\n"
     ]
    },
    {
     "name": "stderr",
     "output_type": "stream",
     "text": [
      " 29%|█████████████████████████████████████▌                                                                                           | 57/196 [00:01<00:04, 33.90it/s]"
     ]
    },
    {
     "name": "stdout",
     "output_type": "stream",
     "text": [
      "Train Epoch: 6 [12800/50176 (26%)]\tLoss: 1.461996\n"
     ]
    },
    {
     "name": "stderr",
     "output_type": "stream",
     "text": [
      " 33%|██████████████████████████████████████████▊                                                                                      | 65/196 [00:02<00:03, 34.39it/s]"
     ]
    },
    {
     "name": "stdout",
     "output_type": "stream",
     "text": [
      "Train Epoch: 6 [15360/50176 (31%)]\tLoss: 1.486194\n"
     ]
    },
    {
     "name": "stderr",
     "output_type": "stream",
     "text": [
      " 39%|██████████████████████████████████████████████████▋                                                                              | 77/196 [00:02<00:03, 34.75it/s]"
     ]
    },
    {
     "name": "stdout",
     "output_type": "stream",
     "text": [
      "Train Epoch: 6 [17920/50176 (36%)]\tLoss: 1.457613\n"
     ]
    },
    {
     "name": "stderr",
     "output_type": "stream",
     "text": [
      " 43%|███████████████████████████████████████████████████████▉                                                                         | 85/196 [00:02<00:03, 34.74it/s]"
     ]
    },
    {
     "name": "stdout",
     "output_type": "stream",
     "text": [
      "Train Epoch: 6 [20480/50176 (41%)]\tLoss: 1.436216\n"
     ]
    },
    {
     "name": "stderr",
     "output_type": "stream",
     "text": [
      " 49%|███████████████████████████████████████████████████████████████▊                                                                 | 97/196 [00:03<00:02, 35.03it/s]"
     ]
    },
    {
     "name": "stdout",
     "output_type": "stream",
     "text": [
      "Train Epoch: 6 [23040/50176 (46%)]\tLoss: 1.422152\n"
     ]
    },
    {
     "name": "stderr",
     "output_type": "stream",
     "text": [
      " 54%|████████████████████████████████████████████████████████████████████▌                                                           | 105/196 [00:03<00:02, 34.79it/s]"
     ]
    },
    {
     "name": "stdout",
     "output_type": "stream",
     "text": [
      "Train Epoch: 6 [25600/50176 (51%)]\tLoss: 1.433885\n"
     ]
    },
    {
     "name": "stderr",
     "output_type": "stream",
     "text": [
      " 60%|████████████████████████████████████████████████████████████████████████████▍                                                   | 117/196 [00:03<00:02, 34.76it/s]"
     ]
    },
    {
     "name": "stdout",
     "output_type": "stream",
     "text": [
      "Train Epoch: 6 [28160/50176 (56%)]\tLoss: 1.436034\n"
     ]
    },
    {
     "name": "stderr",
     "output_type": "stream",
     "text": [
      " 64%|█████████████████████████████████████████████████████████████████████████████████▋                                              | 125/196 [00:03<00:02, 34.63it/s]"
     ]
    },
    {
     "name": "stdout",
     "output_type": "stream",
     "text": [
      "Train Epoch: 6 [30720/50176 (61%)]\tLoss: 1.427300\n"
     ]
    },
    {
     "name": "stderr",
     "output_type": "stream",
     "text": [
      " 70%|█████████████████████████████████████████████████████████████████████████████████████████▍                                      | 137/196 [00:04<00:01, 34.57it/s]"
     ]
    },
    {
     "name": "stdout",
     "output_type": "stream",
     "text": [
      "Train Epoch: 6 [33280/50176 (66%)]\tLoss: 1.416239\n"
     ]
    },
    {
     "name": "stderr",
     "output_type": "stream",
     "text": [
      " 74%|██████████████████████████████████████████████████████████████████████████████████████████████▋                                 | 145/196 [00:04<00:01, 34.56it/s]"
     ]
    },
    {
     "name": "stdout",
     "output_type": "stream",
     "text": [
      "Train Epoch: 6 [35840/50176 (71%)]\tLoss: 1.426177\n"
     ]
    },
    {
     "name": "stderr",
     "output_type": "stream",
     "text": [
      " 80%|██████████████████████████████████████████████████████████████████████████████████████████████████████▌                         | 157/196 [00:04<00:01, 34.45it/s]"
     ]
    },
    {
     "name": "stdout",
     "output_type": "stream",
     "text": [
      "Train Epoch: 6 [38400/50176 (77%)]\tLoss: 1.417456\n"
     ]
    },
    {
     "name": "stderr",
     "output_type": "stream",
     "text": [
      " 84%|███████████████████████████████████████████████████████████████████████████████████████████████████████████▊                    | 165/196 [00:05<00:00, 34.61it/s]"
     ]
    },
    {
     "name": "stdout",
     "output_type": "stream",
     "text": [
      "Train Epoch: 6 [40960/50176 (82%)]\tLoss: 1.471152\n"
     ]
    },
    {
     "name": "stderr",
     "output_type": "stream",
     "text": [
      " 90%|███████████████████████████████████████████████████████████████████████████████████████████████████████████████████▌            | 177/196 [00:05<00:00, 35.19it/s]"
     ]
    },
    {
     "name": "stdout",
     "output_type": "stream",
     "text": [
      "Train Epoch: 6 [43520/50176 (87%)]\tLoss: 1.469325\n"
     ]
    },
    {
     "name": "stderr",
     "output_type": "stream",
     "text": [
      " 94%|████████████████████████████████████████████████████████████████████████████████████████████████████████████████████████▊       | 185/196 [00:05<00:00, 35.18it/s]"
     ]
    },
    {
     "name": "stdout",
     "output_type": "stream",
     "text": [
      "Train Epoch: 6 [46080/50176 (92%)]\tLoss: 1.455821\n"
     ]
    },
    {
     "name": "stderr",
     "output_type": "stream",
     "text": [
      "100%|████████████████████████████████████████████████████████████████████████████████████████████████████████████████████████████████| 196/196 [00:06<00:00, 32.43it/s]"
     ]
    },
    {
     "name": "stdout",
     "output_type": "stream",
     "text": [
      "Train Epoch: 6 [48640/50176 (97%)]\tLoss: 1.444655\n"
     ]
    },
    {
     "name": "stderr",
     "output_type": "stream",
     "text": [
      "\n"
     ]
    },
    {
     "name": "stdout",
     "output_type": "stream",
     "text": [
      "Input\tonly way left to get water, because Voldemort had planned it so ... He flung himself over to the edge\n",
      "GT\tnly way left to get water, because Voldemort had planned it so ... He flung himself over to the edge \n",
      "pred\tu y oas aott th tet tiscr  aucause ooldemort wad buanted an iomm . ae seotg oim elf aner th the snge \n",
      "\n",
      "\n",
      "Input\ts that had his arm. It released him, falling backward into the water with a splash; he scrambled to h\n",
      "GT\t that had his arm. It released him, falling backward into the water with a splash; he scrambled to hi\n",
      "pred\t woet ted hem enm  \"t wiaeased tim  aocling aack ardsanto the saler aath ansteans  te waoaweeed oo hi\n",
      "\n",
      "\n",
      "Input\tath, and his feet left the ground as they lifted him and began to carry him, slowly and surely, back \n",
      "GT\tth, and his feet left the ground as they lifted him and began to carry him, slowly and surely, back t\n",
      "pred\tdee and hes eaet aitt the dlound an the  wotted aim ond segan to torey aam  aoiwly atd stdp y  auck o\n",
      "\n",
      "\n",
      "Input\t . . .\n",
      "Dumbledore scooped the locket from the bottom of the stone basin and stowed it inside his robe\n",
      "GT\t. . .\n",
      "Dumbledore scooped the locket from the bottom of the stone basin and stowed it inside his robes\n",
      "pred\t\" . . \n",
      "umbledore aaaoled aoe siok d aoom the sottlm of the stane secingand staoed an in tde aim wobes\n",
      "\n",
      "\n",
      "Input\t\"sir, I forgot -- about fire -- they were coming at me and I panicked --\"\n",
      "\"Quite understandable,\" mur\n",
      "GT\tsir, I forgot -- about fire -- they were coming at me and I panicked --\"\n",
      "\"Quite understandable,\" murm\n",
      "pred\tWar  y deu ottt\"\"tnout tole a- ahey'were aoueng tn te and a dlstn  d a- \n",
      "\"Iutde dnderstand rle   sutm\n",
      "\n",
      "\n",
      "\n",
      "Test set: Average loss: 1.4560, Accuracy: 721578/1254400 (58%)\n",
      "\n",
      "Saved /home/jefftian/Documents/21au/cse490g1/hw2content/checkpoints/006.pt\n",
      "\n",
      "generated max\t\t Harry Potter, Voldemort, and Dumbledore walk into a bar. He was all of the stands of the countrol of the stands of the countrol of the stands of the countrol of the stands of the countrol of the stands of the countrol of the stands of the countrol of the st\n",
      "generated sample\t Harry Potter, Voldemort, and Dumbledore walk into a bar. And whipe poise Ministry over him nockward, and added didn't held out school.\n",
      "\"Oet tight!\" said her chair,\" said girlied to his ground and scarout give him the other and put onto the our from onto the\n",
      "generated sample\t Harry Potter, Voldemort, and Dumbledore walk into a bar. Fatwy and Hear\n",
      "Hall's stone Pervious's face?\" said Hermione relained seem delicious and rich looked up, standing high a long, but the only on his team. \"Lirsting to Bee -- It ask Cou,\" said Ron. \"Lu--\n",
      "generated sample\t Harry Potter, Voldemort, and Dumbledore walk into a bar. \n",
      "\n",
      "\"Wever,\" snap Harry at one asked.\n",
      "\"Yourlaked it to be diell... and Manday, you your at he worled for alon, and says of comentraordhem,\" said Harry, and Deepalou will last as the was over of that add\n",
      "generated sample\t Harry Potter, Voldemort, and Dumbledore walk into a bar. Christmast put Harry hadnced dignigation slowpy out he wanto at the tabble and like\n",
      "Mair. Butuling as shalf had cup to ping like I. This will best drops in all other around the night memore had looked\n",
      "generated sample\t Harry Potter, Voldemort, and Dumbledore walk into a bar. Hat was Molly\n",
      "muster and was. \n",
      "\n",
      "\n",
      "Heah, didn't even tose -\"\n",
      "An ever was some fuoryzingly; \"bettermed 'you are --\"\n",
      "\"But Bupin down the ones where to suppose?\" you look floor. \"Thick looked donest,\" said\n",
      "generated sample\t Harry Potter, Voldemort, and Dumbledore walk into a bar. He give he flower atemption; it back on the pale of sagmance of these cloaks. Which son fried of live. Harry could plud it was speezing away it worse, Ron and decided to see Hermione's; to continus ex\n",
      "generated sample\t Harry Potter, Voldemort, and Dumbledore walk into a bar. \"Baboy's coverous,\" cleboaks. His at tronies addended.\n",
      "\n",
      "Hagrid tage trunkes.\n",
      "\n",
      "\"I snare out think you'rre either Dumbledore asround before.\"\n",
      "\"You him any ozer if: it mess,\" \n",
      "peciously sperabll,g with h\n",
      "generated sample\t Harry Potter, Voldemort, and Dumbledore walk into a bar. Hermione smokely.\n",
      "\"Its abe,\" said Hermioneed, and Hermioned. He stood said, alreapped at Hermious. \n",
      "\n",
      "\"Ver-wout to didn't a voice up . . . The of I've got Quzing we large, Harry, it was sure out, he wa\n"
     ]
    },
    {
     "name": "stderr",
     "output_type": "stream",
     "text": [
      "\r",
      "  0%|                                                                                                                                          | 0/196 [00:00<?, ?it/s]"
     ]
    },
    {
     "name": "stdout",
     "output_type": "stream",
     "text": [
      "generated sample\t Harry Potter, Voldemort, and Dumbledore walk into a bar. Took.\n",
      "\"Oho wanted at the my caught you told my pulled over the Post of the bedsome, but a\n",
      "\n",
      "he knew lift you ... ter wayes announed one courts potion all, Harry glanded after as a coupefly helpossed, a\n",
      "generated sample\t Harry Potter, Voldemort, and Dumbledore walk into a bar. \"Mugull been sound Snape so falling and one of the staffuld, looking for antiffice Iame somethings of curne. Dobby\n",
      "\n",
      "Ro. In thought you all theser, neare, lookiusly, \"most?\" said Hermione was samiliati\n",
      "\n"
     ]
    },
    {
     "name": "stderr",
     "output_type": "stream",
     "text": [
      "  3%|███▎                                                                                                                              | 5/196 [00:00<00:14, 13.10it/s]"
     ]
    },
    {
     "name": "stdout",
     "output_type": "stream",
     "text": [
      "Train Epoch: 7 [0/50176 (0%)]\tLoss: 1.423843\n"
     ]
    },
    {
     "name": "stderr",
     "output_type": "stream",
     "text": [
      "  9%|███████████▏                                                                                                                     | 17/196 [00:00<00:06, 27.58it/s]"
     ]
    },
    {
     "name": "stdout",
     "output_type": "stream",
     "text": [
      "Train Epoch: 7 [2560/50176 (5%)]\tLoss: 1.413063\n"
     ]
    },
    {
     "name": "stderr",
     "output_type": "stream",
     "text": [
      " 13%|████████████████▍                                                                                                                | 25/196 [00:01<00:05, 31.01it/s]"
     ]
    },
    {
     "name": "stdout",
     "output_type": "stream",
     "text": [
      "Train Epoch: 7 [5120/50176 (10%)]\tLoss: 1.450253\n"
     ]
    },
    {
     "name": "stderr",
     "output_type": "stream",
     "text": [
      " 19%|████████████████████████▎                                                                                                        | 37/196 [00:01<00:04, 33.43it/s]"
     ]
    },
    {
     "name": "stdout",
     "output_type": "stream",
     "text": [
      "Train Epoch: 7 [7680/50176 (15%)]\tLoss: 1.421961\n"
     ]
    },
    {
     "name": "stderr",
     "output_type": "stream",
     "text": [
      " 23%|█████████████████████████████▌                                                                                                   | 45/196 [00:01<00:04, 34.46it/s]"
     ]
    },
    {
     "name": "stdout",
     "output_type": "stream",
     "text": [
      "Train Epoch: 7 [10240/50176 (20%)]\tLoss: 1.414886\n"
     ]
    },
    {
     "name": "stderr",
     "output_type": "stream",
     "text": [
      " 29%|█████████████████████████████████████▌                                                                                           | 57/196 [00:01<00:03, 34.86it/s]"
     ]
    },
    {
     "name": "stdout",
     "output_type": "stream",
     "text": [
      "Train Epoch: 7 [12800/50176 (26%)]\tLoss: 1.418180\n"
     ]
    },
    {
     "name": "stderr",
     "output_type": "stream",
     "text": [
      " 33%|██████████████████████████████████████████▊                                                                                      | 65/196 [00:02<00:03, 34.81it/s]"
     ]
    },
    {
     "name": "stdout",
     "output_type": "stream",
     "text": [
      "Train Epoch: 7 [15360/50176 (31%)]\tLoss: 1.426839\n"
     ]
    },
    {
     "name": "stderr",
     "output_type": "stream",
     "text": [
      " 39%|██████████████████████████████████████████████████▋                                                                              | 77/196 [00:02<00:03, 34.99it/s]"
     ]
    },
    {
     "name": "stdout",
     "output_type": "stream",
     "text": [
      "Train Epoch: 7 [17920/50176 (36%)]\tLoss: 1.420700\n"
     ]
    },
    {
     "name": "stderr",
     "output_type": "stream",
     "text": [
      " 43%|███████████████████████████████████████████████████████▉                                                                         | 85/196 [00:02<00:03, 35.07it/s]"
     ]
    },
    {
     "name": "stdout",
     "output_type": "stream",
     "text": [
      "Train Epoch: 7 [20480/50176 (41%)]\tLoss: 1.413604\n"
     ]
    },
    {
     "name": "stderr",
     "output_type": "stream",
     "text": [
      " 49%|███████████████████████████████████████████████████████████████▊                                                                 | 97/196 [00:03<00:02, 34.97it/s]"
     ]
    },
    {
     "name": "stdout",
     "output_type": "stream",
     "text": [
      "Train Epoch: 7 [23040/50176 (46%)]\tLoss: 1.423504\n"
     ]
    },
    {
     "name": "stderr",
     "output_type": "stream",
     "text": [
      " 54%|████████████████████████████████████████████████████████████████████▌                                                           | 105/196 [00:03<00:02, 34.77it/s]"
     ]
    },
    {
     "name": "stdout",
     "output_type": "stream",
     "text": [
      "Train Epoch: 7 [25600/50176 (51%)]\tLoss: 1.439956\n"
     ]
    },
    {
     "name": "stderr",
     "output_type": "stream",
     "text": [
      " 60%|████████████████████████████████████████████████████████████████████████████▍                                                   | 117/196 [00:03<00:02, 35.06it/s]"
     ]
    },
    {
     "name": "stdout",
     "output_type": "stream",
     "text": [
      "Train Epoch: 7 [28160/50176 (56%)]\tLoss: 1.429758\n"
     ]
    },
    {
     "name": "stderr",
     "output_type": "stream",
     "text": [
      " 64%|█████████████████████████████████████████████████████████████████████████████████▋                                              | 125/196 [00:03<00:02, 35.07it/s]"
     ]
    },
    {
     "name": "stdout",
     "output_type": "stream",
     "text": [
      "Train Epoch: 7 [30720/50176 (61%)]\tLoss: 1.420244\n"
     ]
    },
    {
     "name": "stderr",
     "output_type": "stream",
     "text": [
      " 70%|█████████████████████████████████████████████████████████████████████████████████████████▍                                      | 137/196 [00:04<00:01, 34.90it/s]"
     ]
    },
    {
     "name": "stdout",
     "output_type": "stream",
     "text": [
      "Train Epoch: 7 [33280/50176 (66%)]\tLoss: 1.408828\n"
     ]
    },
    {
     "name": "stderr",
     "output_type": "stream",
     "text": [
      " 74%|██████████████████████████████████████████████████████████████████████████████████████████████▋                                 | 145/196 [00:04<00:01, 34.73it/s]"
     ]
    },
    {
     "name": "stdout",
     "output_type": "stream",
     "text": [
      "Train Epoch: 7 [35840/50176 (71%)]\tLoss: 1.413345\n"
     ]
    },
    {
     "name": "stderr",
     "output_type": "stream",
     "text": [
      " 80%|██████████████████████████████████████████████████████████████████████████████████████████████████████▌                         | 157/196 [00:04<00:01, 34.66it/s]"
     ]
    },
    {
     "name": "stdout",
     "output_type": "stream",
     "text": [
      "Train Epoch: 7 [38400/50176 (77%)]\tLoss: 1.406065\n"
     ]
    },
    {
     "name": "stderr",
     "output_type": "stream",
     "text": [
      " 84%|███████████████████████████████████████████████████████████████████████████████████████████████████████████▊                    | 165/196 [00:05<00:00, 34.67it/s]"
     ]
    },
    {
     "name": "stdout",
     "output_type": "stream",
     "text": [
      "Train Epoch: 7 [40960/50176 (82%)]\tLoss: 1.440719\n"
     ]
    },
    {
     "name": "stderr",
     "output_type": "stream",
     "text": [
      " 90%|███████████████████████████████████████████████████████████████████████████████████████████████████████████████████▌            | 177/196 [00:05<00:00, 34.98it/s]"
     ]
    },
    {
     "name": "stdout",
     "output_type": "stream",
     "text": [
      "Train Epoch: 7 [43520/50176 (87%)]\tLoss: 1.408009\n"
     ]
    },
    {
     "name": "stderr",
     "output_type": "stream",
     "text": [
      " 94%|████████████████████████████████████████████████████████████████████████████████████████████████████████████████████████▊       | 185/196 [00:05<00:00, 35.17it/s]"
     ]
    },
    {
     "name": "stdout",
     "output_type": "stream",
     "text": [
      "Train Epoch: 7 [46080/50176 (92%)]\tLoss: 1.437463\n"
     ]
    },
    {
     "name": "stderr",
     "output_type": "stream",
     "text": [
      " 98%|██████████████████████████████████████████████████████████████████████████████████████████████████████████████████████████████  | 193/196 [00:05<00:00, 34.78it/s]"
     ]
    },
    {
     "name": "stdout",
     "output_type": "stream",
     "text": [
      "Train Epoch: 7 [48640/50176 (97%)]\tLoss: 1.431666\n"
     ]
    },
    {
     "name": "stderr",
     "output_type": "stream",
     "text": [
      "100%|████████████████████████████████████████████████████████████████████████████████████████████████████████████████████████████████| 196/196 [00:06<00:00, 32.58it/s]\n"
     ]
    },
    {
     "name": "stdout",
     "output_type": "stream",
     "text": [
      "Input\tonly way left to get water, because Voldemort had planned it so ... He flung himself over to the edge\n",
      "GT\tnly way left to get water, because Voldemort had planned it so ... He flung himself over to the edge \n",
      "pred\tu y ths tott to tit tiscr  aucause toldemort wad tuanted tn iomm . ae woutg oim elf tner th the snge \n",
      "\n",
      "\n",
      "Input\ts that had his arm. It released him, falling backward into the water with a splash; he scrambled to h\n",
      "GT\t that had his arm. It released him, falling backward into the water with a splash; he scrambled to hi\n",
      "pred\t woet ted tem enm  \"t wimlased tim  aocleng aock ardstnto the siler aath tnlteanh  te wtoeweeed oo ti\n",
      "\n",
      "\n",
      "Input\tath, and his feet left the ground as they lifted him and began to carry him, slowly and surely, back \n",
      "GT\tth, and his feet left the ground as they lifted him and began to carry him, slowly and surely, back t\n",
      "pred\thhe and tes eoet aitt the soound tn the  woteed tim ond tefan to torei aim. aoiwly atd stdp y  auck t\n",
      "\n",
      "\n",
      "Input\t . . .\n",
      "Dumbledore scooped the locket from the bottom of the stone basin and stowed it inside his robe\n",
      "GT\t. . .\n",
      "Dumbledore scooped the locket from the bottom of the stone basin and stowed it inside his robes\n",
      "pred\t\" . . \n",
      "umbledore wtaoled aoe siok d aoom the sottlm of the stone socingand ttroed tn wnttde tim wobes\n",
      "\n",
      "\n",
      "Input\t\"sir, I forgot -- about fire -- they were coming at me and I panicked --\"\n",
      "\"Quite understandable,\" mur\n",
      "GT\tsir, I forgot -- about fire -- they were coming at me and I panicked --\"\n",
      "\"Quite understandable,\" murm\n",
      "pred\tIor, y dou ottt\" tnout tone a- the  were soueng tn to tnd t dlstn  d t- \n",
      "\"Iutde snderstand rle   sutm\n",
      "\n",
      "\n",
      "\n",
      "Test set: Average loss: 1.4573, Accuracy: 722416/1254400 (58%)\n",
      "\n",
      "Saved /home/jefftian/Documents/21au/cse490g1/hw2content/checkpoints/007.pt\n",
      "\n",
      "generated max\t\t Harry Potter, Voldemort, and Dumbledore walk into a bar. He was still standing at the stone steen and string of the stone steen and string of the stone steen and string of the stone steen and string of the stone steen and string of the stone steen and strin\n",
      "generated sample\t Harry Potter, Voldemort, and Dumbledore walk into a bar. Uvery would vellateriff that he beeting Ronks, with it, you did there, _here's told've but howe drizkghs house.\n",
      "\n",
      "\"Nom the starting about my and jubbed to become when the secoral phops to the rible foo\n",
      "generated sample\t Harry Potter, Voldemort, and Dumbledore walk into a bar. Now\n",
      "who Daught my of Tongantairs of try. \n",
      "\n",
      "The twins head the fiCh Howered tergvery \"\n",
      "Everiep!\" said Hagrid, would found it when he rounded into vice of hisper. \"The workigon to Goblythat looked Howff\n",
      "generated sample\t Harry Potter, Voldemort, and Dumbledore walk into a bar. How hose and spectle continue time to give him, whispered at the once of tridble. \"Rou didn' go?\" Harry looked her wiparily, smilerible, \"with you know how like -\"\n",
      "\n",
      "Ohe night blood at this old behind \n",
      "generated sample\t Harry Potter, Voldemort, and Dumbledore walk into a bar. \n",
      " \"Whe door asked it's before, points nect one mokst wisho bodiesely, who was it.\"\n",
      "\"Youced to use himself,\" said Harry, Fockboard foll of it, he snowing strightly in and turning to twode -So moments t\n",
      "generated sample\t Harry Potter, Voldemort, and Dumbledore walk into a bar. He had trulled his coujented laughter. How didn't pocked jummorn -- interestion in Pide hick why he belsed the room.\"\n",
      "\n",
      " He wolded him and something the course to the name. \"I won toldore with months o\n",
      "generated sample\t Harry Potter, Voldemort, and Dumbledore walk into a bar. And his littlep find themse'ls over ear the roces white coldly with his head, he sheeps and ping his voice swips onto the listen of potion of my offe. Arnatus while he velled, with white morning outst\n",
      "generated sample\t Harry Potter, Voldemort, and Dumbledore walk into a bar. Cruater's Uncle HerDE'W\" Were twins around he had head Fubbloud fluech and have down to expocted the stort off and getting in Hermione so that SorZderous's Fidely robbed. However played Howls\n",
      "and gigh\n"
     ]
    },
    {
     "name": "stderr",
     "output_type": "stream",
     "text": [
      "\r",
      "  0%|                                                                                                                                          | 0/196 [00:00<?, ?it/s]"
     ]
    },
    {
     "name": "stdout",
     "output_type": "stream",
     "text": [
      "generated sample\t Harry Potter, Voldemort, and Dumbledore walk into a bar. They didn's big now and movice monal low auntrial to commy from Hogrou 8? how the you follow!\" \n",
      "\n",
      "He followed, and ituring throat in the ground.\n",
      "\n",
      "someone something scrimmed to a choice piet mind that s\n",
      "generated sample\t Harry Potter, Voldemort, and Dumbledore walk into a bar. Weasley to man over the direct of Hogerter, the've sitting down with here, earthumen that what everyone filled \"you would shaped a strongr of place its disking, the robering eyehudded and saw the ten \n",
      "generated sample\t Harry Potter, Voldemort, and Dumbledore walk into a bar. Whe would be gasped of the one was going to be interry\n",
      "to him that Harry comiling virse Ambidge and stoading studey home approaring away the vol of the roomstic,\" said it hum and the\n",
      "disappearly'modin\n",
      "\n"
     ]
    },
    {
     "name": "stderr",
     "output_type": "stream",
     "text": [
      "  3%|███▎                                                                                                                              | 5/196 [00:00<00:15, 12.70it/s]"
     ]
    },
    {
     "name": "stdout",
     "output_type": "stream",
     "text": [
      "Train Epoch: 8 [0/50176 (0%)]\tLoss: 1.424939\n"
     ]
    },
    {
     "name": "stderr",
     "output_type": "stream",
     "text": [
      "  9%|███████████▏                                                                                                                     | 17/196 [00:00<00:06, 26.77it/s]"
     ]
    },
    {
     "name": "stdout",
     "output_type": "stream",
     "text": [
      "Train Epoch: 8 [2560/50176 (5%)]\tLoss: 1.409598\n"
     ]
    },
    {
     "name": "stderr",
     "output_type": "stream",
     "text": [
      " 13%|████████████████▍                                                                                                                | 25/196 [00:01<00:05, 30.42it/s]"
     ]
    },
    {
     "name": "stdout",
     "output_type": "stream",
     "text": [
      "Train Epoch: 8 [5120/50176 (10%)]\tLoss: 1.439865\n"
     ]
    },
    {
     "name": "stderr",
     "output_type": "stream",
     "text": [
      " 19%|████████████████████████▎                                                                                                        | 37/196 [00:01<00:04, 33.49it/s]"
     ]
    },
    {
     "name": "stdout",
     "output_type": "stream",
     "text": [
      "Train Epoch: 8 [7680/50176 (15%)]\tLoss: 1.416581\n"
     ]
    },
    {
     "name": "stderr",
     "output_type": "stream",
     "text": [
      " 23%|█████████████████████████████▌                                                                                                   | 45/196 [00:01<00:04, 33.84it/s]"
     ]
    },
    {
     "name": "stdout",
     "output_type": "stream",
     "text": [
      "Train Epoch: 8 [10240/50176 (20%)]\tLoss: 1.408709\n"
     ]
    },
    {
     "name": "stderr",
     "output_type": "stream",
     "text": [
      " 29%|█████████████████████████████████████▌                                                                                           | 57/196 [00:02<00:04, 33.39it/s]"
     ]
    },
    {
     "name": "stdout",
     "output_type": "stream",
     "text": [
      "Train Epoch: 8 [12800/50176 (26%)]\tLoss: 1.409149\n"
     ]
    },
    {
     "name": "stderr",
     "output_type": "stream",
     "text": [
      " 33%|██████████████████████████████████████████▊                                                                                      | 65/196 [00:02<00:03, 34.17it/s]"
     ]
    },
    {
     "name": "stdout",
     "output_type": "stream",
     "text": [
      "Train Epoch: 8 [15360/50176 (31%)]\tLoss: 1.419138\n"
     ]
    },
    {
     "name": "stderr",
     "output_type": "stream",
     "text": [
      " 39%|██████████████████████████████████████████████████▋                                                                              | 77/196 [00:02<00:03, 33.68it/s]"
     ]
    },
    {
     "name": "stdout",
     "output_type": "stream",
     "text": [
      "Train Epoch: 8 [17920/50176 (36%)]\tLoss: 1.414914\n"
     ]
    },
    {
     "name": "stderr",
     "output_type": "stream",
     "text": [
      " 43%|███████████████████████████████████████████████████████▉                                                                         | 85/196 [00:02<00:03, 33.71it/s]"
     ]
    },
    {
     "name": "stdout",
     "output_type": "stream",
     "text": [
      "Train Epoch: 8 [20480/50176 (41%)]\tLoss: 1.396273\n"
     ]
    },
    {
     "name": "stderr",
     "output_type": "stream",
     "text": [
      " 49%|███████████████████████████████████████████████████████████████▊                                                                 | 97/196 [00:03<00:02, 34.33it/s]"
     ]
    },
    {
     "name": "stdout",
     "output_type": "stream",
     "text": [
      "Train Epoch: 8 [23040/50176 (46%)]\tLoss: 1.408504\n"
     ]
    },
    {
     "name": "stderr",
     "output_type": "stream",
     "text": [
      " 54%|████████████████████████████████████████████████████████████████████▌                                                           | 105/196 [00:03<00:02, 34.90it/s]"
     ]
    },
    {
     "name": "stdout",
     "output_type": "stream",
     "text": [
      "Train Epoch: 8 [25600/50176 (51%)]\tLoss: 1.412017\n"
     ]
    },
    {
     "name": "stderr",
     "output_type": "stream",
     "text": [
      " 60%|████████████████████████████████████████████████████████████████████████████▍                                                   | 117/196 [00:03<00:02, 33.81it/s]"
     ]
    },
    {
     "name": "stdout",
     "output_type": "stream",
     "text": [
      "Train Epoch: 8 [28160/50176 (56%)]\tLoss: 1.416930\n"
     ]
    },
    {
     "name": "stderr",
     "output_type": "stream",
     "text": [
      " 64%|█████████████████████████████████████████████████████████████████████████████████▋                                              | 125/196 [00:04<00:02, 33.66it/s]"
     ]
    },
    {
     "name": "stdout",
     "output_type": "stream",
     "text": [
      "Train Epoch: 8 [30720/50176 (61%)]\tLoss: 1.411414\n"
     ]
    },
    {
     "name": "stderr",
     "output_type": "stream",
     "text": [
      " 70%|█████████████████████████████████████████████████████████████████████████████████████████▍                                      | 137/196 [00:04<00:01, 33.91it/s]"
     ]
    },
    {
     "name": "stdout",
     "output_type": "stream",
     "text": [
      "Train Epoch: 8 [33280/50176 (66%)]\tLoss: 1.423615\n"
     ]
    },
    {
     "name": "stderr",
     "output_type": "stream",
     "text": [
      " 74%|██████████████████████████████████████████████████████████████████████████████████████████████▋                                 | 145/196 [00:04<00:01, 34.38it/s]"
     ]
    },
    {
     "name": "stdout",
     "output_type": "stream",
     "text": [
      "Train Epoch: 8 [35840/50176 (71%)]\tLoss: 1.415777\n"
     ]
    },
    {
     "name": "stderr",
     "output_type": "stream",
     "text": [
      " 80%|██████████████████████████████████████████████████████████████████████████████████████████████████████▌                         | 157/196 [00:04<00:01, 34.42it/s]"
     ]
    },
    {
     "name": "stdout",
     "output_type": "stream",
     "text": [
      "Train Epoch: 8 [38400/50176 (77%)]\tLoss: 1.411248\n"
     ]
    },
    {
     "name": "stderr",
     "output_type": "stream",
     "text": [
      " 84%|███████████████████████████████████████████████████████████████████████████████████████████████████████████▊                    | 165/196 [00:05<00:00, 33.69it/s]"
     ]
    },
    {
     "name": "stdout",
     "output_type": "stream",
     "text": [
      "Train Epoch: 8 [40960/50176 (82%)]\tLoss: 1.442688\n"
     ]
    },
    {
     "name": "stderr",
     "output_type": "stream",
     "text": [
      " 90%|███████████████████████████████████████████████████████████████████████████████████████████████████████████████████▌            | 177/196 [00:05<00:00, 34.70it/s]"
     ]
    },
    {
     "name": "stdout",
     "output_type": "stream",
     "text": [
      "Train Epoch: 8 [43520/50176 (87%)]\tLoss: 1.398470\n"
     ]
    },
    {
     "name": "stderr",
     "output_type": "stream",
     "text": [
      " 94%|████████████████████████████████████████████████████████████████████████████████████████████████████████████████████████▊       | 185/196 [00:05<00:00, 34.09it/s]"
     ]
    },
    {
     "name": "stdout",
     "output_type": "stream",
     "text": [
      "Train Epoch: 8 [46080/50176 (92%)]\tLoss: 1.421108\n"
     ]
    },
    {
     "name": "stderr",
     "output_type": "stream",
     "text": [
      "100%|████████████████████████████████████████████████████████████████████████████████████████████████████████████████████████████████| 196/196 [00:06<00:00, 31.96it/s]"
     ]
    },
    {
     "name": "stdout",
     "output_type": "stream",
     "text": [
      "Train Epoch: 8 [48640/50176 (97%)]\tLoss: 1.420360\n"
     ]
    },
    {
     "name": "stderr",
     "output_type": "stream",
     "text": [
      "\n"
     ]
    },
    {
     "name": "stdout",
     "output_type": "stream",
     "text": [
      "Input\tonly way left to get water, because Voldemort had planned it so ... He flung himself over to the edge\n",
      "GT\tnly way left to get water, because Voldemort had planned it so ... He flung himself over to the edge \n",
      "pred\tu y tas tott th tet thscr  aucause holdemort wad tuanted tn womm . ae seutg oim elf afer th the snge \n",
      "\n",
      "\n",
      "Input\ts that had his arm. It released him, falling backward into the water with a splash; he scrambled to h\n",
      "GT\t that had his arm. It released him, falling backward into the water with a splash; he scrambled to hi\n",
      "pred\t woet ted bes enm  Ht wialased tim  aocleng aeck ard tnto the saler aath ansteanh  te waoeweeed oo ti\n",
      "\n",
      "\n",
      "Input\tath, and his feet left the ground as they lifted him and began to carry him, slowly and surely, back \n",
      "GT\tth, and his feet left the ground as they lifted him and began to carry him, slowly and surely, back t\n",
      "pred\thh  and tes eaet aitt the soound an the  wokeed tim ond sefan to torei aes  aoiwly atd stdp y  auck t\n",
      "\n",
      "\n",
      "Input\t . . .\n",
      "Dumbledore scooped the locket from the bottom of the stone basin and stowed it inside his robe\n",
      "GT\t. . .\n",
      "Dumbledore scooped the locket from the bottom of the stone basin and stowed it inside his robes\n",
      "pred\t\" . . \n",
      "umbledore saaoled aoe siok d arom the sottlm of the stane secingand staoed tn wn ide his hobes\n",
      "\n",
      "\n",
      "Input\t\"sir, I forgot -- about fire -- they were coming at me and I panicked --\"\n",
      "\"Quite understandable,\" mur\n",
      "GT\tsir, I forgot -- about fire -- they were coming at me and I panicked --\"\n",
      "\"Quite understandable,\" murm\n",
      "pred\tIor, y deu ottt\" tnout tons a- the  were soueng tn te tnd t dusts  d t- \n",
      "\"Iutde snderstand yle   sutm\n",
      "\n",
      "\n",
      "\n",
      "Test set: Average loss: 1.4323, Accuracy: 731266/1254400 (58%)\n",
      "\n",
      "Saved /home/jefftian/Documents/21au/cse490g1/hw2content/checkpoints/008.pt\n",
      "\n",
      "generated max\t\t Harry Potter, Voldemort, and Dumbledore walk into a bar. He was still standing at the stands of the stands of the stands of the stands of the stands of the stands of the stands of the stands of the stands of the stands of the stands of the stands of the sta\n",
      "generated sample\t Harry Potter, Voldemort, and Dumbledore walk into a bar. peasley -unp and stone off Anageniz, \"irius will do any fumbling lipped the matterilly to we about the Delace   He had already? \"I collaved doubt letten a bit or Slytherin fiel. KOcy.\"\n",
      "She roared ligh\n",
      "generated sample\t Harry Potter, Voldemort, and Dumbledore walk into a bar. \n",
      "\n",
      "Mrs. Soroman at the gol.\n",
      "\"Why crowd.\n",
      "\"I've all,\" Hermione of great in his fang, something. \"I he dishe!\" she said. \"Sneyes look Harry,\" said shor.\n",
      "Bellower Crelaring to Ginny\n",
      "when wite looked, and s\n",
      "generated sample\t Harry Potter, Voldemort, and Dumbledore walk into a bar. \n",
      "\"Bust right to it. And Dobbus?\n",
      "no moment for the armatic was didnit for where Hemistricitors again, Harry in\n",
      "Crubously.\n",
      "\n",
      "\"He's got on wanted to know's do,\" she said, \"but was Tomfried Hagrid, and mig\n",
      "generated sample\t Harry Potter, Voldemort, and Dumbledore walk into a bar. \"Lok one potion, don't the possion to keep perciored,\n",
      "Harry looked missed hide owlspatt, trurn to read by the moticel brand Harry and his bottle.\n",
      "Harr isn't uncolate.\n",
      "Mut Harry and Ron and but the Gin\n",
      "generated sample\t Harry Potter, Voldemort, and Dumbledore walk into a bar. Keaking a bit of and manazed of the wing back enzoy, eyecusitoy in on it. I'm go? it isn't speeparation - yelled!\" snigment, \"But do need to mind to the photor. . .\n",
      "\n",
      "Lut -- where hole at the Stunias s\n",
      "generated sample\t Harry Potter, Voldemort, and Dumbledore walk into a bar. \"I told you the suppose, I don't right sorry ok about attacking about he would be since this bottom your moment that night back somebort itdaying up.\" \n",
      "\"Home's he got him any possibion of an of -godd.\n",
      "generated sample\t Harry Potter, Voldemort, and Dumbledore walk into a bar. I'll champion was we alm going to rain about, now raise.\"\n",
      "\"OSh eyes so fabited?\" said. \"I water -\"\n",
      "\"Not tup of the middle of Devilless,\" from the incon trunkly.\n",
      "\n",
      "Not strong doger.\n",
      "\"Why we've liked to \n"
     ]
    },
    {
     "name": "stderr",
     "output_type": "stream",
     "text": [
      "\r",
      "  0%|                                                                                                                                          | 0/196 [00:00<?, ?it/s]"
     ]
    },
    {
     "name": "stdout",
     "output_type": "stream",
     "text": [
      "generated sample\t Harry Potter, Voldemort, and Dumbledore walk into a bar. Magicase\n",
      "\n",
      "Nookshapply sneaturs on the footster, rather S$uggest stridits and he Golled Harry coment he was down and the door.\n",
      "\n",
      "\"They were spank he say why'd.'re at the to-!\" Harry alled; Meansfor Duna\n",
      "generated sample\t Harry Potter, Voldemort, and Dumbledore walk into a bar. He could not stare to paze down on the potful so lot of at Harry. They had the carset on the quitch Mundaloping donest, and someticts fleep remembered his mouths of the taken me letters and voice know\n",
      "generated sample\t Harry Potter, Voldemort, and Dumbledore walk into a bar. \"I wor sounded at it,\n",
      "Ung time house wanted to be . . . OR never Snave have of caud?\" \n",
      "\n",
      "\"breahless?\" said Professor Dumble's hall to bill pelly.\n",
      "\"But, you're rid?\" by keeping, down the slity ringen an\n",
      "\n"
     ]
    },
    {
     "name": "stderr",
     "output_type": "stream",
     "text": [
      "  2%|██▋                                                                                                                               | 4/196 [00:00<00:18, 10.23it/s]"
     ]
    },
    {
     "name": "stdout",
     "output_type": "stream",
     "text": [
      "Train Epoch: 9 [0/50176 (0%)]\tLoss: 1.400545\n"
     ]
    },
    {
     "name": "stderr",
     "output_type": "stream",
     "text": [
      "  8%|██████████▌                                                                                                                      | 16/196 [00:00<00:06, 26.10it/s]"
     ]
    },
    {
     "name": "stdout",
     "output_type": "stream",
     "text": [
      "Train Epoch: 9 [2560/50176 (5%)]\tLoss: 1.391722\n"
     ]
    },
    {
     "name": "stderr",
     "output_type": "stream",
     "text": [
      " 14%|██████████████████▍                                                                                                              | 28/196 [00:01<00:05, 31.72it/s]"
     ]
    },
    {
     "name": "stdout",
     "output_type": "stream",
     "text": [
      "Train Epoch: 9 [5120/50176 (10%)]\tLoss: 1.427790\n"
     ]
    },
    {
     "name": "stderr",
     "output_type": "stream",
     "text": [
      " 18%|███████████████████████▋                                                                                                         | 36/196 [00:01<00:04, 32.47it/s]"
     ]
    },
    {
     "name": "stdout",
     "output_type": "stream",
     "text": [
      "Train Epoch: 9 [7680/50176 (15%)]\tLoss: 1.404364\n"
     ]
    },
    {
     "name": "stderr",
     "output_type": "stream",
     "text": [
      " 24%|███████████████████████████████▌                                                                                                 | 48/196 [00:01<00:04, 34.21it/s]"
     ]
    },
    {
     "name": "stdout",
     "output_type": "stream",
     "text": [
      "Train Epoch: 9 [10240/50176 (20%)]\tLoss: 1.393337\n"
     ]
    },
    {
     "name": "stderr",
     "output_type": "stream",
     "text": [
      " 29%|████████████████████████████████████▊                                                                                            | 56/196 [00:02<00:04, 33.72it/s]"
     ]
    },
    {
     "name": "stdout",
     "output_type": "stream",
     "text": [
      "Train Epoch: 9 [12800/50176 (26%)]\tLoss: 1.396292\n"
     ]
    },
    {
     "name": "stderr",
     "output_type": "stream",
     "text": [
      " 35%|████████████████████████████████████████████▊                                                                                    | 68/196 [00:02<00:03, 34.63it/s]"
     ]
    },
    {
     "name": "stdout",
     "output_type": "stream",
     "text": [
      "Train Epoch: 9 [15360/50176 (31%)]\tLoss: 1.412496\n"
     ]
    },
    {
     "name": "stderr",
     "output_type": "stream",
     "text": [
      " 39%|██████████████████████████████████████████████████                                                                               | 76/196 [00:02<00:03, 34.92it/s]"
     ]
    },
    {
     "name": "stdout",
     "output_type": "stream",
     "text": [
      "Train Epoch: 9 [17920/50176 (36%)]\tLoss: 1.407199\n"
     ]
    },
    {
     "name": "stderr",
     "output_type": "stream",
     "text": [
      " 43%|███████████████████████████████████████████████████████▎                                                                         | 84/196 [00:02<00:03, 34.21it/s]"
     ]
    },
    {
     "name": "stdout",
     "output_type": "stream",
     "text": [
      "Train Epoch: 9 [20480/50176 (41%)]\tLoss: 1.385332\n"
     ]
    },
    {
     "name": "stderr",
     "output_type": "stream",
     "text": [
      " 49%|███████████████████████████████████████████████████████████████▏                                                                 | 96/196 [00:03<00:02, 33.70it/s]"
     ]
    },
    {
     "name": "stdout",
     "output_type": "stream",
     "text": [
      "Train Epoch: 9 [23040/50176 (46%)]\tLoss: 1.398422\n"
     ]
    },
    {
     "name": "stderr",
     "output_type": "stream",
     "text": [
      " 53%|███████████████████████████████████████████████████████████████████▉                                                            | 104/196 [00:03<00:02, 33.54it/s]"
     ]
    },
    {
     "name": "stdout",
     "output_type": "stream",
     "text": [
      "Train Epoch: 9 [25600/50176 (51%)]\tLoss: 1.413925\n"
     ]
    },
    {
     "name": "stderr",
     "output_type": "stream",
     "text": [
      " 59%|███████████████████████████████████████████████████████████████████████████▊                                                    | 116/196 [00:03<00:02, 34.45it/s]"
     ]
    },
    {
     "name": "stdout",
     "output_type": "stream",
     "text": [
      "Train Epoch: 9 [28160/50176 (56%)]\tLoss: 1.422203\n"
     ]
    },
    {
     "name": "stderr",
     "output_type": "stream",
     "text": [
      " 65%|███████████████████████████████████████████████████████████████████████████████████▌                                            | 128/196 [00:04<00:01, 34.86it/s]"
     ]
    },
    {
     "name": "stdout",
     "output_type": "stream",
     "text": [
      "Train Epoch: 9 [30720/50176 (61%)]\tLoss: 1.423294\n"
     ]
    },
    {
     "name": "stderr",
     "output_type": "stream",
     "text": [
      " 69%|████████████████████████████████████████████████████████████████████████████████████████▊                                       | 136/196 [00:04<00:01, 35.21it/s]"
     ]
    },
    {
     "name": "stdout",
     "output_type": "stream",
     "text": [
      "Train Epoch: 9 [33280/50176 (66%)]\tLoss: 1.395757\n"
     ]
    },
    {
     "name": "stderr",
     "output_type": "stream",
     "text": [
      " 73%|██████████████████████████████████████████████████████████████████████████████████████████████                                  | 144/196 [00:04<00:01, 34.93it/s]"
     ]
    },
    {
     "name": "stdout",
     "output_type": "stream",
     "text": [
      "Train Epoch: 9 [35840/50176 (71%)]\tLoss: 1.400454\n"
     ]
    },
    {
     "name": "stderr",
     "output_type": "stream",
     "text": [
      " 80%|█████████████████████████████████████████████████████████████████████████████████████████████████████▉                          | 156/196 [00:04<00:01, 35.13it/s]"
     ]
    },
    {
     "name": "stdout",
     "output_type": "stream",
     "text": [
      "Train Epoch: 9 [38400/50176 (77%)]\tLoss: 1.390050\n"
     ]
    },
    {
     "name": "stderr",
     "output_type": "stream",
     "text": [
      " 86%|█████████████████████████████████████████████████████████████████████████████████████████████████████████████▋                  | 168/196 [00:05<00:00, 35.14it/s]"
     ]
    },
    {
     "name": "stdout",
     "output_type": "stream",
     "text": [
      "Train Epoch: 9 [40960/50176 (82%)]\tLoss: 1.432621\n"
     ]
    },
    {
     "name": "stderr",
     "output_type": "stream",
     "text": [
      " 90%|██████████████████████████████████████████████████████████████████████████████████████████████████████████████████▉             | 176/196 [00:05<00:00, 35.12it/s]"
     ]
    },
    {
     "name": "stdout",
     "output_type": "stream",
     "text": [
      "Train Epoch: 9 [43520/50176 (87%)]\tLoss: 1.391039\n"
     ]
    },
    {
     "name": "stderr",
     "output_type": "stream",
     "text": [
      " 96%|██████████████████████████████████████████████████████████████████████████████████████████████████████████████████████████▊     | 188/196 [00:05<00:00, 34.91it/s]"
     ]
    },
    {
     "name": "stdout",
     "output_type": "stream",
     "text": [
      "Train Epoch: 9 [46080/50176 (92%)]\tLoss: 1.416024\n"
     ]
    },
    {
     "name": "stderr",
     "output_type": "stream",
     "text": [
      "100%|████████████████████████████████████████████████████████████████████████████████████████████████████████████████████████████████| 196/196 [00:06<00:00, 35.14it/s]"
     ]
    },
    {
     "name": "stdout",
     "output_type": "stream",
     "text": [
      "Train Epoch: 9 [48640/50176 (97%)]\tLoss: 1.414238\n"
     ]
    },
    {
     "name": "stderr",
     "output_type": "stream",
     "text": [
      "100%|████████████████████████████████████████████████████████████████████████████████████████████████████████████████████████████████| 196/196 [00:06<00:00, 32.11it/s]\n"
     ]
    },
    {
     "name": "stdout",
     "output_type": "stream",
     "text": [
      "Input\tonly way left to get water, because Voldemort had planned it so ... He flung himself over to the edge\n",
      "GT\tnly way left to get water, because Voldemort had planned it so ... He flung himself over to the edge \n",
      "pred\tu y oas tott th sot thscr  aucause holdemort wad tuacted on womm . ae seutg oim elf ofer th the snge \n",
      "\n",
      "\n",
      "Input\ts that had his arm. It released him, falling backward into the water with a splash; he scrambled to h\n",
      "GT\t that had his arm. It released him, falling backward into the water with a splash; he scrambled to hi\n",
      "pred\t woat ted bam hnm  Ht wealased tim  hocleng oack ard tnto the saler aath a ltiath  te waoaweeed oo hi\n",
      "\n",
      "\n",
      "Input\tath, and his feet left the ground as they lifted him and began to carry him, slowly and surely, back \n",
      "GT\tth, and his feet left the ground as they lifted him and began to carry him, slowly and surely, back t\n",
      "pred\thh  and tes eaet aitt the soound an the  wokeed tim ond sefan to sorei aims aoiwly atd stdp y  auck t\n",
      "\n",
      "\n",
      "Input\t . . .\n",
      "Dumbledore scooped the locket from the bottom of the stone basin and stowed it inside his robe\n",
      "GT\t. . .\n",
      "Dumbledore scooped the locket from the bottom of the stone basin and stowed it inside his robes\n",
      "pred\t\" . . \n",
      "umbledore saaoled aoe siok d arom the sottlm of the stane sacingand staoed tn wn ide him hobes\n",
      "\n",
      "\n",
      "Input\t\"sir, I forgot -- about fire -- they were coming at me and I panicked --\"\n",
      "\"Quite understandable,\" mur\n",
      "GT\tsir, I forgot -- about fire -- they were coming at me and I panicked --\"\n",
      "\"Quite understandable,\" murm\n",
      "pred\tIor, y deu ottt\" tnout tons a  the 'were soming tt te and s dests  d t- \n",
      "\"Iutde snderstand yle \" sutm\n",
      "\n",
      "\n",
      "\n",
      "Test set: Average loss: 1.4252, Accuracy: 733154/1254400 (58%)\n",
      "\n",
      "Saved /home/jefftian/Documents/21au/cse490g1/hw2content/checkpoints/009.pt\n",
      "\n",
      "generated max\t\t Harry Potter, Voldemort, and Dumbledore walk into a bar. He was still standing at the stands of the stands of the stands of the stone steps of the stands of the stone steps of the stands of the stone steps of the stands of the stone steps of the stands of t\n",
      "generated sample\t Harry Potter, Voldemort, and Dumbledore walk into a bar. Turitating down almost dressed. He was still had been noises of Chere's neck to leak up.\n",
      "Mringotrol Tome and Hermione of a next of the doors to see Fill Sinjy pulls to down to Sl. Nhic doy must out fo\n",
      "generated sample\t Harry Potter, Voldemort, and Dumbledore walk into a bar. \"I wizard Ce.P's Sirius chose on the Ministry Pottergy whoek Golday, do not foot at the school monter now should emebody he didn't you many, He raiser...\n",
      "\n",
      "\"I was,\"\n",
      "\"_ut, he anjusy became befolusperedi\n",
      "generated sample\t Harry Potter, Voldemort, and Dumbledore walk into a bar. Yeaking ve strandle bout looked schook.\n",
      "\"Sor could you knock you turning...\"\n",
      "\n",
      "\n",
      "\"No, it...4in desplate acoure came and down -\"\n",
      "cleuring lock times and apperhead, backy on herdreas, lost as he seat on. \n",
      "generated sample\t Harry Potter, Voldemort, and Dumbledore walk into a bar. Potter, was cleaking at the scentaming in deed, in an impose\n",
      "bottom, Wapering too punch opened to &urcelly, doom wand out a blood on the meason at all watch so he dreward this or anote him; evercyone \n",
      "generated sample\t Harry Potter, Voldemort, and Dumbledore walk into a bar. come of whose he had been to let back on the gimpens; He my try bed at Harry. \"Took wish I might now where the last - To Bucbk!\" \n",
      "But it supposed tonigh and pecided was and the vitchelate That tell me\n",
      "generated sample\t Harry Potter, Voldemort, and Dumbledore walk into a bar. \n",
      "\n",
      "He rove was back whethe nie knowing everying herm of the doors like shized. Nobpin sistors Ton to shake shape.\n",
      "YQusicking here,\" said Snape poid from but lookrlight seneams prelibble Karcely too. He\n",
      "generated sample\t Harry Potter, Voldemort, and Dumbledore walk into a bar. if you to think as a bit of dirence more of the control of Land must walked the missleys foot food at once. He top out of Nevive had spokently.\n",
      "\n",
      "FHe people shame but no done son \n",
      "\n",
      "\"Sok, Madmily, \"Balk\n",
      "generated sample\t Harry Potter, Voldemort, and Dumbledore walk into a bar. WitYon Ronspicious possing into him.\n",
      "\n",
      "That swormter. Hine read white, lift now... Harry pointed some a whiches lit alloo, Snake when Mackard Lockon reached Ron of Hagrid, was inligree was shall for th\n"
     ]
    },
    {
     "name": "stderr",
     "output_type": "stream",
     "text": [
      "\r",
      "  0%|                                                                                                                                          | 0/196 [00:00<?, ?it/s]"
     ]
    },
    {
     "name": "stdout",
     "output_type": "stream",
     "text": [
      "generated sample\t Harry Potter, Voldemort, and Dumbledore walk into a bar. Goyle-cel't go. by twoked as of Diggnalley contain country!\" said.\n",
      "\"Some,\" said Goyldee, but cast.\n",
      "Harry hardlessed. The next more of again Cane he swimped pulled. \"Not undeed, Potter!\"\n",
      "\"As complion w\n",
      "generated sample\t Harry Potter, Voldemort, and Dumbledore walk into a bar. Antents to ket out of the colf door a'move him, and stook as she caught chat I jon think all of cours, of the wheve, O c've one like while Ron and shard Hercy, gaff to you-\n",
      "\"?ve mind where you?\"\n",
      "\"Shan\n",
      "\n"
     ]
    },
    {
     "name": "stderr",
     "output_type": "stream",
     "text": [
      "  3%|███▎                                                                                                                              | 5/196 [00:00<00:14, 13.23it/s]"
     ]
    },
    {
     "name": "stdout",
     "output_type": "stream",
     "text": [
      "Train Epoch: 10 [0/50176 (0%)]\tLoss: 1.393718\n"
     ]
    },
    {
     "name": "stderr",
     "output_type": "stream",
     "text": [
      "  9%|███████████▏                                                                                                                     | 17/196 [00:00<00:06, 27.88it/s]"
     ]
    },
    {
     "name": "stdout",
     "output_type": "stream",
     "text": [
      "Train Epoch: 10 [2560/50176 (5%)]\tLoss: 1.383142\n"
     ]
    },
    {
     "name": "stderr",
     "output_type": "stream",
     "text": [
      " 13%|████████████████▍                                                                                                                | 25/196 [00:01<00:05, 31.18it/s]"
     ]
    },
    {
     "name": "stdout",
     "output_type": "stream",
     "text": [
      "Train Epoch: 10 [5120/50176 (10%)]\tLoss: 1.420435\n"
     ]
    },
    {
     "name": "stderr",
     "output_type": "stream",
     "text": [
      " 19%|████████████████████████▎                                                                                                        | 37/196 [00:01<00:04, 33.74it/s]"
     ]
    },
    {
     "name": "stdout",
     "output_type": "stream",
     "text": [
      "Train Epoch: 10 [7680/50176 (15%)]\tLoss: 1.395949\n"
     ]
    },
    {
     "name": "stderr",
     "output_type": "stream",
     "text": [
      " 23%|█████████████████████████████▌                                                                                                   | 45/196 [00:01<00:04, 34.44it/s]"
     ]
    },
    {
     "name": "stdout",
     "output_type": "stream",
     "text": [
      "Train Epoch: 10 [10240/50176 (20%)]\tLoss: 1.385740\n"
     ]
    },
    {
     "name": "stderr",
     "output_type": "stream",
     "text": [
      " 29%|█████████████████████████████████████▌                                                                                           | 57/196 [00:01<00:04, 34.72it/s]"
     ]
    },
    {
     "name": "stdout",
     "output_type": "stream",
     "text": [
      "Train Epoch: 10 [12800/50176 (26%)]\tLoss: 1.393642\n"
     ]
    },
    {
     "name": "stderr",
     "output_type": "stream",
     "text": [
      " 33%|██████████████████████████████████████████▊                                                                                      | 65/196 [00:02<00:03, 34.27it/s]"
     ]
    },
    {
     "name": "stdout",
     "output_type": "stream",
     "text": [
      "Train Epoch: 10 [15360/50176 (31%)]\tLoss: 1.407756\n"
     ]
    },
    {
     "name": "stderr",
     "output_type": "stream",
     "text": [
      " 39%|██████████████████████████████████████████████████▋                                                                              | 77/196 [00:02<00:03, 33.91it/s]"
     ]
    },
    {
     "name": "stdout",
     "output_type": "stream",
     "text": [
      "Train Epoch: 10 [17920/50176 (36%)]\tLoss: 1.402893\n"
     ]
    },
    {
     "name": "stderr",
     "output_type": "stream",
     "text": [
      " 43%|███████████████████████████████████████████████████████▉                                                                         | 85/196 [00:02<00:03, 34.42it/s]"
     ]
    },
    {
     "name": "stdout",
     "output_type": "stream",
     "text": [
      "Train Epoch: 10 [20480/50176 (41%)]\tLoss: 1.378884\n"
     ]
    },
    {
     "name": "stderr",
     "output_type": "stream",
     "text": [
      " 49%|███████████████████████████████████████████████████████████████▊                                                                 | 97/196 [00:03<00:02, 33.77it/s]"
     ]
    },
    {
     "name": "stdout",
     "output_type": "stream",
     "text": [
      "Train Epoch: 10 [23040/50176 (46%)]\tLoss: 1.393441\n"
     ]
    },
    {
     "name": "stderr",
     "output_type": "stream",
     "text": [
      " 54%|████████████████████████████████████████████████████████████████████▌                                                           | 105/196 [00:03<00:02, 34.50it/s]"
     ]
    },
    {
     "name": "stdout",
     "output_type": "stream",
     "text": [
      "Train Epoch: 10 [25600/50176 (51%)]\tLoss: 1.403897\n"
     ]
    },
    {
     "name": "stderr",
     "output_type": "stream",
     "text": [
      " 60%|████████████████████████████████████████████████████████████████████████████▍                                                   | 117/196 [00:03<00:02, 34.96it/s]"
     ]
    },
    {
     "name": "stdout",
     "output_type": "stream",
     "text": [
      "Train Epoch: 10 [28160/50176 (56%)]\tLoss: 1.411407\n"
     ]
    },
    {
     "name": "stderr",
     "output_type": "stream",
     "text": [
      " 64%|█████████████████████████████████████████████████████████████████████████████████▋                                              | 125/196 [00:03<00:02, 34.14it/s]"
     ]
    },
    {
     "name": "stdout",
     "output_type": "stream",
     "text": [
      "Train Epoch: 10 [30720/50176 (61%)]\tLoss: 1.419691\n"
     ]
    },
    {
     "name": "stderr",
     "output_type": "stream",
     "text": [
      " 70%|█████████████████████████████████████████████████████████████████████████████████████████▍                                      | 137/196 [00:04<00:01, 33.95it/s]"
     ]
    },
    {
     "name": "stdout",
     "output_type": "stream",
     "text": [
      "Train Epoch: 10 [33280/50176 (66%)]\tLoss: 1.385865\n"
     ]
    },
    {
     "name": "stderr",
     "output_type": "stream",
     "text": [
      " 74%|██████████████████████████████████████████████████████████████████████████████████████████████▋                                 | 145/196 [00:04<00:01, 34.03it/s]"
     ]
    },
    {
     "name": "stdout",
     "output_type": "stream",
     "text": [
      "Train Epoch: 10 [35840/50176 (71%)]\tLoss: 1.396587\n"
     ]
    },
    {
     "name": "stderr",
     "output_type": "stream",
     "text": [
      " 80%|██████████████████████████████████████████████████████████████████████████████████████████████████████▌                         | 157/196 [00:04<00:01, 32.66it/s]"
     ]
    },
    {
     "name": "stdout",
     "output_type": "stream",
     "text": [
      "Train Epoch: 10 [38400/50176 (77%)]\tLoss: 1.381636\n"
     ]
    },
    {
     "name": "stderr",
     "output_type": "stream",
     "text": [
      " 84%|███████████████████████████████████████████████████████████████████████████████████████████████████████████▊                    | 165/196 [00:05<00:00, 32.21it/s]"
     ]
    },
    {
     "name": "stdout",
     "output_type": "stream",
     "text": [
      "Train Epoch: 10 [40960/50176 (82%)]\tLoss: 1.427431\n"
     ]
    },
    {
     "name": "stderr",
     "output_type": "stream",
     "text": [
      " 90%|███████████████████████████████████████████████████████████████████████████████████████████████████████████████████▌            | 177/196 [00:05<00:00, 33.93it/s]"
     ]
    },
    {
     "name": "stdout",
     "output_type": "stream",
     "text": [
      "Train Epoch: 10 [43520/50176 (87%)]\tLoss: 1.384291\n"
     ]
    },
    {
     "name": "stderr",
     "output_type": "stream",
     "text": [
      " 94%|████████████████████████████████████████████████████████████████████████████████████████████████████████████████████████▊       | 185/196 [00:05<00:00, 34.51it/s]"
     ]
    },
    {
     "name": "stdout",
     "output_type": "stream",
     "text": [
      "Train Epoch: 10 [46080/50176 (92%)]\tLoss: 1.412358\n"
     ]
    },
    {
     "name": "stderr",
     "output_type": "stream",
     "text": [
      " 98%|██████████████████████████████████████████████████████████████████████████████████████████████████████████████████████████████  | 193/196 [00:05<00:00, 34.65it/s]"
     ]
    },
    {
     "name": "stdout",
     "output_type": "stream",
     "text": [
      "Train Epoch: 10 [48640/50176 (97%)]\tLoss: 1.407919\n"
     ]
    },
    {
     "name": "stderr",
     "output_type": "stream",
     "text": [
      "100%|████████████████████████████████████████████████████████████████████████████████████████████████████████████████████████████████| 196/196 [00:06<00:00, 32.09it/s]\n"
     ]
    },
    {
     "name": "stdout",
     "output_type": "stream",
     "text": [
      "Input\tonly way left to get water, because Voldemort had planned it so ... He flung himself over to the edge\n",
      "GT\tnly way left to get water, because Voldemort had planned it so ... He flung himself over to the edge \n",
      "pred\tn y oas tott th sot thscr  aucause holdemort wad teacted on womm . ae weusg him elf ofer th hhe snge \n",
      "\n",
      "\n",
      "Input\ts that had his arm. It released him, falling backward into the water with a splash; he scrambled to h\n",
      "GT\t that had his arm. It released him, falling backward into the water with a splash; he scrambled to hi\n",
      "pred\t woat hed bam hnm  Ht wealased tim  hocleng oack ard an o the saler aath a lteath  te waoaweeed oo hi\n",
      "\n",
      "\n",
      "Input\tath, and his feet left the ground as they lifted him and began to carry him, slowly and surely, back \n",
      "GT\tth, and his feet left the ground as they lifted him and began to carry him, slowly and surely, back t\n",
      "pred\thh  and hes eaet aatt the soound an hhe  wokeed tim ond sefan to sorey aim  aoiwly atd stdp y  auck t\n",
      "\n",
      "\n",
      "Input\t . . .\n",
      "Dumbledore scooped the locket from the bottom of the stone basin and stowed it inside his robe\n",
      "GT\t. . .\n",
      "Dumbledore scooped the locket from the bottom of the stone basin and stowed it inside his robes\n",
      "pred\t\" . . \n",
      "umbledore saroled aoe saok d arom the sottlm of hhe stane sacingand staoed an wn ide him hobes\n",
      "\n",
      "\n",
      "Input\t\"sir, I forgot -- about fire -- they were coming at me and I panicked --\"\n",
      "\"Quite understandable,\" mur\n",
      "GT\tsir, I forgot -- about fire -- they were coming at me and I panicked --\"\n",
      "\"Quite understandable,\" murm\n",
      "pred\tIor, y der ottt\" tnout tone a\" the 'were soming tt te and s destne d t- \n",
      "\"Iutde snderstand yle \" sutm\n",
      "\n",
      "\n",
      "\n",
      "Test set: Average loss: 1.4181, Accuracy: 734908/1254400 (59%)\n",
      "\n",
      "Saved /home/jefftian/Documents/21au/cse490g1/hw2content/checkpoints/010.pt\n",
      "\n",
      "generated max\t\t Harry Potter, Voldemort, and Dumbledore walk into a bar. He was still standing at the stands of the stone started at the stone standing of his face was still standing at the stands of the stone started at the stone steps of the stands of the stone steps of \n",
      "generated sample\t Harry Potter, Voldemort, and Dumbledore walk into a bar. -bldn't that Snape wasn't grinned to the keeplar about spallfor. The face. \n",
      " Harry remained by the attach was\n",
      "flisus for the screamed to Ron and Georges and windowan about some callent to gets xacketu\n",
      "generated sample\t Harry Potter, Voldemort, and Dumbledore walk into a bar. Stoward hopen at the backward worroward womard, conting Hermione was ludge again abouts it's sumpirsely.\n",
      "\n",
      "\"Ith.\" said Dangedore. \"I don't got will be.\n",
      "\"Freavin! he would make about when you force it, \n",
      "generated sample\t Harry Potter, Voldemort, and Dumbledore walk into a bar. gip\n",
      "\n",
      "\"A some of the Fintor school, people left it,\" he said, who was hated again. \"Toods protects office Umpretts began werewlycubtless,\" said Profes, then inalled.\n",
      "\n",
      "\"Potter understand,\" he said longi\n",
      "generated sample\t Harry Potter, Voldemort, and Dumbledore walk into a bar. Armouth room, he letupted into his robes and wellg hand wither, and looking at Harry. The he ower had and he heard it. you been Harry of the sect of Forris and Ron Rexment? Snow a heater,\" said Wimpor\n",
      "generated sample\t Harry Potter, Voldemort, and Dumbledore walk into a bar. When Goyle's face,\n",
      "wondered each of the bash by to what looked one his own least thing and say dranger, \"you both Malfoy schook not pant to do at all.\n",
      "\"Not have took Worgart,\" said Slughort. \n",
      "\n",
      "\"on't i\n",
      "generated sample\t Harry Potter, Voldemort, and Dumbledore walk into a bar. \"Cope he's lifed to door, \"Goble,\" said Harry. Strinquid: the room\n",
      "dartment could no Yuried over the gulp\n",
      "offessor Ludge's heaking a large dooking at it harselvest down at Harry's sliker-, when they l\n",
      "generated sample\t Harry Potter, Voldemort, and Dumbledore walk into a bar. Weasley to leap to tele her for anoun'im, Ronwars and Mumpledore was now him?\"\n",
      "\"E no don't work!\" said Harry. \"I knockheS?\" binny shoop. He dshanking occhart coin more than twissly slimmys face the do\n",
      "generated sample\t Harry Potter, Voldemort, and Dumbledore walk into a bar. \n",
      "\n",
      "\"What  so hear Ron and pobus -- \"serdi page old She blook night by that Defen, But Forkar! detention watching and soutsfred feet. Shapt else me inverpered it come of day know, of Wellow!\"\n",
      "The blood \n"
     ]
    },
    {
     "name": "stderr",
     "output_type": "stream",
     "text": [
      "\r",
      "  0%|                                                                                                                                          | 0/196 [00:00<?, ?it/s]"
     ]
    },
    {
     "name": "stdout",
     "output_type": "stream",
     "text": [
      "generated sample\t Harry Potter, Voldemort, and Dumbledore walk into a bar. Well. \n",
      "\n",
      "Ro one she said wonden and his sent in light in aller along shizing, been Friend. \"I dungeon!\" he looked disarces. \"Hechool noice was relieved awaym any.\n",
      "\"Hom markled, you until me wors, door?\n",
      "generated sample\t Harry Potter, Voldemort, and Dumbledore walk into a bar. \n",
      "\n",
      "Mumbledore smilers, no looked undersapation, and of In told Dumberous. APcleAt. And began to turn to a felt he did; before\n",
      "scarmed.\n",
      "\n",
      "\"Th, yeah,\" agreed, so muych, as though he coulder stood aftermin\n",
      "\n"
     ]
    },
    {
     "name": "stderr",
     "output_type": "stream",
     "text": [
      "  3%|███▎                                                                                                                              | 5/196 [00:00<00:14, 13.11it/s]"
     ]
    },
    {
     "name": "stdout",
     "output_type": "stream",
     "text": [
      "Train Epoch: 11 [0/50176 (0%)]\tLoss: 1.386861\n"
     ]
    },
    {
     "name": "stderr",
     "output_type": "stream",
     "text": [
      "  9%|███████████▏                                                                                                                     | 17/196 [00:00<00:06, 27.65it/s]"
     ]
    },
    {
     "name": "stdout",
     "output_type": "stream",
     "text": [
      "Train Epoch: 11 [2560/50176 (5%)]\tLoss: 1.375999\n"
     ]
    },
    {
     "name": "stderr",
     "output_type": "stream",
     "text": [
      " 13%|████████████████▍                                                                                                                | 25/196 [00:01<00:05, 31.43it/s]"
     ]
    },
    {
     "name": "stdout",
     "output_type": "stream",
     "text": [
      "Train Epoch: 11 [5120/50176 (10%)]\tLoss: 1.413840\n"
     ]
    },
    {
     "name": "stderr",
     "output_type": "stream",
     "text": [
      " 19%|████████████████████████▎                                                                                                        | 37/196 [00:01<00:04, 33.99it/s]"
     ]
    },
    {
     "name": "stdout",
     "output_type": "stream",
     "text": [
      "Train Epoch: 11 [7680/50176 (15%)]\tLoss: 1.388467\n"
     ]
    },
    {
     "name": "stderr",
     "output_type": "stream",
     "text": [
      " 23%|█████████████████████████████▌                                                                                                   | 45/196 [00:01<00:04, 34.34it/s]"
     ]
    },
    {
     "name": "stdout",
     "output_type": "stream",
     "text": [
      "Train Epoch: 11 [10240/50176 (20%)]\tLoss: 1.380663\n"
     ]
    },
    {
     "name": "stderr",
     "output_type": "stream",
     "text": [
      " 29%|█████████████████████████████████████▌                                                                                           | 57/196 [00:01<00:04, 34.59it/s]"
     ]
    },
    {
     "name": "stdout",
     "output_type": "stream",
     "text": [
      "Train Epoch: 11 [12800/50176 (26%)]\tLoss: 1.388591\n"
     ]
    },
    {
     "name": "stderr",
     "output_type": "stream",
     "text": [
      " 33%|██████████████████████████████████████████▊                                                                                      | 65/196 [00:02<00:03, 34.55it/s]"
     ]
    },
    {
     "name": "stdout",
     "output_type": "stream",
     "text": [
      "Train Epoch: 11 [15360/50176 (31%)]\tLoss: 1.401474\n"
     ]
    },
    {
     "name": "stderr",
     "output_type": "stream",
     "text": [
      " 39%|██████████████████████████████████████████████████▋                                                                              | 77/196 [00:02<00:03, 34.94it/s]"
     ]
    },
    {
     "name": "stdout",
     "output_type": "stream",
     "text": [
      "Train Epoch: 11 [17920/50176 (36%)]\tLoss: 1.398329\n"
     ]
    },
    {
     "name": "stderr",
     "output_type": "stream",
     "text": [
      " 43%|███████████████████████████████████████████████████████▉                                                                         | 85/196 [00:02<00:03, 34.64it/s]"
     ]
    },
    {
     "name": "stdout",
     "output_type": "stream",
     "text": [
      "Train Epoch: 11 [20480/50176 (41%)]\tLoss: 1.383523\n"
     ]
    },
    {
     "name": "stderr",
     "output_type": "stream",
     "text": [
      " 49%|███████████████████████████████████████████████████████████████▊                                                                 | 97/196 [00:03<00:02, 34.83it/s]"
     ]
    },
    {
     "name": "stdout",
     "output_type": "stream",
     "text": [
      "Train Epoch: 11 [23040/50176 (46%)]\tLoss: 1.396533\n"
     ]
    },
    {
     "name": "stderr",
     "output_type": "stream",
     "text": [
      " 54%|████████████████████████████████████████████████████████████████████▌                                                           | 105/196 [00:03<00:02, 34.52it/s]"
     ]
    },
    {
     "name": "stdout",
     "output_type": "stream",
     "text": [
      "Train Epoch: 11 [25600/50176 (51%)]\tLoss: 1.394352\n"
     ]
    },
    {
     "name": "stderr",
     "output_type": "stream",
     "text": [
      " 60%|████████████████████████████████████████████████████████████████████████████▍                                                   | 117/196 [00:03<00:02, 34.63it/s]"
     ]
    },
    {
     "name": "stdout",
     "output_type": "stream",
     "text": [
      "Train Epoch: 11 [28160/50176 (56%)]\tLoss: 1.398211\n"
     ]
    },
    {
     "name": "stderr",
     "output_type": "stream",
     "text": [
      " 64%|█████████████████████████████████████████████████████████████████████████████████▋                                              | 125/196 [00:03<00:02, 34.72it/s]"
     ]
    },
    {
     "name": "stdout",
     "output_type": "stream",
     "text": [
      "Train Epoch: 11 [30720/50176 (61%)]\tLoss: 1.385194\n"
     ]
    },
    {
     "name": "stderr",
     "output_type": "stream",
     "text": [
      " 70%|█████████████████████████████████████████████████████████████████████████████████████████▍                                      | 137/196 [00:04<00:01, 34.89it/s]"
     ]
    },
    {
     "name": "stdout",
     "output_type": "stream",
     "text": [
      "Train Epoch: 11 [33280/50176 (66%)]\tLoss: 1.379051\n"
     ]
    },
    {
     "name": "stderr",
     "output_type": "stream",
     "text": [
      " 74%|██████████████████████████████████████████████████████████████████████████████████████████████▋                                 | 145/196 [00:04<00:01, 35.89it/s]"
     ]
    },
    {
     "name": "stdout",
     "output_type": "stream",
     "text": [
      "Train Epoch: 11 [35840/50176 (71%)]\tLoss: 1.393478\n"
     ]
    },
    {
     "name": "stderr",
     "output_type": "stream",
     "text": [
      " 80%|██████████████████████████████████████████████████████████████████████████████████████████████████████▌                         | 157/196 [00:04<00:01, 34.69it/s]"
     ]
    },
    {
     "name": "stdout",
     "output_type": "stream",
     "text": [
      "Train Epoch: 11 [38400/50176 (77%)]\tLoss: 1.376078\n"
     ]
    },
    {
     "name": "stderr",
     "output_type": "stream",
     "text": [
      " 84%|███████████████████████████████████████████████████████████████████████████████████████████████████████████▊                    | 165/196 [00:05<00:00, 34.40it/s]"
     ]
    },
    {
     "name": "stdout",
     "output_type": "stream",
     "text": [
      "Train Epoch: 11 [40960/50176 (82%)]\tLoss: 1.419305\n"
     ]
    },
    {
     "name": "stderr",
     "output_type": "stream",
     "text": [
      " 90%|███████████████████████████████████████████████████████████████████████████████████████████████████████████████████▌            | 177/196 [00:05<00:00, 33.72it/s]"
     ]
    },
    {
     "name": "stdout",
     "output_type": "stream",
     "text": [
      "Train Epoch: 11 [43520/50176 (87%)]\tLoss: 1.378207\n"
     ]
    },
    {
     "name": "stderr",
     "output_type": "stream",
     "text": [
      " 94%|████████████████████████████████████████████████████████████████████████████████████████████████████████████████████████▊       | 185/196 [00:05<00:00, 34.20it/s]"
     ]
    },
    {
     "name": "stdout",
     "output_type": "stream",
     "text": [
      "Train Epoch: 11 [46080/50176 (92%)]\tLoss: 1.405890\n"
     ]
    },
    {
     "name": "stderr",
     "output_type": "stream",
     "text": [
      " 98%|██████████████████████████████████████████████████████████████████████████████████████████████████████████████████████████████  | 193/196 [00:05<00:00, 34.52it/s]"
     ]
    },
    {
     "name": "stdout",
     "output_type": "stream",
     "text": [
      "Train Epoch: 11 [48640/50176 (97%)]\tLoss: 1.401819\n"
     ]
    },
    {
     "name": "stderr",
     "output_type": "stream",
     "text": [
      "100%|████████████████████████████████████████████████████████████████████████████████████████████████████████████████████████████████| 196/196 [00:06<00:00, 32.46it/s]\n"
     ]
    },
    {
     "name": "stdout",
     "output_type": "stream",
     "text": [
      "Input\tonly way left to get water, because Voldemort had planned it so ... He flung himself over to the edge\n",
      "GT\tnly way left to get water, because Voldemort had planned it so ... He flung himself over to the edge \n",
      "pred\tn y tas tott th hot thscr  aucause holdemort wad tracted an womm . ae weusg him elf afer th hhe snge \n",
      "\n",
      "\n",
      "Input\ts that had his arm. It released him, falling backward into the water with a splash; he scrambled to h\n",
      "GT\t that had his arm. It released him, falling backward into the water with a splash; he scrambled to hi\n",
      "pred\t woat hed bas hrm  Ht wealased tim  aocling aack ard anto the saler aath a ltiath  te wtoembeed oo hi\n",
      "\n",
      "\n",
      "Input\tath, and his feet left the ground as they lifted him and began to carry him, slowly and surely, back \n",
      "GT\tth, and his feet left the ground as they lifted him and began to carry him, slowly and surely, back t\n",
      "pred\thh  and tes eaet aatt the sround an hhe  wokeed tim and sefan to sorey aim  aoiwly atd stdp y  auck t\n",
      "\n",
      "\n",
      "Input\t . . .\n",
      "Dumbledore scooped the locket from the bottom of the stone basin and stowed it inside his robe\n",
      "GT\t. . .\n",
      "Dumbledore scooped the locket from the bottom of the stone basin and stowed it inside his robes\n",
      "pred\t\" . . \n",
      "umbledore waroped aoe saok t arom the sottlm of the stane sacingand staoed an wn ide him hobes\n",
      "\n",
      "\n",
      "Input\t\"sir, I forgot -- about fire -- they were coming at me and I panicked --\"\n",
      "\"Quite understandable,\" mur\n",
      "GT\tsir, I forgot -- about fire -- they were coming at me and I panicked --\"\n",
      "\"Quite understandable,\" murm\n",
      "pred\tIor, y der ottt\" tnout tone a\" the 'were soming tt to and s dentneed a- \n",
      "\"Iutde snderstand rle \" satm\n",
      "\n",
      "\n",
      "\n",
      "Test set: Average loss: 1.4130, Accuracy: 736719/1254400 (59%)\n",
      "\n",
      "Saved /home/jefftian/Documents/21au/cse490g1/hw2content/checkpoints/011.pt\n",
      "\n",
      "generated max\t\t Harry Potter, Voldemort, and Dumbledore walk into a bar. \"What was still be all the stay of the stands of the stands of the stands of the stands of the stands of the stands of the stands of the stands of the stands of the stands of the stands of the stands \n",
      "generated sample\t Harry Potter, Voldemort, and Dumbledore walk into a bar. It was alone in the cory,\n",
      "of happening to great and followned Minzary hambered, \"Gogalls offense contryone Prowect Loom think he can't come at the first to dis, it?\"\n",
      "\n",
      "\"Yeah until what Harry this left \n",
      "generated sample\t Harry Potter, Voldemort, and Dumbledore walk into a bar. Eldoger and she had none let of the Question Snape's in the 4nitch of were.\n",
      "Harry was offeered enexcalled a seat from still back wats that she kent one of the Ron:RNFTET LUGTASERJ99 MIEf NO TOTOT SrRH\n",
      "generated sample\t Harry Potter, Voldemort, and Dumbledore walk into a bar. \n",
      "\n",
      "\"It're comebatelupt. Pome of Bualf-Jreaphere'Speed?\" said Ron jearing aware him curiously agreement pointingulast been ababue.\n",
      "He was\n",
      "and bood-is had doorp\n",
      "the\n",
      "walgo\n",
      "in Tormtace,\n",
      "rached Cred the sto\n",
      "generated sample\t Harry Potter, Voldemort, and Dumbledore walk into a bar. Harry rescuetting him for frienged.\"\n",
      "\"This reasty - crowd Aabout -\"\n",
      "\n",
      "Hell, they went formed up the schook stand,\" he looked servely bottled.\n",
      "\n",
      "\"ShE's many of by the syears. They knowned his bad, his wa\n",
      "generated sample\t Harry Potter, Voldemort, and Dumbledore walk into a bar. What are always formitor stophed Malfoy MoRfays. What are goinging to get some introdual pressed: laughter dressed, the neastrunkfapt, who heard Dumbledore cross of Surously dag, soce.\n",
      "\n",
      "\"Ron but he mo\n",
      "generated sample\t Harry Potter, Voldemort, and Dumbledore walk into a bar. Bomberoomit moselless and was spinning last\n",
      "\n",
      "mean as he finished he looked looking bitelly. \"I don't a mouth -- rellatrive isn't you duelly.\"\n",
      "\n",
      "Hear Younce Professor McGonagall's face weeky to does...\n",
      "\n",
      "generated sample\t Harry Potter, Voldemort, and Dumbledore walk into a bar. Hermione gaze.\n",
      "\"He sportered. . . . . oh, don't you wait murble, attawn on the Crouch wizard impressers. you got on undernos here.\n",
      "\"E what conting was or nothing, at the proddicent door, howe's true.\"\n",
      "generated sample\t Harry Potter, Voldemort, and Dumbledore walk into a bar. Professor Mcontagain larged and even at once he was the students mould have been hat? \"You'll read his potion. Who has doesnace, howell, O sppportest. SI like guarders!\" Harry motioned from at Malfoy,\n"
     ]
    },
    {
     "name": "stderr",
     "output_type": "stream",
     "text": [
      "\r",
      "  0%|                                                                                                                                          | 0/196 [00:00<?, ?it/s]"
     ]
    },
    {
     "name": "stdout",
     "output_type": "stream",
     "text": [
      "generated sample\t Harry Potter, Voldemort, and Dumbledore walk into a bar. \"I dok wit's way of are!\"\n",
      "\"Ron?\"Ceant down Fred, then to in eitherin a couple of from the crossmort Kudgess them, who was still on Cefend\n",
      "the gaspectedly.\n",
      "\"You didn't I\"I snage looked at once more',\"\n",
      "\n",
      "generated sample\t Harry Potter, Voldemort, and Dumbledore walk into a bar. \n",
      "\n",
      "Hayge confindorGown at Hermione made awaits of her. Ron down, for azs.\n",
      "\n",
      "\"girledily as letter. Lo, - conon reach.\"\n",
      "\n",
      "\"Fell, the saybe at Voll*or\" Moboy, I then Fouble mind Harry had jostep encept of h\n",
      "\n"
     ]
    },
    {
     "name": "stderr",
     "output_type": "stream",
     "text": [
      "  3%|███▎                                                                                                                              | 5/196 [00:00<00:14, 12.84it/s]"
     ]
    },
    {
     "name": "stdout",
     "output_type": "stream",
     "text": [
      "Train Epoch: 12 [0/50176 (0%)]\tLoss: 1.381927\n"
     ]
    },
    {
     "name": "stderr",
     "output_type": "stream",
     "text": [
      "  9%|███████████▏                                                                                                                     | 17/196 [00:00<00:06, 26.66it/s]"
     ]
    },
    {
     "name": "stdout",
     "output_type": "stream",
     "text": [
      "Train Epoch: 12 [2560/50176 (5%)]\tLoss: 1.368222\n"
     ]
    },
    {
     "name": "stderr",
     "output_type": "stream",
     "text": [
      " 13%|████████████████▍                                                                                                                | 25/196 [00:01<00:05, 30.23it/s]"
     ]
    },
    {
     "name": "stdout",
     "output_type": "stream",
     "text": [
      "Train Epoch: 12 [5120/50176 (10%)]\tLoss: 1.408785\n"
     ]
    },
    {
     "name": "stderr",
     "output_type": "stream",
     "text": [
      " 19%|████████████████████████▎                                                                                                        | 37/196 [00:01<00:04, 32.29it/s]"
     ]
    },
    {
     "name": "stdout",
     "output_type": "stream",
     "text": [
      "Train Epoch: 12 [7680/50176 (15%)]\tLoss: 1.384043\n"
     ]
    },
    {
     "name": "stderr",
     "output_type": "stream",
     "text": [
      " 23%|█████████████████████████████▌                                                                                                   | 45/196 [00:01<00:04, 33.05it/s]"
     ]
    },
    {
     "name": "stdout",
     "output_type": "stream",
     "text": [
      "Train Epoch: 12 [10240/50176 (20%)]\tLoss: 1.374355\n"
     ]
    },
    {
     "name": "stderr",
     "output_type": "stream",
     "text": [
      " 29%|█████████████████████████████████████▌                                                                                           | 57/196 [00:02<00:04, 33.70it/s]"
     ]
    },
    {
     "name": "stdout",
     "output_type": "stream",
     "text": [
      "Train Epoch: 12 [12800/50176 (26%)]\tLoss: 1.378702\n"
     ]
    },
    {
     "name": "stderr",
     "output_type": "stream",
     "text": [
      " 33%|██████████████████████████████████████████▊                                                                                      | 65/196 [00:02<00:03, 33.78it/s]"
     ]
    },
    {
     "name": "stdout",
     "output_type": "stream",
     "text": [
      "Train Epoch: 12 [15360/50176 (31%)]\tLoss: 1.396535\n"
     ]
    },
    {
     "name": "stderr",
     "output_type": "stream",
     "text": [
      " 39%|██████████████████████████████████████████████████▋                                                                              | 77/196 [00:02<00:03, 34.14it/s]"
     ]
    },
    {
     "name": "stdout",
     "output_type": "stream",
     "text": [
      "Train Epoch: 12 [17920/50176 (36%)]\tLoss: 1.413450\n"
     ]
    },
    {
     "name": "stderr",
     "output_type": "stream",
     "text": [
      " 43%|███████████████████████████████████████████████████████▉                                                                         | 85/196 [00:02<00:03, 34.29it/s]"
     ]
    },
    {
     "name": "stdout",
     "output_type": "stream",
     "text": [
      "Train Epoch: 12 [20480/50176 (41%)]\tLoss: 1.378672\n"
     ]
    },
    {
     "name": "stderr",
     "output_type": "stream",
     "text": [
      " 49%|███████████████████████████████████████████████████████████████▊                                                                 | 97/196 [00:03<00:02, 34.49it/s]"
     ]
    },
    {
     "name": "stdout",
     "output_type": "stream",
     "text": [
      "Train Epoch: 12 [23040/50176 (46%)]\tLoss: 1.382057\n"
     ]
    },
    {
     "name": "stderr",
     "output_type": "stream",
     "text": [
      " 54%|████████████████████████████████████████████████████████████████████▌                                                           | 105/196 [00:03<00:02, 34.26it/s]"
     ]
    },
    {
     "name": "stdout",
     "output_type": "stream",
     "text": [
      "Train Epoch: 12 [25600/50176 (51%)]\tLoss: 1.383899\n"
     ]
    },
    {
     "name": "stderr",
     "output_type": "stream",
     "text": [
      " 60%|████████████████████████████████████████████████████████████████████████████▍                                                   | 117/196 [00:03<00:02, 33.69it/s]"
     ]
    },
    {
     "name": "stdout",
     "output_type": "stream",
     "text": [
      "Train Epoch: 12 [28160/50176 (56%)]\tLoss: 1.390610\n"
     ]
    },
    {
     "name": "stderr",
     "output_type": "stream",
     "text": [
      " 64%|█████████████████████████████████████████████████████████████████████████████████▋                                              | 125/196 [00:04<00:02, 32.60it/s]"
     ]
    },
    {
     "name": "stdout",
     "output_type": "stream",
     "text": [
      "Train Epoch: 12 [30720/50176 (61%)]\tLoss: 1.383296\n"
     ]
    },
    {
     "name": "stderr",
     "output_type": "stream",
     "text": [
      " 70%|█████████████████████████████████████████████████████████████████████████████████████████▍                                      | 137/196 [00:04<00:01, 33.50it/s]"
     ]
    },
    {
     "name": "stdout",
     "output_type": "stream",
     "text": [
      "Train Epoch: 12 [33280/50176 (66%)]\tLoss: 1.372010\n"
     ]
    },
    {
     "name": "stderr",
     "output_type": "stream",
     "text": [
      " 74%|██████████████████████████████████████████████████████████████████████████████████████████████▋                                 | 145/196 [00:04<00:01, 34.06it/s]"
     ]
    },
    {
     "name": "stdout",
     "output_type": "stream",
     "text": [
      "Train Epoch: 12 [35840/50176 (71%)]\tLoss: 1.386470\n"
     ]
    },
    {
     "name": "stderr",
     "output_type": "stream",
     "text": [
      " 80%|██████████████████████████████████████████████████████████████████████████████████████████████████████▌                         | 157/196 [00:04<00:01, 34.43it/s]"
     ]
    },
    {
     "name": "stdout",
     "output_type": "stream",
     "text": [
      "Train Epoch: 12 [38400/50176 (77%)]\tLoss: 1.371614\n"
     ]
    },
    {
     "name": "stderr",
     "output_type": "stream",
     "text": [
      " 84%|███████████████████████████████████████████████████████████████████████████████████████████████████████████▊                    | 165/196 [00:05<00:00, 34.71it/s]"
     ]
    },
    {
     "name": "stdout",
     "output_type": "stream",
     "text": [
      "Train Epoch: 12 [40960/50176 (82%)]\tLoss: 1.416451\n"
     ]
    },
    {
     "name": "stderr",
     "output_type": "stream",
     "text": [
      " 90%|███████████████████████████████████████████████████████████████████████████████████████████████████████████████████▌            | 177/196 [00:05<00:00, 34.14it/s]"
     ]
    },
    {
     "name": "stdout",
     "output_type": "stream",
     "text": [
      "Train Epoch: 12 [43520/50176 (87%)]\tLoss: 1.374261\n"
     ]
    },
    {
     "name": "stderr",
     "output_type": "stream",
     "text": [
      " 94%|████████████████████████████████████████████████████████████████████████████████████████████████████████████████████████▊       | 185/196 [00:05<00:00, 34.15it/s]"
     ]
    },
    {
     "name": "stdout",
     "output_type": "stream",
     "text": [
      "Train Epoch: 12 [46080/50176 (92%)]\tLoss: 1.401725\n"
     ]
    },
    {
     "name": "stderr",
     "output_type": "stream",
     "text": [
      "100%|████████████████████████████████████████████████████████████████████████████████████████████████████████████████████████████████| 196/196 [00:06<00:00, 31.84it/s]"
     ]
    },
    {
     "name": "stdout",
     "output_type": "stream",
     "text": [
      "Train Epoch: 12 [48640/50176 (97%)]\tLoss: 1.395458\n"
     ]
    },
    {
     "name": "stderr",
     "output_type": "stream",
     "text": [
      "\n"
     ]
    },
    {
     "name": "stdout",
     "output_type": "stream",
     "text": [
      "Input\tonly way left to get water, because Voldemort had planned it so ... He flung himself over to the edge\n",
      "GT\tnly way left to get water, because Voldemort had planned it so ... He flung himself over to the edge \n",
      "pred\tn y tas tott th hot thscr  aucause holdemort wad bracted on womm . ae seusg him elf ofer th the snge \n",
      "\n",
      "\n",
      "Input\ts that had his arm. It released him, falling backward into the water with a splash; he scrambled to h\n",
      "GT\t that had his arm. It released him, falling backward into the water with a splash; he scrambled to hi\n",
      "pred\t ahat hed bas frm  Ht wealased tim  aocling oack ard anto the saler aath a lteathe te wtoembeed oo hi\n",
      "\n",
      "\n",
      "Input\tath, and his feet left the ground as they lifted him and began to carry him, slowly and surely, back \n",
      "GT\tth, and his feet left the ground as they lifted him and began to carry him, slowly and surely, back t\n",
      "pred\thh  and tes eaet aatt the sround an hhe  wokeed tim and sefan to sorey ais  aoiwly atd stdp y  auck t\n",
      "\n",
      "\n",
      "Input\t . . .\n",
      "Dumbledore scooped the locket from the bottom of the stone basin and stowed it inside his robe\n",
      "GT\t. . .\n",
      "Dumbledore scooped the locket from the bottom of the stone basin and stowed it inside his robes\n",
      "pred\t\" . . \n",
      "umbledore wtroped aoe saok t arom the cottlm of the stane sacingand staoed an wn ide tis hobes\n",
      "\n",
      "\n",
      "Input\t\"sir, I forgot -- about fire -- they were coming at me and I panicked --\"\n",
      "\"Quite understandable,\" mur\n",
      "GT\tsir, I forgot -- about fire -- they were coming at me and I panicked --\"\n",
      "\"Quite understandable,\" murm\n",
      "pred\tIor, y deu ottt\" tnout tone a  the 'were soming tt to and s destneed t- \n",
      "\"Iutde ssderstand rle \" satm\n",
      "\n",
      "\n",
      "\n",
      "Test set: Average loss: 1.4090, Accuracy: 738814/1254400 (59%)\n",
      "\n",
      "Saved /home/jefftian/Documents/21au/cse490g1/hw2content/checkpoints/012.pt\n",
      "\n",
      "generated max\t\t Harry Potter, Voldemort, and Dumbledore walk into a bar. \"What was a lot of the stands of the corridor of the corridor of the corridor of the corridor of the corridor of the corridor worked and started to start at the stands of the corridor and started to s\n",
      "generated sample\t Harry Potter, Voldemort, and Dumbledore walk into a bar. Peting Harry theye, it was boing Slut from across and green as sucasping the bolt for of contacts with run\n",
      "on the Fredar Sirius.\n",
      "\n",
      "He revented to fled off at his door..\n",
      "\n",
      "\"Anjy of nothing to Core they'r\n",
      "generated sample\t Harry Potter, Voldemort, and Dumbledore walk into a bar. Heach was robed Uncle was teurning his sister, down torathes. As the stand\n",
      "tirels of the rest of the ging of people possesseds in portable... whispitat! Creadors would like a few pings\n",
      "Harry's only re\n",
      "generated sample\t Harry Potter, Voldemort, and Dumbledore walk into a bar. -Rso far always fagen continul make it away with a many colorer of the wall. The come distracted the sure of it, seemed to skw~ something onto the sumke off lettiver ai their feather. \"A cool that sho\n",
      "generated sample\t Harry Potter, Voldemort, and Dumbledore walk into a bar. \n",
      "\n",
      "\"What he said Eudge,\" he shoughed, down to word and to cove unce the owlls wheeled it. The heave-5olderope had to believe by tages off unly the cunt with his echone, and Chiley\n",
      "face, but cheen he co\n",
      "generated sample\t Harry Potter, Voldemort, and Dumbledore walk into a bar. \"He set want of nowh, of the\n",
      "wouldn't toUked Ron,\" Frofets offered Srudding, his way, I awpide of Quietband, \"Opingle but nothing that - they jode of the reast, Araco Walfoy when there, I mychat the l\n",
      "generated sample\t Harry Potter, Voldemort, and Dumbledore walk into a bar. Severual like wheever\n",
      "\n",
      "The ever would be on this,\" Harry found his own way of his alone..\n",
      "\"Mad, Howlevo,\" said Professor Slugker.\n",
      "\"Non somejout Griverol!\"\n",
      "\n",
      "\"Don't seen which see co8jMogrity?\" said Pry\n",
      "generated sample\t Harry Potter, Voldemort, and Dumbledore walk into a bar. Heasley, his schooly, looking down at my standing moment of now turn second. \"There's doesday in that porrtime Slbut. \"\n",
      "Dum4ledore subged alarm, awazes, would betterl, looking into the \"bone on, Harry\n",
      "generated sample\t Harry Potter, Voldemort, and Dumbledore walk into a bar. He stared, fast the end of his rose woden in an air.\n",
      "\"Gomble hoging to Right, but well. You could this teatword feelach, I have been cramplial, and Dormtake was a moc-mat come of the cotta word stop W\n"
     ]
    },
    {
     "name": "stderr",
     "output_type": "stream",
     "text": [
      "\r",
      "  0%|                                                                                                                                          | 0/196 [00:00<?, ?it/s]"
     ]
    },
    {
     "name": "stdout",
     "output_type": "stream",
     "text": [
      "generated sample\t Harry Potter, Voldemort, and Dumbledore walk into a bar. Stunce,unit. He looked up snaller own one and when the door has shouted to hear the grass glass to funny flowed platetering around at the mornt of his.\n",
      "The hoppeseding; Harry's vicioul Kice himself, b\n",
      "generated sample\t Harry Potter, Voldemort, and Dumbledore walk into a bar. \"Looms in these patch as he would really he had been't munister looking Pottable flash.\n",
      "\n",
      "Munable on the ceil of the cualtly. \"7anythin, Cours; well,\" you at the leads of class that one of them. IEve m\n",
      "\n"
     ]
    },
    {
     "name": "stderr",
     "output_type": "stream",
     "text": [
      "  3%|███▎                                                                                                                              | 5/196 [00:00<00:14, 13.04it/s]"
     ]
    },
    {
     "name": "stdout",
     "output_type": "stream",
     "text": [
      "Train Epoch: 13 [0/50176 (0%)]\tLoss: 1.377644\n"
     ]
    },
    {
     "name": "stderr",
     "output_type": "stream",
     "text": [
      "  9%|███████████▏                                                                                                                     | 17/196 [00:00<00:06, 26.80it/s]"
     ]
    },
    {
     "name": "stdout",
     "output_type": "stream",
     "text": [
      "Train Epoch: 13 [2560/50176 (5%)]\tLoss: 1.362380\n"
     ]
    },
    {
     "name": "stderr",
     "output_type": "stream",
     "text": [
      " 13%|████████████████▍                                                                                                                | 25/196 [00:01<00:05, 29.96it/s]"
     ]
    },
    {
     "name": "stdout",
     "output_type": "stream",
     "text": [
      "Train Epoch: 13 [5120/50176 (10%)]\tLoss: 1.403734\n"
     ]
    },
    {
     "name": "stderr",
     "output_type": "stream",
     "text": [
      " 19%|████████████████████████▎                                                                                                        | 37/196 [00:01<00:04, 32.50it/s]"
     ]
    },
    {
     "name": "stdout",
     "output_type": "stream",
     "text": [
      "Train Epoch: 13 [7680/50176 (15%)]\tLoss: 1.379568\n"
     ]
    },
    {
     "name": "stderr",
     "output_type": "stream",
     "text": [
      " 23%|█████████████████████████████▌                                                                                                   | 45/196 [00:01<00:04, 33.89it/s]"
     ]
    },
    {
     "name": "stdout",
     "output_type": "stream",
     "text": [
      "Train Epoch: 13 [10240/50176 (20%)]\tLoss: 1.368696\n"
     ]
    },
    {
     "name": "stderr",
     "output_type": "stream",
     "text": [
      " 29%|█████████████████████████████████████▌                                                                                           | 57/196 [00:02<00:04, 33.82it/s]"
     ]
    },
    {
     "name": "stdout",
     "output_type": "stream",
     "text": [
      "Train Epoch: 13 [12800/50176 (26%)]\tLoss: 1.373025\n"
     ]
    },
    {
     "name": "stderr",
     "output_type": "stream",
     "text": [
      " 33%|██████████████████████████████████████████▊                                                                                      | 65/196 [00:02<00:03, 34.33it/s]"
     ]
    },
    {
     "name": "stdout",
     "output_type": "stream",
     "text": [
      "Train Epoch: 13 [15360/50176 (31%)]\tLoss: 1.394958\n"
     ]
    },
    {
     "name": "stderr",
     "output_type": "stream",
     "text": [
      " 39%|██████████████████████████████████████████████████▋                                                                              | 77/196 [00:02<00:03, 34.67it/s]"
     ]
    },
    {
     "name": "stdout",
     "output_type": "stream",
     "text": [
      "Train Epoch: 13 [17920/50176 (36%)]\tLoss: 1.397295\n"
     ]
    },
    {
     "name": "stderr",
     "output_type": "stream",
     "text": [
      " 43%|███████████████████████████████████████████████████████▉                                                                         | 85/196 [00:02<00:03, 33.99it/s]"
     ]
    },
    {
     "name": "stdout",
     "output_type": "stream",
     "text": [
      "Train Epoch: 13 [20480/50176 (41%)]\tLoss: 1.368976\n"
     ]
    },
    {
     "name": "stderr",
     "output_type": "stream",
     "text": [
      " 49%|███████████████████████████████████████████████████████████████▊                                                                 | 97/196 [00:03<00:02, 33.08it/s]"
     ]
    },
    {
     "name": "stdout",
     "output_type": "stream",
     "text": [
      "Train Epoch: 13 [23040/50176 (46%)]\tLoss: 1.375068\n"
     ]
    },
    {
     "name": "stderr",
     "output_type": "stream",
     "text": [
      " 54%|████████████████████████████████████████████████████████████████████▌                                                           | 105/196 [00:03<00:02, 33.64it/s]"
     ]
    },
    {
     "name": "stdout",
     "output_type": "stream",
     "text": [
      "Train Epoch: 13 [25600/50176 (51%)]\tLoss: 1.379812\n"
     ]
    },
    {
     "name": "stderr",
     "output_type": "stream",
     "text": [
      " 60%|████████████████████████████████████████████████████████████████████████████▍                                                   | 117/196 [00:03<00:02, 34.56it/s]"
     ]
    },
    {
     "name": "stdout",
     "output_type": "stream",
     "text": [
      "Train Epoch: 13 [28160/50176 (56%)]\tLoss: 1.386533\n"
     ]
    },
    {
     "name": "stderr",
     "output_type": "stream",
     "text": [
      " 64%|█████████████████████████████████████████████████████████████████████████████████▋                                              | 125/196 [00:03<00:02, 34.67it/s]"
     ]
    },
    {
     "name": "stdout",
     "output_type": "stream",
     "text": [
      "Train Epoch: 13 [30720/50176 (61%)]\tLoss: 1.381245\n"
     ]
    },
    {
     "name": "stderr",
     "output_type": "stream",
     "text": [
      " 70%|█████████████████████████████████████████████████████████████████████████████████████████▍                                      | 137/196 [00:04<00:01, 34.87it/s]"
     ]
    },
    {
     "name": "stdout",
     "output_type": "stream",
     "text": [
      "Train Epoch: 13 [33280/50176 (66%)]\tLoss: 1.368060\n"
     ]
    },
    {
     "name": "stderr",
     "output_type": "stream",
     "text": [
      " 74%|██████████████████████████████████████████████████████████████████████████████████████████████▋                                 | 145/196 [00:04<00:01, 34.96it/s]"
     ]
    },
    {
     "name": "stdout",
     "output_type": "stream",
     "text": [
      "Train Epoch: 13 [35840/50176 (71%)]\tLoss: 1.383201\n"
     ]
    },
    {
     "name": "stderr",
     "output_type": "stream",
     "text": [
      " 80%|██████████████████████████████████████████████████████████████████████████████████████████████████████▌                         | 157/196 [00:04<00:01, 35.00it/s]"
     ]
    },
    {
     "name": "stdout",
     "output_type": "stream",
     "text": [
      "Train Epoch: 13 [38400/50176 (77%)]\tLoss: 1.370236\n"
     ]
    },
    {
     "name": "stderr",
     "output_type": "stream",
     "text": [
      " 84%|███████████████████████████████████████████████████████████████████████████████████████████████████████████▊                    | 165/196 [00:05<00:00, 35.29it/s]"
     ]
    },
    {
     "name": "stdout",
     "output_type": "stream",
     "text": [
      "Train Epoch: 13 [40960/50176 (82%)]\tLoss: 1.407060\n"
     ]
    },
    {
     "name": "stderr",
     "output_type": "stream",
     "text": [
      " 90%|███████████████████████████████████████████████████████████████████████████████████████████████████████████████████▌            | 177/196 [00:05<00:00, 35.05it/s]"
     ]
    },
    {
     "name": "stdout",
     "output_type": "stream",
     "text": [
      "Train Epoch: 13 [43520/50176 (87%)]\tLoss: 1.367546\n"
     ]
    },
    {
     "name": "stderr",
     "output_type": "stream",
     "text": [
      " 94%|████████████████████████████████████████████████████████████████████████████████████████████████████████████████████████▊       | 185/196 [00:05<00:00, 35.08it/s]"
     ]
    },
    {
     "name": "stdout",
     "output_type": "stream",
     "text": [
      "Train Epoch: 13 [46080/50176 (92%)]\tLoss: 1.394651\n"
     ]
    },
    {
     "name": "stderr",
     "output_type": "stream",
     "text": [
      " 98%|██████████████████████████████████████████████████████████████████████████████████████████████████████████████████████████████  | 193/196 [00:05<00:00, 35.13it/s]"
     ]
    },
    {
     "name": "stdout",
     "output_type": "stream",
     "text": [
      "Train Epoch: 13 [48640/50176 (97%)]\tLoss: 1.389683\n"
     ]
    },
    {
     "name": "stderr",
     "output_type": "stream",
     "text": [
      "100%|████████████████████████████████████████████████████████████████████████████████████████████████████████████████████████████████| 196/196 [00:06<00:00, 32.19it/s]\n"
     ]
    },
    {
     "name": "stdout",
     "output_type": "stream",
     "text": [
      "Input\tonly way left to get water, because Voldemort had planned it so ... He flung himself over to the edge\n",
      "GT\tnly way left to get water, because Voldemort had planned it so ... He flung himself over to the edge \n",
      "pred\tn y tas tott th hot thscr  aucause holdemort wad branned tn womm . ae soesg him elf oner th the fnge \n",
      "\n",
      "\n",
      "Input\ts that had his arm. It released him, falling backward into the water with a splash; he scrambled to h\n",
      "GT\t that had his arm. It released him, falling backward into the water with a splash; he scrambled to hi\n",
      "pred\t ahat hed bas frm  Ht wealased tis  aocling tack ard anto the saler ahth a ltiathe te wtoembeed oo hi\n",
      "\n",
      "\n",
      "Input\tath, and his feet left the ground as they lifted him and began to carry him, slowly and surely, back \n",
      "GT\tth, and his feet left the ground as they lifted him and began to carry him, slowly and surely, back t\n",
      "pred\tnh  and tes eaet aatt the cround an hhe  wokeed tim and secan to sorey ais  aoiwly atd stdp y  auck t\n",
      "\n",
      "\n",
      "Input\t . . .\n",
      "Dumbledore scooped the locket from the bottom of the stone basin and stowed it inside his robe\n",
      "GT\t. . .\n",
      "Dumbledore scooped the locket from the bottom of the stone basin and stowed it inside his robes\n",
      "pred\t\" . . \n",
      "umbledore wtroped aoe daok t arom the cottlm of the ctane sacingand staoed tn wn ide tis hobes\n",
      "\n",
      "\n",
      "Input\t\"sir, I forgot -- about fire -- they were coming at me and I panicked --\"\n",
      "\"Quite understandable,\" mur\n",
      "GT\tsir, I forgot -- about fire -- they were coming at me and I panicked --\"\n",
      "\"Quite understandable,\" murm\n",
      "pred\t\n",
      "or, y deu ottt\" tnout tone a  the 'were soming tt to and s dastseed t\" \n",
      "\"Iutde msderstand rle \" satm\n",
      "\n",
      "\n",
      "\n",
      "Test set: Average loss: 1.4023, Accuracy: 741659/1254400 (59%)\n",
      "\n",
      "Saved /home/jefftian/Documents/21au/cse490g1/hw2content/checkpoints/013.pt\n",
      "\n",
      "generated max\t\t Harry Potter, Voldemort, and Dumbledore walk into a bar. He was standing at the stands of the corridor and the stands of the corridor and the stands of the corridor and the stands of the corridor and the stands of the corridor and the stands of the corridor\n",
      "generated sample\t Harry Potter, Voldemort, and Dumbledore walk into a bar. Yeally at didn't, he passing his funny just politely, folding for his cruptance, then through this waved out annor or somebody worked drawings that looking startches...* do you think he coming the Vor\n",
      "generated sample\t Harry Potter, Voldemort, and Dumbledore walk into a bar. Sorthin at look. Thew had colled Harry's must. He looked but he was spred on they footing every looked around that being quisting for peave-2xcaugalingles. It couldn't you? Snape ... . . . he ended it\n",
      "generated sample\t Harry Potter, Voldemort, and Dumbledore walk into a bar. you two my de-ceing. .. . . beaking! my now, that it! You're in O!9j that Harry apout quick.\n",
      "\n",
      "\"Dup,\" Hermione, Ron, who famplled ocking out of the des. Whispy!cange broom frunnds o, Yesting from the d\n",
      "generated sample\t Harry Potter, Voldemort, and Dumbledore walk into a bar. \"'m was of Harry's cast, however, left, the Quidutu! Fnow allottem; A Worry wouldn't...\n",
      "\n",
      "\"Yo? no, faith it,\" said Harry. \"There because excelesser they!\" \"\n",
      "And they'd the Istamers, Ron you'uld like pe\n",
      "generated sample\t Harry Potter, Voldemort, and Dumbledore walk into a bar. Ron, did now.\n",
      "\n",
      "\"Wh you lik(?\"\n",
      "He walked, fiddly livied arolly with a small practy corridor at the Rome of fingers. Weasley walls and bagging. Must found up what to the last occuan's comprement. \n",
      "\n",
      "Hagr\n",
      "generated sample\t Harry Potter, Voldemort, and Dumbledore walk into a bar. How. Ron stoughed its eyes.\n",
      "\n",
      "Harry, looked to rise, on the never feels around Harry, Peing of great monted if sumpsey to wall down the though and I did - Ludge stand.\n",
      "\"Pery pinted of Sirius's. \"Nou of\n",
      "generated sample\t Harry Potter, Voldemort, and Dumbledore walk into a bar. Hour stop, whiched\n",
      "without said, \"Aud Yist now. Wobling, Malmoy might be informit Halfud. Artleure-cable have enveloce how made to go masb.\" Hever was all of it, loop\n",
      "tourkey from the lap oplite pept \n",
      "generated sample\t Harry Potter, Voldemort, and Dumbledore walk into a bar. Tho t was rofessor Dumbledore Hoclet would called empty out of peopleaded to me the floor; as though Ronlowy chimed back of the desper place to say anyone appeared on a tokth any of him the three from\n"
     ]
    },
    {
     "name": "stderr",
     "output_type": "stream",
     "text": [
      "\r",
      "  0%|                                                                                                                                          | 0/196 [00:00<?, ?it/s]"
     ]
    },
    {
     "name": "stdout",
     "output_type": "stream",
     "text": [
      "generated sample\t Harry Potter, Voldemort, and Dumbledore walk into a bar. Ar wide O- Snape Pross head. Non was listen to gumas prifetch e come of thing shu'd felp, and steps, Id\n",
      "Yo ensey whys Frshe did nobe stake at the shalls back the newer prived to Munt Polper. Sor congl\n",
      "generated sample\t Harry Potter, Voldemort, and Dumbledore walk into a bar. Chring why very say just a getter Hogour\n",
      "-\"JiScheelessort jould be here, doing, Harry. You you and O could only to moment, oh. I one Mago's holders.\n",
      "\n",
      "\n",
      "he had colvering the spidel of the gest of the co\n",
      "\n"
     ]
    },
    {
     "name": "stderr",
     "output_type": "stream",
     "text": [
      "  3%|███▎                                                                                                                              | 5/196 [00:00<00:14, 13.02it/s]"
     ]
    },
    {
     "name": "stdout",
     "output_type": "stream",
     "text": [
      "Train Epoch: 14 [0/50176 (0%)]\tLoss: 1.371103\n"
     ]
    },
    {
     "name": "stderr",
     "output_type": "stream",
     "text": [
      "  9%|███████████▏                                                                                                                     | 17/196 [00:00<00:06, 27.11it/s]"
     ]
    },
    {
     "name": "stdout",
     "output_type": "stream",
     "text": [
      "Train Epoch: 14 [2560/50176 (5%)]\tLoss: 1.358345\n"
     ]
    },
    {
     "name": "stderr",
     "output_type": "stream",
     "text": [
      " 13%|████████████████▍                                                                                                                | 25/196 [00:01<00:05, 30.48it/s]"
     ]
    },
    {
     "name": "stdout",
     "output_type": "stream",
     "text": [
      "Train Epoch: 14 [5120/50176 (10%)]\tLoss: 1.397684\n"
     ]
    },
    {
     "name": "stderr",
     "output_type": "stream",
     "text": [
      " 19%|████████████████████████▎                                                                                                        | 37/196 [00:01<00:04, 32.89it/s]"
     ]
    },
    {
     "name": "stdout",
     "output_type": "stream",
     "text": [
      "Train Epoch: 14 [7680/50176 (15%)]\tLoss: 1.373381\n"
     ]
    },
    {
     "name": "stderr",
     "output_type": "stream",
     "text": [
      " 23%|█████████████████████████████▌                                                                                                   | 45/196 [00:01<00:04, 32.90it/s]"
     ]
    },
    {
     "name": "stdout",
     "output_type": "stream",
     "text": [
      "Train Epoch: 14 [10240/50176 (20%)]\tLoss: 1.364695\n"
     ]
    },
    {
     "name": "stderr",
     "output_type": "stream",
     "text": [
      " 29%|█████████████████████████████████████▌                                                                                           | 57/196 [00:02<00:04, 33.61it/s]"
     ]
    },
    {
     "name": "stdout",
     "output_type": "stream",
     "text": [
      "Train Epoch: 14 [12800/50176 (26%)]\tLoss: 1.367887\n"
     ]
    },
    {
     "name": "stderr",
     "output_type": "stream",
     "text": [
      " 33%|██████████████████████████████████████████▊                                                                                      | 65/196 [00:02<00:03, 33.75it/s]"
     ]
    },
    {
     "name": "stdout",
     "output_type": "stream",
     "text": [
      "Train Epoch: 14 [15360/50176 (31%)]\tLoss: 1.390249\n"
     ]
    },
    {
     "name": "stderr",
     "output_type": "stream",
     "text": [
      " 39%|██████████████████████████████████████████████████▋                                                                              | 77/196 [00:02<00:03, 34.47it/s]"
     ]
    },
    {
     "name": "stdout",
     "output_type": "stream",
     "text": [
      "Train Epoch: 14 [17920/50176 (36%)]\tLoss: 1.389040\n"
     ]
    },
    {
     "name": "stderr",
     "output_type": "stream",
     "text": [
      " 43%|███████████████████████████████████████████████████████▉                                                                         | 85/196 [00:02<00:03, 34.87it/s]"
     ]
    },
    {
     "name": "stdout",
     "output_type": "stream",
     "text": [
      "Train Epoch: 14 [20480/50176 (41%)]\tLoss: 1.363378\n"
     ]
    },
    {
     "name": "stderr",
     "output_type": "stream",
     "text": [
      " 49%|███████████████████████████████████████████████████████████████▊                                                                 | 97/196 [00:03<00:02, 34.96it/s]"
     ]
    },
    {
     "name": "stdout",
     "output_type": "stream",
     "text": [
      "Train Epoch: 14 [23040/50176 (46%)]\tLoss: 1.370442\n"
     ]
    },
    {
     "name": "stderr",
     "output_type": "stream",
     "text": [
      " 54%|████████████████████████████████████████████████████████████████████▌                                                           | 105/196 [00:03<00:02, 34.36it/s]"
     ]
    },
    {
     "name": "stdout",
     "output_type": "stream",
     "text": [
      "Train Epoch: 14 [25600/50176 (51%)]\tLoss: 1.376196\n"
     ]
    },
    {
     "name": "stderr",
     "output_type": "stream",
     "text": [
      " 60%|████████████████████████████████████████████████████████████████████████████▍                                                   | 117/196 [00:03<00:02, 34.30it/s]"
     ]
    },
    {
     "name": "stdout",
     "output_type": "stream",
     "text": [
      "Train Epoch: 14 [28160/50176 (56%)]\tLoss: 1.382802\n"
     ]
    },
    {
     "name": "stderr",
     "output_type": "stream",
     "text": [
      " 64%|█████████████████████████████████████████████████████████████████████████████████▋                                              | 125/196 [00:03<00:02, 33.84it/s]"
     ]
    },
    {
     "name": "stdout",
     "output_type": "stream",
     "text": [
      "Train Epoch: 14 [30720/50176 (61%)]\tLoss: 1.378507\n"
     ]
    },
    {
     "name": "stderr",
     "output_type": "stream",
     "text": [
      " 70%|█████████████████████████████████████████████████████████████████████████████████████████▍                                      | 137/196 [00:04<00:01, 34.58it/s]"
     ]
    },
    {
     "name": "stdout",
     "output_type": "stream",
     "text": [
      "Train Epoch: 14 [33280/50176 (66%)]\tLoss: 1.365878\n"
     ]
    },
    {
     "name": "stderr",
     "output_type": "stream",
     "text": [
      " 74%|██████████████████████████████████████████████████████████████████████████████████████████████▋                                 | 145/196 [00:04<00:01, 34.07it/s]"
     ]
    },
    {
     "name": "stdout",
     "output_type": "stream",
     "text": [
      "Train Epoch: 14 [35840/50176 (71%)]\tLoss: 1.379401\n"
     ]
    },
    {
     "name": "stderr",
     "output_type": "stream",
     "text": [
      " 80%|██████████████████████████████████████████████████████████████████████████████████████████████████████▌                         | 157/196 [00:04<00:01, 33.80it/s]"
     ]
    },
    {
     "name": "stdout",
     "output_type": "stream",
     "text": [
      "Train Epoch: 14 [38400/50176 (77%)]\tLoss: 1.366782\n"
     ]
    },
    {
     "name": "stderr",
     "output_type": "stream",
     "text": [
      " 84%|███████████████████████████████████████████████████████████████████████████████████████████████████████████▊                    | 165/196 [00:05<00:00, 34.31it/s]"
     ]
    },
    {
     "name": "stdout",
     "output_type": "stream",
     "text": [
      "Train Epoch: 14 [40960/50176 (82%)]\tLoss: 1.400323\n"
     ]
    },
    {
     "name": "stderr",
     "output_type": "stream",
     "text": [
      " 90%|███████████████████████████████████████████████████████████████████████████████████████████████████████████████████▌            | 177/196 [00:05<00:00, 34.37it/s]"
     ]
    },
    {
     "name": "stdout",
     "output_type": "stream",
     "text": [
      "Train Epoch: 14 [43520/50176 (87%)]\tLoss: 1.363074\n"
     ]
    },
    {
     "name": "stderr",
     "output_type": "stream",
     "text": [
      " 94%|████████████████████████████████████████████████████████████████████████████████████████████████████████████████████████▊       | 185/196 [00:05<00:00, 34.24it/s]"
     ]
    },
    {
     "name": "stdout",
     "output_type": "stream",
     "text": [
      "Train Epoch: 14 [46080/50176 (92%)]\tLoss: 1.391364\n"
     ]
    },
    {
     "name": "stderr",
     "output_type": "stream",
     "text": [
      "100%|████████████████████████████████████████████████████████████████████████████████████████████████████████████████████████████████| 196/196 [00:06<00:00, 32.06it/s]"
     ]
    },
    {
     "name": "stdout",
     "output_type": "stream",
     "text": [
      "Train Epoch: 14 [48640/50176 (97%)]\tLoss: 1.385079\n"
     ]
    },
    {
     "name": "stderr",
     "output_type": "stream",
     "text": [
      "\n"
     ]
    },
    {
     "name": "stdout",
     "output_type": "stream",
     "text": [
      "Input\tonly way left to get water, because Voldemort had planned it so ... He flung himself over to the edge\n",
      "GT\tnly way left to get water, because Voldemort had planned it so ... He flung himself over to the edge \n",
      "pred\tn y tas tott th hot thscr  aucause holdemort wad branned tn womm . ae woesg him elf aner th the fnge \n",
      "\n",
      "\n",
      "Input\ts that had his arm. It released him, falling backward into the water with a splash; he scrambled to h\n",
      "GT\t that had his arm. It released him, falling backward into the water with a splash; he scrambled to hi\n",
      "pred\t ahat ted bas hrm  Ht wealased tis  aocling tack ard anto the caler ahth a ltiathe te wtaembeed oo hi\n",
      "\n",
      "\n",
      "Input\tath, and his feet left the ground as they lifted him and began to carry him, slowly and surely, back \n",
      "GT\tth, and his feet left the ground as they lifted him and began to carry him, slowly and surely, back t\n",
      "pred\tnh  and tes haet aott the cround an hhe  wokeed tim and secan to torey ais  aoiwly atd stdp y  auck t\n",
      "\n",
      "\n",
      "Input\t . . .\n",
      "Dumbledore scooped the locket from the bottom of the stone basin and stowed it inside his robe\n",
      "GT\t. . .\n",
      "Dumbledore scooped the locket from the bottom of the stone basin and stowed it inside his robes\n",
      "pred\t\" . . \n",
      "umbledore wtroped aoe daok t arom the cottlm of the ctane sacingand ttaoed tn wn ide tis hobes\n",
      "\n",
      "\n",
      "Input\t\"sir, I forgot -- about fire -- they were coming at me and I panicked --\"\n",
      "\"Quite understandable,\" mur\n",
      "GT\tsir, I forgot -- about fire -- they were coming at me and I panicked --\"\n",
      "\"Quite understandable,\" murm\n",
      "pred\t\n",
      "or, H deu ottt\" tnout tone y  the 'were aoming tt to and t dastseed t\" \n",
      "\"Iutde msderstand rle \" satm\n",
      "\n",
      "\n",
      "\n",
      "Test set: Average loss: 1.3987, Accuracy: 742373/1254400 (59%)\n",
      "\n",
      "Saved /home/jefftian/Documents/21au/cse490g1/hw2content/checkpoints/014.pt\n",
      "\n",
      "generated max\t\t Harry Potter, Voldemort, and Dumbledore walk into a bar. He was standing at the top of the corridor and the thing to the forest the door of the corridor and the thing to the forest the door of the corridor and the thing to the forest the door of the corrido\n",
      "generated sample\t Harry Potter, Voldemort, and Dumbledore walk into a bar. He had not come be prateles\n",
      "Hower, it had any more. Not they's usper?\" Yevermemore smiled fround, \"just as0 Dumble glass Schood all\"\n",
      "M\"TTAARUT'SNELTNNYOR GHEO NOAGNER I' OT\n",
      "BRCPRPER2ENX\n",
      "\n",
      "And Vernon wa\n",
      "generated sample\t Harry Potter, Voldemort, and Dumbledore walk into a bar. Hif desky sat she crampher ear, yelled at\n",
      "Head mouted and door brish, to have the dark mother's and bout at Gly, Pepting, once looked at the save of the Unge foundson and Moody, raught Harry, looking \n",
      "generated sample\t Harry Potter, Voldemort, and Dumbledore walk into a bar. Bllow back I re, \n",
      "-delined her, roaries...\n",
      "\"It do and he had need to go with an incle in Ton'strod!\"\n",
      "He got to help off.\n",
      "Grofessor Fred was dressed into a headman uncontrouble funning over and gool ou\n",
      "generated sample\t Harry Potter, Voldemort, and Dumbledore walk into a bar. \"I mean --\" Bumbledore was not going to stop Huprilved Fred.\n",
      "\n",
      "\"Dumbledore amone announcing rolless on Seville'so world your for this your little Mordace.\"\n",
      "\"Yes,\" Harry muttered an enxels worricked Her\n",
      "generated sample\t Harry Potter, Voldemort, and Dumbledore walk into a bar. He refered to do white Hermione came to cheaved to stop past in the searcy in the opened whether hard had been Dumbledore.\"\n",
      "\"Nook down I can say about Minny. .. I mean.\n",
      "\"\"You dres, his trouch,\" \n",
      "\n",
      "and \n",
      "generated sample\t Harry Potter, Voldemort, and Dumbledore walk into a bar. The to! well, conacustaired him, mumfled at him....\n",
      "\"Iut about it?\"\n",
      "\"Heah, Erecculeren't that me!\" her his eyes wonked.\n",
      "\"Ludger distalk precurest of an invitice of girellent's and look!\"\n",
      "\"We don't eve\n",
      "generated sample\t Harry Potter, Voldemort, and Dumbledore walk into a bar. It was clearer, he can had just be herring, and normally looked dowly at Mend, he took behind the dark op the Fob Fredacy, returned to should groabed and nows. he would have had the crown for the homp\n",
      "generated sample\t Harry Potter, Voldemort, and Dumbledore walk into a bar. He took the Sckable at first.\n",
      "\n",
      "\"And you will be becaupeter,\" she saided, but Harry Couffed looking librare. \"Lust only like about it!s more ideay at the wronglin elece'2 very - of the Momy _ringers.\n",
      "\"\n"
     ]
    },
    {
     "name": "stderr",
     "output_type": "stream",
     "text": [
      "\r",
      "  0%|                                                                                                                                          | 0/196 [00:00<?, ?it/s]"
     ]
    },
    {
     "name": "stdout",
     "output_type": "stream",
     "text": [
      "generated sample\t Harry Potter, Voldemort, and Dumbledore walk into a bar. Malfoy slywely.\n",
      "\"You think they named's it. It's like growked on the wall, boy,\" \n",
      "\n",
      "The try.\n",
      "That to the most Kl. LiFed mother of the collar of named of from the stairs.\n",
      "He think he school\n",
      "even motheri\n",
      "generated sample\t Harry Potter, Voldemort, and Dumbledore walk into a bar. Harry was eyeside Professor. Harry. He looked at witcholugh to blowedrewn to the pocket of thimself, but Harry had fory in the corner botton him.\n",
      "\n",
      "Harry will like a mything find out of Pedrif for a De\n",
      "\n"
     ]
    },
    {
     "name": "stderr",
     "output_type": "stream",
     "text": [
      "  3%|███▎                                                                                                                              | 5/196 [00:00<00:14, 13.19it/s]"
     ]
    },
    {
     "name": "stdout",
     "output_type": "stream",
     "text": [
      "Train Epoch: 15 [0/50176 (0%)]\tLoss: 1.367643\n"
     ]
    },
    {
     "name": "stderr",
     "output_type": "stream",
     "text": [
      "  9%|███████████▏                                                                                                                     | 17/196 [00:00<00:06, 27.08it/s]"
     ]
    },
    {
     "name": "stdout",
     "output_type": "stream",
     "text": [
      "Train Epoch: 15 [2560/50176 (5%)]\tLoss: 1.354977\n"
     ]
    },
    {
     "name": "stderr",
     "output_type": "stream",
     "text": [
      " 13%|████████████████▍                                                                                                                | 25/196 [00:01<00:05, 31.01it/s]"
     ]
    },
    {
     "name": "stdout",
     "output_type": "stream",
     "text": [
      "Train Epoch: 15 [5120/50176 (10%)]\tLoss: 1.392813\n"
     ]
    },
    {
     "name": "stderr",
     "output_type": "stream",
     "text": [
      " 19%|████████████████████████▎                                                                                                        | 37/196 [00:01<00:04, 32.65it/s]"
     ]
    },
    {
     "name": "stdout",
     "output_type": "stream",
     "text": [
      "Train Epoch: 15 [7680/50176 (15%)]\tLoss: 1.367985\n"
     ]
    },
    {
     "name": "stderr",
     "output_type": "stream",
     "text": [
      " 23%|█████████████████████████████▌                                                                                                   | 45/196 [00:01<00:04, 33.39it/s]"
     ]
    },
    {
     "name": "stdout",
     "output_type": "stream",
     "text": [
      "Train Epoch: 15 [10240/50176 (20%)]\tLoss: 1.361706\n"
     ]
    },
    {
     "name": "stderr",
     "output_type": "stream",
     "text": [
      " 29%|█████████████████████████████████████▌                                                                                           | 57/196 [00:01<00:04, 33.68it/s]"
     ]
    },
    {
     "name": "stdout",
     "output_type": "stream",
     "text": [
      "Train Epoch: 15 [12800/50176 (26%)]\tLoss: 1.363573\n"
     ]
    },
    {
     "name": "stderr",
     "output_type": "stream",
     "text": [
      " 33%|██████████████████████████████████████████▊                                                                                      | 65/196 [00:02<00:03, 33.72it/s]"
     ]
    },
    {
     "name": "stdout",
     "output_type": "stream",
     "text": [
      "Train Epoch: 15 [15360/50176 (31%)]\tLoss: 1.385777\n"
     ]
    },
    {
     "name": "stderr",
     "output_type": "stream",
     "text": [
      " 39%|██████████████████████████████████████████████████▋                                                                              | 77/196 [00:02<00:03, 34.82it/s]"
     ]
    },
    {
     "name": "stdout",
     "output_type": "stream",
     "text": [
      "Train Epoch: 15 [17920/50176 (36%)]\tLoss: 1.382616\n"
     ]
    },
    {
     "name": "stderr",
     "output_type": "stream",
     "text": [
      " 43%|███████████████████████████████████████████████████████▉                                                                         | 85/196 [00:02<00:03, 34.92it/s]"
     ]
    },
    {
     "name": "stdout",
     "output_type": "stream",
     "text": [
      "Train Epoch: 15 [20480/50176 (41%)]\tLoss: 1.359855\n"
     ]
    },
    {
     "name": "stderr",
     "output_type": "stream",
     "text": [
      " 49%|███████████████████████████████████████████████████████████████▊                                                                 | 97/196 [00:03<00:02, 34.66it/s]"
     ]
    },
    {
     "name": "stdout",
     "output_type": "stream",
     "text": [
      "Train Epoch: 15 [23040/50176 (46%)]\tLoss: 1.364530\n"
     ]
    },
    {
     "name": "stderr",
     "output_type": "stream",
     "text": [
      " 54%|████████████████████████████████████████████████████████████████████▌                                                           | 105/196 [00:03<00:02, 34.15it/s]"
     ]
    },
    {
     "name": "stdout",
     "output_type": "stream",
     "text": [
      "Train Epoch: 15 [25600/50176 (51%)]\tLoss: 1.372399\n"
     ]
    },
    {
     "name": "stderr",
     "output_type": "stream",
     "text": [
      " 60%|████████████████████████████████████████████████████████████████████████████▍                                                   | 117/196 [00:03<00:02, 34.16it/s]"
     ]
    },
    {
     "name": "stdout",
     "output_type": "stream",
     "text": [
      "Train Epoch: 15 [28160/50176 (56%)]\tLoss: 1.377702\n"
     ]
    },
    {
     "name": "stderr",
     "output_type": "stream",
     "text": [
      " 64%|█████████████████████████████████████████████████████████████████████████████████▋                                              | 125/196 [00:03<00:02, 34.42it/s]"
     ]
    },
    {
     "name": "stdout",
     "output_type": "stream",
     "text": [
      "Train Epoch: 15 [30720/50176 (61%)]\tLoss: 1.374034\n"
     ]
    },
    {
     "name": "stderr",
     "output_type": "stream",
     "text": [
      " 70%|█████████████████████████████████████████████████████████████████████████████████████████▍                                      | 137/196 [00:04<00:01, 34.10it/s]"
     ]
    },
    {
     "name": "stdout",
     "output_type": "stream",
     "text": [
      "Train Epoch: 15 [33280/50176 (66%)]\tLoss: 1.366111\n"
     ]
    },
    {
     "name": "stderr",
     "output_type": "stream",
     "text": [
      " 74%|██████████████████████████████████████████████████████████████████████████████████████████████▋                                 | 145/196 [00:04<00:01, 34.35it/s]"
     ]
    },
    {
     "name": "stdout",
     "output_type": "stream",
     "text": [
      "Train Epoch: 15 [35840/50176 (71%)]\tLoss: 1.376787\n"
     ]
    },
    {
     "name": "stderr",
     "output_type": "stream",
     "text": [
      " 80%|██████████████████████████████████████████████████████████████████████████████████████████████████████▌                         | 157/196 [00:04<00:01, 34.20it/s]"
     ]
    },
    {
     "name": "stdout",
     "output_type": "stream",
     "text": [
      "Train Epoch: 15 [38400/50176 (77%)]\tLoss: 1.363422\n"
     ]
    },
    {
     "name": "stderr",
     "output_type": "stream",
     "text": [
      " 84%|███████████████████████████████████████████████████████████████████████████████████████████████████████████▊                    | 165/196 [00:05<00:00, 34.44it/s]"
     ]
    },
    {
     "name": "stdout",
     "output_type": "stream",
     "text": [
      "Train Epoch: 15 [40960/50176 (82%)]\tLoss: 1.393001\n"
     ]
    },
    {
     "name": "stderr",
     "output_type": "stream",
     "text": [
      " 90%|███████████████████████████████████████████████████████████████████████████████████████████████████████████████████▌            | 177/196 [00:05<00:00, 34.21it/s]"
     ]
    },
    {
     "name": "stdout",
     "output_type": "stream",
     "text": [
      "Train Epoch: 15 [43520/50176 (87%)]\tLoss: 1.359475\n"
     ]
    },
    {
     "name": "stderr",
     "output_type": "stream",
     "text": [
      " 94%|████████████████████████████████████████████████████████████████████████████████████████████████████████████████████████▊       | 185/196 [00:05<00:00, 33.63it/s]"
     ]
    },
    {
     "name": "stdout",
     "output_type": "stream",
     "text": [
      "Train Epoch: 15 [46080/50176 (92%)]\tLoss: 1.386369\n"
     ]
    },
    {
     "name": "stderr",
     "output_type": "stream",
     "text": [
      " 98%|██████████████████████████████████████████████████████████████████████████████████████████████████████████████████████████████  | 193/196 [00:05<00:00, 33.76it/s]"
     ]
    },
    {
     "name": "stdout",
     "output_type": "stream",
     "text": [
      "Train Epoch: 15 [48640/50176 (97%)]\tLoss: 1.379288\n"
     ]
    },
    {
     "name": "stderr",
     "output_type": "stream",
     "text": [
      "100%|████████████████████████████████████████████████████████████████████████████████████████████████████████████████████████████████| 196/196 [00:06<00:00, 32.03it/s]\n"
     ]
    },
    {
     "name": "stdout",
     "output_type": "stream",
     "text": [
      "Input\tonly way left to get water, because Voldemort had planned it so ... He flung himself over to the edge\n",
      "GT\tnly way left to get water, because Voldemort had planned it so ... He flung himself over to the edge \n",
      "pred\tn y ths tott th hot thser  aucause holdemort wad branned tn womm . ae woesg him elf aner th the fnge \n",
      "\n",
      "\n",
      "Input\ts that had his arm. It released him, falling backward into the water with a splash; he scrambled to h\n",
      "GT\t that had his arm. It released him, falling backward into the water with a splash; he scrambled to hi\n",
      "pred\t ahat hed bas hrm  Ht wealased tim  aocling aack ard anto the caler ahth a ltiathe te htaembeed ao hi\n",
      "\n",
      "\n",
      "Input\tath, and his feet left the ground as they lifted him and began to carry him, slowly and surely, back \n",
      "GT\tth, and his feet left the ground as they lifted him and began to carry him, slowly and surely, back t\n",
      "pred\tnh  and tes haet aott ahe cround an hhe  wokeed tim and tecan to toley ais  ahiwly atd stdp y  auck t\n",
      "\n",
      "\n",
      "Input\t . . .\n",
      "Dumbledore scooped the locket from the bottom of the stone basin and stowed it inside his robe\n",
      "GT\t. . .\n",
      "Dumbledore scooped the locket from the bottom of the stone basin and stowed it inside his robes\n",
      "pred\t\" . . \n",
      "umbledore wtroped aoe dook t arom the cottlm of the ctane sacingand ttaoed an wn ide tis hobes\n",
      "\n",
      "\n",
      "Input\t\"sir, I forgot -- about fire -- they were coming at me and I panicked --\"\n",
      "\"Quite understandable,\" mur\n",
      "GT\tsir, I forgot -- about fire -- they were coming at me and I panicked --\"\n",
      "\"Quite understandable,\" murm\n",
      "pred\t\n",
      "or, H dou ottt\" tnout tone y\" ahe  were aoming tt to and t dustseed t\" \n",
      "\"Iutde asderstand yle \" sutm\n",
      "\n",
      "\n",
      "\n",
      "Test set: Average loss: 1.3973, Accuracy: 742362/1254400 (59%)\n",
      "\n",
      "generated max\t\t Harry Potter, Voldemort, and Dumbledore walk into a bar. He was standing at the top of the train of the corridor and the thing to the forest the door of the corridor and the thing to the forest the door of the corridor and the thing to the forest the door o\n",
      "generated sample\t Harry Potter, Voldemort, and Dumbledore walk into a bar. O7les\n",
      "they  \"So_ So? Ron and Ron happed most and door in the blay rully redreased.\"\n",
      "\"Mugg, - he right-y became him!\"\n",
      "Hou line phiner that it, BOt the door of his lood on more around bring jumpear;   s\n",
      "generated sample\t Harry Potter, Voldemort, and Dumbledore walk into a bar. \"Do, he must adreared this Fruning \n",
      "\n",
      "Harry. \"Vo momed into it. IT because You managest of the relaced Frace belowed. Hagrid, and care well have to bad the conturn on inxonxactrice. . . . . . must get \n",
      "generated sample\t Harry Potter, Voldemort, and Dumbledore walk into a bar. \n",
      "\n",
      "\"You think of you work in a whipe of my -- Horyling Fate the cours and combries,\" don' remembled from the walm and iusting an or a mounter ofden\n",
      "at\n",
      "of upprised on to the gryffindor. Headmestion was \n",
      "generated sample\t Harry Potter, Voldemort, and Dumbledore walk into a bar. Harry, where, Hermione was uncorned. Gone wits him with ever dee - Wad boin in Sirius and of you must really, horjed of their shally wre\n",
      "chance at Magic being hisking about the impearing that she had \n",
      "generated sample\t Harry Potter, Voldemort, and Dumbledore walk into a bar. The voice had mine stared at the opparacts feet and had not seeled to be only one oldering of Uncle the way, complect stone good and flugh back over at the doom ookingrward and shrewn shourclessly. Th\n",
      "generated sample\t Harry Potter, Voldemort, and Dumbledore walk into a bar. Changing hat ideacheed the voice for marle. It our at hafe at the sept homesting Fred and Dumbledore had only ground.\n",
      "\"The penelables, list now. I dame it would take all you just as momethat,\" said Ha\n",
      "generated sample\t Harry Potter, Voldemort, and Dumbledore walk into a bar. Things to the pure backwards and wind of privetth Clonghat, to ensely the brist's hop to let a gaspecable when he looked inno quice and strode broken wingond, with you and she had manage still wark no\n"
     ]
    },
    {
     "name": "stderr",
     "output_type": "stream",
     "text": [
      "\r",
      "  0%|                                                                                                                                          | 0/196 [00:00<?, ?it/s]"
     ]
    },
    {
     "name": "stdout",
     "output_type": "stream",
     "text": [
      "generated sample\t Harry Potter, Voldemort, and Dumbledore walk into a bar. Hor closered that right hopupin for to a who potter, he could stop Mademento For look! Hoo was meanting to get Hagrid. The gray don't told Gon.\n",
      "\"It is,\n",
      "are blined of comemberck or anything, and I knew\n",
      "generated sample\t Harry Potter, Voldemort, and Dumbledore walk into a bar. Er Roncent Myster hope of sily never that Don's appeared' my head, the Mustle. He took the doors twiced him\n",
      "\n",
      "Dine of glacte chocking cared hand at him on the boylet backling a new\n",
      "mochet woold, ppy en\n",
      "generated sample\t Harry Potter, Voldemort, and Dumbledore walk into a bar. \n",
      "\n",
      "\"Aut she was mered,\" he shorted that he was sqizing to remove Grofessor McGonagall pulled weader, rain whispered, had no way, still blinch, he coped on the room indingly the creak face. Harry and Du\n",
      "\n"
     ]
    },
    {
     "name": "stderr",
     "output_type": "stream",
     "text": [
      "  3%|███▎                                                                                                                              | 5/196 [00:00<00:15, 12.61it/s]"
     ]
    },
    {
     "name": "stdout",
     "output_type": "stream",
     "text": [
      "Train Epoch: 16 [0/50176 (0%)]\tLoss: 1.365881\n"
     ]
    },
    {
     "name": "stderr",
     "output_type": "stream",
     "text": [
      "  9%|███████████▏                                                                                                                     | 17/196 [00:00<00:06, 26.61it/s]"
     ]
    },
    {
     "name": "stdout",
     "output_type": "stream",
     "text": [
      "Train Epoch: 16 [2560/50176 (5%)]\tLoss: 1.351773\n"
     ]
    },
    {
     "name": "stderr",
     "output_type": "stream",
     "text": [
      " 13%|████████████████▍                                                                                                                | 25/196 [00:01<00:05, 30.21it/s]"
     ]
    },
    {
     "name": "stdout",
     "output_type": "stream",
     "text": [
      "Train Epoch: 16 [5120/50176 (10%)]\tLoss: 1.389207\n"
     ]
    },
    {
     "name": "stderr",
     "output_type": "stream",
     "text": [
      " 19%|████████████████████████▎                                                                                                        | 37/196 [00:01<00:04, 32.75it/s]"
     ]
    },
    {
     "name": "stdout",
     "output_type": "stream",
     "text": [
      "Train Epoch: 16 [7680/50176 (15%)]\tLoss: 1.364939\n"
     ]
    },
    {
     "name": "stderr",
     "output_type": "stream",
     "text": [
      " 23%|█████████████████████████████▌                                                                                                   | 45/196 [00:01<00:04, 33.10it/s]"
     ]
    },
    {
     "name": "stdout",
     "output_type": "stream",
     "text": [
      "Train Epoch: 16 [10240/50176 (20%)]\tLoss: 1.358861\n"
     ]
    },
    {
     "name": "stderr",
     "output_type": "stream",
     "text": [
      " 29%|█████████████████████████████████████▌                                                                                           | 57/196 [00:02<00:04, 33.60it/s]"
     ]
    },
    {
     "name": "stdout",
     "output_type": "stream",
     "text": [
      "Train Epoch: 16 [12800/50176 (26%)]\tLoss: 1.359113\n"
     ]
    },
    {
     "name": "stderr",
     "output_type": "stream",
     "text": [
      " 33%|██████████████████████████████████████████▊                                                                                      | 65/196 [00:02<00:03, 34.31it/s]"
     ]
    },
    {
     "name": "stdout",
     "output_type": "stream",
     "text": [
      "Train Epoch: 16 [15360/50176 (31%)]\tLoss: 1.380772\n"
     ]
    },
    {
     "name": "stderr",
     "output_type": "stream",
     "text": [
      " 39%|██████████████████████████████████████████████████▋                                                                              | 77/196 [00:02<00:03, 34.22it/s]"
     ]
    },
    {
     "name": "stdout",
     "output_type": "stream",
     "text": [
      "Train Epoch: 16 [17920/50176 (36%)]\tLoss: 1.377778\n"
     ]
    },
    {
     "name": "stderr",
     "output_type": "stream",
     "text": [
      " 43%|███████████████████████████████████████████████████████▉                                                                         | 85/196 [00:02<00:03, 34.32it/s]"
     ]
    },
    {
     "name": "stdout",
     "output_type": "stream",
     "text": [
      "Train Epoch: 16 [20480/50176 (41%)]\tLoss: 1.356832\n"
     ]
    },
    {
     "name": "stderr",
     "output_type": "stream",
     "text": [
      " 49%|███████████████████████████████████████████████████████████████▊                                                                 | 97/196 [00:03<00:02, 34.49it/s]"
     ]
    },
    {
     "name": "stdout",
     "output_type": "stream",
     "text": [
      "Train Epoch: 16 [23040/50176 (46%)]\tLoss: 1.359171\n"
     ]
    },
    {
     "name": "stderr",
     "output_type": "stream",
     "text": [
      " 54%|████████████████████████████████████████████████████████████████████▌                                                           | 105/196 [00:03<00:02, 34.42it/s]"
     ]
    },
    {
     "name": "stdout",
     "output_type": "stream",
     "text": [
      "Train Epoch: 16 [25600/50176 (51%)]\tLoss: 1.368718\n"
     ]
    },
    {
     "name": "stderr",
     "output_type": "stream",
     "text": [
      " 60%|████████████████████████████████████████████████████████████████████████████▍                                                   | 117/196 [00:03<00:02, 34.50it/s]"
     ]
    },
    {
     "name": "stdout",
     "output_type": "stream",
     "text": [
      "Train Epoch: 16 [28160/50176 (56%)]\tLoss: 1.374148\n"
     ]
    },
    {
     "name": "stderr",
     "output_type": "stream",
     "text": [
      " 64%|█████████████████████████████████████████████████████████████████████████████████▋                                              | 125/196 [00:04<00:02, 34.17it/s]"
     ]
    },
    {
     "name": "stdout",
     "output_type": "stream",
     "text": [
      "Train Epoch: 16 [30720/50176 (61%)]\tLoss: 1.369674\n"
     ]
    },
    {
     "name": "stderr",
     "output_type": "stream",
     "text": [
      " 70%|█████████████████████████████████████████████████████████████████████████████████████████▍                                      | 137/196 [00:04<00:01, 34.93it/s]"
     ]
    },
    {
     "name": "stdout",
     "output_type": "stream",
     "text": [
      "Train Epoch: 16 [33280/50176 (66%)]\tLoss: 1.362690\n"
     ]
    },
    {
     "name": "stderr",
     "output_type": "stream",
     "text": [
      " 74%|██████████████████████████████████████████████████████████████████████████████████████████████▋                                 | 145/196 [00:04<00:01, 34.34it/s]"
     ]
    },
    {
     "name": "stdout",
     "output_type": "stream",
     "text": [
      "Train Epoch: 16 [35840/50176 (71%)]\tLoss: 1.373698\n"
     ]
    },
    {
     "name": "stderr",
     "output_type": "stream",
     "text": [
      " 80%|██████████████████████████████████████████████████████████████████████████████████████████████████████▌                         | 157/196 [00:04<00:01, 34.68it/s]"
     ]
    },
    {
     "name": "stdout",
     "output_type": "stream",
     "text": [
      "Train Epoch: 16 [38400/50176 (77%)]\tLoss: 1.359447\n"
     ]
    },
    {
     "name": "stderr",
     "output_type": "stream",
     "text": [
      " 84%|███████████████████████████████████████████████████████████████████████████████████████████████████████████▊                    | 165/196 [00:05<00:00, 35.15it/s]"
     ]
    },
    {
     "name": "stdout",
     "output_type": "stream",
     "text": [
      "Train Epoch: 16 [40960/50176 (82%)]\tLoss: 1.386666\n"
     ]
    },
    {
     "name": "stderr",
     "output_type": "stream",
     "text": [
      " 90%|███████████████████████████████████████████████████████████████████████████████████████████████████████████████████▌            | 177/196 [00:05<00:00, 34.30it/s]"
     ]
    },
    {
     "name": "stdout",
     "output_type": "stream",
     "text": [
      "Train Epoch: 16 [43520/50176 (87%)]\tLoss: 1.356004\n"
     ]
    },
    {
     "name": "stderr",
     "output_type": "stream",
     "text": [
      " 94%|████████████████████████████████████████████████████████████████████████████████████████████████████████████████████████▊       | 185/196 [00:05<00:00, 34.59it/s]"
     ]
    },
    {
     "name": "stdout",
     "output_type": "stream",
     "text": [
      "Train Epoch: 16 [46080/50176 (92%)]\tLoss: 1.381645\n"
     ]
    },
    {
     "name": "stderr",
     "output_type": "stream",
     "text": [
      " 98%|██████████████████████████████████████████████████████████████████████████████████████████████████████████████████████████████  | 193/196 [00:05<00:00, 34.36it/s]"
     ]
    },
    {
     "name": "stdout",
     "output_type": "stream",
     "text": [
      "Train Epoch: 16 [48640/50176 (97%)]\tLoss: 1.375076\n"
     ]
    },
    {
     "name": "stderr",
     "output_type": "stream",
     "text": [
      "100%|████████████████████████████████████████████████████████████████████████████████████████████████████████████████████████████████| 196/196 [00:06<00:00, 32.04it/s]\n"
     ]
    },
    {
     "name": "stdout",
     "output_type": "stream",
     "text": [
      "Input\tonly way left to get water, because Voldemort had planned it so ... He flung himself over to the edge\n",
      "GT\tnly way left to get water, because Voldemort had planned it so ... He flung himself over to the edge \n",
      "pred\tn y ths tott th hot thser  aucause holdemort wad branned tn womm . ae woesg him elf aner th the fnge \n",
      "\n",
      "\n",
      "Input\ts that had his arm. It released him, falling backward into the water with a splash; he scrambled to h\n",
      "GT\t that had his arm. It released him, falling backward into the water with a splash; he scrambled to hi\n",
      "pred\t ahat hed bas frm  Ht wealased tis  aocling aack ard anto the caler ahth a ltiathe te htaembeed ao hi\n",
      "\n",
      "\n",
      "Input\tath, and his feet left the ground as they lifted him and began to carry him, slowly and surely, back \n",
      "GT\tth, and his feet left the ground as they lifted him and began to carry him, slowly and surely, back t\n",
      "pred\tnh  and tes hoet aott ahe cround an hhe  wokeed aim and secan to toley ais  atiwly atd stdp y  auck t\n",
      "\n",
      "\n",
      "Input\t . . .\n",
      "Dumbledore scooped the locket from the bottom of the stone basin and stowed it inside his robe\n",
      "GT\t. . .\n",
      "Dumbledore scooped the locket from the bottom of the stone basin and stowed it inside his robes\n",
      "pred\t\" . . \n",
      "umbledore wtroked aoe dook t arom the cootlm of the ctane sacingand ttaoed an an ide tis hobes\n",
      "\n",
      "\n",
      "Input\t\"sir, I forgot -- about fire -- they were coming at me and I panicked --\"\n",
      "\"Quite understandable,\" mur\n",
      "GT\tsir, I forgot -- about fire -- they were coming at me and I panicked --\"\n",
      "\"Quite understandable,\" murm\n",
      "pred\t\n",
      "or, H dou ottt\" tnout tone y\" ahe  were aoming tt to and t dustseed t\" \n",
      "\"Iutde asderstand yle   sutm\n",
      "\n",
      "\n",
      "\n",
      "Test set: Average loss: 1.3951, Accuracy: 742749/1254400 (59%)\n",
      "\n",
      "Saved /home/jefftian/Documents/21au/cse490g1/hw2content/checkpoints/016.pt\n",
      "\n",
      "generated max\t\t Harry Potter, Voldemort, and Dumbledore walk into a bar. He was still standing at the top of the train and the top of the train was standing at the top of the train and the top of the train was standing at the top of the train and the top of the train was s\n",
      "generated sample\t Harry Potter, Voldemort, and Dumbledore walk into a bar. irrown Ron.\n",
      "\n",
      "\"Whe coularge,\" said Harry.. \"Hom for a nastiment of Lumin, S\n",
      "Fudge, so he to thought it. \". I jere whire the plate sorry and really sunnipping early got  -baging away what you came with \n",
      "generated sample\t Harry Potter, Voldemort, and Dumbledore walk into a bar. Unlist looched profected to frymet and work down himself? For Mrs. Weasley polged off the hat.\n",
      "\n",
      "\"I'm now.\" he said him. Harry had ong\n",
      "Historyable to mean to want the excitpring of his hand.\n",
      "\n",
      "\n",
      "The robb\n",
      "generated sample\t Harry Potter, Voldemort, and Dumbledore walk into a bar. The of much gone embarely could not neck to them. He guills like a formith a reason was. 'looking gut world be aqaught today hou jumbled evey\n",
      "stairs from dog doing on an her age.\n",
      "\n",
      "The way down the doo\n",
      "generated sample\t Harry Potter, Voldemort, and Dumbledore walk into a bar. Budsins went broom and good ducould to the shiver for a few mon white a dishAp found a coppet -dricked the legs of Hogwarts to excel cein. ... best and alluring that he was\n",
      "you telling down in\n",
      "or moth\n",
      "generated sample\t Harry Potter, Voldemort, and Dumbledore walk into a bar. The only tieded would be all thereing on the air and the only of Snape tood behind how and get gues\n",
      "lying back.\n",
      "\n",
      "The house and looked at lit- twen poed on the trapt of she set; more sumpering arout th\n",
      "generated sample\t Harry Potter, Voldemort, and Dumbledore walk into a bar. beacing for Goney first and down - immortant robes.\n",
      "\"Oh, did you sound at amonst im. He sereamed adricmed if the Trisor?\"\n",
      "Hnsuited the for head at Roncernantly quite vanifer in the maw around the grav\n",
      "generated sample\t Harry Potter, Voldemort, and Dumbledore walk into a bar. Thite voines griefred into an summel. \"But it doing this Now,\"\n",
      "\"No not the house with things,\" said Ron\n",
      "Riniskly on the table. . .\n",
      "\n",
      "What Smu_\"\n",
      "\"Yeah, Han' you very Duig remacty Vols!\" she told held th\n"
     ]
    },
    {
     "name": "stderr",
     "output_type": "stream",
     "text": [
      "\r",
      "  0%|                                                                                                                                          | 0/196 [00:00<?, ?it/s]"
     ]
    },
    {
     "name": "stdout",
     "output_type": "stream",
     "text": [
      "generated sample\t Harry Potter, Voldemort, and Dumbledore walk into a bar. \n",
      "\n",
      "IYow they, Ancle the Dursleys wouldn't you. The Dummbledore had\n",
      "been anormay! I don't libe.\" he said. \"He would then told me on at Oune here to its, and you might thig flow od,\" said Harry curiously\n",
      "generated sample\t Harry Potter, Voldemort, and Dumbledore walk into a bar. \"Noon,\" said Ron and exceptied along the door smept. Chey went of runn looking\n",
      "at the Damfle door hat he went on brean filit.\n",
      "\"Sour dark I don't want to you. . . . made back and stalved as made aside \n",
      "generated sample\t Harry Potter, Voldemort, and Dumbledore walk into a bar. He took his cheers again, headly jearned when a lugh er. 'now -Un9ur was the grass and get to be getsiced and of changinI I'cle consuanting this I speak from wheive Mochoute Granges! would say for it \n",
      "\n"
     ]
    },
    {
     "name": "stderr",
     "output_type": "stream",
     "text": [
      "  3%|███▎                                                                                                                              | 5/196 [00:00<00:14, 12.97it/s]"
     ]
    },
    {
     "name": "stdout",
     "output_type": "stream",
     "text": [
      "Train Epoch: 17 [0/50176 (0%)]\tLoss: 1.363459\n"
     ]
    },
    {
     "name": "stderr",
     "output_type": "stream",
     "text": [
      "  9%|███████████▏                                                                                                                     | 17/196 [00:00<00:06, 27.39it/s]"
     ]
    },
    {
     "name": "stdout",
     "output_type": "stream",
     "text": [
      "Train Epoch: 17 [2560/50176 (5%)]\tLoss: 1.348846\n"
     ]
    },
    {
     "name": "stderr",
     "output_type": "stream",
     "text": [
      " 13%|████████████████▍                                                                                                                | 25/196 [00:01<00:05, 31.47it/s]"
     ]
    },
    {
     "name": "stdout",
     "output_type": "stream",
     "text": [
      "Train Epoch: 17 [5120/50176 (10%)]\tLoss: 1.386199\n"
     ]
    },
    {
     "name": "stderr",
     "output_type": "stream",
     "text": [
      " 19%|████████████████████████▎                                                                                                        | 37/196 [00:01<00:04, 32.96it/s]"
     ]
    },
    {
     "name": "stdout",
     "output_type": "stream",
     "text": [
      "Train Epoch: 17 [7680/50176 (15%)]\tLoss: 1.362564\n"
     ]
    },
    {
     "name": "stderr",
     "output_type": "stream",
     "text": [
      " 23%|█████████████████████████████▌                                                                                                   | 45/196 [00:01<00:04, 34.29it/s]"
     ]
    },
    {
     "name": "stdout",
     "output_type": "stream",
     "text": [
      "Train Epoch: 17 [10240/50176 (20%)]\tLoss: 1.355875\n"
     ]
    },
    {
     "name": "stderr",
     "output_type": "stream",
     "text": [
      " 29%|█████████████████████████████████████▌                                                                                           | 57/196 [00:01<00:03, 34.82it/s]"
     ]
    },
    {
     "name": "stdout",
     "output_type": "stream",
     "text": [
      "Train Epoch: 17 [12800/50176 (26%)]\tLoss: 1.355586\n"
     ]
    },
    {
     "name": "stderr",
     "output_type": "stream",
     "text": [
      " 33%|██████████████████████████████████████████▊                                                                                      | 65/196 [00:02<00:03, 35.17it/s]"
     ]
    },
    {
     "name": "stdout",
     "output_type": "stream",
     "text": [
      "Train Epoch: 17 [15360/50176 (31%)]\tLoss: 1.376152\n"
     ]
    },
    {
     "name": "stderr",
     "output_type": "stream",
     "text": [
      " 39%|██████████████████████████████████████████████████▋                                                                              | 77/196 [00:02<00:03, 35.09it/s]"
     ]
    },
    {
     "name": "stdout",
     "output_type": "stream",
     "text": [
      "Train Epoch: 17 [17920/50176 (36%)]\tLoss: 1.373721\n"
     ]
    },
    {
     "name": "stderr",
     "output_type": "stream",
     "text": [
      " 43%|███████████████████████████████████████████████████████▉                                                                         | 85/196 [00:02<00:03, 34.96it/s]"
     ]
    },
    {
     "name": "stdout",
     "output_type": "stream",
     "text": [
      "Train Epoch: 17 [20480/50176 (41%)]\tLoss: 1.353749\n"
     ]
    },
    {
     "name": "stderr",
     "output_type": "stream",
     "text": [
      " 49%|███████████████████████████████████████████████████████████████▊                                                                 | 97/196 [00:03<00:02, 34.20it/s]"
     ]
    },
    {
     "name": "stdout",
     "output_type": "stream",
     "text": [
      "Train Epoch: 17 [23040/50176 (46%)]\tLoss: 1.355483\n"
     ]
    },
    {
     "name": "stderr",
     "output_type": "stream",
     "text": [
      " 54%|████████████████████████████████████████████████████████████████████▌                                                           | 105/196 [00:03<00:02, 33.99it/s]"
     ]
    },
    {
     "name": "stdout",
     "output_type": "stream",
     "text": [
      "Train Epoch: 17 [25600/50176 (51%)]\tLoss: 1.365153\n"
     ]
    },
    {
     "name": "stderr",
     "output_type": "stream",
     "text": [
      " 60%|████████████████████████████████████████████████████████████████████████████▍                                                   | 117/196 [00:03<00:02, 34.08it/s]"
     ]
    },
    {
     "name": "stdout",
     "output_type": "stream",
     "text": [
      "Train Epoch: 17 [28160/50176 (56%)]\tLoss: 1.371282\n"
     ]
    },
    {
     "name": "stderr",
     "output_type": "stream",
     "text": [
      " 64%|█████████████████████████████████████████████████████████████████████████████████▋                                              | 125/196 [00:03<00:02, 34.63it/s]"
     ]
    },
    {
     "name": "stdout",
     "output_type": "stream",
     "text": [
      "Train Epoch: 17 [30720/50176 (61%)]\tLoss: 1.365857\n"
     ]
    },
    {
     "name": "stderr",
     "output_type": "stream",
     "text": [
      " 70%|█████████████████████████████████████████████████████████████████████████████████████████▍                                      | 137/196 [00:04<00:01, 33.99it/s]"
     ]
    },
    {
     "name": "stdout",
     "output_type": "stream",
     "text": [
      "Train Epoch: 17 [33280/50176 (66%)]\tLoss: 1.360824\n"
     ]
    },
    {
     "name": "stderr",
     "output_type": "stream",
     "text": [
      " 74%|██████████████████████████████████████████████████████████████████████████████████████████████▋                                 | 145/196 [00:04<00:01, 33.54it/s]"
     ]
    },
    {
     "name": "stdout",
     "output_type": "stream",
     "text": [
      "Train Epoch: 17 [35840/50176 (71%)]\tLoss: 1.371394\n"
     ]
    },
    {
     "name": "stderr",
     "output_type": "stream",
     "text": [
      " 80%|██████████████████████████████████████████████████████████████████████████████████████████████████████▌                         | 157/196 [00:04<00:01, 33.69it/s]"
     ]
    },
    {
     "name": "stdout",
     "output_type": "stream",
     "text": [
      "Train Epoch: 17 [38400/50176 (77%)]\tLoss: 1.354516\n"
     ]
    },
    {
     "name": "stderr",
     "output_type": "stream",
     "text": [
      " 84%|███████████████████████████████████████████████████████████████████████████████████████████████████████████▊                    | 165/196 [00:05<00:00, 33.88it/s]"
     ]
    },
    {
     "name": "stdout",
     "output_type": "stream",
     "text": [
      "Train Epoch: 17 [40960/50176 (82%)]\tLoss: 1.380964\n"
     ]
    },
    {
     "name": "stderr",
     "output_type": "stream",
     "text": [
      " 90%|███████████████████████████████████████████████████████████████████████████████████████████████████████████████████▌            | 177/196 [00:05<00:00, 33.09it/s]"
     ]
    },
    {
     "name": "stdout",
     "output_type": "stream",
     "text": [
      "Train Epoch: 17 [43520/50176 (87%)]\tLoss: 1.353196\n"
     ]
    },
    {
     "name": "stderr",
     "output_type": "stream",
     "text": [
      " 94%|████████████████████████████████████████████████████████████████████████████████████████████████████████████████████████▊       | 185/196 [00:05<00:00, 33.86it/s]"
     ]
    },
    {
     "name": "stdout",
     "output_type": "stream",
     "text": [
      "Train Epoch: 17 [46080/50176 (92%)]\tLoss: 1.377692\n"
     ]
    },
    {
     "name": "stderr",
     "output_type": "stream",
     "text": [
      "100%|████████████████████████████████████████████████████████████████████████████████████████████████████████████████████████████████| 196/196 [00:06<00:00, 32.19it/s]"
     ]
    },
    {
     "name": "stdout",
     "output_type": "stream",
     "text": [
      "Train Epoch: 17 [48640/50176 (97%)]\tLoss: 1.371984\n"
     ]
    },
    {
     "name": "stderr",
     "output_type": "stream",
     "text": [
      "\n"
     ]
    },
    {
     "name": "stdout",
     "output_type": "stream",
     "text": [
      "Input\tonly way left to get water, because Voldemort had planned it so ... He flung himself over to the edge\n",
      "GT\tnly way left to get water, because Voldemort had planned it so ... He flung himself over to the edge \n",
      "pred\tn y ths tott th hot thser  aucause holdemort wad branned tn womm . ae woisg him elf aner th the fnge \n",
      "\n",
      "\n",
      "Input\ts that had his arm. It released him, falling backward into the water with a splash; he scrambled to h\n",
      "GT\t that had his arm. It released him, falling backward into the water with a splash; he scrambled to hi\n",
      "pred\t ahat hed bas frm  Ht weaaased tis  aocleng aack ard anto the caler ahth a ltiathe te htaembeed ao hi\n",
      "\n",
      "\n",
      "Input\tath, and his feet left the ground as they lifted him and began to carry him, slowly and surely, back \n",
      "GT\tth, and his feet left the ground as they lifted him and began to carry him, slowly and surely, back t\n",
      "pred\tnhe and tes hoet aott ahe cround an hhe  wokeed aim and secan to torey aim  atiwly atd stdp y  auck t\n",
      "\n",
      "\n",
      "Input\t . . .\n",
      "Dumbledore scooped the locket from the bottom of the stone basin and stowed it inside his robe\n",
      "GT\t. . .\n",
      "Dumbledore scooped the locket from the bottom of the stone basin and stowed it inside his robes\n",
      "pred\t\" . . \n",
      "umbledore wtroked aoe dook t arom the cootlm of the ctane sacingand ttaoed an antide tis hobes\n",
      "\n",
      "\n",
      "Input\t\"sir, I forgot -- about fire -- they were coming at me and I panicked --\"\n",
      "\"Quite understandable,\" mur\n",
      "GT\tsir, I forgot -- about fire -- they were coming at me and I panicked --\"\n",
      "\"Quite understandable,\" murm\n",
      "pred\t\n",
      "or, H dou ot t\" tnout tons y\" ahe  were aoming tt to and t dustseed t\" \n",
      "\"Iutte msderstand yle   sutm\n",
      "\n",
      "\n",
      "\n",
      "Test set: Average loss: 1.3919, Accuracy: 743956/1254400 (59%)\n",
      "\n",
      "Saved /home/jefftian/Documents/21au/cse490g1/hw2content/checkpoints/017.pt\n",
      "\n",
      "generated max\t\t Harry Potter, Voldemort, and Dumbledore walk into a bar. He was still standing at the top of the train and the top of the corridor to the forest and the top of the train was standing at the top of the train was standing at the top of the train was standing \n",
      "generated sample\t Harry Potter, Voldemort, and Dumbledore walk into a bar. She let up contanced, \"by her exawn to word it?\"\n",
      "RO Yo\n",
      " Harry Brouched, Snape to look   of horribledickly, Harry had given as he could sear throu out front of His hair and\n",
      "he go.\"\n",
      "\n",
      "\n",
      "\"Hell, expectly ev\n",
      "generated sample\t Harry Potter, Voldemort, and Dumbledore walk into a bar. Harry plate the examse lesson stakested.\n",
      "\n",
      "Yescalled look with a while in and Boldemort in whip; they down one of the roft on things would in my up!\"\n",
      "\"I want to stupe?\" he looked round, stare clingly. \n",
      "generated sample\t Harry Potter, Voldemort, and Dumbledore walk into a bar. Cucklet anot on her looming up exeral voine con visited and listed, but then justed on the ground, to fluttered and too became to a\n",
      "cite for thin. To Fight made a bitterwation on the poose. Nfear of c\n",
      "generated sample\t Harry Potter, Voldemort, and Dumbledore walk into a bar. Pidecaptors all from I pace. Most and \n",
      "Dumberobed evasse.\n",
      "\"But he cared it.\"\n",
      "'Yeah, would he,\" he shouted at the othest... He Bad as\n",
      "the foot pointed to ancie cheergesily understoned on the walls wead\n",
      "generated sample\t Harry Potter, Voldemort, and Dumbledore walk into a bar. \n",
      " \"You will lon go -ith an intor of it?\" RHHER SUE WET SF SEDOV0 RHTORRNU- TORK Ranage Ablist can more that he don't\n",
      "ket the sin's done   rose it's letter   of Harry'-  Drohes,' Hope Ine light of thes\n",
      "generated sample\t Harry Potter, Voldemort, and Dumbledore walk into a bar. There was a moment of himself ground to do at Ron. even on she started at look inside mysciri;.\n",
      "\n",
      "The lamps threade his rome inder or the dreat of her, the other all were writangle no. It would on the \n",
      "generated sample\t Harry Potter, Voldemort, and Dumbledore walk into a bar. Erch his head enchapsion an exceletal and accospt hem a grught flow of hold.\n",
      "\n",
      "\"No, You like the twent, fey, away, how I mean I there harsell thingh . . . .\"\n",
      "\"\\ust need to seve it,\" said Harry, from in\n"
     ]
    },
    {
     "name": "stderr",
     "output_type": "stream",
     "text": [
      "\r",
      "  0%|                                                                                                                                          | 0/196 [00:00<?, ?it/s]"
     ]
    },
    {
     "name": "stdout",
     "output_type": "stream",
     "text": [
      "generated sample\t Harry Potter, Voldemort, and Dumbledore walk into a bar. Hagrid of hearing bannelg that might potion hif the gole in her prouching Scrawe. \"He --\"\n",
      "\"Wome whI' I'! she's you alight? I that?\" he said, raibled Harry, his came.\n",
      "\n",
      "Harry looked it in a corcle becau\n",
      "generated sample\t Harry Potter, Voldemort, and Dumbledore walk into a bar. Mrofesto; \n",
      "\n",
      "\"Of would she cope of My toy loud recognified.\n",
      "\"You find it he's pentated.\"\n",
      ". . yeah, Professor Scrotes, Potionally contrupted of face cogered horirally collard from his\n",
      "prefense, and shad\n",
      "generated sample\t Harry Potter, Voldemort, and Dumbledore walk into a bar. \"He got a people placently junnown worrelf. . . . . and you see the scare dash for her,\"\n",
      "\"No shine for the imporsetime. ..\"Live minight in juictmas at the deser's pot a longem room at the mitch. Ne'll\n",
      "\n"
     ]
    },
    {
     "name": "stderr",
     "output_type": "stream",
     "text": [
      "  3%|███▎                                                                                                                              | 5/196 [00:00<00:14, 12.88it/s]"
     ]
    },
    {
     "name": "stdout",
     "output_type": "stream",
     "text": [
      "Train Epoch: 18 [0/50176 (0%)]\tLoss: 1.360158\n"
     ]
    },
    {
     "name": "stderr",
     "output_type": "stream",
     "text": [
      "  9%|███████████▏                                                                                                                     | 17/196 [00:00<00:06, 27.69it/s]"
     ]
    },
    {
     "name": "stdout",
     "output_type": "stream",
     "text": [
      "Train Epoch: 18 [2560/50176 (5%)]\tLoss: 1.346497\n"
     ]
    },
    {
     "name": "stderr",
     "output_type": "stream",
     "text": [
      " 13%|████████████████▍                                                                                                                | 25/196 [00:01<00:05, 31.31it/s]"
     ]
    },
    {
     "name": "stdout",
     "output_type": "stream",
     "text": [
      "Train Epoch: 18 [5120/50176 (10%)]\tLoss: 1.383538\n"
     ]
    },
    {
     "name": "stderr",
     "output_type": "stream",
     "text": [
      " 19%|████████████████████████▎                                                                                                        | 37/196 [00:01<00:04, 33.83it/s]"
     ]
    },
    {
     "name": "stdout",
     "output_type": "stream",
     "text": [
      "Train Epoch: 18 [7680/50176 (15%)]\tLoss: 1.360426\n"
     ]
    },
    {
     "name": "stderr",
     "output_type": "stream",
     "text": [
      " 23%|█████████████████████████████▌                                                                                                   | 45/196 [00:01<00:04, 33.90it/s]"
     ]
    },
    {
     "name": "stdout",
     "output_type": "stream",
     "text": [
      "Train Epoch: 18 [10240/50176 (20%)]\tLoss: 1.353440\n"
     ]
    },
    {
     "name": "stderr",
     "output_type": "stream",
     "text": [
      " 29%|█████████████████████████████████████▌                                                                                           | 57/196 [00:01<00:04, 33.17it/s]"
     ]
    },
    {
     "name": "stdout",
     "output_type": "stream",
     "text": [
      "Train Epoch: 18 [12800/50176 (26%)]\tLoss: 1.352187\n"
     ]
    },
    {
     "name": "stderr",
     "output_type": "stream",
     "text": [
      " 33%|██████████████████████████████████████████▊                                                                                      | 65/196 [00:02<00:03, 33.59it/s]"
     ]
    },
    {
     "name": "stdout",
     "output_type": "stream",
     "text": [
      "Train Epoch: 18 [15360/50176 (31%)]\tLoss: 1.370875\n"
     ]
    },
    {
     "name": "stderr",
     "output_type": "stream",
     "text": [
      " 39%|██████████████████████████████████████████████████▋                                                                              | 77/196 [00:02<00:03, 33.72it/s]"
     ]
    },
    {
     "name": "stdout",
     "output_type": "stream",
     "text": [
      "Train Epoch: 18 [17920/50176 (36%)]\tLoss: 1.368720\n"
     ]
    },
    {
     "name": "stderr",
     "output_type": "stream",
     "text": [
      " 43%|███████████████████████████████████████████████████████▉                                                                         | 85/196 [00:02<00:03, 33.75it/s]"
     ]
    },
    {
     "name": "stdout",
     "output_type": "stream",
     "text": [
      "Train Epoch: 18 [20480/50176 (41%)]\tLoss: 1.349907\n"
     ]
    },
    {
     "name": "stderr",
     "output_type": "stream",
     "text": [
      " 49%|███████████████████████████████████████████████████████████████▊                                                                 | 97/196 [00:03<00:02, 33.69it/s]"
     ]
    },
    {
     "name": "stdout",
     "output_type": "stream",
     "text": [
      "Train Epoch: 18 [23040/50176 (46%)]\tLoss: 1.352996\n"
     ]
    },
    {
     "name": "stderr",
     "output_type": "stream",
     "text": [
      " 54%|████████████████████████████████████████████████████████████████████▌                                                           | 105/196 [00:03<00:02, 33.92it/s]"
     ]
    },
    {
     "name": "stdout",
     "output_type": "stream",
     "text": [
      "Train Epoch: 18 [25600/50176 (51%)]\tLoss: 1.362378\n"
     ]
    },
    {
     "name": "stderr",
     "output_type": "stream",
     "text": [
      " 60%|████████████████████████████████████████████████████████████████████████████▍                                                   | 117/196 [00:03<00:02, 33.62it/s]"
     ]
    },
    {
     "name": "stdout",
     "output_type": "stream",
     "text": [
      "Train Epoch: 18 [28160/50176 (56%)]\tLoss: 1.369109\n"
     ]
    },
    {
     "name": "stderr",
     "output_type": "stream",
     "text": [
      " 64%|█████████████████████████████████████████████████████████████████████████████████▋                                              | 125/196 [00:03<00:02, 33.66it/s]"
     ]
    },
    {
     "name": "stdout",
     "output_type": "stream",
     "text": [
      "Train Epoch: 18 [30720/50176 (61%)]\tLoss: 1.363368\n"
     ]
    },
    {
     "name": "stderr",
     "output_type": "stream",
     "text": [
      " 70%|█████████████████████████████████████████████████████████████████████████████████████████▍                                      | 137/196 [00:04<00:01, 33.61it/s]"
     ]
    },
    {
     "name": "stdout",
     "output_type": "stream",
     "text": [
      "Train Epoch: 18 [33280/50176 (66%)]\tLoss: 1.358750\n"
     ]
    },
    {
     "name": "stderr",
     "output_type": "stream",
     "text": [
      " 74%|██████████████████████████████████████████████████████████████████████████████████████████████▋                                 | 145/196 [00:04<00:01, 33.42it/s]"
     ]
    },
    {
     "name": "stdout",
     "output_type": "stream",
     "text": [
      "Train Epoch: 18 [35840/50176 (71%)]\tLoss: 1.369482\n"
     ]
    },
    {
     "name": "stderr",
     "output_type": "stream",
     "text": [
      " 80%|██████████████████████████████████████████████████████████████████████████████████████████████████████▌                         | 157/196 [00:04<00:01, 33.59it/s]"
     ]
    },
    {
     "name": "stdout",
     "output_type": "stream",
     "text": [
      "Train Epoch: 18 [38400/50176 (77%)]\tLoss: 1.351084\n"
     ]
    },
    {
     "name": "stderr",
     "output_type": "stream",
     "text": [
      " 84%|███████████████████████████████████████████████████████████████████████████████████████████████████████████▊                    | 165/196 [00:05<00:00, 33.26it/s]"
     ]
    },
    {
     "name": "stdout",
     "output_type": "stream",
     "text": [
      "Train Epoch: 18 [40960/50176 (82%)]\tLoss: 1.376643\n"
     ]
    },
    {
     "name": "stderr",
     "output_type": "stream",
     "text": [
      " 90%|███████████████████████████████████████████████████████████████████████████████████████████████████████████████████▌            | 177/196 [00:05<00:00, 33.57it/s]"
     ]
    },
    {
     "name": "stdout",
     "output_type": "stream",
     "text": [
      "Train Epoch: 18 [43520/50176 (87%)]\tLoss: 1.350523\n"
     ]
    },
    {
     "name": "stderr",
     "output_type": "stream",
     "text": [
      " 94%|████████████████████████████████████████████████████████████████████████████████████████████████████████████████████████▊       | 185/196 [00:05<00:00, 33.78it/s]"
     ]
    },
    {
     "name": "stdout",
     "output_type": "stream",
     "text": [
      "Train Epoch: 18 [46080/50176 (92%)]\tLoss: 1.374511\n"
     ]
    },
    {
     "name": "stderr",
     "output_type": "stream",
     "text": [
      " 98%|██████████████████████████████████████████████████████████████████████████████████████████████████████████████████████████████  | 193/196 [00:06<00:00, 33.46it/s]"
     ]
    },
    {
     "name": "stdout",
     "output_type": "stream",
     "text": [
      "Train Epoch: 18 [48640/50176 (97%)]\tLoss: 1.369516\n"
     ]
    },
    {
     "name": "stderr",
     "output_type": "stream",
     "text": [
      "100%|████████████████████████████████████████████████████████████████████████████████████████████████████████████████████████████████| 196/196 [00:06<00:00, 31.71it/s]\n"
     ]
    },
    {
     "name": "stdout",
     "output_type": "stream",
     "text": [
      "Input\tonly way left to get water, because Voldemort had planned it so ... He flung himself over to the edge\n",
      "GT\tnly way left to get water, because Voldemort had planned it so ... He flung himself over to the edge \n",
      "pred\tn y ths tott th hot tiser  aucause holdemort wad branned tn womm . ae woasg him elf aner th the fnge \n",
      "\n",
      "\n",
      "Input\ts that had his arm. It released him, falling backward into the water with a splash; he scrambled to h\n",
      "GT\t that had his arm. It released him, falling backward into the water with a splash; he scrambled to hi\n",
      "pred\t ahat hed bas frm  Ht weaaased tim  aocleng aack ard anto the caler ahth h ltiathe oe htaembeed ao hi\n",
      "\n",
      "\n",
      "Input\tath, and his feet left the ground as they lifted him and began to carry him, slowly and surely, back \n",
      "GT\tth, and his feet left the ground as they lifted him and began to carry him, slowly and surely, back t\n",
      "pred\tnhe and tes haet aott ahe dround an hhe  wokeed aim and secan to torey aim  atiwly atd stdp y  auck t\n",
      "\n",
      "\n",
      "Input\t . . .\n",
      "Dumbledore scooped the locket from the bottom of the stone basin and stowed it inside his robe\n",
      "GT\t. . .\n",
      "Dumbledore scooped the locket from the bottom of the stone basin and stowed it inside his robes\n",
      "pred\t\n",
      " . . \n",
      "umbledore wtroked aoe dook t arom the cootlm of the ctane sacingand staoed an antide tis hobes\n",
      "\n",
      "\n",
      "Input\t\"sir, I forgot -- about fire -- they were coming at me and I panicked --\"\n",
      "\"Quite understandable,\" mur\n",
      "GT\tsir, I forgot -- about fire -- they were coming at me and I panicked --\"\n",
      "\"Quite understandable,\" murm\n",
      "pred\t\n",
      "or, I dougot t\" tnout tons y\" the  were aoming tt to tnd t dustseed t\" \n",
      "\"Iutte msder tand yle   sutm\n",
      "\n",
      "\n",
      "\n",
      "Test set: Average loss: 1.3890, Accuracy: 745302/1254400 (59%)\n",
      "\n",
      "Saved /home/jefftian/Documents/21au/cse490g1/hw2content/checkpoints/018.pt\n",
      "\n",
      "generated max\t\t Harry Potter, Voldemort, and Dumbledore walk into a bar. He was still standing at the top of the train was standing at the top of the corner of the train was standing at the top of the train was standing at the top of the corner of the train was standing at\n",
      "generated sample\t Harry Potter, Voldemort, and Dumbledore walk into a bar. MuRcomforce loow low\n",
      "ghat with exahter two for you'm tasking her applaudial minute too bit proprifelly and which he got given he had never could tacked with you're last they work -- I was like Luofes.\n",
      "generated sample\t Harry Potter, Voldemort, and Dumbledore walk into a bar. \"I think so use of your hanche!\" \n",
      "Sombtie shortly on the crowd talked in on he wouldly saggering him in his great anding blue back the way on her -man now he could see I rust right at him.\n",
      "\"You coming\n",
      "generated sample\t Harry Potter, Voldemort, and Dumbledore walk into a bar. Arub - and him to -- it wile still Ministry illy continus, 'real Burid's up I thing to revergeor, did now!\"\n",
      "Harry was\n",
      "said, Dumbledore took a trou.\n",
      "\"Minny toget.\" Ron closed wee'l. Fuf was she was inn\n",
      "generated sample\t Harry Potter, Voldemort, and Dumbledore walk into a bar. . . but Hermione-to passed Uith dear?\" as he come back and on chosely slug gone to, the Vorm of Harry was muggled around. He broked his glisteries chained and still robes to the world looking with out\n",
      "generated sample\t Harry Potter, Voldemort, and Dumbledore walk into a bar. Kalfory turned into his Freach ro5e of your down Snote to the Dormticy for UGmbut Snape mon to Harry.\n",
      "The taples foor the house with Ulnety night, which stared at exchape for Professor Mccast. Snaze h\n",
      "generated sample\t Harry Potter, Voldemort, and Dumbledore walk into a bar. Ron Rupled of a look night.\n",
      "\n",
      "\"Golly grot and doesn't ask my of the group in interest of wizarda this ribus\n",
      "lith wings that hur use'esbed on with him and I stare waiting to high,\"\n",
      "Harry wasgept alone.\n",
      "\n",
      "generated sample\t Harry Potter, Voldemort, and Dumbledore walk into a bar. .. you send the momes of was overheard from Ch, Poksy!\"\n",
      "\"You' dobby sent your points,\"\n",
      "\n",
      "His good dod somethere at the Gluty power;\n",
      "If if it. There about the deal horn't world and he reased . . . .\"\n",
      "\n",
      "\"\n"
     ]
    },
    {
     "name": "stderr",
     "output_type": "stream",
     "text": [
      "\r",
      "  0%|                                                                                                                                          | 0/196 [00:00<?, ?it/s]"
     ]
    },
    {
     "name": "stdout",
     "output_type": "stream",
     "text": [
      "generated sample\t Harry Potter, Voldemort, and Dumbledore walk into a bar. Mr. Ast wea[ hootspear twinDed,\n",
      "Harry Harry could to be the foam poping to Hockhagarip. He had look steaking red pleates, who curled hiself housefully, That Harry bleed-; he had only her a twith priep\n",
      "generated sample\t Harry Potter, Voldemort, and Dumbledore walk into a bar. \n",
      "\n",
      "Harry turned and Ginny was her or broard, pursented at the cold of dramagenif and on the propect point, down at poks and know east laughing hard once that even on a long for broom compatenty to neve\n",
      "generated sample\t Harry Potter, Voldemort, and Dumbledore walk into a bar. let of fult fur years acut into the rest on to hole and the\n",
      "most for more you spilcome, listen, you will on isn' What never was, leeping make to the Mallemore Boom.-\n",
      "\n",
      "Nrad on Dumbledore commled the co\n",
      "\n"
     ]
    },
    {
     "name": "stderr",
     "output_type": "stream",
     "text": [
      "  3%|███▎                                                                                                                              | 5/196 [00:00<00:14, 13.07it/s]"
     ]
    },
    {
     "name": "stdout",
     "output_type": "stream",
     "text": [
      "Train Epoch: 19 [0/50176 (0%)]\tLoss: 1.356994\n"
     ]
    },
    {
     "name": "stderr",
     "output_type": "stream",
     "text": [
      "  9%|███████████▏                                                                                                                     | 17/196 [00:00<00:06, 27.55it/s]"
     ]
    },
    {
     "name": "stdout",
     "output_type": "stream",
     "text": [
      "Train Epoch: 19 [2560/50176 (5%)]\tLoss: 1.343875\n"
     ]
    },
    {
     "name": "stderr",
     "output_type": "stream",
     "text": [
      " 13%|████████████████▍                                                                                                                | 25/196 [00:01<00:05, 30.69it/s]"
     ]
    },
    {
     "name": "stdout",
     "output_type": "stream",
     "text": [
      "Train Epoch: 19 [5120/50176 (10%)]\tLoss: 1.381216\n"
     ]
    },
    {
     "name": "stderr",
     "output_type": "stream",
     "text": [
      " 19%|████████████████████████▎                                                                                                        | 37/196 [00:01<00:04, 32.60it/s]"
     ]
    },
    {
     "name": "stdout",
     "output_type": "stream",
     "text": [
      "Train Epoch: 19 [7680/50176 (15%)]\tLoss: 1.358125\n"
     ]
    },
    {
     "name": "stderr",
     "output_type": "stream",
     "text": [
      " 23%|█████████████████████████████▌                                                                                                   | 45/196 [00:01<00:04, 33.01it/s]"
     ]
    },
    {
     "name": "stdout",
     "output_type": "stream",
     "text": [
      "Train Epoch: 19 [10240/50176 (20%)]\tLoss: 1.350896\n"
     ]
    },
    {
     "name": "stderr",
     "output_type": "stream",
     "text": [
      " 29%|█████████████████████████████████████▌                                                                                           | 57/196 [00:02<00:04, 33.50it/s]"
     ]
    },
    {
     "name": "stdout",
     "output_type": "stream",
     "text": [
      "Train Epoch: 19 [12800/50176 (26%)]\tLoss: 1.349001\n"
     ]
    },
    {
     "name": "stderr",
     "output_type": "stream",
     "text": [
      " 33%|██████████████████████████████████████████▊                                                                                      | 65/196 [00:02<00:03, 33.23it/s]"
     ]
    },
    {
     "name": "stdout",
     "output_type": "stream",
     "text": [
      "Train Epoch: 19 [15360/50176 (31%)]\tLoss: 1.367152\n"
     ]
    },
    {
     "name": "stderr",
     "output_type": "stream",
     "text": [
      " 39%|██████████████████████████████████████████████████▋                                                                              | 77/196 [00:02<00:03, 33.54it/s]"
     ]
    },
    {
     "name": "stdout",
     "output_type": "stream",
     "text": [
      "Train Epoch: 19 [17920/50176 (36%)]\tLoss: 1.365571\n"
     ]
    },
    {
     "name": "stderr",
     "output_type": "stream",
     "text": [
      " 43%|███████████████████████████████████████████████████████▉                                                                         | 85/196 [00:02<00:03, 33.52it/s]"
     ]
    },
    {
     "name": "stdout",
     "output_type": "stream",
     "text": [
      "Train Epoch: 19 [20480/50176 (41%)]\tLoss: 1.346584\n"
     ]
    },
    {
     "name": "stderr",
     "output_type": "stream",
     "text": [
      " 49%|███████████████████████████████████████████████████████████████▊                                                                 | 97/196 [00:03<00:02, 33.40it/s]"
     ]
    },
    {
     "name": "stdout",
     "output_type": "stream",
     "text": [
      "Train Epoch: 19 [23040/50176 (46%)]\tLoss: 1.349751\n"
     ]
    },
    {
     "name": "stderr",
     "output_type": "stream",
     "text": [
      " 54%|████████████████████████████████████████████████████████████████████▌                                                           | 105/196 [00:03<00:02, 33.52it/s]"
     ]
    },
    {
     "name": "stdout",
     "output_type": "stream",
     "text": [
      "Train Epoch: 19 [25600/50176 (51%)]\tLoss: 1.360059\n"
     ]
    },
    {
     "name": "stderr",
     "output_type": "stream",
     "text": [
      " 60%|████████████████████████████████████████████████████████████████████████████▍                                                   | 117/196 [00:03<00:02, 33.31it/s]"
     ]
    },
    {
     "name": "stdout",
     "output_type": "stream",
     "text": [
      "Train Epoch: 19 [28160/50176 (56%)]\tLoss: 1.366839\n"
     ]
    },
    {
     "name": "stderr",
     "output_type": "stream",
     "text": [
      " 64%|█████████████████████████████████████████████████████████████████████████████████▋                                              | 125/196 [00:04<00:02, 33.44it/s]"
     ]
    },
    {
     "name": "stdout",
     "output_type": "stream",
     "text": [
      "Train Epoch: 19 [30720/50176 (61%)]\tLoss: 1.361440\n"
     ]
    },
    {
     "name": "stderr",
     "output_type": "stream",
     "text": [
      " 70%|█████████████████████████████████████████████████████████████████████████████████████████▍                                      | 137/196 [00:04<00:01, 33.50it/s]"
     ]
    },
    {
     "name": "stdout",
     "output_type": "stream",
     "text": [
      "Train Epoch: 19 [33280/50176 (66%)]\tLoss: 1.356276\n"
     ]
    },
    {
     "name": "stderr",
     "output_type": "stream",
     "text": [
      " 74%|██████████████████████████████████████████████████████████████████████████████████████████████▋                                 | 145/196 [00:04<00:01, 33.36it/s]"
     ]
    },
    {
     "name": "stdout",
     "output_type": "stream",
     "text": [
      "Train Epoch: 19 [35840/50176 (71%)]\tLoss: 1.368106\n"
     ]
    },
    {
     "name": "stderr",
     "output_type": "stream",
     "text": [
      " 80%|██████████████████████████████████████████████████████████████████████████████████████████████████████▌                         | 157/196 [00:04<00:01, 34.40it/s]"
     ]
    },
    {
     "name": "stdout",
     "output_type": "stream",
     "text": [
      "Train Epoch: 19 [38400/50176 (77%)]\tLoss: 1.349014\n"
     ]
    },
    {
     "name": "stderr",
     "output_type": "stream",
     "text": [
      " 84%|███████████████████████████████████████████████████████████████████████████████████████████████████████████▊                    | 165/196 [00:05<00:00, 34.64it/s]"
     ]
    },
    {
     "name": "stdout",
     "output_type": "stream",
     "text": [
      "Train Epoch: 19 [40960/50176 (82%)]\tLoss: 1.372952\n"
     ]
    },
    {
     "name": "stderr",
     "output_type": "stream",
     "text": [
      " 90%|███████████████████████████████████████████████████████████████████████████████████████████████████████████████████▌            | 177/196 [00:05<00:00, 35.24it/s]"
     ]
    },
    {
     "name": "stdout",
     "output_type": "stream",
     "text": [
      "Train Epoch: 19 [43520/50176 (87%)]\tLoss: 1.347635\n"
     ]
    },
    {
     "name": "stderr",
     "output_type": "stream",
     "text": [
      " 94%|████████████████████████████████████████████████████████████████████████████████████████████████████████████████████████▊       | 185/196 [00:05<00:00, 34.28it/s]"
     ]
    },
    {
     "name": "stdout",
     "output_type": "stream",
     "text": [
      "Train Epoch: 19 [46080/50176 (92%)]\tLoss: 1.371848\n"
     ]
    },
    {
     "name": "stderr",
     "output_type": "stream",
     "text": [
      " 98%|██████████████████████████████████████████████████████████████████████████████████████████████████████████████████████████████  | 193/196 [00:06<00:00, 33.62it/s]"
     ]
    },
    {
     "name": "stdout",
     "output_type": "stream",
     "text": [
      "Train Epoch: 19 [48640/50176 (97%)]\tLoss: 1.367225\n"
     ]
    },
    {
     "name": "stderr",
     "output_type": "stream",
     "text": [
      "100%|████████████████████████████████████████████████████████████████████████████████████████████████████████████████████████████████| 196/196 [00:06<00:00, 31.73it/s]\n"
     ]
    },
    {
     "name": "stdout",
     "output_type": "stream",
     "text": [
      "Input\tonly way left to get water, because Voldemort had planned it so ... He flung himself over to the edge\n",
      "GT\tnly way left to get water, because Voldemort had planned it so ... He flung himself over to the edge \n",
      "pred\tn y ths tott th hot tiser  aucause holdemort wad branned tn womm . te woang him elf oner th the fnge \n",
      "\n",
      "\n",
      "Input\ts that had his arm. It released him, falling backward into the water with a splash; he scrambled to h\n",
      "GT\t that had his arm. It released him, falling backward into the water with a splash; he scrambled to hi\n",
      "pred\t ahat hed bas frm  Ht weaaased tim  aocleng aack ard anto the caler ahth h stiathe oe htrembeed ao hi\n",
      "\n",
      "\n",
      "Input\tath, and his feet left the ground as they lifted him and began to carry him, slowly and surely, back \n",
      "GT\tth, and his feet left the ground as they lifted him and began to carry him, slowly and surely, back t\n",
      "pred\tnhe and tes haet aott ahe dround an hhe  wokeed ais and secan to torey aim  atiwly atd stdp y  auck t\n",
      "\n",
      "\n",
      "Input\t . . .\n",
      "Dumbledore scooped the locket from the bottom of the stone basin and stowed it inside his robe\n",
      "GT\t. . .\n",
      "Dumbledore scooped the locket from the bottom of the stone basin and stowed it inside his robes\n",
      "pred\t\n",
      " . . \n",
      "umbledore wtroked aoe dook t arom the cootlm of the ctane sacingand staoed an antide tis hobes\n",
      "\n",
      "\n",
      "Input\t\"sir, I forgot -- about fire -- they were coming at me and I panicked --\"\n",
      "\"Quite understandable,\" mur\n",
      "GT\tsir, I forgot -- about fire -- they were coming at me and I panicked --\"\n",
      "\"Quite understandable,\" murm\n",
      "pred\t\n",
      "or, I dougot t\" tnout tons y- the  were aoming tt to tnd t dustseed t\" \n",
      "\"Iutte msder tand yle   sutm\n",
      "\n",
      "\n",
      "\n",
      "Test set: Average loss: 1.3862, Accuracy: 746354/1254400 (59%)\n",
      "\n",
      "Saved /home/jefftian/Documents/21au/cse490g1/hw2content/checkpoints/019.pt\n",
      "\n",
      "generated max\t\t Harry Potter, Voldemort, and Dumbledore walk into a bar. He was still standing at the top of the corner of the train was standing at the top of the corner of the train was standing at the top of the corner of the train was standing at the top of the corner \n",
      "generated sample\t Harry Potter, Voldemort, and Dumbledore walk into a bar. anyone way that bood from us\n",
      "Eunce and boy, you have the far on power-wling fur.\n",
      "\n",
      "\"He can believe mineadys right, and I has very last,\" said Ron.\n",
      "\n",
      "\"I didn't dark around a cedled under his bother -\"\n",
      "\"W\n",
      "generated sample\t Harry Potter, Voldemort, and Dumbledore walk into a bar. \"Oh, drabout here aken't way though that I would have all your freshed. Harry kept a tralke's quidzils.\n",
      "\"I was cave eye. . . don't all you, How who have you-ve the turn owlw --\"\n",
      "Harry had no brange th\n",
      "generated sample\t Harry Potter, Voldemort, and Dumbledore walk into a bar. \"To...\"\n",
      "\"You'll stup at Hogrdin's blue unape, but again in the concerrant to has been truice. Mry and Hermione saime, two did speak Good look.\n",
      "\n",
      "\"Ar, and he housese some fur, and Had may, to here (uist\n",
      "generated sample\t Harry Potter, Voldemort, and Dumbledore walk into a bar. or hang.\n",
      "\n",
      "He behind him down the Popty was the\n",
      "Dormione's haupting when no fortable how foul of Malam grave! Harry blously borts of contrount so soday ooces.\n",
      "\"You make to 4o.\"\n",
      "\"They're took at you tha\n",
      "generated sample\t Harry Potter, Voldemort, and Dumbledore walk into a bar. yeh his eyes of foodftila wize wheve a higholed turning examilate\n",
      "haking oan the compres. He took ato the seconds. Morkin- at Harry.\n",
      "SFrius harver attentmenty, and An exause was not offrieved off go t\n",
      "generated sample\t Harry Potter, Voldemort, and Dumbledore walk into a bar. and Hermione appeared, out off in fock or end.\n",
      "Ghy he corrindown on he way on, lubbin for something.\n",
      "\n",
      "he doesn't his feet. He won'twas holding room in his fore?\"\n",
      "-Bagin walked out of Hagrid's halffly \n",
      "generated sample\t Harry Potter, Voldemort, and Dumbledore walk into a bar. Tover, Hormtail he looked around again, the boin breaming horrils all of the peath each his Ford gr?\n",
      "\n",
      "Dementoroaring Carcas, and on the prop the Dombledore one him tow its stayed at a few alway twee w\n"
     ]
    },
    {
     "name": "stderr",
     "output_type": "stream",
     "text": [
      "\r",
      "  0%|                                                                                                                                          | 0/196 [00:00<?, ?it/s]"
     ]
    },
    {
     "name": "stdout",
     "output_type": "stream",
     "text": [
      "generated sample\t Harry Potter, Voldemort, and Dumbledore walk into a bar. He reached them looking Sunter presentedene.\n",
      "\n",
      "There was to share on its, and he boded at him.\n",
      "\"It was it.\" Dust receing to l1ss nose by trroat,him exacally counted Lockhart irully light a heakty cate \n",
      "generated sample\t Harry Potter, Voldemort, and Dumbledore walk into a bar. Tom,\n",
      "Dumbledore.\n",
      "\"Wout that Vould not sake you cheer in what in'dead, homestina like Ron, with declime to do those I:?\"\n",
      "\"Don mup to hand to see where it was Snape's shine, but asked the Olug in really\n",
      "generated sample\t Harry Potter, Voldemort, and Dumbledore walk into a bar. Sircul hive insprements ffriends toward the more the darked on the --you give stone a large's\n",
      "mudget. Sumbledore bother beard, to tunble of baby of his have abry7ally puxple of speak,\"\n",
      "\n",
      "\"SI^2 F - rema\n",
      "\n"
     ]
    },
    {
     "name": "stderr",
     "output_type": "stream",
     "text": [
      "  3%|███▎                                                                                                                              | 5/196 [00:00<00:15, 12.60it/s]"
     ]
    },
    {
     "name": "stdout",
     "output_type": "stream",
     "text": [
      "Train Epoch: 20 [0/50176 (0%)]\tLoss: 1.353888\n"
     ]
    },
    {
     "name": "stderr",
     "output_type": "stream",
     "text": [
      "  9%|███████████▏                                                                                                                     | 17/196 [00:00<00:06, 26.85it/s]"
     ]
    },
    {
     "name": "stdout",
     "output_type": "stream",
     "text": [
      "Train Epoch: 20 [2560/50176 (5%)]\tLoss: 1.340751\n"
     ]
    },
    {
     "name": "stderr",
     "output_type": "stream",
     "text": [
      " 13%|████████████████▍                                                                                                                | 25/196 [00:01<00:05, 30.16it/s]"
     ]
    },
    {
     "name": "stdout",
     "output_type": "stream",
     "text": [
      "Train Epoch: 20 [5120/50176 (10%)]\tLoss: 1.380333\n"
     ]
    },
    {
     "name": "stderr",
     "output_type": "stream",
     "text": [
      " 19%|████████████████████████▎                                                                                                        | 37/196 [00:01<00:04, 33.10it/s]"
     ]
    },
    {
     "name": "stdout",
     "output_type": "stream",
     "text": [
      "Train Epoch: 20 [7680/50176 (15%)]\tLoss: 1.356138\n"
     ]
    },
    {
     "name": "stderr",
     "output_type": "stream",
     "text": [
      " 23%|█████████████████████████████▌                                                                                                   | 45/196 [00:01<00:04, 33.08it/s]"
     ]
    },
    {
     "name": "stdout",
     "output_type": "stream",
     "text": [
      "Train Epoch: 20 [10240/50176 (20%)]\tLoss: 1.348202\n"
     ]
    },
    {
     "name": "stderr",
     "output_type": "stream",
     "text": [
      " 29%|█████████████████████████████████████▌                                                                                           | 57/196 [00:02<00:04, 33.65it/s]"
     ]
    },
    {
     "name": "stdout",
     "output_type": "stream",
     "text": [
      "Train Epoch: 20 [12800/50176 (26%)]\tLoss: 1.347626\n"
     ]
    },
    {
     "name": "stderr",
     "output_type": "stream",
     "text": [
      " 33%|██████████████████████████████████████████▊                                                                                      | 65/196 [00:02<00:03, 33.47it/s]"
     ]
    },
    {
     "name": "stdout",
     "output_type": "stream",
     "text": [
      "Train Epoch: 20 [15360/50176 (31%)]\tLoss: 1.364804\n"
     ]
    },
    {
     "name": "stderr",
     "output_type": "stream",
     "text": [
      " 39%|██████████████████████████████████████████████████▋                                                                              | 77/196 [00:02<00:03, 33.86it/s]"
     ]
    },
    {
     "name": "stdout",
     "output_type": "stream",
     "text": [
      "Train Epoch: 20 [17920/50176 (36%)]\tLoss: 1.363173\n"
     ]
    },
    {
     "name": "stderr",
     "output_type": "stream",
     "text": [
      " 43%|███████████████████████████████████████████████████████▉                                                                         | 85/196 [00:02<00:03, 33.41it/s]"
     ]
    },
    {
     "name": "stdout",
     "output_type": "stream",
     "text": [
      "Train Epoch: 20 [20480/50176 (41%)]\tLoss: 1.344145\n"
     ]
    },
    {
     "name": "stderr",
     "output_type": "stream",
     "text": [
      " 49%|███████████████████████████████████████████████████████████████▊                                                                 | 97/196 [00:03<00:02, 33.49it/s]"
     ]
    },
    {
     "name": "stdout",
     "output_type": "stream",
     "text": [
      "Train Epoch: 20 [23040/50176 (46%)]\tLoss: 1.347446\n"
     ]
    },
    {
     "name": "stderr",
     "output_type": "stream",
     "text": [
      " 54%|████████████████████████████████████████████████████████████████████▌                                                           | 105/196 [00:03<00:02, 33.60it/s]"
     ]
    },
    {
     "name": "stdout",
     "output_type": "stream",
     "text": [
      "Train Epoch: 20 [25600/50176 (51%)]\tLoss: 1.357023\n"
     ]
    },
    {
     "name": "stderr",
     "output_type": "stream",
     "text": [
      " 60%|████████████████████████████████████████████████████████████████████████████▍                                                   | 117/196 [00:03<00:02, 33.81it/s]"
     ]
    },
    {
     "name": "stdout",
     "output_type": "stream",
     "text": [
      "Train Epoch: 20 [28160/50176 (56%)]\tLoss: 1.364828\n"
     ]
    },
    {
     "name": "stderr",
     "output_type": "stream",
     "text": [
      " 64%|█████████████████████████████████████████████████████████████████████████████████▋                                              | 125/196 [00:04<00:02, 34.10it/s]"
     ]
    },
    {
     "name": "stdout",
     "output_type": "stream",
     "text": [
      "Train Epoch: 20 [30720/50176 (61%)]\tLoss: 1.358088\n"
     ]
    },
    {
     "name": "stderr",
     "output_type": "stream",
     "text": [
      " 70%|█████████████████████████████████████████████████████████████████████████████████████████▍                                      | 137/196 [00:04<00:01, 33.72it/s]"
     ]
    },
    {
     "name": "stdout",
     "output_type": "stream",
     "text": [
      "Train Epoch: 20 [33280/50176 (66%)]\tLoss: 1.352633\n"
     ]
    },
    {
     "name": "stderr",
     "output_type": "stream",
     "text": [
      " 74%|██████████████████████████████████████████████████████████████████████████████████████████████▋                                 | 145/196 [00:04<00:01, 33.53it/s]"
     ]
    },
    {
     "name": "stdout",
     "output_type": "stream",
     "text": [
      "Train Epoch: 20 [35840/50176 (71%)]\tLoss: 1.366052\n"
     ]
    },
    {
     "name": "stderr",
     "output_type": "stream",
     "text": [
      " 80%|██████████████████████████████████████████████████████████████████████████████████████████████████████▌                         | 157/196 [00:04<00:01, 33.65it/s]"
     ]
    },
    {
     "name": "stdout",
     "output_type": "stream",
     "text": [
      "Train Epoch: 20 [38400/50176 (77%)]\tLoss: 1.345307\n"
     ]
    },
    {
     "name": "stderr",
     "output_type": "stream",
     "text": [
      " 84%|███████████████████████████████████████████████████████████████████████████████████████████████████████████▊                    | 165/196 [00:05<00:00, 33.73it/s]"
     ]
    },
    {
     "name": "stdout",
     "output_type": "stream",
     "text": [
      "Train Epoch: 20 [40960/50176 (82%)]\tLoss: 1.370011\n"
     ]
    },
    {
     "name": "stderr",
     "output_type": "stream",
     "text": [
      " 90%|███████████████████████████████████████████████████████████████████████████████████████████████████████████████████▌            | 177/196 [00:05<00:00, 33.89it/s]"
     ]
    },
    {
     "name": "stdout",
     "output_type": "stream",
     "text": [
      "Train Epoch: 20 [43520/50176 (87%)]\tLoss: 1.344377\n"
     ]
    },
    {
     "name": "stderr",
     "output_type": "stream",
     "text": [
      " 94%|████████████████████████████████████████████████████████████████████████████████████████████████████████████████████████▊       | 185/196 [00:05<00:00, 34.65it/s]"
     ]
    },
    {
     "name": "stdout",
     "output_type": "stream",
     "text": [
      "Train Epoch: 20 [46080/50176 (92%)]\tLoss: 1.370490\n"
     ]
    },
    {
     "name": "stderr",
     "output_type": "stream",
     "text": [
      "100%|████████████████████████████████████████████████████████████████████████████████████████████████████████████████████████████████| 196/196 [00:06<00:00, 31.68it/s]"
     ]
    },
    {
     "name": "stdout",
     "output_type": "stream",
     "text": [
      "Train Epoch: 20 [48640/50176 (97%)]\tLoss: 1.365564\n"
     ]
    },
    {
     "name": "stderr",
     "output_type": "stream",
     "text": [
      "\n"
     ]
    },
    {
     "name": "stdout",
     "output_type": "stream",
     "text": [
      "Input\tonly way left to get water, because Voldemort had planned it so ... He flung himself over to the edge\n",
      "GT\tnly way left to get water, because Voldemort had planned it so ... He flung himself over to the edge \n",
      "pred\tn y tas tott th tot tiser  aucause holdemort wad branned tn womm . te woing him elf oner th the fnge \n",
      "\n",
      "\n",
      "Input\ts that had his arm. It released him, falling backward into the water with a splash; he scrambled to h\n",
      "GT\t that had his arm. It released him, falling backward into the water with a splash; he scrambled to hi\n",
      "pred\t ahat hed bas frm  Ht weaaased tim  aocleng aack ard anto the caler ahth h stiathe oe htrembeed ao hi\n",
      "\n",
      "\n",
      "Input\tath, and his feet left the ground as they lifted him and began to carry him, slowly and surely, back \n",
      "GT\tth, and his feet left the ground as they lifted him and began to carry him, slowly and surely, back t\n",
      "pred\tnhe and tes haet aott ahe dround an the  wokeed ais and secan to torey aim  atiwly atd strp y  auck t\n",
      "\n",
      "\n",
      "Input\t . . .\n",
      "Dumbledore scooped the locket from the bottom of the stone basin and stowed it inside his robe\n",
      "GT\t. . .\n",
      "Dumbledore scooped the locket from the bottom of the stone basin and stowed it inside his robes\n",
      "pred\t\n",
      " . . \n",
      "umbledore wtroked aoe dook t arom the cootlm of the ttane sacingand staoed tn antide tis hobes\n",
      "\n",
      "\n",
      "Input\t\"sir, I forgot -- about fire -- they were coming at me and I panicked --\"\n",
      "\"Quite understandable,\" mur\n",
      "GT\tsir, I forgot -- about fire -- they were coming at me and I panicked --\"\n",
      "\"Quite understandable,\" murm\n",
      "pred\t\n",
      "or, I dougot t  tnout tons y- the  were aoming tt ty tnd t dustseed t\" \n",
      "\"Iutte msder tand yle   sutd\n",
      "\n",
      "\n",
      "\n",
      "Test set: Average loss: 1.3842, Accuracy: 747372/1254400 (60%)\n",
      "\n",
      "Saved /home/jefftian/Documents/21au/cse490g1/hw2content/checkpoints/020.pt\n",
      "\n",
      "generated max\t\t Harry Potter, Voldemort, and Dumbledore walk into a bar. He was still standing at the top of the train was standing at the top of the train was standing at the top of the train was standing at the top of the train was standing at the top of the train was st\n",
      "generated sample\t Harry Potter, Voldemort, and Dumbledore walk into a bar. . . .\n",
      "\"\n",
      "Frg hexplessed more War and the room and everyone had answered: by the concerent door was a new weeks.\n",
      "\"Duddin's Wage at the Dai! Tom, Ervis!\" gleate, stunned looking and he had to bay about a\n",
      "generated sample\t Harry Potter, Voldemort, and Dumbledore walk into a bar. Professon altemeres! he dangered an horrive and starred. ']ing was coming in from Lud. How rillike. \n",
      "\"Dide olch,?\" said Looh, springing to his back with handsilvery dear chairs was reminding by the ck\n",
      "generated sample\t Harry Potter, Voldemort, and Dumbledore walk into a bar. Thick\n",
      "of hide evercomment of the parson had only remembered the seature of deserted pualfing, stoney pass, witch itched the coastent, and to look in a door whether he\n",
      "went to stand when he\n",
      "hels wearin\n",
      "generated sample\t Harry Potter, Voldemort, and Dumbledore walk into a bar. . . just the touing wize probuents excellench?\n",
      "He knew Hasn' and you think our dreams's upstairs, 8hink your lip -\"\n",
      "\"E/W Dazen's Cmme!\" she caamed him at a very pulle could unter back\n",
      "winside his pock\n",
      "generated sample\t Harry Potter, Voldemort, and Dumbledore walk into a bar. Slything again.\n",
      "\"My feel. I s. just you really would you those thing of letzing,\" she was as tholower. Froute jestal of the colory luck to the pilchee of and fore, brooming dryfflent old\n",
      "him as though\n",
      "generated sample\t Harry Potter, Voldemort, and Dumbledore walk into a bar. when he didn't watche patied, that Ron't threst tell He and Gody was home into the trains, his Harry's host,\"- said zont noise to his dark she knew,\"\n",
      "\"Weaslep wearing, except memiliat?\" he asked youre\n",
      "generated sample\t Harry Potter, Voldemort, and Dumbledore walk into a bar. Bluried on the benear and Banidel. \"I need they could off its fie concented to they\n",
      "\n",
      "\"What d'ye! I've got to Harryagin Bravor?\" said Hagrid.\n",
      "He had not pointed at\n",
      "the for faded asley voice.\n",
      "\n",
      "\"Oht you \n",
      "generated sample\t Harry Potter, Voldemort, and Dumbledore walk into a bar. Fred right, just beatel,\n",
      "would had a sharp together had shrubed engulation and Lonbyon he quied to rashapp the boous dragon, a ggest horrid long line.\n",
      "\"I prophed our best in the forest,\n",
      "Thing,\" she ad\n",
      "generated sample\t Harry Potter, Voldemort, and Dumbledore walk into a bar. \"Ancle Vrofessor Slit-laster would he permint himself faming to a wait you coll I work hair, point\n",
      "to wath the would of fune Dubbleorace Mr.\n",
      "Codey, would ask I took Hagrid Mochlar to readfize his idea\n",
      "generated sample\t Harry Potter, Voldemort, and Dumbledore walk into a bar. He told she turned at Hagrid a pat\n",
      "curious\n",
      "from wine. Thy was that, 'scoy.\" Professor MHCGOE MS DBUGSETY.\"\n",
      "\n",
      "\"You call cho,\" she Muggled each in the boats. Harry looked around bo) us in the Froom and M\n",
      "\n",
      "Saving final model\n",
      "Saved /home/jefftian/Documents/21au/cse490g1/hw2content/checkpoints/020.pt\n",
      "\n"
     ]
    },
    {
     "data": {
      "image/png": "[encoded data removed]",
      "text/plain": [
       "<Figure size 1440x720 with 1 Axes>"
      ]
     },
     "metadata": {
      "needs_background": "light"
     },
     "output_type": "display_data"
    },
    {
     "data": {
      "image/png": "[encoded data removed]",
      "text/plain": [
       "<Figure size 1440x720 with 1 Axes>"
      ]
     },
     "metadata": {
      "needs_background": "light"
     },
     "output_type": "display_data"
    },
    {
     "data": {
      "image/png": "[encoded data removed]",
      "text/plain": [
       "<Figure size 1440x720 with 1 Axes>"
      ]
     },
     "metadata": {
      "needs_background": "light"
     },
     "output_type": "display_data"
    }
   ],
   "source": [
    "def main():\n",
    "    SEQUENCE_LENGTH = 100\n",
    "    BATCH_SIZE = 256\n",
    "    FEATURE_SIZE = 512\n",
    "    TEST_BATCH_SIZE = 256\n",
    "    EPOCHS = 20\n",
    "    LEARNING_RATE = 0.002\n",
    "    WEIGHT_DECAY = 0.0005\n",
    "    USE_CUDA = True\n",
    "    PRINT_INTERVAL = 10\n",
    "    LOG_PATH = DATA_PATH + 'logs/log.pkl'\n",
    "\n",
    "\n",
    "    data_train = HarryPotterDataset(DATA_PATH + 'harry_potter_chars_train.pkl', SEQUENCE_LENGTH, BATCH_SIZE)\n",
    "    data_test = HarryPotterDataset(DATA_PATH + 'harry_potter_chars_test.pkl', SEQUENCE_LENGTH, TEST_BATCH_SIZE)\n",
    "    vocab = data_train.vocab\n",
    "\n",
    "    use_cuda = USE_CUDA and torch.cuda.is_available()\n",
    "\n",
    "    device = torch.device(\"cuda\" if use_cuda else \"cpu\")\n",
    "    print('Using device', device)\n",
    "    import multiprocessing\n",
    "    num_workers = multiprocessing.cpu_count()\n",
    "    print('num workers:', num_workers)\n",
    "\n",
    "    kwargs = {'num_workers': num_workers,\n",
    "              'pin_memory': True} if use_cuda else {}\n",
    "\n",
    "    train_loader = torch.utils.data.DataLoader(data_train, batch_size=BATCH_SIZE,\n",
    "                                               shuffle=False, **kwargs)\n",
    "    test_loader = torch.utils.data.DataLoader(data_test, batch_size=TEST_BATCH_SIZE,\n",
    "                                              shuffle=False, **kwargs)\n",
    "\n",
    "    model = HarryPotterNet(data_train.vocab_size(), FEATURE_SIZE).to(device)\n",
    "\n",
    "    # Adam is an optimizer like SGD but a bit fancier. It tends to work faster and better than SGD.\n",
    "    # We will talk more about different optimization methods in class.\n",
    "    optimizer = optim.Adam(model.parameters(), lr=LEARNING_RATE, weight_decay=WEIGHT_DECAY)\n",
    "    start_epoch = model.load_last_model(DATA_PATH + 'checkpoints')\n",
    "\n",
    "    train_losses, test_losses, test_accuracies = pt_util.read_log(LOG_PATH, ([], [], []))\n",
    "    test_loss, test_accuracy = test(model, device, test_loader)\n",
    "\n",
    "    test_losses.append((start_epoch, test_loss))\n",
    "    test_accuracies.append((start_epoch, test_accuracy))\n",
    "\n",
    "    try:\n",
    "        for epoch in range(start_epoch, EPOCHS + 1):\n",
    "            lr = LEARNING_RATE * np.power(0.25, (int(epoch / 6)))\n",
    "            train_loss = train(model, device, optimizer, train_loader, lr, epoch, PRINT_INTERVAL)\n",
    "            test_loss, test_accuracy = test(model, device, test_loader)\n",
    "            train_losses.append((epoch, train_loss))\n",
    "            test_losses.append((epoch, test_loss))\n",
    "            test_accuracies.append((epoch, test_accuracy))\n",
    "            pt_util.write_log(LOG_PATH, (train_losses, test_losses, test_accuracies))\n",
    "            model.save_best_model(test_accuracy, DATA_PATH + 'checkpoints/%03d.pt' % epoch)\n",
    "            seed_words = 'Harry Potter, Voldemort, and Dumbledore walk into a bar. '\n",
    "            generated_sentence = generate_language(model, device, seed_words, 200, vocab, 'max')\n",
    "            print('generated max\\t\\t', generated_sentence)\n",
    "            for ii in range(10):\n",
    "                generated_sentence = generate_language(model, device, seed_words, 200, vocab, 'sample')\n",
    "                print('generated sample\\t', generated_sentence)\n",
    "#             generated_sentence = generate_language(model, device, seed_words, 200, vocab, 'beam')\n",
    "#             print('generated beam\\t\\t', generated_sentence)\n",
    "            print('')\n",
    "\n",
    "    except KeyboardInterrupt as ke:\n",
    "        print('Interrupted')\n",
    "    except:\n",
    "        import traceback\n",
    "        traceback.print_exc()\n",
    "    finally:\n",
    "        print('Saving final model')\n",
    "        model.save_model(DATA_PATH + 'checkpoints/%03d.pt' % epoch, 0)\n",
    "        ep, val = zip(*train_losses)\n",
    "        pt_util.plot(ep, val, 'Train loss', 'Epoch', 'Error')\n",
    "        ep, val = zip(*test_losses)\n",
    "        pt_util.plot(ep, val, 'Test loss', 'Epoch', 'Error')\n",
    "        ep, val = zip(*test_accuracies)\n",
    "        pt_util.plot(ep, val, 'Test accuracy', 'Epoch', 'Error')\n",
    "        return model, vocab, device\n",
    "\n",
    "final_model, vocab, device = main()"
   ]
  },
  {
   "cell_type": "markdown",
   "metadata": {
    "id": "r597GUTVjwZc"
   },
   "source": [
    "#Part 7: Experiments"
   ]
  },
  {
   "cell_type": "code",
   "execution_count": 14,
   "metadata": {
    "id": "zgLylYlp9kBK"
   },
   "outputs": [
    {
     "name": "stdout",
     "output_type": "stream",
     "text": [
      "generated with max\t Harry Potter and the train was still standing at the top of the train was standing at the top of the train was standing at the top of the train was standing at the top of the train was standing at the top of the train wa\n",
      "generated with sample\t Harry Potter and then we\n",
      "cle try up to be wondered Revery idea rexking in the tinty of Maricius Arang, for Harry and Heh looked backonground the tipes.\n",
      "\n",
      "\"9ang! I fought he make a long, urthur, if you, I'nve other is,\" he\n",
      "generated with sample\t Harry Potter and them fight foy somether. When de on one to nosywh, Lhe Qicker!\"\n",
      "\n",
      "JAd touch around a lot of burner and pointing \n",
      "\n",
      "\"Ron, Lup,\" said Ron.\n",
      "\"Ha git you going to do it?\"\n",
      "\n",
      "\"Diggity word to take this is,\" said R\n",
      "generated with sample\t Harry Potter and the wall. It with him look at the Gryffindour tabing rope for the adder tense why misswere to go to sort of the carepare someone to sist the counter and day to list Fovever and excellend, there's it look\n",
      "generated with sample\t Harry Potter and the floor rogan to lister broom, Rongring at Aly. He along the dormin from somothingingy door he swized over to the Dup Harry had run heads about the feet and around your own agovith.\n",
      "\n",
      "-he was mbarilies \n",
      "generated with sample\t Harry Potter and the two completen consult be the neck lond and areward to stand with him shapeone.\n",
      "\"Hocket Worry,\" said Hagrid. \"Fdiming only a left concentment and pust a heart for sore.\"\n",
      "\n",
      "She really felt a golf wart f\n",
      "generated with sample\t Harry Potter and there he hand with Sormation what the first askead Eake to teacherf's lickers, would Glace he could see it,\" said Mastef, as it as would bat the look redowning that as we'll one rust as exfect do no you \n",
      "generated with sample\t Harry Potter and the edge other accussion that all of\n",
      "corner to table Yorks at all you coming rand termped in the night!\n",
      "Kreaputs is trip, that so you do usky like that, it, can see it's attacce!\"\n",
      "\n",
      "\"Nwill around my that \n",
      "generated with sample\t Harry Potter and the stand standing before he remaing to have acrouched the driftered?\n",
      "And she mustered his going for Dudle and muck. Tuider is alone hai work, wanted to Trave right back the flamered peeret on hookwort p\n",
      "generated with sample\t Harry Potter and there was all whipe, Ron and Unape were twilled by Minister would halp.\"\n",
      "Sartas\n",
      "seemed to be any everg. while shuttered snore to Hagrid way in a schiPh rooks.\n",
      "\n",
      "\"Ax you look up into his foyth you, I guard\n",
      "generated with sample\t Harry Potter and there was surrong, and sure they ever have hurred over some froniments. Bust an'we onve low Nob-time Vercy come to storp waitinust.\n",
      "\n",
      "He bust soon at the wollerward Potter's look brain anothed tents grass\n"
     ]
    }
   ],
   "source": [
    "def eval_final_model(model, vocab, device):\n",
    "    seed_words = 'Harry Potter and the'\n",
    "    sequence_length = 200\n",
    "\n",
    "    generated_sentence = generate_language(model, device, seed_words, sequence_length, vocab, 'max')\n",
    "    print('generated with max\\t', generated_sentence)\n",
    "\n",
    "    for ii in range(10):\n",
    "        generated_sentence = generate_language(model, device, seed_words, sequence_length, vocab, 'sample')\n",
    "        print('generated with sample\\t', generated_sentence)\n",
    "\n",
    "    for ii in range(10):\n",
    "        generated_sentence = generate_language(model, device, seed_words, sequence_length, vocab, 'beam')\n",
    "        print('generated with beam\\t', generated_sentence)\n",
    "\n",
    "eval_final_model(final_model, vocab, device)"
   ]
  },
  {
   "cell_type": "markdown",
   "metadata": {
    "id": "pn0RWPBFjzkP"
   },
   "source": [
    "#Part 8: Other things\n",
    "Choose **three** of the following to try. You should create new code cells below rather than modifying your earlier code:\n",
    "\n",
    "\n",
    "1. Train on a different text corpus. The corpus should be at least as large as the provided Harry Potter dataset.\n",
    "    - Options include other books, websites, tweets, wikipedia articles etc.\n",
    "    -  (Hint: this is probably the easiest one)\n",
    "1. Find a better network architecture. Some ideas:\n",
    "    - Look at the various options in https://pytorch.org/docs/stable/nn.html#torch.nn.GRU\n",
    "    - You can make the network wider or deeper.\n",
    "    - You can try to learn separate encoders and decoders.\n",
    "1. Use an LSTM instead of a GRU.\n",
    "    - https://pytorch.org/docs/stable/nn.html#torch.nn.LSTM\n",
    "    - The output of an LSTM is a hidden state **and** a cell state, so you will need to deal with a tuple instead of a single vector.\n",
    "1. Use a Transformer instead of a GRU.\n",
    "    - https://pytorch.org/docs/stable/nn.html#torch.nn.Transformer\n",
    "    - Be sure to get the masks right so you don't condition on the future characters: https://pytorch.org/docs/stable/nn.html#torch.nn.Transformer.generate_square_subsequent_mask may be of use.\n",
    "1. Train a model using student-forcing.\n",
    "    - You will have to modify the network inputs.\n",
    "    - You will need to use `torch.nn.GRUCell` and its like. https://pytorch.org/docs/stable/nn.html#grucell\n",
    "    - You cannot simply feed an empty string to start off a sequence. The sequence must be somehow conditioned on prior ground truth.\n",
    "1. Train a model on words instead of characters.\n",
    "    - You will need to redefine your input/output space vocabulary as well.\n",
    "    - You should replace any words that occur less than 5 times in the dataset with an <unknown\\> token. \n",
    "1. Write a new data loader which picks a random point in the text to start from and returns 10 consecutive sequences starting from that point onward. \n",
    "    - You should also modify the train and test functions to reset the memory when you reset the sequence.\n",
    "    - You should consider an epoch to be feeding in approximately the number of characters in the dataset.\n",
    "    - You may run into issues if your dataset size/epochs are not a multiple of your batch size.\n",
    "1. Train on sentences instead of one long sequence.\n",
    "    - You should still produce output character by character.\n",
    "    - Sentences can end with a . ! ?, but words like Mr. generally do not end a sentence.\n",
    "    - A sentence may also continue in the case of quotations. For example: ``\"Do your homework!\" said the TAs.`` is only one sentence.\n",
    "    - Your parsing does not have to be perfect, but try to incorporate as many of these rules as you can.\n",
    "    - Feel free to use existing NLP tools for finding sentence endings. One is spacy: https://spacy.io/usage/linguistic-features#section-sbd\n",
    "    - All sentences should end with an <eos\\> token. Your output sampling should now stop when it produces the <eos\\> token.\n",
    "\n"
   ]
  },
  {
   "cell_type": "markdown",
   "metadata": {
    "id": "vWMlB2U3onZ0"
   },
   "source": [
    "#Part 9: Short answer questions\n",
    "Please answer these questions, and put the answers in a file called short_answer.pdf in your repository.\n",
    "\n",
    "\n",
    "1. Just like last time, provide plots for training error, test error, and test accuracy. Also provide a plot of your train and test perplexity per epoch.\n",
    "    - In class we defined perplexity as `2^(p*log_2(q))`, However the PyTorch cross entropy function uses the natural log. To compute perplexity directly from the cross entropy, you should use `e^p*ln(q)`.\n",
    "    - We encourage you to try multiple network modifications and hyperparameters, but you only need to provide plots for your best model. Please list the modifications and hyperparameters.    \n",
    "    \n",
    "2. What was your final test accuracy? What was your final test perplexity?\n",
    "3. What was your favorite sentence generated via each of the sampling methods? What was the prompt you gave to generate that sentence?\n",
    "4. Which sampling method seemed to generate the best results? Why do you think that is?\n",
    "5. For sampling and beam search, try multiple temperatures between 0 and 2. \n",
    "    - Which produces the best outputs? Best as in made the most sense, your favorite, or funniest, doesn't really matter how you decide.\n",
    "    - What does a temperature of 0 do? What does a temperature of 0<temp<1 do? What does a temperature of 1 do? What does a temperature of above 1 do? What would a negative temperature do (assuming the code allowed for negative temperature)?\n",
    "    \n",
    "Questions for each of the \"Other things\" sections. Only answer the questions corresponding to the ones you chose.\n",
    "\n",
    "1. New Corpus\n",
    "    1. What corpus did you choose? How many characters were in it?\n",
    "    2. What differences did you notice between the sentences generated with the new/vs old corpus.\n",
    "    3. Provide outputs for each sampling method on the new corpus (you can pick one temperature, but say what it was).\n",
    "\n",
    "1. New Architecture\n",
    "    1. What was your design? What did you try that didn't work well?\n",
    "    2. What was your lowest test perplexity? Provide training and testing plots.\n",
    "    3. Provide outputs for each sampling method on the new corpus (you can pick one temperature, but say what it was).\n",
    "\n",
    "1. LSTM\n",
    "    1. What new difficulties did you run into while training?\n",
    "    2. Were results better than the GRU? Provide training and testing plots.\n",
    "    3. Provide outputs for each sampling method on the new corpus (you can pick one temperature, but say what it was).\n",
    "\n",
    "1. Transformer\n",
    "    1. What new difficulties did you run into while training?\n",
    "    2. Were results better than the GRU? Provide training and testing plots.\n",
    "    3. Provide outputs for each sampling method on the new corpus (you can pick one temperature, but say what it was).\n",
    "    \n",
    "1. Student-forcing\n",
    "    1. What new difficulties did you run into while training?\n",
    "    2. Were the results better than with teacher-forcing?\n",
    "    3. Provide some outputs for each sampling method (you can pick one temperature, but say what it was).\n",
    "    \n",
    "1. Words\n",
    "    1. What new difficulties did you run into while training?\n",
    "    2. How large was your vocabulary?\n",
    "    3. Did you find that different batch size, sequence length, and feature size and other hyperparameters were needed? If so, what worked best for you?\n",
    "\n",
    "1. Random Dataloader\n",
    "    1. What new difficulties did you run into while training?\n",
    "    2. Were the results better than with the original dataloader?\n",
    "    3. Provide some outputs for each sampling method (you can pick one temperature, but say what it was). \n",
    "    \n",
    "1. Sentences\n",
    "    1. What new difficulties did you run into while training? What new difficulties did you run into while preprocessing?\n",
    "    2. Were the results better than with the original dataloader?\n",
    "    3. Provide some outputs for each sampling method (you can pick one temperature, but say what it was). \n",
    "\n",
    "\n",
    "    "
   ]
  },
  {
   "cell_type": "code",
   "execution_count": null,
   "metadata": {},
   "outputs": [],
   "source": []
  }
 ],
 "metadata": {
  "accelerator": "GPU",
  "colab": {
   "collapsed_sections": [],
   "name": "hw2.ipynb.txt",
   "provenance": [],
   "toc_visible": true
  },
  "kernelspec": {
   "display_name": "Python 3 (ipykernel)",
   "language": "python",
   "name": "python3"
  },
  "language_info": {
   "codemirror_mode": {
    "name": "ipython",
    "version": 3
   },
   "file_extension": ".py",
   "mimetype": "text/x-python",
   "name": "python",
   "nbconvert_exporter": "python",
   "pygments_lexer": "ipython3",
   "version": "3.8.8"
  }
 },
 "nbformat": 4,
 "nbformat_minor": 1
}
